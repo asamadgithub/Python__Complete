{
 "cells": [
  {
   "cell_type": "markdown",
   "metadata": {},
   "source": [
    "## Chapter 2 ( Strings)"
   ]
  },
  {
   "cell_type": "markdown",
   "metadata": {},
   "source": [
    "###### Escape , and other characters"
   ]
  },
  {
   "cell_type": "code",
   "execution_count": 40,
   "metadata": {},
   "outputs": [
    {
     "name": "stdout",
     "output_type": "stream",
     "text": [
      "this is \\\\ double backslash\n"
     ]
    }
   ],
   "source": [
    "print(\"this is \\\\\\\\ double backslash\")"
   ]
  },
  {
   "cell_type": "code",
   "execution_count": 121,
   "metadata": {},
   "outputs": [
    {
     "name": "stdout",
     "output_type": "stream",
     "text": [
      "this is /\\/\\/\\/\\ mountain\n"
     ]
    }
   ],
   "source": [
    "print(\"this is /\\\\/\\\\/\\\\/\\\\ mountain\")"
   ]
  },
  {
   "cell_type": "code",
   "execution_count": 3,
   "metadata": {},
   "outputs": [
    {
     "name": "stdout",
     "output_type": "stream",
     "text": [
      "he is \tawsome\n"
     ]
    }
   ],
   "source": [
    "print(\"he is \\tawsome\")"
   ]
  },
  {
   "cell_type": "code",
   "execution_count": 7,
   "metadata": {},
   "outputs": [
    {
     "name": "stdout",
     "output_type": "stream",
     "text": [
      "he is \\n awsome\n",
      "he is \\n awsome\n"
     ]
    }
   ],
   "source": [
    "print(\"he is \\\\n awsome\")    #Method-1\n",
    "print(r\"he is \\n awsome\")    #Method-2"
   ]
  },
  {
   "cell_type": "markdown",
   "metadata": {},
   "source": [
    "###### Two inputs in a single line"
   ]
  },
  {
   "cell_type": "code",
   "execution_count": 9,
   "metadata": {},
   "outputs": [
    {
     "name": "stdout",
     "output_type": "stream",
     "text": [
      "Enter your name and agr 'separated by ,:'max, 28\n",
      "Hellow max\n",
      "Your age is  28\n"
     ]
    }
   ],
   "source": [
    "name, age = input(\"Enter your name and agr 'separated by ,:'\").split(\",\")\n",
    "print(\"Hellow \" + name)\n",
    "print(\"Your age is \" + age)"
   ]
  },
  {
   "cell_type": "markdown",
   "metadata": {},
   "source": [
    "###### String Related Issues"
   ]
  },
  {
   "cell_type": "code",
   "execution_count": 23,
   "metadata": {},
   "outputs": [
    {
     "name": "stdout",
     "output_type": "stream",
     "text": [
      "Hellow Max, your age is 28.001\n",
      "Hellow Max, your age is 28.001\n",
      "Hellow Max, your age is 28.00\n"
     ]
    }
   ],
   "source": [
    "#Three Concatination Methods\n",
    "name = \"Max\"\n",
    "age = 28.001\n",
    "\n",
    "print(\"Hellow {}, your age is {}\".format(name,age))   # method in Python 3\n",
    "print(f\"Hellow {name}, your age is {age}\")            # Method in Python 3.6\n",
    "print(\"Hellow %s, your age is %0.2f\" %(name,age))     # Python 2 methods, also used in Perl"
   ]
  },
  {
   "cell_type": "code",
   "execution_count": 52,
   "metadata": {},
   "outputs": [
    {
     "name": "stdout",
     "output_type": "stream",
     "text": [
      "Enter three number1,2,3\n",
      "The avg of three numbers is 2.0\n"
     ]
    }
   ],
   "source": [
    "# Simple Avg of three numbers with Python 3.6 string concat.\n",
    "x1, x2, x3 = input(\"Enter three number\").split(\",\")\n",
    "print(f\"The avg of three numbers is {(int(x1)+int(x2)+int(x3))/3}\")"
   ]
  },
  {
   "cell_type": "code",
   "execution_count": 54,
   "metadata": {},
   "outputs": [
    {
     "name": "stdout",
     "output_type": "stream",
     "text": [
      "h n\n",
      "Pyt\n",
      "Pytho\n",
      "Python\n",
      "ython\n",
      "Pto\n",
      "nohtyP\n",
      "nohtyP\n"
     ]
    }
   ],
   "source": [
    "# String Indexing , forward + bachward\n",
    "language = \"Python\"\n",
    "print(f\"{language[3]}\",end =' '); print(f\"{language[-1]}\")\n",
    "print(f\"{language[0:3:1]}\")\n",
    "print(f\"{language[0:-1:1]}\")\n",
    "print(f\"{language[:]}\")         # start from zero and till end\n",
    "print(f\"{language[1:]}\")        # start from index 1 , till end\n",
    "print(f\"{language[::2]}\")       # step of 2 \n",
    "print(f\"{language[-1::-1]}\")    # Reversing strings, -1 step as a reverse\n",
    "print(f\"{language[::-1]}\")    # Reversing strings, -1 step as a reverse"
   ]
  },
  {
   "cell_type": "code",
   "execution_count": 87,
   "metadata": {},
   "outputs": [
    {
     "name": "stdout",
     "output_type": "stream",
     "text": [
      "    M ax    ...........\n",
      "M ax    ...........\n",
      "    M ax...........\n",
      "M ax...........\n",
      "Max...........\n"
     ]
    }
   ],
   "source": [
    "# string method to remove spaces within and outside string\n",
    "%reset -f\n",
    "name = \"    M ax    \"\n",
    "a = \"...........\"\n",
    "print(name + a)\n",
    "print(name.lstrip() + a)\n",
    "print(name.rstrip() + a)\n",
    "print(name.strip() + a)\n",
    "print(name.replace(\" \",\"\") + a)"
   ]
  },
  {
   "cell_type": "code",
   "execution_count": 89,
   "metadata": {},
   "outputs": [
    {
     "name": "stdout",
     "output_type": "stream",
     "text": [
      "The length of this string is 12\n",
      " ABDUS SAMAD\n",
      " abdus samad\n",
      " Abdus Samad\n",
      "1\n",
      "3\n"
     ]
    }
   ],
   "source": [
    "# Famous String methods\n",
    "%reset -f\n",
    "name = \"Abdus Samad\"\n",
    "charac = \"a\"\n",
    "print(f\"The length of this string is {len(name)}\")\n",
    "print(f\"{name.upper()}\")\n",
    "print(f\"{name.lower()}\")        \n",
    "print(f\"{name.title()}\")        # first alphabet capital, even after space\n",
    "print(f\"{name.count('A')}\")     # count a in variable name\n",
    "print(f\"{name.lower().count(charac.lower())}\")  # case insenitive count of charac=a\n",
    "\n"
   ]
  },
  {
   "cell_type": "code",
   "execution_count": 99,
   "metadata": {},
   "outputs": [
    {
     "name": "stdout",
     "output_type": "stream",
     "text": [
      "Enter name and character to be counted ', separated'Abdus Samad,a\n",
      "3\n"
     ]
    }
   ],
   "source": [
    "# Calculate # of time {charac} present in variable {name}, without caring user spaces\n",
    "%reset -f\n",
    "name, charac = input(\"Enter name and character to be counted ', separated'\").split(\",\")\n",
    "\n",
    "print(name.strip().lower().count(charac.strip().lower()))\n",
    "\n",
    "\n"
   ]
  },
  {
   "cell_type": "code",
   "execution_count": 7,
   "metadata": {},
   "outputs": [
    {
     "name": "stdout",
     "output_type": "stream",
     "text": [
      "This_is_a_beautiful_lake\n",
      "This_is_a beautiful lake\n",
      "****This is a beautiful lake****\n",
      "7\n"
     ]
    },
    {
     "data": {
      "text/plain": [
       "24"
      ]
     },
     "execution_count": 7,
     "metadata": {},
     "output_type": "execute_result"
    }
   ],
   "source": [
    "# Find and Replace method in strings\n",
    "%reset -f\n",
    "string = \"This is a beautiful lake\"\n",
    "print(string.replace(\" \",\"_\"))\n",
    "print(string.replace(\" \",\"_\",2))\n",
    "n=len(string)\n",
    "print(string.center(n+8,\"*\"))\n",
    "print(string.find(\" \",6))\n",
    "n"
   ]
  },
  {
   "cell_type": "code",
   "execution_count": 120,
   "metadata": {},
   "outputs": [],
   "source": [
    "####### Strings are immutable #######"
   ]
  },
  {
   "cell_type": "code",
   "execution_count": null,
   "metadata": {},
   "outputs": [],
   "source": []
  }
 ],
 "metadata": {
  "kernelspec": {
   "display_name": "Python 3",
   "language": "python",
   "name": "python3"
  },
  "language_info": {
   "codemirror_mode": {
    "name": "ipython",
    "version": 3
   },
   "file_extension": ".py",
   "mimetype": "text/x-python",
   "name": "python",
   "nbconvert_exporter": "python",
   "pygments_lexer": "ipython3",
   "version": "3.6.3"
  }
 },
 "nbformat": 4,
 "nbformat_minor": 2
}
