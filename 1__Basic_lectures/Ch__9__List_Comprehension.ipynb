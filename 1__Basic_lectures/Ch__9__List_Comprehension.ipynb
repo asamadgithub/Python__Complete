{
 "cells": [
  {
   "cell_type": "code",
   "execution_count": 2,
   "metadata": {},
   "outputs": [
    {
     "name": "stdout",
     "output_type": "stream",
     "text": [
      "[1, 4, 9, 16, 25, 36, 49, 64, 81, 100]\n",
      "\n",
      "\n",
      "************************************\n",
      "[1, 4, 9, 16, 25, 36, 49, 64, 81, 100]\n"
     ]
    }
   ],
   "source": [
    "# List Comprehension, list of squres\n",
    "%reset -f\n",
    "l_1 = []\n",
    "for i in range(1,11):\n",
    "    l_1.append(i**2)\n",
    "print(l_1)\n",
    "#----------------------------------------\n",
    "\n",
    "print(\"\\n\")\n",
    "print(\"************************************\")\n",
    "l_2 = [i**2 for i in range(1,11)]\n",
    "print(l_2)"
   ]
  },
  {
   "cell_type": "code",
   "execution_count": 11,
   "metadata": {},
   "outputs": [
    {
     "name": "stdout",
     "output_type": "stream",
     "text": [
      "[-1, -2, -3, -4, -5, -6, -7, -8, -9, -10]\n"
     ]
    }
   ],
   "source": [
    "# -1,-2...-10 , \n",
    "%reset -f\n",
    "lis_1 = [-i for i in range(1,11)]\n",
    "print(lis_1)"
   ]
  },
  {
   "cell_type": "code",
   "execution_count": 17,
   "metadata": {},
   "outputs": [
    {
     "name": "stdout",
     "output_type": "stream",
     "text": [
      "['M', 'S', 'B']\n",
      "['M', 'S', 'B']\n"
     ]
    }
   ],
   "source": [
    "# First letter going to other lisr\n",
    "%reset -f\n",
    "name = [\"Max\",\"Saadi\",\"Bilaian\"]\n",
    "\n",
    "\n",
    "# Normal\n",
    "# ---------------\n",
    "lis_let1 = []\n",
    "for i in name:\n",
    "    lis_let1.append(i[0])\n",
    "    \n",
    "print(lis_let1)\n",
    "        \n",
    "# List Comprehension\n",
    "# ------------------\n",
    "lis_let2 = [i[0] for i in name]\n",
    "print(lis_let2)\n",
    "    "
   ]
  },
  {
   "cell_type": "code",
   "execution_count": 19,
   "metadata": {},
   "outputs": [
    {
     "name": "stdout",
     "output_type": "stream",
     "text": [
      "['cba', 'fed', 'ihg']\n"
     ]
    }
   ],
   "source": [
    "# list comprehension to reverse every string in list\n",
    "%reset -f\n",
    "lis_1 = [\"abc\",\"def\",\"ghi\"]\n",
    "lis_2 = [i[::-1] for i in lis_1]\n",
    "print(lis_2)"
   ]
  },
  {
   "cell_type": "code",
   "execution_count": 38,
   "metadata": {},
   "outputs": [
    {
     "name": "stdout",
     "output_type": "stream",
     "text": [
      "[2, 4, 6, 8, 10]\n"
     ]
    }
   ],
   "source": [
    "# list comprehension with if\n",
    "%reset -f\n",
    "#lis_1 = list(range(1,11))\n",
    "lis_2 = [i for i in range(1,11) if i%2 == 0]\n",
    "# lis_2 = [i if (i%2 == 0) for i in range(1,11) if i%2 == 0]\n",
    "print(lis_2)"
   ]
  },
  {
   "cell_type": "code",
   "execution_count": 35,
   "metadata": {},
   "outputs": [
    {
     "name": "stdout",
     "output_type": "stream",
     "text": [
      "['1', '1.5', '3']\n"
     ]
    }
   ],
   "source": [
    "# exercise to store only int or float in main list\n",
    "%reset -f\n",
    "lis_1 = [True, False, [1,2,3],(2,3,4),1,1.5,3]\n",
    "lis_2 = [str(i) for i in lis_1 if (type(i) == int or type(i) == float)]\n",
    "print(lis_2)"
   ]
  },
  {
   "cell_type": "code",
   "execution_count": 42,
   "metadata": {},
   "outputs": [
    {
     "name": "stdout",
     "output_type": "stream",
     "text": [
      "[-1, 4, -3, 16, -5, 36, -7, 64, -9, 100]\n"
     ]
    }
   ],
   "source": [
    "# List Comprehension with if, else statement\n",
    "%reset -f\n",
    "num = [1,2,3,4,5,6,7,8,9,10]\n",
    "lis_1 = [i**2 if(i%2==0) else -i for i in num]\n",
    "print(lis_1)"
   ]
  },
  {
   "cell_type": "code",
   "execution_count": 49,
   "metadata": {},
   "outputs": [
    {
     "name": "stdout",
     "output_type": "stream",
     "text": [
      "[[1, 2, 3], [1, 2, 3], [1, 2, 3]]\n",
      "[[1, 2, 3], [1, 2, 3], [1, 2, 3]]\n"
     ]
    }
   ],
   "source": [
    "# List Comprehension for nested lists\n",
    "%reset -f\n",
    "b = [[i for i in range(1,4)]]*3\n",
    "c = [ [i for i in range(1,4)] for j in range(1,4) ]\n",
    "print(b)\n",
    "print(c)"
   ]
  },
  {
   "cell_type": "code",
   "execution_count": 5,
   "metadata": {},
   "outputs": [
    {
     "name": "stdout",
     "output_type": "stream",
     "text": [
      "[34, 44, 68, 44, 12]\n"
     ]
    }
   ],
   "source": [
    "# create a new list called \"newlist\" out of the list \"numbers\", which contains only the positive \n",
    "# numbers from the list, as integers.\n",
    "\n",
    "numbers = [34.6, -203.4, 44.9, 68.3, -12.2, 44.6, 12.7]\n",
    "\n",
    "newlist = [int(i) for i in numbers if i>0]\n",
    "print(newlist)"
   ]
  },
  {
   "cell_type": "code",
   "execution_count": 60,
   "metadata": {},
   "outputs": [
    {
     "name": "stdout",
     "output_type": "stream",
     "text": [
      "[[1, 'foo', 'bar'], [2, 'tom', 'jerry']]\n",
      "[[1, 'foo', 'bar'], [2, 'tom', 'jerry']]\n"
     ]
    }
   ],
   "source": [
    "# [\"1, foo, bar\" , \"2, tom, jerry\"]  ----> [[1, 'foo', 'bar'], [2, 'tom', 'jerry']]\n",
    "# Exercise\n",
    "%reset -f\n",
    "\n",
    "inputs = [\"1, foo, bar\" , \"2, tom, jerry\"]\n",
    "\n",
    "#Method-1:\n",
    "#--------\n",
    "outputs_1 = []\n",
    "for s in inputs:\n",
    "    for (i,j,k) in [s.split(\",\")]:\n",
    "        outputs_1.append([int(i),j.strip(),k.strip()])\n",
    "        \n",
    "print(outputs_1)\n",
    "\n",
    "#Method-2\n",
    "#--------\n",
    "outputs_2 = [ [int(i),j.strip(),k.strip()] for s in inputs for (i,j,k) in [s.split(\",\")] ]\n",
    "print(outputs_2)"
   ]
  },
  {
   "cell_type": "code",
   "execution_count": 77,
   "metadata": {},
   "outputs": [
    {
     "name": "stdout",
     "output_type": "stream",
     "text": [
      "[(3, 4, 5), (5, 12, 13), (6, 8, 10), (7, 24, 25), (8, 15, 17), (9, 12, 15), (10, 24, 26), (12, 16, 20), (15, 20, 25), (20, 21, 29)]\n"
     ]
    }
   ],
   "source": [
    "#Exercise , create Pythagorean triples\n",
    "%reset -f\n",
    "\n",
    "p_lis= [ (x,y,z) for x in range(1,30) for y in range(x,30) for z in range(y,30) if x**2 + y**2 == z**2 ]\n",
    "print(p_lis)"
   ]
  },
  {
   "cell_type": "code",
   "execution_count": 71,
   "metadata": {
    "collapsed": true
   },
   "outputs": [
    {
     "data": {
      "text/plain": [
       "[(3, 4, 5),\n",
       " (5, 12, 13),\n",
       " (6, 8, 10),\n",
       " (7, 24, 25),\n",
       " (8, 15, 17),\n",
       " (9, 12, 15),\n",
       " (10, 24, 26),\n",
       " (12, 16, 20),\n",
       " (15, 20, 25),\n",
       " (20, 21, 29)]"
      ]
     },
     "execution_count": 71,
     "metadata": {},
     "output_type": "execute_result"
    }
   ],
   "source": []
  },
  {
   "cell_type": "code",
   "execution_count": null,
   "metadata": {},
   "outputs": [],
   "source": []
  }
 ],
 "metadata": {
  "kernelspec": {
   "display_name": "Python 3",
   "language": "python",
   "name": "python3"
  },
  "language_info": {
   "codemirror_mode": {
    "name": "ipython",
    "version": 3
   },
   "file_extension": ".py",
   "mimetype": "text/x-python",
   "name": "python",
   "nbconvert_exporter": "python",
   "pygments_lexer": "ipython3",
   "version": "3.6.7"
  }
 },
 "nbformat": 4,
 "nbformat_minor": 2
}
