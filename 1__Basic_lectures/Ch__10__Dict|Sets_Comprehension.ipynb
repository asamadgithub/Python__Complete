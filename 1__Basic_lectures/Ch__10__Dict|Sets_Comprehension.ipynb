{
 "cells": [
  {
   "cell_type": "code",
   "execution_count": 22,
   "metadata": {},
   "outputs": [
    {
     "name": "stdout",
     "output_type": "stream",
     "text": [
      "{1: 1, 2: 4, 3: 9}\n",
      "**************************************\n",
      "{1: 1, 2: 4, 3: 9}\n",
      "**************************************\n",
      "{'square of 1 is ': 1, 'square of 2 is ': 4, 'square of 3 is ': 9}\n",
      "**************************************\n",
      "{'h': 2, 'a': 1, 'r': 1, 's': 1, 'i': 1, 't': 1}\n"
     ]
    }
   ],
   "source": [
    "# Exercise-1\n",
    "% reset -f\n",
    "\n",
    "# Normal Method:\n",
    "d = {}\n",
    "for i in range(1,4):\n",
    "    d[i] = i**2\n",
    "    \n",
    "print(d)\n",
    "#-----------------------------------------\n",
    "print(\"**************************************\")\n",
    "# Dict Comprehension Method:\n",
    "d_c1 = {i:i**2 for i in range(1,4) }\n",
    "print(d_c1)\n",
    "\n",
    "#-----------------------------------------\n",
    "print(\"**************************************\")\n",
    "d_c2 = {f\"square of {i} is \":i**2 for i in range(1,4) }\n",
    "print(d_c2)\n",
    "\n",
    "\n",
    "#-----------------------------------------\n",
    "print(\"**************************************\")\n",
    "# world count\n",
    "s = \"harshit\"\n",
    "word_count = {char:s.count(char) for char in s }\n",
    "print(word_count)"
   ]
  },
  {
   "cell_type": "code",
   "execution_count": 25,
   "metadata": {},
   "outputs": [
    {
     "name": "stdout",
     "output_type": "stream",
     "text": [
      "{1: 'odd', 2: 'even', 3: 'odd'}\n"
     ]
    }
   ],
   "source": [
    "# dict comprehension with if,else\n",
    "%reset -f\n",
    "di = {i:(\"even\" if i%2==0 else \"odd\") for i in range(1,4) }\n",
    "print(di)"
   ]
  },
  {
   "cell_type": "markdown",
   "metadata": {},
   "source": [
    "###### Set Comprehension"
   ]
  },
  {
   "cell_type": "code",
   "execution_count": 30,
   "metadata": {},
   "outputs": [
    {
     "name": "stdout",
     "output_type": "stream",
     "text": [
      "{64, 1, 4, 36, 100, 9, 16, 49, 81, 25}\n"
     ]
    }
   ],
   "source": [
    "#exercise -1\n",
    "%reset -f\n",
    "s = {i**2 for i in range(1,11)}\n",
    "print(s)    # set is unoredred"
   ]
  },
  {
   "cell_type": "code",
   "execution_count": 55,
   "metadata": {},
   "outputs": [
    {
     "name": "stdout",
     "output_type": "stream",
     "text": [
      "{'M', 'A'}\n"
     ]
    }
   ],
   "source": [
    "#exercise -2\n",
    "%reset -f\n",
    "names = [\"Abdus\", \"Max\", \"Atique\"]\n",
    "s = {i[0] for i in names}\n",
    "print(s)      # elements dont repeat in sets"
   ]
  },
  {
   "cell_type": "code",
   "execution_count": null,
   "metadata": {},
   "outputs": [],
   "source": []
  }
 ],
 "metadata": {
  "kernelspec": {
   "display_name": "Python 3",
   "language": "python",
   "name": "python3"
  },
  "language_info": {
   "codemirror_mode": {
    "name": "ipython",
    "version": 3
   },
   "file_extension": ".py",
   "mimetype": "text/x-python",
   "name": "python",
   "nbconvert_exporter": "python",
   "pygments_lexer": "ipython3",
   "version": "3.6.7"
  }
 },
 "nbformat": 4,
 "nbformat_minor": 2
}
