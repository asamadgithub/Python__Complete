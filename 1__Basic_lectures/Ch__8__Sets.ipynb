{
 "cells": [
  {
   "cell_type": "code",
   "execution_count": 2,
   "metadata": {},
   "outputs": [],
   "source": [
    "# Sets\n",
    "# unordered collection of data, w/o repition\n",
    "# can't store list or dict"
   ]
  },
  {
   "cell_type": "code",
   "execution_count": 3,
   "metadata": {},
   "outputs": [
    {
     "name": "stdout",
     "output_type": "stream",
     "text": [
      "{1, 2, 3}\n"
     ]
    }
   ],
   "source": [
    "# no repition\n",
    "%reset -f\n",
    "s = {1,2,3,3}\n",
    "print(s)"
   ]
  },
  {
   "cell_type": "code",
   "execution_count": 4,
   "metadata": {},
   "outputs": [
    {
     "data": {
      "text/plain": [
       "[1, 2, 3, 4, 5, 6, 7, 8]"
      ]
     },
     "execution_count": 4,
     "metadata": {},
     "output_type": "execute_result"
    }
   ],
   "source": [
    "# remove duplicates from list\n",
    "%reset -f\n",
    "l1 = [1,2,3,3,3,4,5,6,6,7,8]\n",
    "l2 = list(set(l1))\n",
    "l2"
   ]
  },
  {
   "cell_type": "code",
   "execution_count": 8,
   "metadata": {},
   "outputs": [
    {
     "name": "stdout",
     "output_type": "stream",
     "text": [
      "**********************\n",
      "{1, 2, 3, 4, 'alpha'}\n",
      "**********************\n",
      "{2, 3, 4, 'alpha'}\n"
     ]
    }
   ],
   "source": [
    "# adding elements in set\n",
    "%reset -f\n",
    "s = {1,2,3,4}\n",
    "s.add(\"alpha\")\n",
    "print(\"**********************\")\n",
    "print(s)\n",
    "print(\"**********************\")\n",
    "s.remove(1)\n",
    "print(s)"
   ]
  },
  {
   "cell_type": "code",
   "execution_count": 2,
   "metadata": {},
   "outputs": [
    {
     "name": "stdout",
     "output_type": "stream",
     "text": [
      "set()\n",
      "{1, 2, 3, 4}\n",
      "False\n"
     ]
    }
   ],
   "source": [
    "# copy sets\n",
    "%reset -f\n",
    "s_1 = {1,2,3,4}\n",
    "s_2 = s_1.copy()\n",
    "s_1.clear()\n",
    "\n",
    "print(s_1)\n",
    "print(s_2)\n",
    "\n",
    "print(s_1 is s_2)"
   ]
  },
  {
   "cell_type": "code",
   "execution_count": 16,
   "metadata": {},
   "outputs": [
    {
     "name": "stdout",
     "output_type": "stream",
     "text": [
      "present\n",
      "********************************\n",
      "1\n",
      "2\n",
      "3\n",
      "4\n"
     ]
    }
   ],
   "source": [
    "# in keyword and looping\n",
    "%reset -f\n",
    "s_1 = {1,1.0,2,3,4}\n",
    "\n",
    "if 1 in s_1:\n",
    "    print(\"present\")\n",
    "else:\n",
    "    print(\"not present\")\n",
    "    \n",
    "print(\"********************************\")\n",
    "\n",
    "for i in s_1:\n",
    "    print(i)"
   ]
  },
  {
   "cell_type": "code",
   "execution_count": 19,
   "metadata": {},
   "outputs": [
    {
     "name": "stdout",
     "output_type": "stream",
     "text": [
      "{1, 2, 3, 4, 5, 7, 10}\n",
      "{2, 3, 4}\n"
     ]
    }
   ],
   "source": [
    "# Union and intersection\n",
    "%reset -f\n",
    "\n",
    "s_1 = {1,10,2,3,4}\n",
    "s_2 = {5,7,2,3,4}\n",
    "\n",
    "s_union = s_1 | s_2\n",
    "print(s_union)\n",
    "\n",
    "s_intersection = s_1 & s_2\n",
    "print(s_intersection)"
   ]
  },
  {
   "cell_type": "code",
   "execution_count": null,
   "metadata": {},
   "outputs": [],
   "source": []
  }
 ],
 "metadata": {
  "kernelspec": {
   "display_name": "Python 3",
   "language": "python",
   "name": "python3"
  },
  "language_info": {
   "codemirror_mode": {
    "name": "ipython",
    "version": 3
   },
   "file_extension": ".py",
   "mimetype": "text/x-python",
   "name": "python",
   "nbconvert_exporter": "python",
   "pygments_lexer": "ipython3",
   "version": "3.6.3"
  }
 },
 "nbformat": 4,
 "nbformat_minor": 2
}
