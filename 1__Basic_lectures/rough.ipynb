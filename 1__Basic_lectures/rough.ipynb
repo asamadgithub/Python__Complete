{
 "cells": [
  {
   "cell_type": "code",
   "execution_count": 72,
   "metadata": {},
   "outputs": [
    {
     "name": "stdout",
     "output_type": "stream",
     "text": [
      "here is another constructor\n",
      "kk\n",
      "1\n",
      ".....\n",
      "Tahreem Razzaq with age 15 \n"
     ]
    }
   ],
   "source": [
    "# Ex-2: Create Initilisation as a class method\n",
    "%reset -f\n",
    "class Person:\n",
    "    # Class Variable / Class atributes\n",
    "    count = 0    # shared among all objects and scope is over whole class\n",
    "    \n",
    "    # Initilisation / Constructor\n",
    "    def __init__(self,f_name,l_name,age):   # self representing Object itself\n",
    "        Person.count +=1\n",
    "        print(\"kk\")\n",
    "        self.f_name = f_name\n",
    "        self.l_name = l_name\n",
    "        self.age = age\n",
    "        \n",
    "    @classmethod\n",
    "    def constructor(cls,input_str):\n",
    "        f_name,l_name,age = input_str.split(\",\")\n",
    "        print(\"here is another constructor\")\n",
    "        return cls(f_name,l_name,age)  # here we are creating an object like \"p1 = Person(\"Abdus\",\"Samad\",28)\"\n",
    "\n",
    "# what I undertsnad is that, once this object is created; its equal to \n",
    "# cls(f_name,l_name,age) = Person(f_name,l_name,age)\n",
    "# so the __init__ method will call automatically\n",
    "\n",
    "# Instace Method\n",
    "    def full_name(self):\n",
    "        print(\".....\")\n",
    "        return f\"{self.f_name} {self.l_name} with age {self.age} \"\n",
    "    \n",
    "    # Instace Method\n",
    "    def is_age_18(self):\n",
    "        return self.age>18\n",
    "\n",
    "\n",
    "# p1 = Person(\"Abdus\",\"Samad\",28)\n",
    "# p2 = Person(\"Zertasha\",\"Riaz\",28)\n",
    "p3 = Person.constructor(\"Tahreem,Razzaq,15\")\n",
    "\n",
    "# p3.full_name()\n",
    "print(f\"{Person.count}\")\n",
    "print(f\"{p3.full_name()}\")\n"
   ]
  },
  {
   "cell_type": "code",
   "execution_count": 85,
   "metadata": {},
   "outputs": [
    {
     "name": "stdout",
     "output_type": "stream",
     "text": [
      "lk\n",
      "lk\n",
      "lk\n",
      "3\n",
      "<__main__.Person object at 0x10b4c8390>\n"
     ]
    }
   ],
   "source": [
    "%reset -f\n",
    "\n",
    "class Person:\n",
    "    c = 0\n",
    "    def __init__(self,f_name,l_name,age):\n",
    "        print(\"lk\")\n",
    "        Person.c +=1\n",
    "        self.f_name = f_name\n",
    "        self.l_name = l_name\n",
    "        self.age = age\n",
    "        \n",
    "    @classmethod\n",
    "    def constructor(cls,string):\n",
    "        f_name,l_name,age = string.split(\",\")\n",
    "        return cls(f_name,l_name,age)\n",
    "    \n",
    "#     def __str__(self):\n",
    "#         return f\"{self.f_name} {self.l_name} {self.age}\"\n",
    "\n",
    "        \n",
    "p1 = Person(\"Abdus\",\"Samad\",28)\n",
    "p2 = Person(\"Max\",\"Max\",28)\n",
    "p3 = Person.constructor(\"Zertasha,Riaz,28\")\n",
    "print(Person.c)\n",
    "print(p3)"
   ]
  },
  {
   "cell_type": "code",
   "execution_count": null,
   "metadata": {},
   "outputs": [],
   "source": []
  }
 ],
 "metadata": {
  "kernelspec": {
   "display_name": "Python 3",
   "language": "python",
   "name": "python3"
  },
  "language_info": {
   "codemirror_mode": {
    "name": "ipython",
    "version": 3
   },
   "file_extension": ".py",
   "mimetype": "text/x-python",
   "name": "python",
   "nbconvert_exporter": "python",
   "pygments_lexer": "ipython3",
   "version": "3.6.3"
  }
 },
 "nbformat": 4,
 "nbformat_minor": 2
}
