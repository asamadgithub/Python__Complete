{
 "cells": [
  {
   "cell_type": "code",
   "execution_count": 1,
   "metadata": {},
   "outputs": [],
   "source": [
    "# Two mostly used words in OBE are\n",
    "# 1) class \n",
    "# 2) Object or Instance\n",
    "# also method\n",
    "\n",
    "# which ever built in function we use in python, its back is always written in OB"
   ]
  },
  {
   "cell_type": "markdown",
   "metadata": {},
   "source": [
    "###### Lesson-1, Build your own class"
   ]
  },
  {
   "cell_type": "code",
   "execution_count": 4,
   "metadata": {},
   "outputs": [],
   "source": [
    "# Objectives:\n",
    "# what is class \n",
    "# Class is a blue print which decides what kind of members(object) it is going to take;\n",
    "# Decides means:\n",
    "# what are the qualities(attributes) our upcoming object would have?    \n",
    "# All thoese members(objects) who fullfill the requiremnt can now enjot the class facilities(function(method))  \n",
    "        "
   ]
  },
  {
   "cell_type": "code",
   "execution_count": 37,
   "metadata": {},
   "outputs": [
    {
     "name": "stdout",
     "output_type": "stream",
     "text": [
      "init method/constructor\n",
      "init method/constructor\n",
      "---------------------------------\n",
      "Abdus\n"
     ]
    }
   ],
   "source": [
    "# Class\n",
    "# Class is a blue print, where we decide the upcoming memeber(object) would be of which type\n",
    "\n",
    "%reset -f\n",
    "class Person:       # first letter is capital as convention for user defined classed, then :\n",
    "    def __init__(self,first_name,last_name,age):  # init --> method; then method attitubes\n",
    "        print(\"init method/constructor\")\n",
    "        self.first_name = first_name\n",
    "        self.last_name = last_name\n",
    "        self.age = age    \n",
    "        \n",
    "        \n",
    "p1 = Person(\"Abdus\",\"Samad\",28)        # when we write an object, JUST __init__ method is called; (NOTHING else)\n",
    "p2 = Person(\"Zertasha\",\"Riaz\",28)      # object variable p1 etc is actually the self defined in __init__ (...)\n",
    "\n",
    "print(\"---------------------------------\")\n",
    "print(p1.first_name);# which means self = p1 ; thats why p1.first_name == self.first_name \n",
    "# (self means object itself)\n"
   ]
  },
  {
   "cell_type": "code",
   "execution_count": 6,
   "metadata": {},
   "outputs": [
    {
     "name": "stdout",
     "output_type": "stream",
     "text": [
      "MacProi\n",
      "Apple MacBook\n"
     ]
    }
   ],
   "source": [
    "# Ex-1, create a latop class with attributes like brand name, model name, pirice\n",
    "%reset -f\n",
    "\n",
    "class Laptop:\n",
    "    def __init__(self,brand_name,model,price):\n",
    "        self.brand_name = brand_name\n",
    "        self.model = model\n",
    "        self.price = price\n",
    "        self.laptop_name = brand_name + ' ' + model\n",
    "        \n",
    "lap_1 = Laptop(\"Apple\", \"MacBook\", \"2500\")\n",
    "lap_2 = Laptop(\"Apple\", \"MacProi\", \"10000\")\n",
    "\n",
    "print(lap_2.model)\n",
    "print(lap_1.laptop_name)"
   ]
  },
  {
   "cell_type": "code",
   "execution_count": 28,
   "metadata": {},
   "outputs": [
    {
     "name": "stdout",
     "output_type": "stream",
     "text": [
      ".....\n",
      "Abdus Samad\n",
      "True\n",
      "---------------------------\n",
      ".....\n",
      "Abdus Samad\n",
      ".....\n",
      "Zertasha Riaz\n"
     ]
    }
   ],
   "source": [
    "%reset -f\n",
    "\n",
    "class Person:\n",
    "    def __init__(self,f_name,l_name,age):\n",
    "        self.f_name = f_name\n",
    "        self.l_name = l_name\n",
    "        self.age = age\n",
    "        \n",
    "    def full_name(self):\n",
    "        print(\".....\")\n",
    "        return f\"{self.f_name} {self.l_name}\"\n",
    "    \n",
    "    def is_age_18(self):\n",
    "        return self.age>18\n",
    "\n",
    "\n",
    "p1 = Person(\"Abdus\",\"Samad\",28)\n",
    "p2 = Person(\"Zertasha\",\"Riaz\",28)\n",
    "p3 = Person(\"Tahreem\",\"Razzaq\",15)\n",
    "\n",
    "print(p1.full_name())\n",
    "print(p1.is_age_18())\n",
    "# --------------------------------\n",
    "print(\"---------------------------\")\n",
    "print(Person.full_name(p1))  # what is actually done is, in the background   \n",
    "print(p2.full_name())        # NORMAL practise"
   ]
  },
  {
   "cell_type": "code",
   "execution_count": 38,
   "metadata": {},
   "outputs": [
    {
     "data": {
      "text/plain": [
       "[1, 2, 3, 10]"
      ]
     },
     "execution_count": 38,
     "metadata": {},
     "output_type": "execute_result"
    }
   ],
   "source": [
    "l = [1,2,3]\n",
    "list.append(l,10)\n",
    "l"
   ]
  },
  {
   "cell_type": "code",
   "execution_count": 173,
   "metadata": {},
   "outputs": [
    {
     "name": "stdout",
     "output_type": "stream",
     "text": [
      "2500\n",
      "1250.0\n",
      "1250.0\n"
     ]
    }
   ],
   "source": [
    "# Ex-2, Apply discount\n",
    "%reset -f\n",
    "\n",
    "class Laptop:\n",
    "    def __init__(self,brand_name,model,price):\n",
    "        self.brand_name = brand_name\n",
    "        self.model = model\n",
    "        self.price = price\n",
    "        self.laptop_name = brand_name + ' ' + model\n",
    "        \n",
    "    def apply_discount(self,discount):\n",
    "        off_price= float(self.price) * discount / 100\n",
    "        end_price = float(self.price) - off_price\n",
    "        return end_price\n",
    "        \n",
    "lap_1 = Laptop(\"Apple\", \"MacBook\", \"2500\")\n",
    "print(lap_1.price)\n",
    "\n",
    "# Logical method\n",
    "# class_name.method_name(object_name,attributes)\n",
    "print(Laptop.apply_discount(lap_1,50))   # This 50% is passed locally here; not available outside this method\n",
    "\n",
    "# In practise\n",
    "print(lap_1.apply_discount(50))"
   ]
  },
  {
   "cell_type": "code",
   "execution_count": 180,
   "metadata": {},
   "outputs": [
    {
     "name": "stdout",
     "output_type": "stream",
     "text": [
      "Circumference of the circle with radius 4 is 25.12\n",
      "Area of the circle with radius 4 is 50.24\n",
      "3.14\n",
      "3.14\n",
      "3.14\n"
     ]
    }
   ],
   "source": [
    "# Ex-3a, Consept of class variable\n",
    "# Thoese variabes that are shared with each object of the class,\n",
    "# And ofcourse their scope is the full class\n",
    "%reset -f\n",
    "\n",
    "class Circle:\n",
    "    # class variable\n",
    "    pie = 3.14\n",
    "    \n",
    "    # Initilization\n",
    "    def __init__(self,radius):\n",
    "        self.radius = radius\n",
    "    \n",
    "    \n",
    "    # Instance Method for circumference\n",
    "    def Calc_circumference(self):\n",
    "        circumference = 2 * Circle.pie * self.radius\n",
    "        return circumference \n",
    "    \n",
    "    # Instance Method for area\n",
    "    def Calc_area(self):\n",
    "        area =  Circle.pie * self.radius**2\n",
    "        return area \n",
    "\n",
    "# First object    \n",
    "c1 = Circle(4)\n",
    "c2 = Circle(5)\n",
    "print(f\"Circumference of the circle with radius {c1.radius} is {c1.Calc_circumference()}\")  \n",
    "print(f\"Area of the circle with radius {c1.radius} is {c1.Calc_area()}\")  \n",
    "\n",
    "# ------------------------------------------------------------------------------\n",
    "print(c1.pie)     \n",
    "print(c2.pie)\n",
    "print(Circle.pie)"
   ]
  },
  {
   "cell_type": "code",
   "execution_count": 182,
   "metadata": {},
   "outputs": [
    {
     "name": "stdout",
     "output_type": "stream",
     "text": [
      "Pirce without sale was 2500\n",
      "The end price is 1250.0\n"
     ]
    }
   ],
   "source": [
    "# Ex-3b, Consept of class variable\n",
    "%reset -f\n",
    "\n",
    "class Laptop:\n",
    "    # Class variable\n",
    "    discount = 50\n",
    "    \n",
    "    # Initilization and assosiated attributes\n",
    "    def __init__(self,brand_name,model,price):\n",
    "        self.brand_name = brand_name\n",
    "        self.model = model\n",
    "        self.price = price\n",
    "        self.laptop_name = brand_name + ' ' + model\n",
    "        \n",
    "    # Class Method for apply discount    \n",
    "    def apply_discount(self):\n",
    "        off_price= float(self.price) * float(Laptop.discount) / 100\n",
    "        end_price = float(self.price) - off_price\n",
    "        return end_price\n",
    "        \n",
    "lap_1 = Laptop(\"Apple\", \"MacBook\", \"2500\")    # Initilication Function , self = object itself (lap_1)\n",
    "print(f\"Pirce without sale was {lap_1.price}\")\n",
    "print(f\"The end price is {lap_1.apply_discount()}\")"
   ]
  },
  {
   "cell_type": "markdown",
   "metadata": {},
   "source": [
    "###### Golden Example for understanding class variable, instance variable and __init__ method and order of instance vs class variable"
   ]
  },
  {
   "cell_type": "code",
   "execution_count": 219,
   "metadata": {},
   "outputs": [
    {
     "name": "stdout",
     "output_type": "stream",
     "text": [
      "(1)\n",
      "kk\n",
      "kk\n",
      "\n",
      "\n",
      "(2)\n",
      "1--> 200\n",
      "2--> 200\n",
      "\n",
      "\n",
      "(3)\n",
      "1--> {'f_name': 'abdus', 'l_name': 'samad', 'age': 28}\n",
      "2--> {'f_name': 'safaa', 'l_name': 'samad', 'age': 2}\n",
      "\n",
      "\n",
      "(4)\n",
      "1--> {'f_name': 'abdus', 'l_name': 'samad', 'age': 28}\n",
      "2--> {'f_name': 'safaa', 'l_name': 'samad', 'age': 2, 'alpha': 100}\n",
      "\n",
      "\n",
      "(5)\n",
      "1--> 200\n",
      "2--> 100\n"
     ]
    }
   ],
   "source": [
    "# Changing class variable for a particular object only!\n",
    "%reset -f\n",
    "\n",
    "class Person:\n",
    "    alpha = 200     # This is class variable and its shared with every object of this class\n",
    "    def __init__(self,f_name, l_name,age):\n",
    "        print(\"kk\")\n",
    "        self.f_name = f_name\n",
    "        self.l_name = l_name\n",
    "        self.age = age\n",
    "        \n",
    "    def combine(self):\n",
    "        return self.alpha\n",
    "\n",
    "# First of all initilisation method is called, proof =kk\n",
    "print(\"(1)\")\n",
    "p1 = Person(\"abdus\",\"samad\",28)\n",
    "p2 = Person(\"safaa\",\"samad\",2)\n",
    "print(\"\\n\")\n",
    "\n",
    "# class variable Person is shared with each object , proof = 200, 200\n",
    "print(\"(2)\")\n",
    "print(\"1-->\",p1.alpha)\n",
    "print(\"2-->\",p2.alpha)\n",
    "print(\"\\n\")\n",
    "\n",
    "# Just print the name spaces of each object\n",
    "print(\"(3)\")\n",
    "print(\"1-->\",p1.__dict__)\n",
    "print(\"2-->\",p2.__dict__)\n",
    "print(\"\\n\")\n",
    "\n",
    "# alpha is changed ONLY for p2 object as an instance variable, print the name spaces again\n",
    "print(\"(4)\")\n",
    "p2.alpha = 100\n",
    "print(\"1-->\",p1.__dict__)\n",
    "print(\"2-->\",p2.__dict__)    # You see, intance variable has created now\n",
    "print(\"\\n\")\n",
    "\n",
    "# Now call the combine method for each object\n",
    "print(\"(5)\")\n",
    "print(\"1-->\",p1.combine())  # here  self.alpha is representing class variable\n",
    "print(\"2-->\",p2.combine())  # here  self.alpha is representing instance(object) variable borrowed from name_space\n",
    "\n"
   ]
  },
  {
   "cell_type": "code",
   "execution_count": 225,
   "metadata": {},
   "outputs": [
    {
     "name": "stdout",
     "output_type": "stream",
     "text": [
      "{'brand_name': 'Apple', 'model': 'MacBook', 'price': '2500', 'laptop_name': 'Apple MacBook'}\n",
      "Pirce without sale was 2500\n",
      "The end price is 1250.0\n",
      "---------------------------------------------------------\n",
      "{'brand_name': 'Apple', 'model': 'MacPro', 'price': '12500', 'laptop_name': 'Apple MacPro', 'discount': 100}\n",
      "Pirce without sale was 12500\n",
      "The end price is 0.0\n"
     ]
    }
   ],
   "source": [
    "# Ex-3b, Consept of class variable\n",
    "%reset -f\n",
    "\n",
    "class Laptop:\n",
    "    # Class variable\n",
    "    discount = 50\n",
    "    \n",
    "    # Initilization and assosiated attributes\n",
    "    def __init__(self,brand_name,model,price):\n",
    "        self.brand_name = brand_name\n",
    "        self.model = model\n",
    "        self.price = price\n",
    "        self.laptop_name = brand_name + ' ' + model\n",
    "        \n",
    "    # Class Method for apply discount    \n",
    "    def apply_discount(self):\n",
    "        off_price= float(self.price) * float(self.discount) / 100\n",
    "        end_price = float(self.price) - off_price\n",
    "        return end_price\n",
    "        \n",
    "\n",
    "lap_1 = Laptop(\"Apple\", \"MacBook\", \"2500\")\n",
    "\n",
    "lap_2 = Laptop(\"Apple\", \"MacPro\", \"12500\")\n",
    "lap_2.discount = 100               # if we write object_name.clas_variabe = xx, then a new variable is\n",
    "                                   # declared as we can see in this dict.\n",
    "\n",
    "#-------------------------------------------------------------------\n",
    "print(lap_1.__dict__)     # name space, variables/attributes of my object\n",
    "print(f\"Pirce without sale was {lap_1.price}\")\n",
    "print(f\"The end price is {lap_1.apply_discount()}\")\n",
    "print(\"---------------------------------------------------------\")\n",
    "print(lap_2.__dict__) \n",
    "print(f\"Pirce without sale was {lap_2.price}\")\n",
    "print(f\"The end price is {lap_2.apply_discount()}\")"
   ]
  },
  {
   "cell_type": "code",
   "execution_count": 235,
   "metadata": {},
   "outputs": [
    {
     "name": "stdout",
     "output_type": "stream",
     "text": [
      "3\n"
     ]
    }
   ],
   "source": [
    "# Ex-4, Counting objects ; How can I update the class variable inside class\n",
    "# For Example, count total number of object\n",
    "%reset -f\n",
    "\n",
    "class Laptop:\n",
    "    # Class variable / attributes \n",
    "    count = 0\n",
    "    \n",
    "    # Initilization and assosiated attributes\n",
    "    def __init__(self,brand_name,model,price):\n",
    "        Laptop.count +=1\n",
    "        self.brand_name = brand_name\n",
    "        self.model = model\n",
    "        self.price = price\n",
    "        self.laptop_name = brand_name + ' ' + model\n",
    "\n",
    "        \n",
    "lap_1 = Laptop(\"Apple\", \"MacBook\", \"2500\")\n",
    "lap_2 = Laptop(\"Apple\", \"MacPro\", \"12500\")\n",
    "lap_3 = Laptop(\"hp\", \"autex114\", \"565\")\n",
    "\n",
    "print(Laptop.count)\n"
   ]
  },
  {
   "cell_type": "markdown",
   "metadata": {},
   "source": [
    "###### Short Revision of Decoraters"
   ]
  },
  {
   "cell_type": "code",
   "execution_count": 244,
   "metadata": {},
   "outputs": [
    {
     "name": "stdout",
     "output_type": "stream",
     "text": [
      "this is sum of  6 no of elements\n",
      "Total is 25\n"
     ]
    }
   ],
   "source": [
    "# 1)...  How it works\n",
    "%reset -f\n",
    "\n",
    "\n",
    "def deco_f(any_f):\n",
    "    def wrapper_f(*args):\n",
    "        a = 0\n",
    "        a = len(args)\n",
    "        print(f\"this is sum of  {a} no of elements\")\n",
    "        return any_f(*args)\n",
    "    return wrapper_f\n",
    "    \n",
    "def sum_any_num(*args):\n",
    "    total = 0\n",
    "    for arg in args:\n",
    "        total +=arg\n",
    "    return total\n",
    "\n",
    "var = deco_f(sum_any_num)\n",
    "print(f\"Total is {var(1,2,4,5,6,7)}\")"
   ]
  },
  {
   "cell_type": "code",
   "execution_count": 248,
   "metadata": {},
   "outputs": [
    {
     "name": "stdout",
     "output_type": "stream",
     "text": [
      "this is sum of  5 no of elements\n",
      "Total is 15\n"
     ]
    }
   ],
   "source": [
    "# 2)...  Some useful Short_cut (may be called syntactic sugar)\n",
    "%reset -f\n",
    "from functools import wraps\n",
    "\n",
    "def deco_f(any_f):\n",
    "    @wraps(any_f)\n",
    "    def wrapper_f(*args):\n",
    "        a = 0\n",
    "        a = len(args)\n",
    "        print(f\"this is sum of  {a} no of elements\")\n",
    "        return any_f(*args)\n",
    "    return wrapper_f\n",
    "   \n",
    "@deco_f    \n",
    "def sum_any_num(*args):\n",
    "    total = 0\n",
    "    for arg in args:\n",
    "        total +=arg\n",
    "    return total\n",
    "\n",
    "print(f\"Total is {sum_any_num(1,2,3,4,5)}\")"
   ]
  },
  {
   "cell_type": "markdown",
   "metadata": {},
   "source": [
    "###### Class methods Vs Instance Methods ; use of decoraters"
   ]
  },
  {
   "cell_type": "code",
   "execution_count": 259,
   "metadata": {},
   "outputs": [
    {
     "name": "stdout",
     "output_type": "stream",
     "text": [
      "You have created 3 instances of 'Person' class\n"
     ]
    }
   ],
   "source": [
    "# Ex-1:\n",
    "%reset -f\n",
    "class Person:\n",
    "    # Class Variable / Class atributes\n",
    "    count = 0    # shared among all objects and scope is over whole class\n",
    "    \n",
    "    # Initilisation / Constructor\n",
    "    def __init__(self,f_name,l_name,age):   # self representing Object itself\n",
    "        Person.count +=1\n",
    "        self.f_name = f_name\n",
    "        self.l_name = l_name\n",
    "        self.age = age\n",
    "        \n",
    "    @classmethod\n",
    "    def count_instance(cls):\n",
    "        return f\"You have created {cls.count} instances of '{cls.__name__}' class\"\n",
    "        \n",
    "    # Instace Method\n",
    "    def full_name(self):\n",
    "        print(\".....\")\n",
    "        return f\"{self.f_name} {self.l_name}\"\n",
    "    \n",
    "    # Instace Method\n",
    "    def is_age_18(self):\n",
    "        return self.age>18\n",
    "\n",
    "\n",
    "p1 = Person(\"Abdus\",\"Samad\",28)\n",
    "p2 = Person(\"Zertasha\",\"Riaz\",28)\n",
    "p3 = Person(\"Tahreem\",\"Razzaq\",15)\n",
    "\n",
    "\n",
    "# we use class method like \n",
    "# Class_name.method_name()\n",
    "print(Person.count_instance())"
   ]
  },
  {
   "cell_type": "code",
   "execution_count": 32,
   "metadata": {},
   "outputs": [
    {
     "name": "stdout",
     "output_type": "stream",
     "text": [
      "here is another constructor\n",
      "kk\n",
      "1\n",
      ".....\n",
      "Tahreem Razzaq with age 100 \n"
     ]
    }
   ],
   "source": [
    "# Ex-2: Create Initilisation as a class method\n",
    "%reset -f\n",
    "class Person:\n",
    "    # Class Variable / Class atributes\n",
    "    count = 0    # shared among all objects and scope is over whole class\n",
    "    \n",
    "    # Initilisation / Constructor\n",
    "    def __init__(self,f_name,l_name,age):   # self representing Object itself\n",
    "        Person.count +=1\n",
    "        print(\"kk\")\n",
    "        self.f_name = f_name\n",
    "        self.l_name = l_name\n",
    "        self.age = age\n",
    "        \n",
    "    @classmethod\n",
    "    def constructor(cls,input_str):\n",
    "        f_name,l_name,age = input_str.split(\",\")\n",
    "        print(\"here is another constructor\")\n",
    "        return cls(f_name,l_name,age)  # here we are creating an object like \"p1 = Person(\"Abdus\",\"Samad\",28)\"\n",
    "\n",
    "# what I undertsnad is that, once this object is created; its equal to \n",
    "# cls(f_name,l_name,age) = Person(f_name,l_name,age)\n",
    "# so the __init__ method will call automatically\n",
    "\n",
    "# Instace Method\n",
    "    def full_name(self):\n",
    "        print(\".....\")\n",
    "        return f\"{self.f_name} {self.l_name} with age {self.age} \"\n",
    "    \n",
    "    # Instace Method\n",
    "    def is_age_18(self):\n",
    "        return self.age>18\n",
    "\n",
    "\n",
    "# p1 = Person(\"Abdus\",\"Samad\",28)\n",
    "# p2 = Person(\"Zertasha\",\"Riaz\",28)\n",
    "p3 = Person.constructor(\"Tahreem,Razzaq,15\")\n",
    "\n",
    "# p3.full_name()\n",
    "print(f\"{Person.count}\")\n",
    "print(f\"{p3.full_name()}\")\n"
   ]
  },
  {
   "cell_type": "markdown",
   "metadata": {},
   "source": [
    "###### Encapsulation, Abstraction, Naming convention(private name), Name Mangling"
   ]
  },
  {
   "cell_type": "code",
   "execution_count": null,
   "metadata": {},
   "outputs": [],
   "source": [
    "# Just their meaning in programming,\n",
    "\n",
    "# Encapsulation: write all the necessary method together, like \"list\" class would contain all necessary methods\n",
    "# in it\n",
    "\n",
    "# Abstraction: means, don't show the complexity of the code and just hide it down, show need based information\n",
    "\n",
    "# Private Names: Nothing is private in Python, eveything is public but just as convention to show other people,\n",
    "# we use _variable ; so that the developer remain careful \n",
    "\n",
    "# To make it super privare, we use __variable then accessing is little bit tough, its called name mangling"
   ]
  },
  {
   "cell_type": "code",
   "execution_count": 90,
   "metadata": {},
   "outputs": [
    {
     "name": "stdout",
     "output_type": "stream",
     "text": [
      "1\n",
      "Nokia 1110_i\n",
      "\n",
      "2\n",
      "calling 4917676...\n",
      "2200\n",
      "\n",
      "3'Name list, complete ietsm + Name Mangling'\n",
      "{'brand': 'Nokia', 'model_name': '1110_i', '_price_1': 2200, '_Phone__price_2': 1000}\n",
      "\n",
      "4'Private varible'\n",
      "2200\n",
      "\n",
      "5'Name Mangling'\n",
      "{'brand': 'Nokia', 'model_name': '1110_i', '_price_1': 2200, '_Phone__price_2': 1000}\n",
      "1000\n",
      "\n"
     ]
    }
   ],
   "source": [
    "%reset -f\n",
    "\n",
    "class Phone:\n",
    "    def __init__(self,brand,model_name,price_1,price_2):\n",
    "        self.brand = brand\n",
    "        self.model_name = model_name\n",
    "        self._price_1 = price_1\n",
    "        self.__price_2 = price_2\n",
    "        \n",
    "    def make_call(self,ph_number):\n",
    "#         print(type(ph_number))\n",
    "        return(f\"calling {ph_number}...\")\n",
    "        \n",
    "    def full_name(self):\n",
    "        return (f\"{self.brand} {self.model_name}\")\n",
    "        \n",
    "phone_1 = Phone(\"Nokia\",\"1110_i\",2200,1000)\n",
    "\n",
    "print(\"1\")\n",
    "print(f\"{phone_1.full_name()}\\n\")\n",
    "\n",
    "print(\"2\")\n",
    "print(f\"{phone_1.make_call(+4917676)}\")\n",
    "print(f\"{phone_1._price_1}\\n\")\n",
    "\n",
    "print(\"3'Name list, complete ietsm + Name Mangling'\")\n",
    "print(f\"{phone_1.__dict__}\\n\")\n",
    "\n",
    "print(\"4'Private varible'\")\n",
    "print(f\"{phone_1._price_1}\\n\")\n",
    "# print(f\"{phone_1.__price_2}\\n\")  # it will not show up like this way, thats why called private loosely\n",
    "\n",
    "print(\"5'Name Mangling'\")\n",
    "print(f\"{phone_1.__dict__}\")\n",
    "print(f\"{phone_1._Phone__price_2}\\n\")"
   ]
  },
  {
   "cell_type": "markdown",
   "metadata": {},
   "source": [
    "###### Property setter Decoraters"
   ]
  },
  {
   "cell_type": "code",
   "execution_count": 113,
   "metadata": {},
   "outputs": [
    {
     "name": "stdout",
     "output_type": "stream",
     "text": [
      "1 'complete specs'\n",
      "Brand       --> Nokia\n",
      "Model_Name  --> 1110_i\n",
      "Price       --> 0\n",
      "Comp Specs  --> Nokia 1110_i with price 0 \n",
      "\n",
      "2 'Change Price, problem'\n",
      "Brand       --> Nokia\n",
      "Model_Name  --> 1110_i\n",
      "Price       --> -500\n",
      "Comp Specs  --> Nokia 1110_i with price 0 \n",
      "\n",
      "3 'Change Price is solved, negative is still problem'\n",
      "Brand       --> Nokia\n",
      "Model_Name  --> 1110_i\n",
      "Price       --> -500\n",
      "Comp Specs  --> Nokia 1110_i with price -500 \n",
      "\n"
     ]
    }
   ],
   "source": [
    "# Calling method as a variable with @property decoraters\n",
    "%reset -f\n",
    "\n",
    "class Phone:\n",
    "    def __init__(self,brand,model_name,price):\n",
    "        self.brand = brand\n",
    "        self.model_name = model_name\n",
    "        self._price = max(price,0)\n",
    "#         if price >0:\n",
    "#             self._price = price\n",
    "#         else:\n",
    "#             self._price = 0\n",
    "        self.complete_specs_var = f\"{self.brand} {self.model_name} with price {self._price} \" \n",
    "    \n",
    "    @property\n",
    "    def complete_specs_method(self):\n",
    "        return f\"{self.brand} {self.model_name} with price {self._price} \" \n",
    "        \n",
    "        \n",
    "    def make_call(self,ph_number):\n",
    "#         print(type(ph_number))\n",
    "        return(f\"calling {ph_number}...\")\n",
    "        \n",
    "    def full_name(self):\n",
    "        return (f\"{self.brand} {self.model_name}\")\n",
    "        \n",
    "phone_1 = Phone(\"Nokia\",\"1110_i\",-2200)\n",
    "\n",
    "#------------------------------------------------------\n",
    "print(\"1 'complete specs'\")\n",
    "print(f\"Brand       --> {phone_1.brand}\")\n",
    "print(f\"Model_Name  --> {phone_1.model_name}\")\n",
    "print(f\"Price       --> {phone_1._price}\")\n",
    "print(f\"Comp Specs  --> {phone_1.complete_specs_var}\\n\")\n",
    "\n",
    "\n",
    "print(\"2 'Change Price, problem'\")\n",
    "phone_1._price = -500   # Price Updated\n",
    "print(f\"Brand       --> {phone_1.brand}\")\n",
    "print(f\"Model_Name  --> {phone_1.model_name}\")\n",
    "print(f\"Price       --> {phone_1._price}\")\n",
    "print(f\"Comp Specs  --> {phone_1.complete_specs_var}\\n\")\n",
    "\n",
    "\n",
    "print(\"3 'Change Price is solved, negative is still problem'\")\n",
    "phone_1._price = -500   # Price Updated\n",
    "print(f\"Brand       --> {phone_1.brand}\")\n",
    "print(f\"Model_Name  --> {phone_1.model_name}\")\n",
    "print(f\"Price       --> {phone_1._price}\")\n",
    "print(f\"Comp Specs  --> {phone_1.complete_specs_method}\\n\")\n"
   ]
  },
  {
   "cell_type": "markdown",
   "metadata": {},
   "source": [
    "###### Getter and Setter Method in python"
   ]
  },
  {
   "cell_type": "code",
   "execution_count": 1,
   "metadata": {},
   "outputs": [
    {
     "name": "stdout",
     "output_type": "stream",
     "text": [
      "1'simple calling method as an instance variable with property decoraters'\n",
      "Abdus Samad\n",
      "Abdus.Samad@email.com\n",
      "\n",
      "\n",
      "2'simple way of assigning variable value'\n",
      "Maxi Samad\n",
      "Maxi.Samad@email.com\n",
      "\n",
      "\n",
      "3'error msg:  can't set attributes\n",
      "\n",
      "\n",
      "4'using method as a setter'\n",
      "Safaa Samad\n",
      "Safaa.Samad@email.com\n"
     ]
    }
   ],
   "source": [
    "# getter and setter\n",
    "# used when method takes arguemnts directly and assign(setts) the value for the whole class.\n",
    "# whole class means, then redefine the values of __init__method and once its done,\n",
    "# other class methods would works as it is...\n",
    "# ..\n",
    "# .\n",
    "\n",
    "%reset -f\n",
    "class Employee:\n",
    "    # defining initilization method:\n",
    "    def __init__(self,f_name,l_name):\n",
    "        self.f_name = f_name\n",
    "        self.l_name = l_name\n",
    "#         self.email = f_name +'.'+l_name +'@email.com'\n",
    "    \n",
    "    @property\n",
    "    def email(self):\n",
    "        return f\"{self.f_name}.{self.l_name}@email.com\"\n",
    "    \n",
    "    @property\n",
    "    def full_name(self):\n",
    "        return f\"{self.f_name} {self.l_name}\"\n",
    "    \n",
    "    @full_name.setter\n",
    "    def full_name(self,new_name):\n",
    "        var_1,var_2 = new_name.split(\" \")\n",
    "        self.f_name = var_1\n",
    "        self.l_name = var_2\n",
    "        \n",
    "e_1 = Employee(\"Abdus\",\"Samad\")\n",
    "print(\"1'simple calling method as an instance variable with property decoraters'\")\n",
    "print(e_1.full_name)\n",
    "print(e_1.email)\n",
    "print(\"\\n\")\n",
    "\n",
    "print(\"2'simple way of assigning variable value'\")\n",
    "e_1.f_name = \"Maxi\"\n",
    "print(e_1.full_name)\n",
    "print(e_1.email)\n",
    "print(\"\\n\")\n",
    "\n",
    "print(\"3'error msg:  can't set attributes\")\n",
    "# e_1.f_name = \"john\"\n",
    "# e_1.l_name = \"Smith\"\n",
    "# print(e_1.full_name)\n",
    "# print(e_1.email)\n",
    "print(\"\\n\")\n",
    "\n",
    "print(\"4'using method as a setter'\")\n",
    "e_1.full_name = \"Safaa Samad\"\n",
    "print(e_1.full_name)\n",
    "print(e_1.email)\n"
   ]
  },
  {
   "cell_type": "code",
   "execution_count": 31,
   "metadata": {},
   "outputs": [
    {
     "name": "stdout",
     "output_type": "stream",
     "text": [
      "1 'Complete specs of phone_1'\n",
      "Nokia 1110_i with 2200  \n",
      "\n",
      "2 'Complete specs of phone_2, --> note the price\n",
      "Nokia 1110_i with 0  \n",
      "\n",
      "2 'Complete specs of phone_1, --> note the price\n",
      "Nokia 1110_i with 0  \n",
      "\n"
     ]
    }
   ],
   "source": [
    "# example-2: Getter and setter:\n",
    "%reset -f\n",
    "class Phone:\n",
    "    # Initilization of instance variables\n",
    "    def __init__(self,brand,model_name,price):\n",
    "        self.brand = brand\n",
    "        self.model_name = model_name\n",
    "        self._price = max(price,0)\n",
    "        \n",
    "    @property\n",
    "    def price(self):\n",
    "        return self._price\n",
    "    \n",
    "    @price.setter\n",
    "    def price(self,new_price):\n",
    "        self._price = max(new_price,0)\n",
    "    \n",
    "    @property\n",
    "    def complete_specs(self):\n",
    "        return f\"{self.brand} {self.model_name} with {self._price} \"\n",
    "    \n",
    "    # method for calling to other user\n",
    "    def make_a_call(self,dialled_number):\n",
    "        return f\"You are calling {dialled_number}\"\n",
    "    \n",
    "    \n",
    "    # method for getting full name of mobile only, w/o price\n",
    "    def full_name(self):\n",
    "        return f\"{self.brand} {self.model_name}\"\n",
    "    \n",
    "    \n",
    "\n",
    "    \n",
    "    \n",
    "    \n",
    "    \n",
    "phone_1 = Phone(\"Nokia\",\"1110_i\",2200)\n",
    "phone_2 = Phone(\"Nokia\",\"1110_i\",-800)\n",
    "\n",
    "\n",
    "\n",
    "print(\"1 'Complete specs of phone_1'\")\n",
    "print(phone_1.complete_specs,\"\\n\")\n",
    "\n",
    "print(\"2 'Complete specs of phone_2, --> note the price\")\n",
    "# This price is changing b/c we set the minimum price =0 in __init__ method, \n",
    "print(phone_2.complete_specs,\"\\n\")\n",
    "\n",
    "phone_1.price = -875\n",
    "print(\"2 'Complete specs of phone_1, --> note the price\")\n",
    "# This price is changing b/c of setter, not b/c of __init__ modification\n",
    "print(phone_2.complete_specs,\"\\n\")"
   ]
  },
  {
   "cell_type": "markdown",
   "metadata": {},
   "source": [
    "### Inheritance Classes"
   ]
  },
  {
   "cell_type": "markdown",
   "metadata": {},
   "source": [
    "###### Two ways of calling class"
   ]
  },
  {
   "cell_type": "code",
   "execution_count": 48,
   "metadata": {},
   "outputs": [],
   "source": [
    "# Things to remember for this\n",
    "# 1) Pass the name of base/parent class in child/derived class as an argument\n",
    "# 2) Define __init__ method for the new class but with all instances variables even write down \n",
    "# the instance variable of base class\n",
    "# 3) In side new __init__ method use super().__init__(instance variable of base class)"
   ]
  },
  {
   "cell_type": "code",
   "execution_count": 49,
   "metadata": {},
   "outputs": [
    {
     "name": "stdout",
     "output_type": "stream",
     "text": [
      "Nokia, 111oi\n",
      "Apple, i5\n"
     ]
    }
   ],
   "source": [
    "%reset -f\n",
    "class Phone:    # base class / parent class\n",
    "    # Initilization of instance variables of phone class\n",
    "    def __init__(self,brand,model_name,price):\n",
    "        self.brand = brand\n",
    "        self.model_name = model_name\n",
    "        self._price = max(price,0)\n",
    "        \n",
    "    def full_name(self):\n",
    "        return f\"{self.brand}, {self.model_name}\"\n",
    "    \n",
    "    def make_a_call(self,dial):\n",
    "        return f\"You are calling {dial}\"\n",
    "        \n",
    "        \n",
    "class Smart_Phone_1(Phone):  # Inside ( write the name of class which you want to inherit);derived or child class\n",
    "    \n",
    "    \n",
    "    # Initilization of intsnace variable of Smart_Phone class\n",
    "    def __init__(self,brand,model_name,price,ram,internal_memory,rear_camera):\n",
    "        \n",
    "        # method-1\n",
    "        # Phone.__init__(self,brand,model_name,price)\n",
    "        #------------------------------------------------------------\n",
    "        # method-2\n",
    "        super().__init__(brand,model_name,price)\n",
    "        #------------------------------------------------------------\n",
    "        \n",
    "        self.ram = ram\n",
    "        self.internal_memory = internal_memory\n",
    "        self.rear_camera = rear_camera\n",
    "        \n",
    "        \n",
    "        \n",
    "phone_1 = Phone(\"Nokia\",\"111oi\",20)\n",
    "sm_phone_1 = Smart_Phone_1(\"Apple\",\"i5\",600,\"32G\",\"256G\",\"12mp\")\n",
    "\n",
    "\n",
    "print(phone_1.full_name())\n",
    "print(sm_phone_1.full_name())\n",
    "        "
   ]
  },
  {
   "cell_type": "code",
   "execution_count": null,
   "metadata": {},
   "outputs": [],
   "source": [
    "# Can we inherit a class to more than 1 class?  --> yes|| Phone =-=-=> Smart_Phone_1,Smart_Phone_2"
   ]
  },
  {
   "cell_type": "code",
   "execution_count": 50,
   "metadata": {},
   "outputs": [
    {
     "name": "stdout",
     "output_type": "stream",
     "text": [
      "Nokia, 111oi\n",
      "Apple, i5\n",
      "Samsung, s9\n"
     ]
    }
   ],
   "source": [
    "%reset -f\n",
    "class Phone:    # base class / parent class\n",
    "    # Initilization of instance variables of phone class\n",
    "    def __init__(self,brand,model_name,price):\n",
    "        self.brand = brand\n",
    "        self.model_name = model_name\n",
    "        self._price = max(price,0)\n",
    "        \n",
    "    def full_name(self):\n",
    "        return f\"{self.brand}, {self.model_name}\"\n",
    "    \n",
    "    def make_a_call(self,dial):\n",
    "        return f\"You are calling {dial}\"\n",
    "        \n",
    "        \n",
    "class Smart_Phone_1(Phone):  # Inside ( write the name of class which you want to inherit);derived or child class\n",
    "    \n",
    "    \n",
    "    # Initilization of intsnace variable of Smart_Phone class\n",
    "    def __init__(self,brand,model_name,price,ram,internal_memory,rear_camera):\n",
    "        \n",
    "        # method-1\n",
    "        # Phone.__init__(self,brand,model_name,price)\n",
    "        #------------------------------------------------------------\n",
    "        # method-2\n",
    "        super().__init__(brand,model_name,price)\n",
    "        #------------------------------------------------------------\n",
    "        \n",
    "        self.ram = ram\n",
    "        self.internal_memory = internal_memory\n",
    "        self.rear_camera = rear_camera\n",
    "\n",
    "        \n",
    "class Smart_Phone_2(Phone): # Second derived class, it's inheriting Phone as a base class\n",
    "    \n",
    "    \n",
    "    # Initilization of intsnace variable of Smart_Phone class\n",
    "    def __init__(self,brand,model_name,price,ram,internal_memory,rear_camera):\n",
    "        \n",
    "        # method-1\n",
    "        # Phone.__init__(self,brand,model_name,price)\n",
    "        #------------------------------------------------------------\n",
    "        # method-2\n",
    "        super().__init__(brand,model_name,price)\n",
    "        #------------------------------------------------------------\n",
    "        \n",
    "        self.ram = ram\n",
    "        self.internal_memory = internal_memory\n",
    "        self.rear_camera = rear_camera\n",
    "        \n",
    "        \n",
    "\n",
    "        \n",
    "        \n",
    "phone_1 = Phone(\"Nokia\",\"111oi\",20)\n",
    "sm_phone_1 = Smart_Phone_1(\"Apple\",\"i5\",600,\"32G\",\"256G\",\"12mp\")\n",
    "sm_phone_2 = Smart_Phone_2(\"Samsung\",\"s9\",560,\"64G\",\"312G\",\"24mp\")\n",
    "\n",
    "\n",
    "print(phone_1.full_name())\n",
    "print(sm_phone_1.full_name())\n",
    "print(sm_phone_2.full_name())\n",
    "        "
   ]
  },
  {
   "cell_type": "code",
   "execution_count": null,
   "metadata": {},
   "outputs": [],
   "source": [
    "# Inheritance of already an inherited class"
   ]
  },
  {
   "cell_type": "code",
   "execution_count": 70,
   "metadata": {},
   "outputs": [
    {
     "name": "stdout",
     "output_type": "stream",
     "text": [
      "Nokia, 111oi\n",
      "Apple, i5\n",
      "-----------\n",
      "Apple, iX\n",
      "Help on class FlagshiPhone in module __main__:\n",
      "\n",
      "class FlagshiPhone(Smart_Phone)\n",
      " |  Method resolution order:\n",
      " |      FlagshiPhone\n",
      " |      Smart_Phone\n",
      " |      Phone\n",
      " |      builtins.object\n",
      " |  \n",
      " |  Methods defined here:\n",
      " |  \n",
      " |  __init__(self, brand, model_name, price, ram, internal_memory, rear_camera, front_camera)\n",
      " |      Initialize self.  See help(type(self)) for accurate signature.\n",
      " |  \n",
      " |  ----------------------------------------------------------------------\n",
      " |  Methods inherited from Phone:\n",
      " |  \n",
      " |  full_name(self)\n",
      " |  \n",
      " |  make_a_call(self, dial)\n",
      " |  \n",
      " |  ----------------------------------------------------------------------\n",
      " |  Data descriptors inherited from Phone:\n",
      " |  \n",
      " |  __dict__\n",
      " |      dictionary for instance variables (if defined)\n",
      " |  \n",
      " |  __weakref__\n",
      " |      list of weak references to the object (if defined)\n",
      "\n",
      "None\n"
     ]
    }
   ],
   "source": [
    "%reset -f\n",
    "class Phone:    # base class / parent class\n",
    "    # Initilization of instance variables of phone class\n",
    "    def __init__(self,brand,model_name,price):\n",
    "        self.brand = brand\n",
    "        self.model_name = model_name\n",
    "        self._price = max(price,0)\n",
    "        \n",
    "    def full_name(self):\n",
    "        return f\"{self.brand}, {self.model_name}\"\n",
    "    \n",
    "    def make_a_call(self,dial):\n",
    "        return f\"You are calling {dial}\"\n",
    "        \n",
    "        \n",
    "class Smart_Phone(Phone):  # Inside ( write the name of class which you want to inherit);derived or child class\n",
    "    \n",
    "    \n",
    "    # Initilization of intsnace variable of Smart_Phone class\n",
    "    def __init__(self,brand,model_name,price,ram,internal_memory,rear_camera):\n",
    "        \n",
    "        # method-1\n",
    "        # Phone.__init__(self,brand,model_name,price)\n",
    "        #------------------------------------------------------------\n",
    "        # method-2\n",
    "        super().__init__(brand,model_name,price)\n",
    "        #------------------------------------------------------------\n",
    "        \n",
    "        self.ram = ram\n",
    "        self.internal_memory = internal_memory\n",
    "        self.rear_camera = rear_camera\n",
    "        \n",
    "class FlagshiPhone(Smart_Phone):\n",
    "    # Initilization of intsnace variable of FlagshiPhone class\n",
    "    def __init__(self,brand,model_name,price,ram,internal_memory,rear_camera,front_camera):\n",
    "        super().__init__(brand,model_name,price,ram,internal_memory,rear_camera)\n",
    "        self.front_camera = front_camera\n",
    "        \n",
    "        \n",
    "phone_1 = Phone(\"Nokia\",\"111oi\",20)\n",
    "sm_phone_1 = Smart_Phone(\"Apple\",\"i5\",160,\"6G\",\"25G\",\"10mp\")\n",
    "adv_phone_1 = FlagshiPhone(\"Apple\",\"iX\",800,\"32G\",\"256G\",\"12mp\",\"6mp\")\n",
    "\n",
    "\n",
    "\n",
    "print(phone_1.full_name())\n",
    "print(sm_phone_1.full_name())\n",
    "print(\"-----------\")\n",
    "print(adv_phone_1.full_name())\n",
    "print(help(FlagshiPhone))\n",
    "        "
   ]
  },
  {
   "cell_type": "markdown",
   "metadata": {},
   "source": [
    "###### Method Overriding"
   ]
  },
  {
   "cell_type": "code",
   "execution_count": 79,
   "metadata": {},
   "outputs": [
    {
     "name": "stdout",
     "output_type": "stream",
     "text": [
      "Apple, iX with price 800\n",
      "Help on class FlagshiPhone in module __main__:\n",
      "\n",
      "class FlagshiPhone(Smart_Phone)\n",
      " |  Method resolution order:\n",
      " |      FlagshiPhone\n",
      " |      Smart_Phone\n",
      " |      Phone\n",
      " |      builtins.object\n",
      " |  \n",
      " |  Methods defined here:\n",
      " |  \n",
      " |  __init__(self, brand, model_name, price, ram, internal_memory, rear_camera, front_camera)\n",
      " |      Initialize self.  See help(type(self)) for accurate signature.\n",
      " |  \n",
      " |  ----------------------------------------------------------------------\n",
      " |  Methods inherited from Smart_Phone:\n",
      " |  \n",
      " |  full_name(self)\n",
      " |  \n",
      " |  ----------------------------------------------------------------------\n",
      " |  Methods inherited from Phone:\n",
      " |  \n",
      " |  make_a_call(self, dial)\n",
      " |  \n",
      " |  ----------------------------------------------------------------------\n",
      " |  Data descriptors inherited from Phone:\n",
      " |  \n",
      " |  __dict__\n",
      " |      dictionary for instance variables (if defined)\n",
      " |  \n",
      " |  __weakref__\n",
      " |      list of weak references to the object (if defined)\n",
      "\n",
      "None\n"
     ]
    }
   ],
   "source": [
    "# MRO ,Example\n",
    "%reset -f\n",
    "class Phone:   \n",
    "    \n",
    "    def __init__(self,brand,model_name,price):\n",
    "        self.brand = brand\n",
    "        self.model_name = model_name\n",
    "        self._price = max(price,0)\n",
    "        \n",
    "    def full_name(self):\n",
    "        return f\"{self.brand}, {self.model_name}\"\n",
    "    \n",
    "    def make_a_call(self,dial):\n",
    "        return f\"You are calling {dial}\"\n",
    "      \n",
    "class Smart_Phone(Phone): \n",
    "    \n",
    "    def __init__(self,brand,model_name,price,ram,internal_memory,rear_camera):\n",
    "        super().__init__(brand,model_name,price)\n",
    "        #---------------------------------------\n",
    "        self.ram = ram\n",
    "        self.internal_memory = internal_memory\n",
    "        self.rear_camera = rear_camera\n",
    "    \n",
    "    def full_name(self):\n",
    "        return f\"{self.brand}, {self.model_name} with price {self._price}\"\n",
    "        \n",
    "class FlagshiPhone(Smart_Phone):\n",
    "    \n",
    "    def __init__(self,brand,model_name,price,ram,internal_memory,rear_camera,front_camera):\n",
    "        #---------------------------------------\n",
    "        super().__init__(brand,model_name,price,ram,internal_memory,rear_camera)\n",
    "        self.front_camera = front_camera\n",
    "        \n",
    "        \n",
    "phone_1 = Phone(\"Nokia\",\"111oi\",20)\n",
    "sm_phone_1 = Smart_Phone(\"Apple\",\"i5\",160,\"6G\",\"25G\",\"10mp\")\n",
    "adv_phone_1 = FlagshiPhone(\"Apple\",\"iX\",800,\"32G\",\"256G\",\"12mp\",\"6mp\")\n",
    "\n",
    "print(adv_phone_1.full_name())\n",
    "print(help(FlagshiPhone))   # Its calling the full_name() method of Smart_Phone class, according to MRO     "
   ]
  },
  {
   "cell_type": "markdown",
   "metadata": {},
   "source": [
    "###### Is Instance, and "
   ]
  },
  {
   "cell_type": "code",
   "execution_count": 93,
   "metadata": {},
   "outputs": [
    {
     "name": "stdout",
     "output_type": "stream",
     "text": [
      "adv_phone_1 is an object of FlagshiPhone ----> True\n",
      "adv_phone_1 is an object of Smart_Phone  ----> True\n",
      "adv_phone_1 is an object of Phone        ----> True\n",
      "BUT\n",
      "adv_phone_1 is an object of Phone  ----> False\n"
     ]
    }
   ],
   "source": [
    "%reset -f\n",
    "class Phone:   \n",
    "    \n",
    "    def __init__(self,brand,model_name,price):\n",
    "        self.brand = brand\n",
    "        self.model_name = model_name\n",
    "        self._price = max(price,0)\n",
    "        \n",
    "    def full_name(self):\n",
    "        return f\"{self.brand}, {self.model_name}\"\n",
    "    \n",
    "    def make_a_call(self,dial):\n",
    "        return f\"You are calling {dial}\"\n",
    "      \n",
    "class Smart_Phone(Phone): \n",
    "    \n",
    "    def __init__(self,brand,model_name,price,ram,internal_memory,rear_camera):\n",
    "        super().__init__(brand,model_name,price)\n",
    "        #---------------------------------------\n",
    "        self.ram = ram\n",
    "        self.internal_memory = internal_memory\n",
    "        self.rear_camera = rear_camera\n",
    "    \n",
    "    def full_name(self):\n",
    "        return f\"{self.brand}, {self.model_name} with price {self._price}\"\n",
    "        \n",
    "class FlagshiPhone(Smart_Phone):\n",
    "    \n",
    "    def __init__(self,brand,model_name,price,ram,internal_memory,rear_camera,front_camera):\n",
    "        #---------------------------------------\n",
    "        super().__init__(brand,model_name,price,ram,internal_memory,rear_camera)\n",
    "        self.front_camera = front_camera\n",
    "        \n",
    "        \n",
    "phone_1 = Phone(\"Nokia\",\"111oi\",20)\n",
    "sm_phone_1 = Smart_Phone(\"Apple\",\"i5\",160,\"6G\",\"25G\",\"10mp\")\n",
    "adv_phone_1 = FlagshiPhone(\"Apple\",\"iX\",800,\"32G\",\"256G\",\"12mp\",\"6mp\")\n",
    "\n",
    "print(\"adv_phone_1 is an object of FlagshiPhone ---->\",isinstance(adv_phone_1,FlagshiPhone)) \n",
    "print(\"adv_phone_1 is an object of Smart_Phone  ---->\",isinstance(adv_phone_1,Smart_Phone)) \n",
    "print(\"adv_phone_1 is an object of Phone        ---->\",isinstance(adv_phone_1,Phone)) \n",
    "print(\"BUT\")\n",
    "\n",
    "print(\"adv_phone_1 is an object of Phone  ---->\",isinstance(sm_phone_1,FlagshiPhone)) \n",
    "# and similiarly the issubclass()"
   ]
  },
  {
   "cell_type": "code",
   "execution_count": 17,
   "metadata": {},
   "outputs": [
    {
     "name": "stdout",
     "output_type": "stream",
     "text": [
      "Nokia and price is 35\n",
      "-------------------------\n",
      "Help on class Phone in module __main__:\n",
      "\n",
      "class Phone(builtins.object)\n",
      " |  Methods defined here:\n",
      " |  \n",
      " |  __init__(self, brand, model_name, price)\n",
      " |      Initialize self.  See help(type(self)) for accurate signature.\n",
      " |  \n",
      " |  __repr__(self)\n",
      " |      Return repr(self).\n",
      " |  \n",
      " |  __str__(self)\n",
      " |      Return str(self).\n",
      " |  \n",
      " |  ----------------------------------------------------------------------\n",
      " |  Data descriptors defined here:\n",
      " |  \n",
      " |  __dict__\n",
      " |      dictionary for instance variables (if defined)\n",
      " |  \n",
      " |  __weakref__\n",
      " |      list of weak references to the object (if defined)\n",
      "\n",
      "None\n"
     ]
    }
   ],
   "source": [
    "%reset -f\n",
    "class Phone:   \n",
    "    \n",
    "    def __init__(self,brand,model_name,price):\n",
    "        self.brand = brand\n",
    "        self.model_name = model_name\n",
    "        self._price = max(price,0)\n",
    "        \n",
    "#     def full_name(self):\n",
    "#         return f\"{self.brand}, {self.model_name}\"\n",
    "    \n",
    "    def __str__(self):\n",
    "        return f\"{self.brand} and price is {self._price}\"\n",
    "    \n",
    "    def __repr__(self):\n",
    "        return f\"{self.brand} , model_name ---> {self.model_name}\"\n",
    "    \n",
    "    \n",
    "    \n",
    "p_1 = Phone(\"Nokia\",\"3310\",35)\n",
    "print(p_1)\n",
    "# print(p_1.__repr__())\n",
    "print(\"-------------------------\")\n",
    "print(help(Phone))"
   ]
  },
  {
   "cell_type": "code",
   "execution_count": null,
   "metadata": {},
   "outputs": [],
   "source": []
  }
 ],
 "metadata": {
  "kernelspec": {
   "display_name": "Python 3",
   "language": "python",
   "name": "python3"
  },
  "language_info": {
   "codemirror_mode": {
    "name": "ipython",
    "version": 3
   },
   "file_extension": ".py",
   "mimetype": "text/x-python",
   "name": "python",
   "nbconvert_exporter": "python",
   "pygments_lexer": "ipython3",
   "version": "3.6.3"
  }
 },
 "nbformat": 4,
 "nbformat_minor": 2
}
