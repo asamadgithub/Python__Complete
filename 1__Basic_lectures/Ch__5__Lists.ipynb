{
 "cells": [
  {
   "cell_type": "markdown",
   "metadata": {},
   "source": [
    "# List"
   ]
  },
  {
   "cell_type": "code",
   "execution_count": 1,
   "metadata": {},
   "outputs": [
    {
     "data": {
      "text/plain": [
       "'\\n# List --> \\nData Structure,\\nOrdered Structure of items\\n'"
      ]
     },
     "execution_count": 1,
     "metadata": {},
     "output_type": "execute_result"
    }
   ],
   "source": [
    "'''\n",
    "# List --> \n",
    "Data Structure,\n",
    "Ordered Structure of items\n",
    "can store int, float, strings etc \n",
    "'''"
   ]
  },
  {
   "cell_type": "code",
   "execution_count": 6,
   "metadata": {},
   "outputs": [
    {
     "name": "stdout",
     "output_type": "stream",
     "text": [
      "[1, 2, 3]\n",
      "************************\n",
      "['one', 'two', 'three', 'four']\n",
      "************************\n",
      "[1, 2, 3, 'four', 'five']\n"
     ]
    }
   ],
   "source": [
    "# List can store mixed data types\n",
    "%reset -f\n",
    "number = [1,2,3,4,5]\n",
    "print(number[0:3])\n",
    "print(\"************************\")\n",
    "#-------------------------------\n",
    "words = [\"one\",\"two\",\"three\",\"four\",\"five\"]\n",
    "print(words[0:4])\n",
    "print(\"************************\")\n",
    "#-------------------------------\n",
    "mixed = [1,2,3,\"four\",\"five\"]\n",
    "print(mixed)"
   ]
  },
  {
   "cell_type": "code",
   "execution_count": 15,
   "metadata": {},
   "outputs": [
    {
     "name": "stdout",
     "output_type": "stream",
     "text": [
      "['Apple', 'Mangoes']\n",
      "************************\n",
      "['Apple', 'Banana', 'Mangoes']\n",
      "************************\n",
      "['a', 'b', 'c', 1, 2, 3]\n",
      "************************\n",
      "['a', 'b', 'c', 1, 2, 3]\n",
      "************************\n",
      "['a', 'b', 'c', [1, 2, 3]]\n"
     ]
    }
   ],
   "source": [
    "# Append list ; \n",
    "%reset -f\n",
    "\n",
    "fruits = []\n",
    "\n",
    "fruits.append(\"Apple\")         # appending anything to the last\n",
    "fruits.append(\"Mangoes\")\n",
    "print(fruits)\n",
    "print(\"************************\")\n",
    "#------------------------------\n",
    "fruits.insert(1,\"Banana\")      # insert at some specific position\n",
    "print(fruits)\n",
    "print(\"************************\")\n",
    "#-------------------------------\n",
    "list1 = [\"a\",\"b\",\"c\"]\n",
    "list2 = [1,2,3]\n",
    "list3 = list1 + list2\n",
    "print(list3)\n",
    "print(\"************************\")\n",
    "#-------------------------------\n",
    "list1 = [\"a\",\"b\",\"c\"]\n",
    "list2 = [1,2,3]\n",
    "list1.extend(list2)\n",
    "print(list1)                   # Note this is list1\n",
    "print(\"************************\")\n",
    "#-------------------------------\n",
    "list1 = [\"a\",\"b\",\"c\"]\n",
    "list2 = [1,2,3]\n",
    "list1.append(list2)\n",
    "print(list1)                   # Note this is list inside a list"
   ]
  },
  {
   "cell_type": "code",
   "execution_count": 26,
   "metadata": {},
   "outputs": [
    {
     "name": "stdout",
     "output_type": "stream",
     "text": [
      "['Oranges', 'apple', 'pear', 'banana', 'kiwi']\n",
      "['Oranges', 'apple', 'pear', 'banana']\n",
      "['apple', 'pear', 'banana']\n",
      "*****************************************************\n",
      "['Oranges', 'pear', 'banana', 'kiwi']\n",
      "*****************************************************\n",
      "['Oranges', 'apple', 'pear', 'kiwi', 'banana']\n"
     ]
    }
   ],
   "source": [
    "# Common methods to delete data from a list\n",
    "%reset -f\n",
    "\n",
    "#pop method\n",
    "fruits = [\"Oranges\",\"apple\", \"pear\", \"banana\", \"kiwi\"]\n",
    "print(fruits)\n",
    "fruits.pop()      # without argument ---> last item\n",
    "print(fruits)\n",
    "fruits.pop(0)     # with argument ---> that specific position \n",
    "print(fruits)\n",
    "\n",
    "print(\"*****************************************************\")\n",
    "#----------------------------------------------------------\n",
    "\n",
    "#delete operator\n",
    "fruits = [\"Oranges\",\"apple\", \"pear\", \"banana\", \"kiwi\"]\n",
    "del fruits[1]      # argument is must\n",
    "print(fruits)\n",
    "\n",
    "print(\"*****************************************************\")\n",
    "#----------------------------------------------------------\n",
    "\n",
    "#dremove method\n",
    "fruits = [\"Oranges\",\"apple\", \"pear\", \"banana\", \"kiwi\",\"banana\"]\n",
    "fruits.remove(\"banana\")\n",
    "print(fruits)       # banana 1st is removed from this list"
   ]
  },
  {
   "cell_type": "code",
   "execution_count": 32,
   "metadata": {},
   "outputs": [
    {
     "name": "stdout",
     "output_type": "stream",
     "text": [
      "Not Present\n"
     ]
    }
   ],
   "source": [
    "# checking something in a list\n",
    "%reset -f\n",
    "\n",
    "fruits = [\"Oranges\",\"apple\", \"pear\", \"banana\", \"kiwi\",\"banana\"]\n",
    "\n",
    "if \"hwa\" in fruits:\n",
    "    print (\"Apple is present\")\n",
    "else:\n",
    "    print(\"Not Present\")"
   ]
  },
  {
   "cell_type": "code",
   "execution_count": 44,
   "metadata": {},
   "outputs": [
    {
     "name": "stdout",
     "output_type": "stream",
     "text": [
      "2\n",
      "*****************************************************\n",
      "['apple', 'banana', 'banana', 'kiwi', 'oranges', 'pear']\n",
      "['oranges', 'apple', 'pear', 'banana', 'kiwi', 'banana']\n",
      "*****************************************************\n",
      "[]\n",
      "*****************************************************\n",
      "['oranges', 'apple', 'pear', 'banana', 'kiwi', 'banana']\n"
     ]
    }
   ],
   "source": [
    "# Common list methods\n",
    "%reset -f\n",
    "\n",
    "# count method\n",
    "fruits = [\"oranges\",\"apple\", \"pear\", \"banana\", \"kiwi\",\"banana\"]\n",
    "print(fruits.count(\"banana\"))    # counting argument\n",
    "\n",
    "print(\"*****************************************************\")\n",
    "#----------------------------------------------------------\n",
    "\n",
    "# sorting method\n",
    "fruits = [\"oranges\",\"apple\", \"pear\", \"banana\", \"kiwi\",\"banana\"]\n",
    "#fruits.sort()\n",
    "print(sorted(fruits))\n",
    "print(fruits)\n",
    "\n",
    "print(\"*****************************************************\")\n",
    "#----------------------------------------------------------\n",
    "fruits = [\"oranges\",\"apple\", \"pear\", \"banana\", \"kiwi\",\"banana\"]\n",
    "fruits.clear()\n",
    "print(fruits)\n",
    "\n",
    "print(\"*****************************************************\")\n",
    "#----------------------------------------------------------\n",
    "fruits = [\"oranges\",\"apple\", \"pear\", \"banana\", \"kiwi\",\"banana\"]\n",
    "copy_fruits = fruits.copy()\n",
    "print(copy_fruits)"
   ]
  },
  {
   "cell_type": "code",
   "execution_count": 46,
   "metadata": {},
   "outputs": [
    {
     "name": "stdout",
     "output_type": "stream",
     "text": [
      "True\n",
      "False\n"
     ]
    }
   ],
   "source": [
    "# Common list methods\n",
    "%reset -f\n",
    "\n",
    "list1 = [1,2,3,4]\n",
    "list2 = [1,2,3,4]\n",
    "\n",
    "\n",
    "\n",
    "print (list1 == list2)    # if both lists are equal\n",
    "print (list1 is list2)    # if both OBJECTS are on same memory place"
   ]
  },
  {
   "cell_type": "code",
   "execution_count": 55,
   "metadata": {},
   "outputs": [
    {
     "name": "stdout",
     "output_type": "stream",
     "text": [
      "['Max', '24']\n",
      "*****************************************************\n",
      "['Max', '24']\n",
      "Max,24\n"
     ]
    }
   ],
   "source": [
    "# split and join method\n",
    "%reset -f\n",
    "\n",
    "# string to list conversion\n",
    "user_info = \"Max,24\".split(\",\")\n",
    "print(user_info)\n",
    "\n",
    "\n",
    "print(\"*****************************************************\")\n",
    "#----------------------------------------------------------\n",
    "\n",
    "# join method\n",
    "user_info = [\"Max\",\"24\"]\n",
    "print(user_info)\n",
    "st = \",\".join(user_info)\n",
    "print(st)"
   ]
  },
  {
   "cell_type": "code",
   "execution_count": 58,
   "metadata": {},
   "outputs": [
    {
     "name": "stdout",
     "output_type": "stream",
     "text": [
      "[14, 'b', 'c']\n"
     ]
    }
   ],
   "source": [
    "# Lists and strings\n",
    "'''\n",
    "Lists are mutable\n",
    "Strings are immutable   , can't change\n",
    "'''\n",
    "\n",
    "string = \"Alpha\"\n",
    "list1 = [\"a\",\"b\",\"c\"]\n",
    "\n",
    "#string[0] = \"B\"    # Will give an error\n",
    "\n",
    "list1[0] = 14\n",
    "print(list1)"
   ]
  },
  {
   "cell_type": "code",
   "execution_count": 67,
   "metadata": {},
   "outputs": [
    {
     "name": "stdout",
     "output_type": "stream",
     "text": [
      "oranges apple pear banana kiwi banana \n",
      "*****************************************************\n",
      "oranges apple pear banana kiwi banana "
     ]
    }
   ],
   "source": [
    "# Common list methods\n",
    "%reset -f\n",
    "\n",
    "# count method\n",
    "fruits = [\"oranges\",\"apple\", \"pear\", \"banana\", \"kiwi\",\"banana\"]\n",
    "\n",
    "for i in fruits:\n",
    "    print(i,end=' ')\n",
    "    \n",
    "print(\"\\n*****************************************************\")\n",
    "#----------------------------------------------------------\n",
    "\n",
    "\n",
    "for i in range(len(fruits)):\n",
    "    print(f\"{fruits[i]}\",end=' ')"
   ]
  },
  {
   "cell_type": "code",
   "execution_count": 75,
   "metadata": {},
   "outputs": [
    {
     "name": "stdout",
     "output_type": "stream",
     "text": [
      "5\n",
      "****************\n",
      "<class 'list'>\n",
      "****************\n",
      "1\n",
      "2\n",
      "3\n",
      "4\n",
      "5\n",
      "6\n",
      "7\n",
      "8\n",
      "9\n"
     ]
    }
   ],
   "source": [
    "# List inside a list\n",
    "%reset -f\n",
    "\n",
    "matrix = [\n",
    "         [1,2,3],\n",
    "         [4,5,6],\n",
    "         [7,8,9],\n",
    "]\n",
    "\n",
    "print(matrix[1][1])\n",
    "print(\"****************\")\n",
    "print(type(matrix))\n",
    "print(\"****************\")\n",
    "for sub_list in matrix:\n",
    "    for j in sub_list:\n",
    "        print(j)"
   ]
  },
  {
   "cell_type": "code",
   "execution_count": 8,
   "metadata": {},
   "outputs": [
    {
     "name": "stdout",
     "output_type": "stream",
     "text": [
      "[1, 4, 9, 16, 25, 36, 49, 64, 81, 100]\n"
     ]
    }
   ],
   "source": [
    "# Passing list to a function : and return squared list\n",
    "%reset -f\n",
    "\n",
    "numbers = list(range(1,11))\n",
    "\n",
    "def square (numbers):\n",
    "    square_list = []\n",
    "    \n",
    "    for i in numbers:\n",
    "        square_list.append(i**2)\n",
    "        \n",
    "    return square_list\n",
    "        \n",
    "numbers_square = square(numbers)\n",
    "print(numbers_square)"
   ]
  },
  {
   "cell_type": "code",
   "execution_count": 12,
   "metadata": {},
   "outputs": [
    {
     "name": "stdout",
     "output_type": "stream",
     "text": [
      "[10, 9, 8, 7, 6, 5, 4, 3, 2, 1]\n"
     ]
    }
   ],
   "source": [
    "# Popped method in details\n",
    "%reset -f\n",
    "\n",
    "numbers = list(range(1,11))\n",
    "\n",
    "def reverse(numbers):\n",
    "    reverse_list = []\n",
    "    \n",
    "    for i in range(len(numbers)):\n",
    "        reverse_list.append(numbers.pop())\n",
    "    \n",
    "    return reverse_list\n",
    "        \n",
    "number_inverse = reverse(numbers)\n",
    "\n",
    "print(number_inverse)\n",
    "    "
   ]
  },
  {
   "cell_type": "code",
   "execution_count": 18,
   "metadata": {},
   "outputs": [
    {
     "name": "stdout",
     "output_type": "stream",
     "text": [
      "['cba', 'vut', 'zyx']\n"
     ]
    }
   ],
   "source": [
    "# reverse each element in an list\n",
    "% reset -f\n",
    "\n",
    "list_1 = [\"abc\", \"tuv\" , \"xyz\"]\n",
    "\n",
    "def reverse(list_1):\n",
    "    list_2 = []\n",
    "    \n",
    "    for i in list_1:\n",
    "        list_2.append(i[::-1])\n",
    "     \n",
    "    return list_2\n",
    "        \n",
    "list_3 = reverse(list_1)\n",
    "print(list_3)\n",
    "    "
   ]
  },
  {
   "cell_type": "code",
   "execution_count": 27,
   "metadata": {},
   "outputs": [
    {
     "name": "stdout",
     "output_type": "stream",
     "text": [
      "[[1, 3, 5, 7, 9], [2, 4, 6, 8, 10]]\n"
     ]
    }
   ],
   "source": [
    "# Taking 1-d list and retuen 2d list\n",
    "%reset -f\n",
    "\n",
    "numbers = list(range(1,11))\n",
    "\n",
    "def separate(numbers):\n",
    "    even_odd = []\n",
    "    even = [] ; odd = []\n",
    "    \n",
    "    for i in numbers:\n",
    "        if i % 2 == 0:\n",
    "            even.append(i)\n",
    "        else:\n",
    "            odd.append(i)\n",
    "    \n",
    "    even_odd.append(odd)\n",
    "    even_odd.append(even)\n",
    "    \n",
    "    \n",
    "    return even_odd\n",
    "\n",
    "list_2d = separate(numbers)\n",
    "print(list_2d)\n",
    "    "
   ]
  },
  {
   "cell_type": "code",
   "execution_count": 30,
   "metadata": {},
   "outputs": [
    {
     "name": "stdout",
     "output_type": "stream",
     "text": [
      "[1, 2]\n"
     ]
    }
   ],
   "source": [
    "# common numbers between two lists\n",
    "%reset -f\n",
    "\n",
    "list_1 = [1,2,3,7,8]\n",
    "list_2 = [1,2,11,15,19]\n",
    "\n",
    "def common(list_1,list_2):\n",
    "    list_3 = []\n",
    "    \n",
    "    for i in list_1:\n",
    "        if i in list_2:\n",
    "            list_3.append(i)\n",
    "    \n",
    "    return list_3\n",
    "\n",
    "print(common(list_1,list_2))\n",
    "            \n",
    "        \n",
    "    "
   ]
  },
  {
   "cell_type": "code",
   "execution_count": 45,
   "metadata": {},
   "outputs": [
    {
     "name": "stdout",
     "output_type": "stream",
     "text": [
      "Number of lists inside a list_1 are 2\n"
     ]
    }
   ],
   "source": [
    "# counting numbers of lists inside a list\n",
    "% reset -f\n",
    "\n",
    "list_1 = [1,2,3,4, [1,2],[1,1,1]]\n",
    "\n",
    "def finding_lists(list_1):\n",
    "    n = 0\n",
    "    \n",
    "    for i in list_1:\n",
    "        \n",
    "         if type(i) == list:\n",
    "            n +=1\n",
    "    return n\n",
    "        \n",
    "\n",
    "p = finding_lists(list_1)\n",
    "print(f\"Number of lists inside a list_1 are {p}\")   \n",
    "    "
   ]
  },
  {
   "cell_type": "code",
   "execution_count": null,
   "metadata": {},
   "outputs": [],
   "source": []
  }
 ],
 "metadata": {
  "kernelspec": {
   "display_name": "Python 3",
   "language": "python",
   "name": "python3"
  },
  "language_info": {
   "codemirror_mode": {
    "name": "ipython",
    "version": 3
   },
   "file_extension": ".py",
   "mimetype": "text/x-python",
   "name": "python",
   "nbconvert_exporter": "python",
   "pygments_lexer": "ipython3",
   "version": "3.6.3"
  }
 },
 "nbformat": 4,
 "nbformat_minor": 2
}
