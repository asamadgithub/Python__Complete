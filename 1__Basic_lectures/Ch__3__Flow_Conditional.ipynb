{
 "cells": [
  {
   "cell_type": "markdown",
   "metadata": {},
   "source": [
    "## Chapter -3 (Flow Conditional)"
   ]
  },
  {
   "cell_type": "code",
   "execution_count": null,
   "metadata": {},
   "outputs": [
    {
     "name": "stdout",
     "output_type": "stream",
     "text": [
      "***********\n",
      "49\n"
     ]
    }
   ],
   "source": [
    "# If statement:\n",
    "%reset -f\n",
    "import random\n",
    "number = random.randint(1,100)\n",
    "\n",
    "print(\"***********\")\n",
    "print(number)\n",
    "i = 1\n",
    "game_over = False\n",
    "\n",
    "guess = int(input(\"Enter your guessed number \"))\n",
    "while not game_over:\n",
    "    if guess == number:\n",
    "        print(f\"You win in {i} tries\")\n",
    "        game_over = True\n",
    "    else:\n",
    "        if guess < number:\n",
    "            print(\"Too Low\")\n",
    "        else:\n",
    "            print(\"Too High\")\n",
    "        i += 1\n",
    "        guess = int(input(\"Enter your guessed number \"))\n",
    "        "
   ]
  },
  {
   "cell_type": "code",
   "execution_count": 20,
   "metadata": {},
   "outputs": [
    {
     "name": "stdout",
     "output_type": "stream",
     "text": [
      "Enter name and age', separated:'abdus samad,28\n",
      "You can watch coco movie\n"
     ]
    }
   ],
   "source": [
    "# And, Or statement:\n",
    "%reset -f\n",
    "name, age = input(\"Enter name and age', separated:'\").split(\",\")\n",
    "name = name.strip()\n",
    "age = age.strip()\n",
    "#age = int(age)\n",
    "\n",
    "if (name[0] == 'a' or name[0] =='A') and int(age) >=10:\n",
    "    print(\"You can watch coco movie\")\n",
    "else:\n",
    "    print(\"Sorry you cant't watch coco movie\")\n",
    "\n"
   ]
  },
  {
   "cell_type": "code",
   "execution_count": 24,
   "metadata": {},
   "outputs": [
    {
     "name": "stdout",
     "output_type": "stream",
     "text": [
      "Enter your age:12\n",
      "Price is 250\n"
     ]
    }
   ],
   "source": [
    "# Less, Greater than checking\n",
    "%reset -f\n",
    "age = input(\"Enter your age:\")\n",
    "age = int(age)\n",
    "\n",
    "if 1 < age <= 3:\n",
    "    print(\"Free for you\")\n",
    "    \n",
    "elif 4 < age <= 10:\n",
    "    print(\"Price is 150\")\n",
    "    \n",
    "elif 11 < age <= 60:\n",
    "    print(\"Price is 250\")    \n",
    "\n",
    "else:\n",
    "    print(\"Price is 350\")"
   ]
  },
  {
   "cell_type": "code",
   "execution_count": 25,
   "metadata": {},
   "outputs": [
    {
     "name": "stdout",
     "output_type": "stream",
     "text": [
      "Its there\n"
     ]
    }
   ],
   "source": [
    "# in , keyword\n",
    "name = \"abdus samad\"\n",
    "\n",
    "if \"a\" in name:\n",
    "    print(\"Its there\")\n",
    "else:\n",
    "    print(\"Absent\")"
   ]
  },
  {
   "cell_type": "code",
   "execution_count": 26,
   "metadata": {},
   "outputs": [
    {
     "name": "stdout",
     "output_type": "stream",
     "text": [
      "Enter your name:abdus samad\n",
      "Your name is abdus samad\n"
     ]
    }
   ],
   "source": [
    "# checking empty or not\n",
    "\n",
    "name = input(\"Enter your name:\")\n",
    "name = name.strip()\n",
    "\n",
    "if name:\n",
    "    print(f\"Your name is {name}\")\n",
    "else:\n",
    "    print(\"You didn't enter anything\")"
   ]
  },
  {
   "cell_type": "code",
   "execution_count": 28,
   "metadata": {},
   "outputs": [
    {
     "name": "stdout",
     "output_type": "stream",
     "text": [
      "Sum of forst 100 number\n",
      "Total 'with while' sum is 5050\n",
      "**************************************************\n",
      "Total 'with for loop' sum is 5050\n"
     ]
    }
   ],
   "source": [
    "# while loop:\n",
    "%reset -f\n",
    "\n",
    "n = 100\n",
    "print(f\"Sum of forst {n} number\")\n",
    "i = 1 ; sum1 = 0\n",
    "while i <= n:\n",
    "    sum1+= i\n",
    "    i+= 1    \n",
    "print(f\"Total 'with while' sum is {sum1}\")\n",
    "print (\"**************************************************\")\n",
    "#------------------------------------------------------------------------\n",
    "sum1 = 0\n",
    "for i in range(1,n+1):\n",
    "    sum1 += i\n",
    "print(f\"Total 'with for loop' sum is {sum1}\")"
   ]
  },
  {
   "cell_type": "code",
   "execution_count": 30,
   "metadata": {},
   "outputs": [
    {
     "name": "stdout",
     "output_type": "stream",
     "text": [
      "total sum 'while loop' is 14\n",
      "**************************************************\n",
      "total sum 'with for loop' is 14\n"
     ]
    }
   ],
   "source": [
    "# number = input(\"Enter any number\")\n",
    "%reset -f\n",
    "number = str(\"1256\")\n",
    "\n",
    "\n",
    "i = 0 ; total = 0\n",
    "while i < len(number):\n",
    "    total += int(number[i])\n",
    "    i += 1\n",
    "print(f\"total sum 'while loop' is {total}\")\n",
    "print (\"**************************************************\")\n",
    "#----------------------------------------------------------\n",
    "total = 0\n",
    "for i in range(len(number)):\n",
    "    total += int(number[i])\n",
    "print(f\"total sum 'with for loop' is {total}\")\n"
   ]
  },
  {
   "cell_type": "code",
   "execution_count": 33,
   "metadata": {},
   "outputs": [
    {
     "name": "stdout",
     "output_type": "stream",
     "text": [
      "With while loop\n",
      "H 1\n",
      "a 2\n",
      "r 1\n",
      "s 3\n",
      "h 3\n",
      "i 2\n",
      "t 2\n",
      "  1\n",
      "V 1\n",
      "**************************************************\n",
      "with For loop\n",
      "H 1\n",
      "a 2\n",
      "r 1\n",
      "s 3\n",
      "h 3\n",
      "i 2\n",
      "t 2\n",
      "  1\n",
      "V 1\n"
     ]
    }
   ],
   "source": [
    "%reset -f\n",
    "name = \"Harshit Vashisth\"\n",
    "n = len(name)\n",
    "i = 0;\n",
    "string = \"\"\n",
    "\n",
    "print(\"With while loop\")\n",
    "while i < n:\n",
    "    if name[i] in string:\n",
    "        pass\n",
    "    else:\n",
    "        print(name[i],name.count(name[i]))\n",
    "    string = string + name[i]\n",
    "    i += 1\n",
    "print (\"**************************************************\")\n",
    "#----------------------------------------------------------\n",
    "print(\"with For loop\")\n",
    "string = \"\"\n",
    "for i in range(n):\n",
    "    if name[i] in string:\n",
    "        pass\n",
    "    else:\n",
    "        print(name[i],name.count(name[i]))\n",
    "    string = string + name[i]"
   ]
  },
  {
   "cell_type": "code",
   "execution_count": 37,
   "metadata": {},
   "outputs": [
    {
     "name": "stdout",
     "output_type": "stream",
     "text": [
      "Example of break\n",
      "0\n",
      "1\n",
      "2\n",
      "3\n",
      "4\n",
      "\n",
      "\n",
      "\n",
      "Example of break\n",
      "0\n",
      "1\n",
      "2\n",
      "3\n",
      "4\n",
      "something is missing here\n",
      "6\n",
      "7\n",
      "8\n",
      "9\n"
     ]
    }
   ],
   "source": [
    "# continue and break statements:\n",
    "%reset -f\n",
    "\n",
    "print(\"Example of break\")\n",
    "for i in range(10):\n",
    "    if i == 5:\n",
    "        break\n",
    "    else:\n",
    "        print(i)\n",
    "\n",
    "print(\"\\n\\n\")\n",
    "#---------------------------------        \n",
    "print(\"Example of break\")\n",
    "for i in range(10):\n",
    "    if i == 5:\n",
    "        print(\"something is missing here\")\n",
    "        continue\n",
    "    else:\n",
    "        print(i)"
   ]
  },
  {
   "cell_type": "code",
   "execution_count": null,
   "metadata": {},
   "outputs": [],
   "source": []
  }
 ],
 "metadata": {
  "kernelspec": {
   "display_name": "Python 3",
   "language": "python",
   "name": "python3"
  },
  "language_info": {
   "codemirror_mode": {
    "name": "ipython",
    "version": 3
   },
   "file_extension": ".py",
   "mimetype": "text/x-python",
   "name": "python",
   "nbconvert_exporter": "python",
   "pygments_lexer": "ipython3",
   "version": "3.6.3"
  }
 },
 "nbformat": 4,
 "nbformat_minor": 2
}
