{
 "cells": [
  {
   "cell_type": "code",
   "execution_count": 19,
   "metadata": {},
   "outputs": [],
   "source": [
    "# generators\n",
    "# generators are iterators"
   ]
  },
  {
   "cell_type": "code",
   "execution_count": 20,
   "metadata": {},
   "outputs": [
    {
     "name": "stdout",
     "output_type": "stream",
     "text": [
      "<list_iterator object at 0x106c26da0>\n",
      "1\n",
      "2\n",
      "3\n",
      "4\n"
     ]
    }
   ],
   "source": [
    "# Lets revise the iterators first\n",
    "\n",
    "# How the loop actually works, suppose we have a loop\n",
    "l = [1,2,3,4]   # --> iterable\n",
    "\n",
    "# step-1:\n",
    "#--------\n",
    "# pass it to the iter function , --> returns an iterator\n",
    "itt = iter(l)\n",
    "print(itt)     # You can see its an iterator object\n",
    "\n",
    "# step-2:\n",
    "#--------\n",
    "# Now python call next function with iterator object as an argument , like next(itt)\n",
    "# next function is onl for iterator\n",
    "print(next(itt))  \n",
    "print(next(itt))  \n",
    "print(next(itt)) \n",
    "print(next(itt))  \n",
    "# print(next(itt))   # stop iteration error\n",
    "                  "
   ]
  },
  {
   "cell_type": "code",
   "execution_count": 23,
   "metadata": {},
   "outputs": [
    {
     "name": "stdout",
     "output_type": "stream",
     "text": [
      "<map object at 0x106c2f160>\n",
      "1\n",
      "===========================\n",
      "1\n",
      "4\n",
      "9\n",
      "16\n"
     ]
    }
   ],
   "source": [
    "# Here is an example of iterator, \n",
    "# map is a built in iterator\n",
    "value = map(lambda x: x**2,l)         # this will return an iterator\n",
    "print(value)\n",
    "\n",
    "# As I said, map is buit in iterator, means next function must work on map object;\n",
    "print(next(value))  # first value of list l\n",
    "print(\"===========================\")\n",
    "\n",
    "for num in map(lambda x: x**2,l):\n",
    "    print(num)\n",
    "\n",
    "# python determine the data type and decide whether its an iterator or \n",
    "# iterable before proceeding loop"
   ]
  },
  {
   "cell_type": "code",
   "execution_count": 24,
   "metadata": {},
   "outputs": [],
   "source": [
    "# l = [1,2,3]\n",
    "# iterable: memory --- [............................................................]\n",
    "# iterator: memory --- (1), use it.. process it.. whatever and then its removed\n",
    "\n",
    "# if you want to use your data repeatedly, then go for iterable (i.e. list)\n",
    "# But for one time data only, use iterator \n",
    "# BECAUSE it will loose the data after using it\n",
    "\n"
   ]
  },
  {
   "cell_type": "code",
   "execution_count": 70,
   "metadata": {},
   "outputs": [
    {
     "name": "stdout",
     "output_type": "stream",
     "text": [
      "The name of function is --> f\n",
      "1 2 3 4 5 None\n",
      "======================================\n",
      "<generator object q at 0x108558c50>\n",
      "1\n",
      "2\n",
      "3\n",
      "4\n",
      "-----------------------------------------\n",
      "1 2 3 4 5 6 7 8 "
     ]
    }
   ],
   "source": [
    "# create first generator function\n",
    "%reset -f\n",
    "\n",
    "# what we use to make gen.\n",
    "# 1.) generator function\n",
    "# 2.) generator comprehension\n",
    "\n",
    "# exp-1: define a function which takes an argument (say n=10), and print\n",
    "# number from 1 to n\n",
    "\n",
    "#-------------------------------------------\n",
    "# function method:\n",
    "\n",
    "def f(n):\n",
    "    for i in range(1,n+1):\n",
    "        print(i,end=' ')\n",
    "        \n",
    "#-------------------------------------------\n",
    "# generator method:\n",
    "\n",
    "def q(n):\n",
    "    for i in range(1,n+1):\n",
    "        yield(i)\n",
    "\n",
    "#==========================================\n",
    "\n",
    "print(f\"The name of function is --> {f.__name__}\")\n",
    "print(f(5))\n",
    "print(\"======================================\")\n",
    "\n",
    "\n",
    "#---------------------------\n",
    "# How does the generator works, first lets print what is say q(5)\n",
    "print(q(5))\n",
    "\n",
    "# Now store this gen. object (which is an iterator) to l\n",
    "l = q(4)\n",
    "\n",
    "# Now apply next function, and it will behave as the iterator of loop in upper cell\n",
    "print(next(l))\n",
    "print(next(l))\n",
    "print(next(l))\n",
    "print(next(l))\n",
    "# print(next(l))  ---> StopIteration: \n",
    "print(\"-----------------------------------------\")\n",
    "#which simple means we can ask repeatedly with loop\n",
    "\n",
    "for i in q(8):\n",
    "    print(i,end=' ')\n",
    "\n",
    "\n",
    "# Now if we loop over l, it will not work ; b/c gen is an iterator and its only 1 times \n",
    "for i in l:\n",
    "    print(i,end=' ')\n",
    "\n"
   ]
  },
  {
   "cell_type": "code",
   "execution_count": 66,
   "metadata": {},
   "outputs": [
    {
     "name": "stdout",
     "output_type": "stream",
     "text": [
      "2 4 6 8 10 "
     ]
    }
   ],
   "source": [
    "# Exercise:\n",
    "# Define gen. function, take one number as an argument, \n",
    "# and gen. a sequence of even number from 1 to that number\n",
    "\n",
    "\n",
    "def q(n):\n",
    "    for i in range(1,n+1):\n",
    "        if i%2 == 0:\n",
    "            yield i\n",
    "            \n",
    "for i in q(10):\n",
    "    print(i,end=' ')"
   ]
  },
  {
   "cell_type": "markdown",
   "metadata": {},
   "source": [
    "##### Gen Comprehension"
   ]
  },
  {
   "cell_type": "code",
   "execution_count": 77,
   "metadata": {},
   "outputs": [
    {
     "name": "stdout",
     "output_type": "stream",
     "text": [
      "[1, 4, 9, 16, 25, 36, 49, 64, 81, 100]\n",
      "--------------------------------------\n",
      "<generator object <genexpr> at 0x108649150>\n",
      "1 4 9 16 25 36 49 64 81 100 "
     ]
    }
   ],
   "source": [
    "# List comprehension, squares from 1-10:\n",
    "lis = [i**2 for i in range(1,11)]\n",
    "print(lis)\n",
    "print(\"--------------------------------------\")\n",
    "# Gen comprehension, squares from 1-10:\n",
    "gen = (i**2 for i in range(1,11))\n",
    "print(gen)\n",
    "\n",
    "# Now lets loop over this variable \"gen\" twice;\n",
    "\n",
    "for i in gen:\n",
    "    print(i,end=' ')\n",
    "    \n",
    "for i in gen:\n",
    "    print(i,end=' ')    # this loop i snot efective"
   ]
  },
  {
   "cell_type": "code",
   "execution_count": 81,
   "metadata": {},
   "outputs": [
    {
     "name": "stdout",
     "output_type": "stream",
     "text": [
      "30.937490940093994\n",
      "1.6161141395568848\n"
     ]
    }
   ],
   "source": [
    "# List VS Generators\n",
    "%reset -f\n",
    "import time\n",
    "\n",
    "\n",
    "t1 = time.time()\n",
    "l = [i**2 for i in range(100000000)]\n",
    "t2 = time.time()\n",
    "dt1 = t2 - t1\n",
    "print(dt1)\n",
    "\n",
    "t3 = time.time()\n",
    "l = (i**2 for i in range(100000000))\n",
    "t4 = time.time()\n",
    "dt2 = t4 - t3\n",
    "print(dt2)"
   ]
  },
  {
   "cell_type": "code",
   "execution_count": null,
   "metadata": {},
   "outputs": [],
   "source": []
  }
 ],
 "metadata": {
  "kernelspec": {
   "display_name": "Python 3",
   "language": "python",
   "name": "python3"
  },
  "language_info": {
   "codemirror_mode": {
    "name": "ipython",
    "version": 3
   },
   "file_extension": ".py",
   "mimetype": "text/x-python",
   "name": "python",
   "nbconvert_exporter": "python",
   "pygments_lexer": "ipython3",
   "version": "3.6.3"
  }
 },
 "nbformat": 4,
 "nbformat_minor": 2
}
