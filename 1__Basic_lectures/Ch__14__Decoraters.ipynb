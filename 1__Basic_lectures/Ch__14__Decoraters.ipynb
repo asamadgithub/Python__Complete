{
 "cells": [
  {
   "cell_type": "code",
   "execution_count": null,
   "metadata": {},
   "outputs": [],
   "source": [
    "# Whare are Closures? (also called first class functions)\n",
    "# It is a record that stores a function together with an environment:"
   ]
  },
  {
   "cell_type": "code",
   "execution_count": 6,
   "metadata": {},
   "outputs": [
    {
     "name": "stdout",
     "output_type": "stream",
     "text": [
      "49\n",
      "square\n",
      "square\n",
      "\n",
      "Location of these functions\n",
      "<function square at 0x1075ccbf8>\n",
      "<function square at 0x1075ccbf8>\n"
     ]
    }
   ],
   "source": [
    "# Assigning function to other variable\n",
    "%reset -f\n",
    "\n",
    "\n",
    "def square(x):\n",
    "    return x**2\n",
    "\n",
    "# print(square(7))\n",
    "t = square\n",
    "print(t(7))\n",
    "\n",
    "#Basically square and t are same function, iys just like substitution\n",
    "print(square.__name__)\n",
    "print(t.__name__)\n",
    "\n",
    "print(\"\\nLocation of these functions\")\n",
    "print(t)\n",
    "print(square)"
   ]
  },
  {
   "cell_type": "code",
   "execution_count": 2,
   "metadata": {},
   "outputs": [
    {
     "name": "stdout",
     "output_type": "stream",
     "text": [
      "[1, 4, 9, 16, 25]\n",
      "************************************************\n",
      "function(f) ---> square\n",
      "[1, 4, 9, 16, 2500]\n"
     ]
    }
   ],
   "source": [
    "# Pass function as a argument\n",
    "%reset -f\n",
    "\n",
    "# understanding-1:\n",
    "# How the map works\n",
    "\n",
    "def square(x):\n",
    "    return x**2\n",
    "a1 = [1,2,3,4,5]\n",
    "a2 = list(map(square,a1))\n",
    "print(a2)\n",
    "\n",
    "# ------------------------------------------------------\n",
    "print(\"************************************************\")\n",
    "\n",
    "# understanding-2:\n",
    "# task is make a function, which will take function as its argument, like map is doing here\n",
    "\n",
    "\n",
    "def operate(f,l_in):            # operate is function, (taking function as paramter, iterable)\n",
    "    \n",
    "    print(\"function(f) --->\",f.__name__)  # ---> square\n",
    "    \n",
    "    l_out = []\n",
    "    for i in l_in:\n",
    "        l_out.append(f(i))\n",
    "    return l_out\n",
    "\n",
    "q = [1,2,3,4,50]\n",
    "print(operate(square,q))\n"
   ]
  },
  {
   "cell_type": "code",
   "execution_count": 294,
   "metadata": {},
   "outputs": [
    {
     "name": "stdout",
     "output_type": "stream",
     "text": [
      "0000000000\n",
      "Inside outer_function\n",
      "1111111111\n",
      "Inside inner function\n",
      "The variable is 2\n"
     ]
    }
   ],
   "source": [
    "# Function returning function\n",
    "%reset -f\n",
    "\n",
    "  \n",
    "\n",
    "def outer_function(a):\n",
    "    print(\"Inside outer_function\")\n",
    "    def inner_function():\n",
    "        print(\"Inside inner function\")\n",
    "        print(f\"The variable is {a}\")\n",
    "    return inner_function\n",
    "\n",
    "print(\"0000000000\")\n",
    "var = outer_function(2)\n",
    "print(\"1111111111\")\n",
    "var()    "
   ]
  },
  {
   "cell_type": "code",
   "execution_count": 10,
   "metadata": {},
   "outputs": [
    {
     "name": "stdout",
     "output_type": "stream",
     "text": [
      "The message is: 'Hi There'\n"
     ]
    }
   ],
   "source": [
    "# Function returning function; Practise-1\n",
    "%reset -f\n",
    "\n",
    "def outer_f(msg):\n",
    "    def inner_f():\n",
    "        print(f\"The message is: '{msg}'\")\n",
    "    return inner_f\n",
    "var = outer_f(\"Hi There\")\n",
    "var()"
   ]
  },
  {
   "cell_type": "code",
   "execution_count": 304,
   "metadata": {},
   "outputs": [
    {
     "name": "stdout",
     "output_type": "stream",
     "text": [
      "0000000000\n",
      "inside outer function, n--> 2\n",
      "\n",
      "\n",
      "1111111111\n",
      "inside outer function n,x --> 2,3\n",
      "9\n"
     ]
    }
   ],
   "source": [
    "# Closures (first class function) Practise\n",
    "# practise 2\n",
    "%reset -f\n",
    "\n",
    "def outer_f(n):\n",
    "    print(f\"inside outer function, n--> {n}\")\n",
    "    def inner_f(x):\n",
    "        print(f\"inside outer function n,x --> {n},{x}\")\n",
    "        print(x**n)\n",
    "    return inner_f     #return closure\n",
    "\n",
    "print(\"0000000000\")\n",
    "square = outer_f(2)\n",
    "\n",
    "print(\"\\n\")\n",
    "print(\"1111111111\")\n",
    "# print(square.__name__)\n",
    "square(3)"
   ]
  },
  {
   "cell_type": "code",
   "execution_count": 308,
   "metadata": {},
   "outputs": [
    {
     "name": "stdout",
     "output_type": "stream",
     "text": [
      "global enclose local\n",
      "None\n"
     ]
    }
   ],
   "source": [
    "# Closures (first class function) Practise\n",
    "# practise 2\n",
    "%reset -f\n",
    "\n",
    "x = 'global'\n",
    "\n",
    "def outer_func():\n",
    "    y = 'enclose'\n",
    "    def inner_func():\n",
    "        z = 'local'\n",
    "        print(x, y, z)\n",
    "    inner_func()\n",
    "print(outer_func())"
   ]
  },
  {
   "cell_type": "code",
   "execution_count": 11,
   "metadata": {},
   "outputs": [
    {
     "name": "stdout",
     "output_type": "stream",
     "text": [
      "10\n",
      "20\n"
     ]
    }
   ],
   "source": [
    "# Closures (first class function) Practise\n",
    "# practise 3\n",
    "# include double return\n",
    "%reset -f\n",
    "\n",
    "def multiply_by(num):\n",
    "    def multiply_by_num(k):\n",
    "        return num * k\n",
    "    return multiply_by_num\n",
    "  \n",
    "five = multiply_by(5)\n",
    "print(five(2))    #10\n",
    "print(five(4))    #20\n",
    " \n",
    "# decimal = multiply_by(10)\n",
    "# print(decimal(20))  #200\n",
    "# print(decimal(3))   # 30"
   ]
  },
  {
   "cell_type": "code",
   "execution_count": null,
   "metadata": {},
   "outputs": [],
   "source": [
    "# Decoraters is a function, which will enhance the functionality of other functions;\n",
    "# @ symbol is used for decoraters"
   ]
  },
  {
   "cell_type": "code",
   "execution_count": 333,
   "metadata": {},
   "outputs": [
    {
     "name": "stdout",
     "output_type": "stream",
     "text": [
      "this is awsome function\n",
      "This is function one\n"
     ]
    }
   ],
   "source": [
    "# Decoraters 1\n",
    "%reset -f\n",
    "\n",
    "\n",
    "def deco_func(any_function):\n",
    "    def wrapper_func():\n",
    "        print(\"this is awsome function\")   # functionality enhancing lines\n",
    "        any_function()                     # then call the function itself\n",
    "    return wrapper_func                    # return the wrapper_func w/o calling\n",
    "    \n",
    "\n",
    "\n",
    "\n",
    "# this is awsome function\n",
    "\n",
    "\n",
    "def f1():\n",
    "    print(\"This is function one\")\n",
    "    \n",
    "\n",
    "def f2():\n",
    "    print(\"This is function 222\")\n",
    "    \n",
    "\n",
    "f1 = deco_func(f1)           # var = deco_func(f2)\n",
    "f1()\n",
    "\n"
   ]
  },
  {
   "cell_type": "code",
   "execution_count": 335,
   "metadata": {},
   "outputs": [
    {
     "name": "stdout",
     "output_type": "stream",
     "text": [
      "this is awsome function\n",
      "This is function one\n"
     ]
    }
   ],
   "source": [
    "# Decoraters 1 continue\n",
    "%reset -f\n",
    "\n",
    "\n",
    "def deco_func(any_function):\n",
    "    def wrapper_func():\n",
    "        print(\"this is awsome function\")   # functionality enhancing lines\n",
    "        any_function()                     # then call the function itself\n",
    "    return wrapper_func                    # return the wrapper_func w/o calling\n",
    "    \n",
    "\n",
    "\n",
    "\n",
    "# this is awsome function\n",
    "\n",
    "@deco_func\n",
    "def f1():\n",
    "    print(\"This is function one\")\n",
    "    \n",
    "@deco_func\n",
    "def f2():\n",
    "    print(\"This is function 222\")\n",
    "    \n",
    "\n",
    "f1()\n",
    "\n"
   ]
  },
  {
   "cell_type": "code",
   "execution_count": 380,
   "metadata": {},
   "outputs": [],
   "source": [
    "# Decoraters 2\n",
    "%reset -f\n",
    "\n",
    "\n",
    "def deco_func(any_function):     # 1\n",
    "    def wrapper_func(a,b,c):     # 2\n",
    "        print(\"this is awsome function\")\n",
    "        print(\"Inside wrapper_func---->\",any_function.__name__)\n",
    "        any_function(a,b,c)                     \n",
    "    return wrapper_func \n",
    "\n",
    "# @deco_func\n",
    "def func(a,b,c):\n",
    "    print(f\"this is function with argument\\n {a} | {b} | {c}\")\n",
    "    print(f\" {a^2} | {b^2} | {c^2}\")\n",
    "    \n",
    "\n",
    "var = deco_func(func)\n",
    "# var(1,2,3)\n",
    "          \n",
    "# func(1,2,3)\n",
    "\n",
    "# 1 --> its a syntax error if we pass some argument but the thing is we want to enhance the functionality,\n",
    "# by passing argument means we need to use (a,b,c..) --> means we are just calling w/o enhancing \n",
    "# the functionality\n",
    "\n",
    "# 2 --> I have to run any_function() inside the wrapper_func(); \n",
    "# any_function() is nothing but the func() of outside\n",
    "# so any_function needs three argument to run the func() properpely,\n",
    "# these three argument must be available locally to any_function()\n",
    "# the only way to provice locally is to give it to the wrapper function()"
   ]
  },
  {
   "cell_type": "code",
   "execution_count": 388,
   "metadata": {},
   "outputs": [
    {
     "name": "stdout",
     "output_type": "stream",
     "text": [
      "this is awsome function\n",
      "Inside wrapper_func----> func\n",
      "this is function with argument\n",
      " 1 | 2 | 3\n",
      " 3 | 0 | 1\n"
     ]
    }
   ],
   "source": [
    "# Decoraters 2-a\n",
    "%reset -f\n",
    "\n",
    "\n",
    "def deco_func(any_function):     \n",
    "    def wrapper_func(*args,**kwargs):\n",
    "        print(\"this is awsome function\")\n",
    "        print(\"Inside wrapper_func---->\",any_function.__name__)\n",
    "        any_function(*args,**kwargs)                     \n",
    "    return wrapper_func \n",
    "\n",
    "@deco_func\n",
    "def func(a,b,c):\n",
    "    print(f\"this is function with argument\\n {a} | {b} | {c}\")\n",
    "    print(f\" {a^2} | {b^2} | {c^2}\")\n",
    "    \n",
    "func(1,2,3)\n"
   ]
  },
  {
   "cell_type": "code",
   "execution_count": 389,
   "metadata": {},
   "outputs": [
    {
     "name": "stdout",
     "output_type": "stream",
     "text": [
      "this is awsome function\n",
      "Inside wrapper_func----> func\n",
      "this is function with argument 1 | 2 | 3\n",
      "It will return the sum of these number\n",
      "6\n"
     ]
    }
   ],
   "source": [
    "# Decoraters 2-b\n",
    "%reset -f\n",
    "\n",
    "\n",
    "def deco_func(any_function):     \n",
    "    def wrapper_func(*args,**kwargs):\n",
    "        print(\"this is awsome function\")\n",
    "        print(\"Inside wrapper_func---->\",any_function.__name__)\n",
    "        return any_function(*args,**kwargs)                     \n",
    "    return wrapper_func \n",
    "\n",
    "@deco_func\n",
    "def func(a,b,c):\n",
    "    print(f\"this is function with argument {a} | {b} | {c}\")\n",
    "    print(\"It will return the sum of these number\")\n",
    "    return a+b+c\n",
    "    \n",
    "print(func(1,2,3))    "
   ]
  },
  {
   "cell_type": "code",
   "execution_count": 406,
   "metadata": {},
   "outputs": [
    {
     "name": "stdout",
     "output_type": "stream",
     "text": [
      " this is add function \n",
      "func\n",
      "this is awsome function\n",
      "Inside wrapper_func----> func\n",
      "this is function with argument 1 | 2 | 3\n",
      "It will return the sum of these number\n"
     ]
    }
   ],
   "source": [
    "# Decoraters 3\n",
    "%reset -f\n",
    "from functools import wraps\n",
    "\n",
    "def deco_func(any_function):\n",
    "    @wraps(any_function)\n",
    "    def wrapper_func(*args,**kwargs):\n",
    "        \"\"\" this is wrapper function \"\"\"\n",
    "        print(\"this is awsome function\")\n",
    "        print(\"Inside wrapper_func---->\",any_function.__name__)\n",
    "        return any_function(*args,**kwargs)                     \n",
    "    return wrapper_func \n",
    "\n",
    "@deco_func\n",
    "def func(a,b,c):\n",
    "    \"\"\" this is add function \"\"\"\n",
    "    print(f\"this is function with argument {a} | {b} | {c}\")\n",
    "    print(\"It will return the sum of these number\")\n",
    "    return a+b+c\n",
    "    \n",
    "\n",
    "print(func.__doc__)\n",
    "print(func.__name__)\n",
    "aa=func(1,2,3)"
   ]
  },
  {
   "cell_type": "code",
   "execution_count": 15,
   "metadata": {},
   "outputs": [
    {
     "name": "stdout",
     "output_type": "stream",
     "text": [
      "Functionality enhanced\n",
      "three variables are 1 2 3\n",
      "6\n",
      "-------------\n",
      "three variables are 10 20 30\n",
      "60\n"
     ]
    }
   ],
   "source": [
    "# My preffered way for decoraters,\n",
    "%reset -f\n",
    "def deco_f(any_f):\n",
    "    def wrapper_f(a,b,c):  # *args, **kwargs\n",
    "        \"\"\" This is doc string for wrapper func\"\"\"\n",
    "        print(\"Functionality enhanced\")\n",
    "        return any_f(a,b,c) # *args, **kwargs\n",
    "    return wrapper_f\n",
    "\n",
    "def f1(a,b,c):\n",
    "    \"\"\" This is doc string for f1\"\"\"\n",
    "    print(f\"three variables are {a} {b} {c}\")\n",
    "    return a+b+c\n",
    "\n",
    "var = deco_f(f1)\n",
    "print(var(1,2,3))\n",
    "print(\"-------------\")\n",
    "print(f1(10,20,30))\n",
    "\n",
    "\n",
    "#print(f1.__doc__)"
   ]
  },
  {
   "cell_type": "code",
   "execution_count": 22,
   "metadata": {},
   "outputs": [
    {
     "name": "stdout",
     "output_type": "stream",
     "text": [
      "Functionality enhanced of f1 \n",
      "This is doc string for wrapper func\n",
      "three variables are 1 2 3\n",
      "6\n"
     ]
    }
   ],
   "source": [
    "# Decoraters practise-1\n",
    "# My preffered way for decoraters,\n",
    "%reset -f\n",
    "def deco_f(any_f):\n",
    "    def wrapper_f(a,b,c):  # *args, **kwargs\n",
    "        \"\"\"This is doc string for wrapper func\"\"\"\n",
    "        print(f\"Functionality enhanced of {any_f.__name__} \")\n",
    "        print(f\"{wrapper_f.__doc__}\")\n",
    "        return any_f(a,b,c) # *args, **kwargs\n",
    "    return wrapper_f\n",
    "\n",
    "def f1(a,b,c):\n",
    "    \"\"\" This is doc string for f1\"\"\"\n",
    "    print(f\"three variables are {a} {b} {c}\")\n",
    "    return a+b+c\n",
    "\n",
    "var = deco_f(f1)\n",
    "print(var(1,2,3))\n",
    "\n"
   ]
  },
  {
   "cell_type": "code",
   "execution_count": 32,
   "metadata": {},
   "outputs": [
    {
     "name": "stdout",
     "output_type": "stream",
     "text": [
      "Executing 'square_finder' function\n",
      "The function took 5.0067901611328125e-06 seconds\n",
      "[1, 4, 9, 16, 25]\n"
     ]
    }
   ],
   "source": [
    "# Decoraters practise-2\n",
    "# Calculate how much time it takes to run square_finder via using decoraters ....\n",
    "%reset -f\n",
    "from functools import wraps\n",
    "import time\n",
    "def deco_f(any_f):\n",
    "    @wraps(any_f)\n",
    "    def wrapper_f(*args,**kwargs):\n",
    "        print(f\"Executing '{any_f.__name__}' function\")\n",
    "        t1 = time.time()\n",
    "        v1 = any_f(*args,**kwargs)\n",
    "        t2 = time.time()\n",
    "        total = t2 - t1\n",
    "        print(f\"The function took {total} seconds\")\n",
    "        return v1\n",
    "    return wrapper_f\n",
    "\n",
    "@deco_f\n",
    "def square_finder(n):\n",
    "    return [i**2 for i in range (1,n+1)]\n",
    "\n",
    "print(square_finder(5))"
   ]
  },
  {
   "cell_type": "code",
   "execution_count": 27,
   "metadata": {},
   "outputs": [
    {
     "data": {
      "text/plain": [
       "'aaabbb'"
      ]
     },
     "execution_count": 27,
     "metadata": {},
     "output_type": "execute_result"
    }
   ],
   "source": [
    "# one level deep, with decoraters,\n",
    "%reset -f\n",
    "\n",
    "from functools import wraps\n",
    "def only_allowed(data_type):\n",
    "    def deco_f(any_f):\n",
    "        @wraps(any_f)\n",
    "        def wrapper_f(*args,**kwargs):\n",
    "            if all([type(arg)== data_type] for arg in args):\n",
    "                return any_f(*args,**kwargs)\n",
    "            print(\"wrong data\")\n",
    "        return wrapper_f\n",
    "    return deco_f\n",
    "\n",
    "\n",
    "\n",
    "@only_allowed(str)\n",
    "def f1(*args):\n",
    "    string = ''\n",
    "    for i in args:\n",
    "        string +=i\n",
    "    return string\n",
    "f1(\"aaa\",\"bbb\")"
   ]
  },
  {
   "cell_type": "code",
   "execution_count": null,
   "metadata": {},
   "outputs": [],
   "source": []
  }
 ],
 "metadata": {
  "kernelspec": {
   "display_name": "Python 3",
   "language": "python",
   "name": "python3"
  },
  "language_info": {
   "codemirror_mode": {
    "name": "ipython",
    "version": 3
   },
   "file_extension": ".py",
   "mimetype": "text/x-python",
   "name": "python",
   "nbconvert_exporter": "python",
   "pygments_lexer": "ipython3",
   "version": "3.6.3"
  }
 },
 "nbformat": 4,
 "nbformat_minor": 2
}
