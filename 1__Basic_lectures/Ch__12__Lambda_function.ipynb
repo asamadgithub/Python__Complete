{
 "cells": [
  {
   "cell_type": "code",
   "execution_count": 5,
   "metadata": {},
   "outputs": [
    {
     "name": "stdout",
     "output_type": "stream",
     "text": [
      "7\n",
      "5\n",
      "<function <lambda> at 0x10f72d730>\n"
     ]
    }
   ],
   "source": [
    "# Lambda Functions\n",
    "%reset -f\n",
    "\n",
    "# Usual way\n",
    "# ---------\n",
    "def add2(a,b):\n",
    "    return a+b\n",
    "print(add2(3,4))\n",
    "\n",
    "# with Lambda Function\n",
    "# --------------------\n",
    "f_add = lambda a,b: a+b\n",
    "print(f_add(2,3))\n",
    "\n",
    "# Its annonymous functuon, lets see by frinting just function\n",
    "print(f_add)"
   ]
  },
  {
   "cell_type": "code",
   "execution_count": 7,
   "metadata": {},
   "outputs": [
    {
     "data": {
      "text/plain": [
       "True"
      ]
     },
     "execution_count": 7,
     "metadata": {},
     "output_type": "execute_result"
    }
   ],
   "source": [
    "# is even\n",
    "%reset -f\n",
    "\n",
    "f_is_even = lambda x: x%2==0 \n",
    "f_is_even(5)\n",
    "f_is_even(6)\n"
   ]
  },
  {
   "cell_type": "code",
   "execution_count": 11,
   "metadata": {},
   "outputs": [
    {
     "name": "stdout",
     "output_type": "stream",
     "text": [
      "d\n"
     ]
    }
   ],
   "source": [
    "# Print last char\n",
    "f_last = lambda s: s[-1]\n",
    "print(f_last(\"Samad\"))"
   ]
  },
  {
   "cell_type": "code",
   "execution_count": 16,
   "metadata": {},
   "outputs": [
    {
     "name": "stdout",
     "output_type": "stream",
     "text": [
      "True\n",
      "False\n",
      "**************************\n",
      "True\n",
      "False\n"
     ]
    }
   ],
   "source": [
    "# if,else with lambda:\n",
    "%reset -f\n",
    "\n",
    "func = lambda s: True if len(s) > 5 else False\n",
    "print(func(\"Abdus Samad\"))\n",
    "print(func(\"Samad\"))\n",
    "\n",
    "print(\"**************************\")\n",
    "\n",
    "fu = lambda s: len(s) > 5\n",
    "print(func(\"Abdus Samad\"))\n",
    "print(func(\"Samad\"))"
   ]
  },
  {
   "cell_type": "code",
   "execution_count": null,
   "metadata": {},
   "outputs": [],
   "source": []
  }
 ],
 "metadata": {
  "kernelspec": {
   "display_name": "Python 3",
   "language": "python",
   "name": "python3"
  },
  "language_info": {
   "codemirror_mode": {
    "name": "ipython",
    "version": 3
   },
   "file_extension": ".py",
   "mimetype": "text/x-python",
   "name": "python",
   "nbconvert_exporter": "python",
   "pygments_lexer": "ipython3",
   "version": "3.6.3"
  }
 },
 "nbformat": 4,
 "nbformat_minor": 2
}
