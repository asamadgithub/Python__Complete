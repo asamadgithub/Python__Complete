{
 "cells": [
  {
   "cell_type": "code",
   "execution_count": 3,
   "metadata": {},
   "outputs": [
    {
     "name": "stdout",
     "output_type": "stream",
     "text": [
      "(1, 2, 3, 4, 5)\n",
      "<class 'tuple'>\n",
      "15\n"
     ]
    }
   ],
   "source": [
    "#adding two numbers\n",
    "%reset -f\n",
    "\n",
    "# passing variable number of arguments\n",
    "def num(*args):    # it store as tuple\n",
    "    \n",
    "    print(args)\n",
    "    print(type(args))\n",
    "    \n",
    "    s = 0\n",
    "    for i in args:\n",
    "        s +=i\n",
    "    return s\n",
    "\n",
    "    \n",
    "\n",
    "print(num(1,2,3,4,5))"
   ]
  },
  {
   "cell_type": "code",
   "execution_count": 4,
   "metadata": {},
   "outputs": [
    {
     "name": "stdout",
     "output_type": "stream",
     "text": [
      "1\n",
      "(2, 3)\n",
      "5\n"
     ]
    }
   ],
   "source": [
    "# *args with normal parameters\n",
    "%reset -f\n",
    "\n",
    "# passing variable number of arguments\n",
    "def num(num, *args):    # it store as tuple\n",
    "    \n",
    "    print(num)\n",
    "    print(args)\n",
    "    \n",
    "    s=0\n",
    "    for i in args:\n",
    "        s +=i\n",
    "    return s\n",
    "\n",
    "    \n",
    "\n",
    "print(num(1,2,3))  # one argument is necessary here to satisfy num"
   ]
  },
  {
   "cell_type": "code",
   "execution_count": 12,
   "metadata": {},
   "outputs": [
    {
     "name": "stdout",
     "output_type": "stream",
     "text": [
      "([1, 2, 3, 4],)\n",
      "(1, 2, 3, 4)\n"
     ]
    }
   ],
   "source": [
    "# passing array to function via *args\n",
    "%reset -f\n",
    "\n",
    "def arr(*args):\n",
    "    print(args)\n",
    "    \n",
    "l = [1,2,3,4]\n",
    "\n",
    "arr(l)   # its a list inside a tuple\n",
    "arr(*l)  # \\\\ unpacking of list to tuple // so always write * before list, *"
   ]
  },
  {
   "cell_type": "code",
   "execution_count": 25,
   "metadata": {},
   "outputs": [
    {
     "name": "stdout",
     "output_type": "stream",
     "text": [
      "[1, 4, 9, 16]\n"
     ]
    }
   ],
   "source": [
    "# exercise , calulate power of args according to num\n",
    "%reset -f\n",
    "def power(n,*args):\n",
    "    if args:\n",
    "        p_list = [i**n for i in args]\n",
    "        return p_list\n",
    "    else:\n",
    "        print(\"You didn't pass any list\")\n",
    "\n",
    "\n",
    "\n",
    "lis = [1,2,3,4]\n",
    "print(power(2,*lis))\n"
   ]
  },
  {
   "cell_type": "code",
   "execution_count": 28,
   "metadata": {},
   "outputs": [
    {
     "name": "stdout",
     "output_type": "stream",
     "text": [
      "first_name => Max\n",
      "second_name => Abdus\n",
      "*********************************************\n",
      "name => Max\n",
      "age => 28\n"
     ]
    }
   ],
   "source": [
    "# **kwargs in python\n",
    "# **kwargs will assemble as a dict\n",
    "\n",
    "def func(**kwargs):\n",
    "    for i,j in kwargs.items():\n",
    "        print(f\"{i} => {j}\")\n",
    "    return None\n",
    "\n",
    "func(first_name = \"Max\", second_name = \"Abdus\")\n",
    "#-------------------------------------------------\n",
    "print(\"*********************************************\")\n",
    "# dictionary unpacking\n",
    "d = {\"name\":\"Max\",\"age\":28}\n",
    "func(**d)"
   ]
  },
  {
   "cell_type": "code",
   "execution_count": 6,
   "metadata": {},
   "outputs": [
    {
     "name": "stdout",
     "output_type": "stream",
     "text": [
      "Max\n",
      "(1, 2, 3, 4, 5)\t\t<class 'tuple'>\n",
      "28\n",
      "{'x': 1, 'y': 2}\n"
     ]
    }
   ],
   "source": [
    "# function with all type of parameters\n",
    "%reset -f\n",
    "\n",
    "#### PADK\n",
    "# parameter\n",
    "# *args\n",
    "# default parameter\n",
    "# **kwargs\n",
    "\n",
    "\n",
    "def f(name,*args,age = 28,**kwargs):\n",
    "    print(name)\n",
    "    print(args,end='\\t\\t'); print(type(args))\n",
    "    print(age)\n",
    "    print(kwargs)\n",
    "    \n",
    "lis = list(range(1,6))\n",
    "f(\"Max\", *lis, x = 1, y = 2)"
   ]
  },
  {
   "cell_type": "code",
   "execution_count": null,
   "metadata": {},
   "outputs": [],
   "source": []
  }
 ],
 "metadata": {
  "kernelspec": {
   "display_name": "Python 3",
   "language": "python",
   "name": "python3"
  },
  "language_info": {
   "codemirror_mode": {
    "name": "ipython",
    "version": 3
   },
   "file_extension": ".py",
   "mimetype": "text/x-python",
   "name": "python",
   "nbconvert_exporter": "python",
   "pygments_lexer": "ipython3",
   "version": "3.6.7"
  }
 },
 "nbformat": 4,
 "nbformat_minor": 2
}
