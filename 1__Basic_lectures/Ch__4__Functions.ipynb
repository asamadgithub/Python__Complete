{
 "cells": [
  {
   "cell_type": "code",
   "execution_count": 7,
   "metadata": {},
   "outputs": [
    {
     "name": "stdout",
     "output_type": "stream",
     "text": [
      "3\n"
     ]
    }
   ],
   "source": [
    "# Function to add two Numbers\n",
    "%reset -f\n",
    "\n",
    "def add_two(a,b):\n",
    "    return(a+b)\n",
    "\n",
    "a = 1\n",
    "b = 2\n",
    "total = add_two(a,b)\n",
    "print(total)\n",
    "\n"
   ]
  },
  {
   "cell_type": "code",
   "execution_count": 8,
   "metadata": {},
   "outputs": [
    {
     "name": "stdout",
     "output_type": "stream",
     "text": [
      "n\n"
     ]
    }
   ],
   "source": [
    "# Function will return last character of a string\n",
    "%reset -f\n",
    "\n",
    "def last_alpha(string):\n",
    "    return string[-1]\n",
    "\n",
    "name = \"Maximilan\"\n",
    "last = last_alpha(name)\n",
    "print(last)"
   ]
  },
  {
   "cell_type": "code",
   "execution_count": 12,
   "metadata": {},
   "outputs": [
    {
     "name": "stdout",
     "output_type": "stream",
     "text": [
      "Even\n"
     ]
    }
   ],
   "source": [
    "# Function whether a number iss odd or even\n",
    "%reset -f\n",
    "\n",
    "def even_odd (num):\n",
    "    if num % 2 == 0:\n",
    "        return \"Even\"\n",
    "    return \"Odd\"\n",
    "        \n",
    "print(even_odd(0))\n"
   ]
  },
  {
   "cell_type": "code",
   "execution_count": 27,
   "metadata": {},
   "outputs": [
    {
     "data": {
      "text/plain": [
       "'17 is greater'"
      ]
     },
     "execution_count": 27,
     "metadata": {},
     "output_type": "execute_result"
    }
   ],
   "source": [
    "# Function: which number is greater : two numbers are given\n",
    "# Logical Style\n",
    "%reset -f\n",
    "\n",
    "def greater(x,y):\n",
    "    if x >= 0 and y >= 0:\n",
    "        z = x - y\n",
    "        if z > 0:\n",
    "            return f\"{x} is greater\"\n",
    "        return f\"{y} is greater\"\n",
    "    \n",
    "    elif x < 0 and y < 0:\n",
    "        z = x - y\n",
    "        if z < 0:\n",
    "            return f\"{y} is greater\"\n",
    "        return f\"{x} is greater\"\n",
    "    \n",
    "    elif x == 0 and y == 0:\n",
    "            return \"Both are equal\"\n",
    "   \n",
    "    elif x > 0 and y < 0:\n",
    "        return f\"{x} is greater\"\n",
    "    return f\"{x} is greater\"\n",
    "        \n",
    "    \n",
    "\n",
    "greater(17,-17)"
   ]
  },
  {
   "cell_type": "code",
   "execution_count": 45,
   "metadata": {},
   "outputs": [
    {
     "data": {
      "text/plain": [
       "'4 is greatest'"
      ]
     },
     "execution_count": 45,
     "metadata": {},
     "output_type": "execute_result"
    }
   ],
   "source": [
    "# Function: Greatest in three numbers:\n",
    "%reset -f\n",
    "\n",
    "def greater_3(x,y,z):\n",
    "    if x > y and x > z:\n",
    "        return f\"{x} is greatest\"\n",
    "    elif y > x and y > z:\n",
    "        return f\"{y} is greatest\"\n",
    "    return f\"{z} is greatest\"\n",
    "\n",
    "greater_3(1,4,-5)  "
   ]
  },
  {
   "cell_type": "code",
   "execution_count": 50,
   "metadata": {},
   "outputs": [
    {
     "name": "stdout",
     "output_type": "stream",
     "text": [
      "Great number is 3\n"
     ]
    }
   ],
   "source": [
    "# Function inside an other function\n",
    "def greater_2(x,y):\n",
    "    if x > y:\n",
    "        return x\n",
    "    return y\n",
    "\n",
    "def greater_3(a,b,c):\n",
    "    t1 = greater_2(a,b)\n",
    "    t2 = greater_2(t1,c)\n",
    "    return t2\n",
    "\n",
    "\n",
    "g = greater_3(-1,3,-2)\n",
    "print(f\"Great number is {g}\")"
   ]
  },
  {
   "cell_type": "code",
   "execution_count": 67,
   "metadata": {},
   "outputs": [
    {
     "name": "stdout",
     "output_type": "stream",
     "text": [
      "False\n",
      "True\n"
     ]
    }
   ],
   "source": [
    "# Function to check whether a string is \"Palingrom\"\n",
    "%reset -f\n",
    "\n",
    "def is_palidrome(string):\n",
    "    t1 = string\n",
    "    t2 = string[-1::-1]\n",
    "    if t1 == t2:\n",
    "        return True\n",
    "    return False\n",
    "\n",
    "\n",
    "print(is_palidrome(\"abc\"))\n",
    "print(is_palidrome(\"naman\"))\n"
   ]
  },
  {
   "cell_type": "code",
   "execution_count": 86,
   "metadata": {},
   "outputs": [
    {
     "name": "stdout",
     "output_type": "stream",
     "text": [
      "0 1 1 2 3 5 8 13 21 34 55 89 144 233 377 "
     ]
    }
   ],
   "source": [
    "# Function to return Fibonaci series\n",
    "\n",
    "def sum1(x,y):\n",
    "    return x+y\n",
    "\n",
    "def fibonachi(n):\n",
    "    a = 0 ; b = 1\n",
    "    print(f\"{a} {b}\",end=' ')\n",
    "    for i in range(n):\n",
    "        c = sum1(a,b)\n",
    "        print(f\"{c}\",end=\" \")\n",
    "        a = b\n",
    "        b = c\n",
    "n = 15   # number of terms +2\n",
    "fibonachi(n-2)"
   ]
  },
  {
   "cell_type": "code",
   "execution_count": null,
   "metadata": {},
   "outputs": [],
   "source": []
  }
 ],
 "metadata": {
  "kernelspec": {
   "display_name": "Python 3",
   "language": "python",
   "name": "python3"
  },
  "language_info": {
   "codemirror_mode": {
    "name": "ipython",
    "version": 3
   },
   "file_extension": ".py",
   "mimetype": "text/x-python",
   "name": "python",
   "nbconvert_exporter": "python",
   "pygments_lexer": "ipython3",
   "version": "3.6.3"
  }
 },
 "nbformat": 4,
 "nbformat_minor": 2
}
