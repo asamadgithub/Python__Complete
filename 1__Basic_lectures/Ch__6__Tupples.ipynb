{
 "cells": [
  {
   "cell_type": "markdown",
   "metadata": {},
   "source": [
    "### Tuples"
   ]
  },
  {
   "cell_type": "code",
   "execution_count": 25,
   "metadata": {},
   "outputs": [],
   "source": [
    "# Tuple data structure\n",
    "# tuple can store any data type\n",
    "# immutable\n",
    "# no append, no insert, no pop, no remove \n",
    "# tuples are faster than lists\n",
    "### Methods + functions:\n",
    "# count, index , \n",
    "### Functions are ..\n",
    "#len() , slicing , min() , max() , sum()"
   ]
  },
  {
   "cell_type": "code",
   "execution_count": 3,
   "metadata": {},
   "outputs": [
    {
     "data": {
      "text/plain": [
       "tuple"
      ]
     },
     "execution_count": 3,
     "metadata": {},
     "output_type": "execute_result"
    }
   ],
   "source": [
    "# Tuple types\n",
    "% reset -f\n",
    "example = (\"one\",\"two\",\"three\")\n",
    "type(example)"
   ]
  },
  {
   "cell_type": "code",
   "execution_count": 5,
   "metadata": {},
   "outputs": [
    {
     "name": "stdout",
     "output_type": "stream",
     "text": [
      "one two three four five 6 7 8 9.0 10 0 "
     ]
    }
   ],
   "source": [
    "# Looping in Tuples\n",
    "%reset -f\n",
    "mixed = (\"one\",\"two\",\"three\",\"four\",\"five\",6,7,8,9.0,10,0,)\n",
    "\n",
    "for i in (mixed):\n",
    "    print(i,end = ' ')"
   ]
  },
  {
   "cell_type": "code",
   "execution_count": 9,
   "metadata": {},
   "outputs": [
    {
     "name": "stdout",
     "output_type": "stream",
     "text": [
      "<class 'int'>\n",
      "<class 'str'>\n",
      "<class 'tuple'>\n",
      "<class 'tuple'>\n"
     ]
    }
   ],
   "source": [
    "# Tuple with ome element\n",
    "# , is necessary\n",
    "%reset -f\n",
    "num = (1)\n",
    "word = (\"a\")\n",
    "print(type(num))\n",
    "print(type(word))\n",
    "# ---------------\n",
    "num = (1,)\n",
    "word = (\"a\",)\n",
    "print(type(num))\n",
    "print(type(word))"
   ]
  },
  {
   "cell_type": "code",
   "execution_count": 10,
   "metadata": {},
   "outputs": [
    {
     "name": "stdout",
     "output_type": "stream",
     "text": [
      "<class 'tuple'>\n"
     ]
    }
   ],
   "source": [
    "# Tuple without paranthesis\n",
    "mixed = \"one\",\"two\",\"three\",\"four\",\"five\",6,7,8,9.0,10 \n",
    "print(type(mixed))"
   ]
  },
  {
   "cell_type": "code",
   "execution_count": 12,
   "metadata": {},
   "outputs": [
    {
     "name": "stdout",
     "output_type": "stream",
     "text": [
      "<class 'str'>\n",
      "one\n"
     ]
    }
   ],
   "source": [
    "# Tuple unpacking\n",
    "mixed = (\"one\",\"two\",\"three\")\n",
    "var_1 , var_2 , var_3 = (mixed)\n",
    "\n",
    "print(type(var_1))\n",
    "print(var_1)"
   ]
  },
  {
   "cell_type": "code",
   "execution_count": 9,
   "metadata": {},
   "outputs": [
    {
     "name": "stdout",
     "output_type": "stream",
     "text": [
      "[4, 5, 6, 7, 8]\n",
      "4\n",
      "100\n",
      "('one', 'two', 'three', [100, 5, 6, 7, 8])\n",
      "('one', 'two', 'three', [5, 6, 7, 8])\n",
      "('one', 'two', 'three', ['alpha', 5, 6, 7, 8])\n",
      "('one', 'two', 'three', ['alpha', 5, 6, 7, 8, 'beta'])\n"
     ]
    }
   ],
   "source": [
    "# lists inside tuple\n",
    "mixed = (\"one\",\"two\",\"three\", [4,5,6,7,8])\n",
    "\n",
    "print(mixed[3])\n",
    "print(mixed[3][0])\n",
    "mixed[3][0] = 100\n",
    "print(mixed[3][0])\n",
    "print(mixed)\n",
    "#---------------------------------\n",
    "mixed[3].pop(0)   , # argument is popped from list, by default last\n",
    "print(mixed)\n",
    "mixed[3].insert(0,\"alpha\")\n",
    "print(mixed)\n",
    "mixed[3].append(\"beta\")\n",
    "print(mixed)"
   ]
  },
  {
   "cell_type": "code",
   "execution_count": 12,
   "metadata": {},
   "outputs": [
    {
     "name": "stdout",
     "output_type": "stream",
     "text": [
      "4\n",
      "8\n",
      "30\n"
     ]
    }
   ],
   "source": [
    "# Some functions in Tuples\n",
    "mixed = (4,5,6,7,8)\n",
    "\n",
    "print(min(mixed))\n",
    "print(max(mixed))\n",
    "print(sum(mixed))"
   ]
  },
  {
   "cell_type": "markdown",
   "metadata": {},
   "source": [
    "###### Functions returning two values"
   ]
  },
  {
   "cell_type": "code",
   "execution_count": 18,
   "metadata": {},
   "outputs": [
    {
     "name": "stdout",
     "output_type": "stream",
     "text": [
      "(5, 6, 0.6666666666666666)\n",
      "<class 'function'>\n",
      "********************************\n",
      "5 <class 'int'>\n"
     ]
    }
   ],
   "source": [
    "# if we return two values from a function, it will be a tuple\n",
    "% reset -f\n",
    "\n",
    "def func(int_1,int_2):\n",
    "    add = int_1 + int_2\n",
    "    multiply = int_1 * int_2\n",
    "    divide = int_1/int_2\n",
    "    \n",
    "    return add,multiply,divide\n",
    "\n",
    "print(func(2,3))\n",
    "print(type(func))\n",
    "print(\"********************************\")\n",
    "addition, mulp , div  = func(2,3)\n",
    "print(addition,end =\" \"); print(type(addition))"
   ]
  },
  {
   "cell_type": "code",
   "execution_count": 25,
   "metadata": {},
   "outputs": [
    {
     "name": "stdout",
     "output_type": "stream",
     "text": [
      "[1, 2, 3, 4, 5, 6, 7, 8, 9, 10]\n",
      "<class 'list'>\n",
      "****************************\n",
      "(1, 2, 3, 4, 5, 6, 7, 8, 9, 10)\n",
      "<class 'tuple'>\n",
      "****************************\n",
      "(1, 2, 3, 4, 5, 6, 7, 8, 9, 10)\n",
      "<class 'str'>\n",
      "****************************\n"
     ]
    }
   ],
   "source": [
    "# tuple, list , string\n",
    "nums = list(range(1,11))\n",
    "print(nums)\n",
    "print(type(nums))\n",
    "print(\"****************************\")\n",
    "#----------------------------\n",
    "\n",
    "nums = tuple(range(1,11))\n",
    "print(nums)\n",
    "print(type(nums))\n",
    "print(\"****************************\")\n",
    "#----------------------------\n",
    "nums = str(tuple(range(1,11)))\n",
    "print(nums)\n",
    "print(type(nums))\n",
    "print(\"****************************\")"
   ]
  },
  {
   "cell_type": "code",
   "execution_count": null,
   "metadata": {},
   "outputs": [],
   "source": []
  }
 ],
 "metadata": {
  "kernelspec": {
   "display_name": "Python 3",
   "language": "python",
   "name": "python3"
  },
  "language_info": {
   "codemirror_mode": {
    "name": "ipython",
    "version": 3
   },
   "file_extension": ".py",
   "mimetype": "text/x-python",
   "name": "python",
   "nbconvert_exporter": "python",
   "pygments_lexer": "ipython3",
   "version": "3.6.3"
  }
 },
 "nbformat": 4,
 "nbformat_minor": 2
}
