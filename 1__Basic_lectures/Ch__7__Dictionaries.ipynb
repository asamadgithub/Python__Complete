{
 "cells": [
  {
   "cell_type": "code",
   "execution_count": 1,
   "metadata": {},
   "outputs": [],
   "source": [
    "# Dictionaries in Python are exactly like the hashes in Pearl\n",
    "# They are unordered collects of data"
   ]
  },
  {
   "cell_type": "code",
   "execution_count": 4,
   "metadata": {
    "scrolled": true
   },
   "outputs": [
    {
     "name": "stdout",
     "output_type": "stream",
     "text": [
      "<class 'dict'>\n",
      "<class 'dict'>\n"
     ]
    }
   ],
   "source": [
    "# Declaring a dict data type\n",
    "## Method :1\n",
    "% reset -f\n",
    "user_1 = {\n",
    "    \"name\"    : \"Samad\",\n",
    "    \"age\"     : 28 ,\n",
    "    \"address\" : \"Max-Planck-Str.1, 40237-Düsseldorf\",\n",
    "}\n",
    "print(type(user_1))   # type of variable user_1\n",
    "#------------------------------------------------------\n",
    "## Method :2\n",
    "user_2 = dict(\n",
    "    name    = \"Zertasha\",\n",
    "    age     = 28 ,\n",
    "    address = \"Münster str.351, 40470-Düsseldorf\",\n",
    ")\n",
    "print(type(user_2))"
   ]
  },
  {
   "cell_type": "code",
   "execution_count": 6,
   "metadata": {},
   "outputs": [
    {
     "name": "stdout",
     "output_type": "stream",
     "text": [
      "Samad\n",
      "28\n"
     ]
    }
   ],
   "source": [
    "# Accessing elements in dict\n",
    "% reset -f\n",
    "user_1 = {\n",
    "    \"name\"    : \"Samad\",\n",
    "    \"age\"     : 28 ,\n",
    "    \"address\" : \"Max-Planck-Str.1, 40237-Düsseldorf\",\n",
    "}\n",
    "print(user_1[\"name\"])\n",
    "print(user_1[\"age\"])"
   ]
  },
  {
   "cell_type": "code",
   "execution_count": 61,
   "metadata": {},
   "outputs": [
    {
     "name": "stdout",
     "output_type": "stream",
     "text": [
      "['Samad', 'Safaa']\n"
     ]
    }
   ],
   "source": [
    "# Types of elements in dict\n",
    "# it can store anything, strings, int, floats, lists, .....\n",
    "% reset -f\n",
    "user_1 = {\n",
    "    \"names\"    : [\"Samad\", \"Safaa\"],\n",
    "    \"age\"     : [25,26,27,28,29,30],\n",
    "    \"address\" : \"Max-Planck-Str.1, 40237-Düsseldorf\",\n",
    "}\n",
    "\n",
    "print(user_1[\"names\"])"
   ]
  },
  {
   "cell_type": "code",
   "execution_count": 29,
   "metadata": {},
   "outputs": [
    {
     "name": "stdout",
     "output_type": "stream",
     "text": [
      "{'name_1': 'Max'}\n",
      "\n",
      "\n",
      "{'name_1': 'Max', 'name_lis': ['N1', 'N2', 'N3', 'N4', 'N5']}\n",
      "\n",
      "\n",
      "{'name_1': 'Max', 'name_lis': ['N1', 'N2', 'N3', 'N4', 'N5'], 3: ['alpha', 'beta', 1000.12, 13]}\n",
      "\n",
      "\n",
      "{'name_1': 'Max', 'name_lis': ['N1', 'N2', 'N3', 'N4', 'N5'], 3: ['alpha', 'beta', 1000.12, 13], 'dict': {1: 'one', 2: 'two', 3: 'three', 4: 'four'}}\n"
     ]
    }
   ],
   "source": [
    "# Adding elements in dict\n",
    "# = is used to adding element to the the existing doct\n",
    "% reset -f\n",
    "\n",
    "\n",
    "user_1 = {}\n",
    "\n",
    "# Adding one element to the dict\n",
    "# ------------------------------\n",
    "user_1[\"name_1\"] = \"Max\"\n",
    "print(user_1)\n",
    "\n",
    "print(\"\\n\")\n",
    "# Ading a list against a string key\n",
    "# -------------------------\n",
    "user_1[\"name_lis\"] = [\"N1\",\"N2\",\"N3\",\"N4\",\"N5\",]\n",
    "print(user_1)\n",
    "\n",
    "\n",
    "print(\"\\n\")\n",
    "# Ading a list against a int key\n",
    "# ------------------------------\n",
    "user_1[3] = [\"alpha\",\"beta\",1000.12,13]\n",
    "print(user_1)\n",
    "\n",
    "\n",
    "print(\"\\n\")\n",
    "# We can also add a dict against a key\n",
    "# ------------------------------------\n",
    "user_1[\"dict\"] = {1:\"one\",2:\"two\",3:\"three\",4:\"four\"}\n",
    "print(user_1)"
   ]
  },
  {
   "cell_type": "code",
   "execution_count": 30,
   "metadata": {},
   "outputs": [
    {
     "name": "stdout",
     "output_type": "stream",
     "text": [
      "yes\n",
      "yes\n"
     ]
    }
   ],
   "source": [
    "# Checking any key in dict via \"in\"\n",
    "% reset -f\n",
    "\n",
    "user_1 = {\n",
    "    \"names\"    : [\"Samad\", \"Safaa\"],\n",
    "    \"age\"     : [25,26,27,28,29,30],\n",
    "    \"address\" : \"Max-Planck-Str.1, 40237-Düsseldorf\",\n",
    "}\n",
    "\n",
    "if \"names\" in user_1:\n",
    "    print(\"yes\")\n",
    "    \n",
    "#or \n",
    "\n",
    "if \"names\" in user_1.keys():\n",
    "    print(\"yes\")\n"
   ]
  },
  {
   "cell_type": "code",
   "execution_count": 18,
   "metadata": {},
   "outputs": [
    {
     "name": "stdout",
     "output_type": "stream",
     "text": [
      "yes\n"
     ]
    }
   ],
   "source": [
    "# Checking any value in dict   ---> values method\n",
    "% reset -f\n",
    "\n",
    "user_1 = {\n",
    "    \"names\"    : [\"Samad\", \"Safaa\"],\n",
    "    \"age\"     : 25,\n",
    "    \"address\" : \"Max-Planck-Str.1, 40237-Düsseldorf\",\n",
    "}\n",
    "\n",
    "if [\"Samad\", \"Safaa\"] in user_1.values():\n",
    "    print(\"yes\")"
   ]
  },
  {
   "cell_type": "code",
   "execution_count": 4,
   "metadata": {},
   "outputs": [
    {
     "name": "stdout",
     "output_type": "stream",
     "text": [
      "Keys only\n",
      "==========\n",
      "names\n",
      "age\n",
      "address\n",
      "**************************************\n",
      "\n",
      "\n",
      "\n",
      "Values only\n",
      "===========\n",
      "['Samad', 'Safaa']\n",
      "25\n",
      "Max-Planck-Str.1, 40237-Düsseldorf\n",
      "**************************************\n",
      "\n",
      "\n",
      "\n",
      "dict_keys(['names', 'age', 'address'])\n",
      "<class 'dict_keys'>\n"
     ]
    }
   ],
   "source": [
    "# Looping in dict\n",
    "% reset -f\n",
    "\n",
    "user_1 = {\n",
    "    \"names\"    : [\"Samad\", \"Safaa\"],\n",
    "    \"age\"     : 25,\n",
    "    \"address\" : \"Max-Planck-Str.1, 40237-Düsseldorf\",\n",
    "}\n",
    "\n",
    "print(\"Keys only\")\n",
    "print(\"==========\")\n",
    "for i in user_1.keys():\n",
    "    print(i)\n",
    "\n",
    "print(\"**************************************\")\n",
    "print(\"\\n\\n\")\n",
    "\n",
    "print(\"Values only\")\n",
    "print(\"===========\")\n",
    "for i in user_1.values():\n",
    "    print(i)\n",
    "    \n",
    "\n",
    "print(\"**************************************\")\n",
    "print(\"\\n\\n\")\n",
    "user_1_keys = user_1.keys()   # also valid of .values()\n",
    "print(user_1_keys)\n",
    "print(type(user_1_keys))"
   ]
  },
  {
   "cell_type": "code",
   "execution_count": 31,
   "metadata": {},
   "outputs": [
    {
     "name": "stdout",
     "output_type": "stream",
     "text": [
      "{'a': 'one', 'b': 'two', 'c': 'three', 'd': 'four', 'e': 'five'}\n",
      "\n",
      "dict_items([('a', 'one'), ('b', 'two'), ('c', 'three'), ('d', 'four'), ('e', 'five')])\n",
      "('a', 'one')\n",
      "('b', 'two')\n",
      "('c', 'three')\n",
      "('d', 'four')\n",
      "('e', 'five')\n",
      "\n",
      "\n",
      "\n",
      "Unpacking Tuple obtained via .items()\n",
      "a => one\n",
      "b => two\n",
      "c => three\n",
      "d => four\n",
      "e => five\n",
      "\n",
      "\n",
      "\n",
      "Direct Unpacking\n",
      "a => one\n",
      "b => two\n",
      "c => three\n",
      "d => four\n",
      "e => five\n"
     ]
    }
   ],
   "source": [
    "# Item method inside\n",
    "%reset -f\n",
    "d = {\n",
    "    \"a\" : \"one\",\n",
    "    \"b\" : \"two\",\n",
    "    \"c\" : \"three\",\n",
    "    \"d\" : \"four\",\n",
    "    \"e\" : \"five\",\n",
    "}\n",
    "print(d,end='\\n\\n')\n",
    "tuple_of_dict = d.items()\n",
    "print(tuple_of_dict)\n",
    "''' \n",
    "How Items method works:\n",
    "=======================\n",
    "if we just iterate over dict with one variable via .items() method ---> something list list of tuples\n",
    "[(k1,v1),(k2,v2),(k3,v3),....     ]\n",
    "'''\n",
    "\n",
    "for i in d.items():\n",
    "    print(i)\n",
    "    \n",
    "print(\"\\n\\n\")\n",
    "\n",
    "'''\n",
    "Basically we can now unpack these tuples like following\n",
    "'''\n",
    "print(\"Unpacking Tuple obtained via .items()\")\n",
    "for i in d.items():\n",
    "    k,v=i\n",
    "    print(f\"{k} => {v}\")\n",
    "\n",
    "print(\"\\n\\n\")\n",
    "'''\n",
    "So we can make direct unpacking by following\n",
    "'''\n",
    "print(\"Direct Unpacking\")\n",
    "for k,v in d.items():\n",
    "    print(f\"{k} => {v}\")"
   ]
  },
  {
   "cell_type": "code",
   "execution_count": 17,
   "metadata": {},
   "outputs": [
    {
     "name": "stdout",
     "output_type": "stream",
     "text": [
      "dict_items([('names', ['Samad', 'Safaa']), ('age', 28), ('address', 'Max-Planck-Str.1, 40237-Düsseldorf')])\n",
      "***********************************************\n",
      "\n",
      "names => ['Samad', 'Safaa']\n",
      "age => 28\n",
      "address => Max-Planck-Str.1, 40237-Düsseldorf\n"
     ]
    }
   ],
   "source": [
    "# Item Method in regular practise\n",
    "% reset -f\n",
    "\n",
    "user_1 = {\n",
    "    \"names\"    : [\"Samad\", \"Safaa\"],\n",
    "    \"age\"     : 28,\n",
    "    \"address\" : \"Max-Planck-Str.1, 40237-Düsseldorf\",\n",
    "}\n",
    "user_1_items = user_1.items()\n",
    "print(user_1_items)    # it return something like a list of tuples, [(key1,value1) , (key2,value2) , ()]\n",
    "print(\"***********************************************\\n\")\n",
    "\n",
    "for key,value in user_1.items():\n",
    "    print(f\"{key} => {value}\")"
   ]
  },
  {
   "cell_type": "code",
   "execution_count": 32,
   "metadata": {},
   "outputs": [
    {
     "name": "stdout",
     "output_type": "stream",
     "text": [
      "28\n",
      "names => ['Samad', 'Safaa', 'alpha']\n",
      "address => Max-Planck-Str.1, 40237-Düsseldorf\n",
      "******************\n",
      "\n",
      "\n",
      "names => ['Samad', 'Safaa', 'alpha']\n",
      "address => Max-Planck-Str.1, 40237-Düsseldorf\n",
      "age => 28\n",
      "******************\n",
      "\n",
      "\n"
     ]
    }
   ],
   "source": [
    "# pop method to delete key,value pair in dict\n",
    "%reset -f\n",
    "user_1 = {\n",
    "    \"names\"    : [\"Samad\", \"Safaa\" , \"alpha\"],\n",
    "    \"age\"     : 28,\n",
    "    \"address\" : \"Max-Planck-Str.1, 40237-Düsseldorf\",\n",
    "}\n",
    "\n",
    "popped_value = user_1.pop(\"age\")\n",
    "print(f\"{popped_value}\")\n",
    "\n",
    "for key,value in user_1.items():\n",
    "    print(f\"{key} => {value}\")\n",
    "print(\"******************\\n\\n\")\n",
    "\n",
    "\n",
    "#---------------------------------------------\n",
    "user_1[\"age\"] = 28\n",
    "for key,value in user_1.items():\n",
    "    print(f\"{key} => {value}\")\n",
    "print(\"******************\\n\\n\")\n"
   ]
  },
  {
   "cell_type": "code",
   "execution_count": 47,
   "metadata": {},
   "outputs": [
    {
     "name": "stdout",
     "output_type": "stream",
     "text": [
      "names => ['Samad', 'Safaa']\n",
      "age => 28\n",
      "address => Max-Planck-Str.1, 40237-Düsseldorf\n",
      "fav_songs => ['song1', 'song2', 'song3']\n"
     ]
    }
   ],
   "source": [
    "# Update method in dict\n",
    "%reset -f\n",
    "user_1 = {\n",
    "    \"names\"    : [\"Samad\", \"Safaa\"],\n",
    "    \"age\"     : 28,\n",
    "    \"address\" : \"Max-Planck-Str.1, 40237-Düsseldorf\",\n",
    "}\n",
    "\n",
    "more_info = {\"fav_songs\":[\"song1\",\"song2\",\"song3\"]}\n",
    "\n",
    "user_1.update(more_info)\n",
    "# ---------------------------------------------\n",
    "for key,value in user_1.items():\n",
    "    print(f\"{key} => {value}\")"
   ]
  },
  {
   "cell_type": "markdown",
   "metadata": {},
   "source": [
    "###### Four Methods"
   ]
  },
  {
   "cell_type": "code",
   "execution_count": 36,
   "metadata": {},
   "outputs": [
    {
     "name": "stdout",
     "output_type": "stream",
     "text": [
      "{'name': 'unknown', 'age': 'unknown', 'height': 'unknown'}\n",
      "\n",
      "\n",
      "*****************************************************\n",
      "{1: 'qqqqqq', 2: 'unknown', 3: 'unknown', 4: 'unknown', 5: 'unknown', 6: 'unknown', 7: 'unknown'}\n",
      "\n",
      "\n",
      "*****************************************************\n",
      "\n",
      "dict_keys([1, 2, 3, 4, 5, 6, 7])\n",
      "\n",
      "\n",
      "*****************************************************\n",
      "\n",
      "dict_keys([1, 2, 3, 4, 5, 6, 7])\n",
      "*****************************************************\n",
      "\n",
      "{'a': 'unknown', 'b': 'unknown'}\n",
      "\n",
      "\n",
      "\n"
     ]
    }
   ],
   "source": [
    "# 4 methods in dicts\n",
    "## fromkey() method\n",
    "%reset -f\n",
    "\n",
    "# create a dict of many keys with same value:\n",
    "d = dict.fromkeys([\"name\",\"age\",\"height\"],\"unknown\")\n",
    "print(d)\n",
    "print(\"\\n\")\n",
    "\n",
    "\n",
    "#-------\n",
    "print(\"*****************************************************\")\n",
    "d = dict.fromkeys(range(1,8),\"unknown\")   # i think its a key, value pair\n",
    "d[1] = \"qqqqqq\"\n",
    "print(d)\n",
    "print(\"\\n\")\n",
    "\n",
    "#-----------------------------------------------------\n",
    "print(\"*****************************************************\\n\")\n",
    "d = dict.fromkeys(list(range(1,8)),\"unknown\")   \n",
    "kk = d.keys()\n",
    "print(kk)\n",
    "print(\"\\n\")\n",
    "#-----------------------------------------------------\n",
    "print(\"*****************************************************\\n\")\n",
    "d = dict.fromkeys(tuple(range(1,8)),\"unknown\")   \n",
    "kk = d.keys()\n",
    "print(kk)\n",
    "\n",
    "# ~~~~~~~~~~~~~~~~~~~~~~~~~~\n",
    "#-----------------------------------------------------\n",
    "print(\"*****************************************************\\n\")\n",
    "d = dict.fromkeys(\"ab\",\"unknown\")\n",
    "print(d)\n",
    "\n",
    "print(\"\\n\\n\")\n"
   ]
  },
  {
   "cell_type": "code",
   "execution_count": 20,
   "metadata": {},
   "outputs": [
    {
     "name": "stdout",
     "output_type": "stream",
     "text": [
      "None\n",
      "present\n",
      "not present\n"
     ]
    }
   ],
   "source": [
    "# get() method\n",
    "%reset -f\n",
    "user_1 = {\n",
    "    \"names\"    : [\"Samad\", \"Safaa\"],\n",
    "    \"age\"     : 28,\n",
    "    \"address\" : \"Max-Planck-Str.1, 40237-Düsseldorf\",\n",
    "}\n",
    "\n",
    "#print(user_1[\"xxxx\"])\n",
    "print(user_1.get(\"name\"))\n",
    "#--------------------------------------\n",
    "if user_1.get(\"names\"):\n",
    "    print(\"present\")\n",
    "else:\n",
    "    print(\"not present\")\n",
    "#-------------------------------------    \n",
    "print(user_1.get(\"name\",\"not present\"))   # we  can set msg for display, in case key is not there; defualt = None\n"
   ]
  },
  {
   "cell_type": "code",
   "execution_count": 112,
   "metadata": {},
   "outputs": [
    {
     "name": "stdout",
     "output_type": "stream",
     "text": [
      "{}\n"
     ]
    }
   ],
   "source": [
    "# clear Method\n",
    "%reset -f\n",
    "user_1 = {\n",
    "    \"names\"    : [\"Samad\", \"Safaa\"],\n",
    "    \"age\"     : 28,\n",
    "    \"address\" : \"Max-Planck-Str.1, 40237-Düsseldorf\",\n",
    "}\n",
    "user_1.clear()\n",
    "print(user_1)\n",
    "\n"
   ]
  },
  {
   "cell_type": "code",
   "execution_count": 36,
   "metadata": {},
   "outputs": [
    {
     "name": "stdout",
     "output_type": "stream",
     "text": [
      "names => ['Samad', 'Safaa']\n",
      "age => 28\n",
      "address => Max-Planck-Str.1, 40237-Düsseldorf\n",
      "\n",
      "\n",
      "False\n"
     ]
    }
   ],
   "source": [
    "# copy method\n",
    "%reset -f\n",
    "user_1 = {\n",
    "    \"names\"    : [\"Samad\", \"Safaa\"],\n",
    "    \"age\"     : 28,\n",
    "    \"address\" : \"Max-Planck-Str.1, 40237-Düsseldorf\",\n",
    "}\n",
    "\n",
    "user_2 = user_1.copy()\n",
    "for i,j in user_1.items():\n",
    "    print(f\"{i} => {j}\")\n",
    "\n",
    "# how to check whether its a deep copy of shallow copy\n",
    "print(\"\\n\")\n",
    "print(user_1 is user_2)  # if false, ---> deep copy"
   ]
  },
  {
   "cell_type": "code",
   "execution_count": 125,
   "metadata": {},
   "outputs": [
    {
     "name": "stdout",
     "output_type": "stream",
     "text": [
      "{1: 1, 2: 8, 3: 27, 4: 64, 5: 125, 6: 216, 7: 343, 8: 512, 9: 729, 10: 1000}\n"
     ]
    }
   ],
   "source": [
    "# Exercise -1:\n",
    "# Retuen a dictionary of cubes against each value, limit is defined by function  argument\n",
    "%reset -f\n",
    "\n",
    "def cube_finder(num):\n",
    "    cube = {}\n",
    "    d = list(range(1,num+1))\n",
    "    \n",
    "    for i in d:\n",
    "        cube[i] = i**3\n",
    "    \n",
    "    return cube\n",
    "        \n",
    "\n",
    "dict_1 = cube_finder(10)\n",
    "print(dict_1)"
   ]
  },
  {
   "cell_type": "code",
   "execution_count": 127,
   "metadata": {},
   "outputs": [
    {
     "name": "stdout",
     "output_type": "stream",
     "text": [
      "{'h': 3, 'a': 2, 'r': 1, 's': 2, 'i': 1, 't': 1, ' ': 1, 'v': 1}\n"
     ]
    }
   ],
   "source": [
    "# Exercise -2, world counter\n",
    "%reset -f\n",
    "\n",
    "def word_counter(s):\n",
    "    dict_1 = {}\n",
    "    \n",
    "    for char in s:\n",
    "        dict_1[char] = s.count(char)\n",
    "    \n",
    "    return dict_1\n",
    "\n",
    "print(word_counter(\"harshit vash\"))"
   ]
  },
  {
   "cell_type": "code",
   "execution_count": 136,
   "metadata": {},
   "outputs": [
    {
     "name": "stdout",
     "output_type": "stream",
     "text": [
      "Enter your name Samad\n",
      "Enter your age 28\n",
      "Enter your fav songs ',sepated' SONG1,SONG2,SONG3\n",
      "**************************************************************\n",
      "name => Samad\n",
      "age => 28\n",
      "fav_songs => ['SONG1', 'SONG2', 'SONG3']\n"
     ]
    }
   ],
   "source": [
    "# data input by user in dict\n",
    "%reset -f\n",
    "\n",
    "user = {}\n",
    "\n",
    "name = input(\"Enter your name \")\n",
    "user[\"name\"] = name\n",
    "\n",
    "age = int(input(\"Enter your age \"))\n",
    "user[\"age\"] = age\n",
    "\n",
    "fav_songs = list(input(\"Enter your fav songs ',sepated' \").split(\",\"))\n",
    "user[\"fav_songs\"] = fav_songs\n",
    "\n",
    "print(\"**************************************************************\")\n",
    "\n",
    "for i,j in user.items():\n",
    "    print(f\"{i} => {j}\")"
   ]
  },
  {
   "cell_type": "code",
   "execution_count": 39,
   "metadata": {},
   "outputs": [
    {
     "name": "stdout",
     "output_type": "stream",
     "text": [
      "['book1', 'book2', 'book3', 'book4']\n",
      "<class 'list'>\n",
      "\n",
      "\n",
      "Key having value as a list is: 'fav_books'\n",
      "0 index value of key 'fav_books' is book1\n",
      "1 index value of key 'fav_books' is book2\n",
      "2 index value of key 'fav_books' is book3\n",
      "3 index value of key 'fav_books' is book4\n",
      "\n",
      "\n",
      "Key having value as a list is: 'fav_songs'\n",
      "\n",
      "\n"
     ]
    }
   ],
   "source": [
    "# Accessing list values of a key in an iterative way\n",
    "% reset -f\n",
    "user_1 = {\n",
    "    \"name\"    : \"Samad\",\n",
    "    \"age\"     : 28 ,\n",
    "    \"address\" : \"Max-Planck-Str.1, 40237-Düsseldorf\",\n",
    "    \"fav_books\": [\"book1\",\"book2\",\"book3\",\"book4\"]\n",
    "}\n",
    "user_1[\"fav_songs\"]=[]\n",
    "''' \n",
    "Now note that, \"fav_books\" has a list value;\n",
    "we will first determine its type and then proceed to access each element of this list\n",
    "'''\n",
    "\n",
    "# by using get method we can return the value of any key \n",
    "del_val = user_1.get(\"fav_books\")\n",
    "print(f\"{del_val}\")\n",
    "print(type(del_val))\n",
    "\n",
    "#------------------------------------------------------------------\n",
    "print(\"\\n\")\n",
    "for i,j in user_1.items():\n",
    "    if type(j) == list:\n",
    "        print(f\"Key having value as a list is: '{i}'\")\n",
    "        for x in range(len(j)):\n",
    "            print(f\"{x} index value of key '{i}' is {user_1[i][x]}\")\n",
    "        print(\"\\n\")"
   ]
  },
  {
   "cell_type": "code",
   "execution_count": 8,
   "metadata": {},
   "outputs": [
    {
     "name": "stdout",
     "output_type": "stream",
     "text": [
      "1 => {'name': 'John', 'age': '27', 'sex': 'Male'}\n",
      "2 => {'name': 'Marie', 'age': '22', 'sex': 'Female'}\n",
      "\n",
      "\n",
      "John\n",
      "\n",
      "\n",
      "1 => {'name': 'John', 'age': '27', 'sex': 'Male'}\n",
      "2 => {'name': 'Marie', 'age': '22', 'sex': 'Female'}\n",
      "3 => {'name': 'Max', 'age': 28, 'sex': 'Male'}\n"
     ]
    }
   ],
   "source": [
    "# Nested dicts:\n",
    "people = {\n",
    "    1: {'name': 'John', 'age': '27', 'sex': 'Male'},\n",
    "    2: {'name': 'Marie', 'age': '22', 'sex': 'Female'}\n",
    "}\n",
    "\n",
    "for i,j in people.items():\n",
    "    print(f\"{i} => {j}\")\n",
    "\n",
    "#-------------------------------------\n",
    "print(\"\\n\")\n",
    "# accessing particular stuff\n",
    "print(people[1]['name'])\n",
    "\n",
    "\n",
    "\n",
    "#-------------------------------------\n",
    "print(\"\\n\")\n",
    "# adding elemnets in Nested dict\n",
    "people[3]= {}\n",
    "# people[3].append(\"A\") if, its a list type\n",
    "people[3][\"name\"]= \"Max\"\n",
    "people[3]['age']=28\n",
    "people[3]['sex']='Male'\n",
    "\n",
    "for i,j in people.items():\n",
    "    print(f\"{i} => {j}\")\n",
    "\n",
    "    "
   ]
  },
  {
   "cell_type": "code",
   "execution_count": 16,
   "metadata": {},
   "outputs": [
    {
     "name": "stdout",
     "output_type": "stream",
     "text": [
      "1 => {'name': 'John', 'age': '27', 'sex': 'Male'}\n",
      "2 => {'name': 'Marie', 'age': '22', 'sex': 'Female'}\n",
      "3 => {'name': 'Peter', 'age': '29', 'sex': 'Male', 'married': 'Yes'}\n"
     ]
    }
   ],
   "source": [
    "#Adding another dict to a Nested dict\n",
    "%reset -f\n",
    "\n",
    "people = {\n",
    "    1: {'name': 'John', 'age': '27', 'sex': 'Male'},\n",
    "    2: {'name': 'Marie', 'age': '22', 'sex': 'Female'}\n",
    "}\n",
    "\n",
    "people[3] = {'name': 'Peter', 'age': '29', 'sex': 'Male', 'married': 'Yes'}\n",
    "\n",
    "\n",
    "\n",
    "for i,j in people.items():\n",
    "    print(f\"{i} => {j}\")"
   ]
  },
  {
   "cell_type": "code",
   "execution_count": null,
   "metadata": {},
   "outputs": [],
   "source": [
    "#"
   ]
  }
 ],
 "metadata": {
  "kernelspec": {
   "display_name": "Python 3",
   "language": "python",
   "name": "python3"
  },
  "language_info": {
   "codemirror_mode": {
    "name": "ipython",
    "version": 3
   },
   "file_extension": ".py",
   "mimetype": "text/x-python",
   "name": "python",
   "nbconvert_exporter": "python",
   "pygments_lexer": "ipython3",
   "version": "3.6.3"
  }
 },
 "nbformat": 4,
 "nbformat_minor": 2
}
