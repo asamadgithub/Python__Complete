{
 "cells": [
  {
   "cell_type": "code",
   "execution_count": 1,
   "metadata": {},
   "outputs": [
    {
     "name": "stdout",
     "output_type": "stream",
     "text": [
      "at 0 position, --> abc \n",
      "at 1 position, --> def \n",
      "at 2 position, --> ghi \n"
     ]
    }
   ],
   "source": [
    "# How can we trace position\n",
    "names = [\"abc\",\"def\",\"ghi\"]\n",
    "\n",
    "for i,j in enumerate(names):\n",
    "    print(f\"at {i} position, --> {j} \")"
   ]
  },
  {
   "cell_type": "code",
   "execution_count": 9,
   "metadata": {},
   "outputs": [
    {
     "name": "stdout",
     "output_type": "stream",
     "text": [
      "-1\n"
     ]
    }
   ],
   "source": [
    "# exercise enumerate\n",
    "def indx(names,s1):\n",
    "    for i,j in enumerate(names):\n",
    "        if s1 == j:\n",
    "            return (i)\n",
    "        else:\n",
    "            return -1\n",
    "    \n",
    "\n",
    "names = [\"abc\",\"def\",\"ghi\"]\n",
    "s = \"abcd\"\n",
    "print(indx(names,s))"
   ]
  },
  {
   "cell_type": "code",
   "execution_count": null,
   "metadata": {},
   "outputs": [],
   "source": [
    "# map syntax\n",
    "# map(function_name,iterable)  ; function_name w/o paranthecis\n",
    "# it will give me a map object, later we can change it to list or tuple"
   ]
  },
  {
   "cell_type": "code",
   "execution_count": 14,
   "metadata": {},
   "outputs": [
    {
     "name": "stdout",
     "output_type": "stream",
     "text": [
      "[1, 4, 9, 16]\n",
      "***************\n",
      "[3, 4, 5, 6]\n"
     ]
    }
   ],
   "source": [
    "# map function\n",
    "%reset -f\n",
    "\n",
    "numbers = [1,2,3,4]\n",
    "lis_1 = list(map(lambda a: a**2,numbers))\n",
    "print(lis_1)\n",
    "#---------------------\n",
    "print(\"***************\")\n",
    "names = [\"abc\",\"abcd\",\"abcde\",\"abcdef\"]\n",
    "lis_2 = list(map(len,names))\n",
    "print(lis_2)"
   ]
  },
  {
   "cell_type": "code",
   "execution_count": 20,
   "metadata": {},
   "outputs": [
    {
     "name": "stdout",
     "output_type": "stream",
     "text": [
      "2\n",
      "4\n",
      "6\n",
      "8\n",
      "10\n"
     ]
    }
   ],
   "source": [
    "# filter function\n",
    "%reset -f\n",
    "\n",
    "def is_even(a):\n",
    "    if a%2==0:\n",
    "        return True\n",
    "    False\n",
    "    \n",
    "l1 = [1,2,3,4,5,6,7,8,9,10]\n",
    "it = filter(is_even,l1)\n",
    "\n",
    "for i in it:\n",
    "    print(i)\n",
    "    \n",
    "for i in it:\n",
    "    print(i)  #map--> iterator,filter you can iterate only once\n",
    "              # but we can change it to an iterable"
   ]
  },
  {
   "cell_type": "code",
   "execution_count": 37,
   "metadata": {},
   "outputs": [
    {
     "name": "stdout",
     "output_type": "stream",
     "text": [
      "<list_iterator object at 0x106e88cf8>\n",
      "1\n",
      "2\n",
      "3\n",
      "4\n",
      "5\n",
      "**********************************************************************\n",
      "1\n",
      "4\n",
      "9\n",
      "16\n",
      "25\n",
      "**********************************************************************\n"
     ]
    },
    {
     "ename": "TypeError",
     "evalue": "'list' object is not an iterator",
     "output_type": "error",
     "traceback": [
      "\u001b[0;31m---------------------------------------------------------------------------\u001b[0m",
      "\u001b[0;31mTypeError\u001b[0m                                 Traceback (most recent call last)",
      "\u001b[0;32m<ipython-input-37-d669951c5d48>\u001b[0m in \u001b[0;36m<module>\u001b[0;34m()\u001b[0m\n\u001b[1;32m     35\u001b[0m \u001b[0;31m#-----------------------------------------------------------------------------\u001b[0m\u001b[0;34m\u001b[0m\u001b[0;34m\u001b[0m\u001b[0m\n\u001b[1;32m     36\u001b[0m \u001b[0;31m# but we can't apply next directly on number because its not an iterator in itself\u001b[0m\u001b[0;34m\u001b[0m\u001b[0;34m\u001b[0m\u001b[0m\n\u001b[0;32m---> 37\u001b[0;31m \u001b[0mprint\u001b[0m\u001b[0;34m(\u001b[0m\u001b[0mnext\u001b[0m\u001b[0;34m(\u001b[0m\u001b[0mnumber\u001b[0m\u001b[0;34m)\u001b[0m\u001b[0;34m)\u001b[0m\u001b[0;34m\u001b[0m\u001b[0m\n\u001b[0m",
      "\u001b[0;31mTypeError\u001b[0m: 'list' object is not an iterator"
     ]
    }
   ],
   "source": [
    "# Difference between iterable and iterator\n",
    "# How the for loop works\n",
    "%reset -f\n",
    "\n",
    "number = [1,2,3,4,5]\n",
    "\n",
    "# Step-1: use iter function on list,tuple,string\n",
    "it_n = iter(number) # this will return the iterator of list called number\n",
    "print(it_n)\n",
    "\n",
    "# Step-2: Now apply next function on iteraror and it will return the first element of list\n",
    "print( next(it_n)  )\n",
    "print( next(it_n)  )\n",
    "print( next(it_n)  )\n",
    "print( next(it_n)  )\n",
    "print( next(it_n)  )\n",
    "# print( next(it_n)  )\n",
    "\n",
    "#-----------------------------------------------------------------------------\n",
    "print(\"**********************************************************************\")\n",
    "#-----------------------------------------------------------------------------\n",
    "\n",
    "squares = map(lambda a: a**2,number)\n",
    "# map function, returns iterator at first place so we can apply next directly\n",
    "print( next(squares)  )\n",
    "print( next(squares)  )\n",
    "print( next(squares)  )\n",
    "print( next(squares)  )\n",
    "print( next(squares)  )\n",
    "# print( next(squares)  )\n",
    "\n",
    "\n",
    "\n",
    "#-----------------------------------------------------------------------------\n",
    "print(\"**********************************************************************\")\n",
    "#-----------------------------------------------------------------------------\n",
    "# but we can't apply next directly on number because its not an iterator in itself\n",
    "print(next(number))"
   ]
  },
  {
   "cell_type": "code",
   "execution_count": 43,
   "metadata": {},
   "outputs": [
    {
     "name": "stdout",
     "output_type": "stream",
     "text": [
      "<zip object at 0x106f4d788>\n",
      "[('user_1', 'Abdus'), ('user_2', 'Sam'), ('user_3', 'Max')]\n",
      "{'user_1': 'Abdus', 'user_2': 'Sam', 'user_3': 'Max'}\n",
      "[('user_1', 'Abdus', 'X'), ('user_2', 'Sam', 'Y'), ('user_3', 'Max', 'Z')]\n"
     ]
    }
   ],
   "source": [
    "# zip function-1\n",
    "# zip function itself returns just a zip-opject, which is a tuple iterator\n",
    "%reset -f\n",
    "\n",
    "user_id = [\"user_1\",\"user_2\",\"user_3\"]\n",
    "names = [\"Abdus\",\"Sam\",\"Max\"]\n",
    "last_names = [\"X\",\"Y\",\"Z\"]\n",
    "\n",
    "print(zip(user_id,names))\n",
    "\n",
    "print(list(zip(user_id,names)))\n",
    "print(dict(zip(user_id,names)))\n",
    "\n",
    "#-------------------------------------\n",
    "print(list(zip(user_id,names,last_names)))"
   ]
  },
  {
   "cell_type": "code",
   "execution_count": 54,
   "metadata": {},
   "outputs": [
    {
     "name": "stdout",
     "output_type": "stream",
     "text": [
      "<zip object at 0x10e979f88>\n",
      "[(1, 'a'), (2, 'b'), (3, 'c'), (4, 'd'), (5, 'e')]\n",
      "*****************************************************\n",
      "[(1, 2, 3, 4, 5), ('a', 'b', 'c', 'd', 'e')]\n",
      "(1, 2, 3, 4, 5)\n",
      "<class 'tuple'>\n",
      "('a', 'b', 'c', 'd', 'e')\n",
      "<class 'tuple'>\n",
      "**************************\n",
      "[1, 2, 3, 4, 5]\n",
      "['a', 'b', 'c', 'd', 'e']\n"
     ]
    }
   ],
   "source": [
    "# zip function-2\n",
    "# *operator with zip() function\n",
    "%reset -f\n",
    "\n",
    "l1 = [1,2,3,4,5]\n",
    "l2 = [\"a\",\"b\",\"c\",\"d\",\"e\"]\n",
    "\n",
    "l = list(zip(l1,l2))\n",
    "'''\n",
    "Explanation: \n",
    "zip function will combine l1,l2 in form of tuple\n",
    "(1,\"a\"),(2,\"b\"),(3,\"c\"),.... all these are stored in zip_object first\n",
    "now the additional list function makes a list of these tuples\n",
    "'''\n",
    "print(zip(l1,l2))\n",
    "print(l)\n",
    "print(\"*****************************************************\")\n",
    "#-------------------------------------------------------------------------\n",
    "print(list(zip(*l)))\n",
    "l10, l11 = list(zip(*l))\n",
    "print(l10)\n",
    "print(type(l10))\n",
    "print(l11)\n",
    "print(type(l11))\n",
    "print(\"**************************\")\n",
    "\n",
    "print(list(l10))\n",
    "print(list(l11))"
   ]
  },
  {
   "cell_type": "code",
   "execution_count": 19,
   "metadata": {},
   "outputs": [
    {
     "name": "stdout",
     "output_type": "stream",
     "text": [
      "[(1, 'a'), (2, 'b'), (3, 'c'), (4, 'd')]\n",
      "**************************************************\n",
      "[(1, 2, 3, 4), ('a', 'b', 'c', 'd')]\n",
      "**************************************************\n",
      "[1, 2, 3, 4]\n",
      "['a', 'b', 'c', 'd']\n"
     ]
    }
   ],
   "source": [
    "%reset -f\n",
    "# packing and unpacking tuple with/of zip function\n",
    "l1 = [1,2,3,4]\n",
    "l2 = [\"a\",\"b\",\"c\",\"d\",\"e\"]\n",
    "\n",
    "l = list(zip(l1,l2))\n",
    "print(l)\n",
    "print(\"**************************************************\")\n",
    "print(list(zip(*l)))\n",
    "print(\"**************************************************\")\n",
    "nl1,nl2 = list(zip(*l))\n",
    "print(list(nl1))\n",
    "print(list(nl2))"
   ]
  },
  {
   "cell_type": "code",
   "execution_count": 57,
   "metadata": {},
   "outputs": [
    {
     "name": "stdout",
     "output_type": "stream",
     "text": [
      "[6, 7, 8, 9, 10]\n"
     ]
    }
   ],
   "source": [
    "# zip function-3\n",
    "# pair with zip() function\n",
    "%reset -f\n",
    "\n",
    "l1 = [6,1,3,9,4]\n",
    "l2 = [2,7,8,5,10]\n",
    "l = []\n",
    "for pair in zip(l1,l2):\n",
    "    l.append(max(pair))\n",
    "    \n",
    "print(l)"
   ]
  },
  {
   "cell_type": "code",
   "execution_count": 63,
   "metadata": {},
   "outputs": [
    {
     "name": "stdout",
     "output_type": "stream",
     "text": [
      "[3.0, 4.0, 5.0, 6.0]\n"
     ]
    }
   ],
   "source": [
    "# zip function-3\n",
    "# pair with zip() function, continue\n",
    "# avg of elemet at same position at respective position\n",
    "\n",
    "%reset -f\n",
    "def avg_finger(l1,l2):\n",
    "    avg = []\n",
    "    for pair in zip(l1,l2):\n",
    "        avg.append(sum(pair)/len(pair))\n",
    "    return avg\n",
    "\n",
    "l1_ = [1,2,3,4]\n",
    "l2_ = [5,6,7,8]\n",
    "avg_array = avg_finger(l1_,l2_)\n",
    "print(avg_array)\n",
    "\n",
    "#--------------------------------------------------------"
   ]
  },
  {
   "cell_type": "code",
   "execution_count": 80,
   "metadata": {},
   "outputs": [
    {
     "name": "stdout",
     "output_type": "stream",
     "text": [
      "[1, 2, 3]\n",
      "[4, 5, 6]\n",
      "************************************************\n",
      "[1, 2, 3]\n",
      "([1, 2, 3], [4, 5, 6])\n",
      "(1, 4)\n",
      "(2, 5)\n",
      "(3, 6)\n"
     ]
    },
    {
     "data": {
      "text/plain": [
       "'\\nfirst we send arbitrary number of lists to the g function.\\nThere it will be recieved by g function with parameter *args\\nIn *args, situation is like:   args[0]--> list1, args[1]--> list2, args[2]--> list3\\nif we print print(args) --> the argument of g --> ([1,2,3],[4,5,6])\\nif we print print(*args)--> [1,2,3] [4,5,6] b/c *operator unpack to the orignal form\\nnow if we apply to zip function to the *operator, it will make tuple of respective position\\nso before using zip, unpacking is must or you can say, indivisuallty is must\\n'"
      ]
     },
     "execution_count": 80,
     "metadata": {},
     "output_type": "execute_result"
    }
   ],
   "source": [
    "# unpacking dynamical numbers of lists in a function\n",
    "\n",
    "%reset -f\n",
    "\n",
    "# passing two lists to function\n",
    "def f(l1,l2):\n",
    "    print(l1)\n",
    "    print(l2)\n",
    "f([1,2,3],[4,5,6])\n",
    "\n",
    "print(\"************************************************\")\n",
    "#----------------------------------------------------------------------------\n",
    "\n",
    "# passing any number of arrsys\n",
    "def g(*args):\n",
    "#     print(args)\n",
    "    print(args[0])\n",
    "#     print((args[1]))\n",
    "    print(args)\n",
    "    \n",
    "    for pair in zip(*args):\n",
    "        print(pair)\n",
    "\n",
    "g([1,2,3],[4,5,6])  \n",
    "\n",
    "'''\n",
    "first we send arbitrary number of lists to the g function.\n",
    "There it will be recieved by g function with parameter *args\n",
    "In *args, situation is like:   args[0]--> list1, args[1]--> list2, args[2]--> list3\n",
    "if we print print(args) --> the argument of g --> ([1,2,3],[4,5,6])\n",
    "if we print print(*args)--> [1,2,3] [4,5,6] b/c *operator unpack to the orignal form\n",
    "now if we apply to zip function to the *operator, it will make tuple of respective position\n",
    "so before using zip, unpacking is must or you can say, indivisuallty is must\n",
    "'''"
   ]
  },
  {
   "cell_type": "code",
   "execution_count": 4,
   "metadata": {},
   "outputs": [
    {
     "data": {
      "text/plain": [
       "[(1, 'one'), (2, 'two'), (3, 'three'), (4, 'four'), (5, 'five')]"
      ]
     },
     "execution_count": 4,
     "metadata": {},
     "output_type": "execute_result"
    }
   ],
   "source": [
    "# unpacking continue...\n",
    "l1 = [1,2,3,4,5]\n",
    "l2 = [\"one\",\"two\",\"three\",\"four\",\"five\",\"six\",\"seven\",\"eight\"]\n",
    "\n",
    "\n",
    "zip_itrerator = zip(l1,l2)\n",
    "z = list(zip_itrerator)\n",
    "z"
   ]
  },
  {
   "cell_type": "code",
   "execution_count": 5,
   "metadata": {},
   "outputs": [
    {
     "name": "stdout",
     "output_type": "stream",
     "text": [
      "(1, 2, 3, 4, 5)\n",
      "('one', 'two', 'three', 'four', 'five')\n"
     ]
    }
   ],
   "source": [
    "un_1,un_2 = zip(*z)\n",
    "print(un_1)\n",
    "print(un_2)"
   ]
  },
  {
   "cell_type": "code",
   "execution_count": 95,
   "metadata": {},
   "outputs": [
    {
     "data": {
      "text/plain": [
       "'\\nstar ksi cheez ko tukry tukry kr sakta uss ki orignal shakal main,\\nbad main zip lga k un k tuple bna lain at respective position aur un tuple pay jo bhi operation ho kr lain\\n'"
      ]
     },
     "execution_count": 95,
     "metadata": {},
     "output_type": "execute_result"
    }
   ],
   "source": [
    "'''\n",
    "star ksi cheez ko tukry tukry kr sakta uss ki orignal shakal main,\n",
    "bad main zip lga k un k tuple bna lain at respective position aur un tuple pay jo bhi operation ho kr lain\n",
    "'''"
   ]
  },
  {
   "cell_type": "code",
   "execution_count": 101,
   "metadata": {},
   "outputs": [
    {
     "name": "stdout",
     "output_type": "stream",
     "text": [
      "[4.0, 5.0, 6.0]\n"
     ]
    }
   ],
   "source": [
    "# Finding avg of arbitrary number of lists with list_comprehenion\n",
    "%reset -f\n",
    "f = lambda *args: [sum(pair)/len(pair) for pair in zip(*args)]\n",
    "print(f([1,2,3],[4,5,6],[7,8,9]))"
   ]
  },
  {
   "cell_type": "code",
   "execution_count": 125,
   "metadata": {},
   "outputs": [
    {
     "name": "stdout",
     "output_type": "stream",
     "text": [
      "True\n",
      "*******************************************\n",
      "True\n"
     ]
    }
   ],
   "source": [
    "# exercise : all/any built-in function\n",
    "# whether every number in the list is even\n",
    "%reset -f\n",
    "numbers_1 = [2,4,6,8,10]\n",
    "numbers_2 = [2,3,6,8,10]\n",
    "\n",
    "check_1 = all([i%2==0 for i in numbers_1])\n",
    "print(check_1)\n",
    "print(\"*******************************************\")\n",
    "#---------------------------------------------------\n",
    "check_2 = any([i%2==1 for i in numbers_2])\n",
    "print(check_2)"
   ]
  },
  {
   "cell_type": "code",
   "execution_count": 153,
   "metadata": {},
   "outputs": [
    {
     "name": "stdout",
     "output_type": "stream",
     "text": [
      "Some data points are wrong\n"
     ]
    }
   ],
   "source": [
    "# use of any/all function\n",
    "%reset -f\n",
    "def my_sum(*args):\n",
    "#     check = [True for arg in args if type(arg)== int]\n",
    "#     check = [True if (type(arg)==int) else False for arg in args ]\n",
    "#     check = [(type(arg) == int or type(arg) == float) for arg in args]\n",
    "    if all([type(arg)==int or type(arg)==float for arg in args]):\n",
    "        print(\"yes\")\n",
    "    else:\n",
    "        print(\"Some data points are wrong\")\n",
    "    \n",
    "#     print(check)\n",
    "\n",
    "\n",
    "my_sum(1,2,3,4,5.2,\"a\")"
   ]
  },
  {
   "cell_type": "code",
   "execution_count": 205,
   "metadata": {},
   "outputs": [
    {
     "name": "stdout",
     "output_type": "stream",
     "text": [
      "The maximum is Stefan_Wi\n",
      "****************************\n"
     ]
    }
   ],
   "source": [
    "# exercise max(),min() function -2\n",
    "# min(), max() advance formulism:\n",
    "%reset -f\n",
    "\n",
    "def func(item):\n",
    "    print(item)\n",
    "    return len(item)\n",
    "\n",
    "names = ['Max','Abdus','Stefan_Wi']\n",
    "\n",
    "# print(\"The maximum is\",max(names, key = func))\n",
    "print(\"The maximum is\",max(names, key = lambda i: len(i)))\n",
    "print(\"****************************\")\n",
    "\n"
   ]
  },
  {
   "cell_type": "code",
   "execution_count": 289,
   "metadata": {},
   "outputs": [
    {
     "name": "stdout",
     "output_type": "stream",
     "text": [
      "mohit\n"
     ]
    }
   ],
   "source": [
    "# exercise max(),min() function -3\n",
    "# min(), max() advance formulism:\n",
    "# structure -1\n",
    "%reset -f\n",
    "students2 = [\n",
    "    {'name':'harshit', 'score':90, 'age':24},\n",
    "    {'name':'mohit', 'score':700, 'age':19},\n",
    "    {'name':'rohit', 'score':60, 'age':25}\n",
    "]\n",
    "\n",
    "# print(students2[0])\n",
    "\n",
    "#--------------------------------------------------\n",
    "# for i in range(len(students2)):\n",
    "#     for i,j in students2[0].items():\n",
    "#         print(f\"{i} => {j}\")\n",
    "#     print(\"=================================\")\n",
    "#--------------------------------------------------\n",
    "# print(max(students2, key = lambda itm: itm[\"score\"])[\"name\"])\n",
    "# print(max(students2, key = lambda dicc: dicc[\"score\"])[\"name\"])\n",
    "print(max(students2, key = lambda dicc: dicc.get(\"score\"))[\"name\"])"
   ]
  },
  {
   "cell_type": "code",
   "execution_count": 291,
   "metadata": {},
   "outputs": [
    {
     "name": "stdout",
     "output_type": "stream",
     "text": [
      "harshit\n"
     ]
    }
   ],
   "source": [
    "# exercise max(),min() function -3\n",
    "# min(), max() advance formulism:\n",
    "# structure -2\n",
    "%reset -f\n",
    "students = {\n",
    "    'harshit' : {'score':50, 'age':24},\n",
    "    'mohit' : {'score':75, 'age':19},\n",
    "    'rohit' : {'score':76, 'age':23}\n",
    "}\n",
    "\n",
    "# print(students[\"rohit\"])\n",
    "\n",
    "\n",
    "print(max(students, key = lambda k: students[k][\"age\"]))\n"
   ]
  },
  {
   "cell_type": "code",
   "execution_count": 299,
   "metadata": {},
   "outputs": [
    {
     "name": "stdout",
     "output_type": "stream",
     "text": [
      "['apple', 'grapes', 'mango']\n",
      "************************************\n",
      "('grapes', 'mango', 'apple')\n",
      "['apple', 'grapes', 'mango']\n",
      "************************************\n",
      "['apple', 'grapes', 'mango']\n"
     ]
    }
   ],
   "source": [
    "#advance sorted function\n",
    "# available with lists, not in tuple\n",
    "%reset -f\n",
    "\n",
    "# sorting in list\n",
    "\n",
    "fruits = [\"grapes\",\"mango\",\"apple\"]\n",
    "fruits.sort()\n",
    "print(fruits)\n",
    "print(\"************************************\")\n",
    "#---------------------------------------------\n",
    "\n",
    "# sorting in tuple\n",
    "\n",
    "fruits_2 = (\"grapes\",\"mango\",\"apple\")\n",
    "# fruits.sort()\n",
    "fruit_list_1 =sorted(fruits_2)\n",
    "print(fruits_2) # b/c tuples are immutables\n",
    "print(fruit_list_1)\n",
    "print(\"************************************\")\n",
    "#---------------------------------------------\n",
    "\n",
    "# sorting in sets\n",
    "fruits_3 = {\"grapes\",\"mango\",\"apple\"}\n",
    "fruit_list_2 = sorted(fruits_2)\n",
    "print(fruit_list_2)"
   ]
  },
  {
   "cell_type": "code",
   "execution_count": 306,
   "metadata": {},
   "outputs": [
    {
     "name": "stdout",
     "output_type": "stream",
     "text": [
      "[{'model': 'yamaha f310', 'price': 8400}, {'model': 'faith naptune', 'price': 35000}, {'model': 'faith apollo venus', 'price': 50000}, {'model': 'taylor 814ce', 'price': 450000}]\n",
      "********************************************************\n",
      "[{'model': 'taylor 814ce', 'price': 450000}, {'model': 'faith apollo venus', 'price': 50000}, {'model': 'faith naptune', 'price': 35000}, {'model': 'yamaha f310', 'price': 8400}]\n"
     ]
    }
   ],
   "source": [
    "%reset -f\n",
    "\n",
    "guitars = [\n",
    "    {'model': 'yamaha f310', 'price':8400},\n",
    "    {'model': 'faith naptune', 'price':35000 },\n",
    "    {'model': 'faith apollo venus', 'price': 50000},\n",
    "    {'model': 'taylor 814ce', 'price': 450000}\n",
    "]\n",
    "\n",
    "l=sorted(guitars, key = lambda dicc: dicc[\"price\"])\n",
    "print(l)\n",
    "print(\"********************************************************\")\n",
    "l=sorted(guitars, key = lambda dicc: dicc[\"price\"], reverse = True)\n",
    "print(l)"
   ]
  },
  {
   "cell_type": "code",
   "execution_count": 312,
   "metadata": {},
   "outputs": [
    {
     "name": "stdout",
     "output_type": "stream",
     "text": [
      " This is func function \n",
      "(1, 2, 3, 4, 5)\n"
     ]
    }
   ],
   "source": [
    "# doc string\n",
    "%reset -f\n",
    "def func(*args):\n",
    "    \"\"\" This is func function \"\"\"\n",
    "    print(args)    # b/c args takes as tuple\n",
    "\n",
    "print(func.__doc__)\n",
    "func(1,2,3,4,5)"
   ]
  },
  {
   "cell_type": "code",
   "execution_count": 314,
   "metadata": {},
   "outputs": [
    {
     "name": "stdout",
     "output_type": "stream",
     "text": [
      "Help on built-in function max in module builtins:\n",
      "\n",
      "max(...)\n",
      "    max(iterable, *[, default=obj, key=func]) -> value\n",
      "    max(arg1, arg2, *args, *[, key=func]) -> value\n",
      "    \n",
      "    With a single iterable argument, return its biggest item. The\n",
      "    default keyword-only argument specifies an object to return if\n",
      "    the provided iterable is empty.\n",
      "    With two or more arguments, return the largest argument.\n",
      "\n"
     ]
    }
   ],
   "source": [
    "# use help function to see any kind of help\n",
    "help(max)"
   ]
  },
  {
   "cell_type": "code",
   "execution_count": null,
   "metadata": {},
   "outputs": [],
   "source": []
  }
 ],
 "metadata": {
  "kernelspec": {
   "display_name": "Python 3",
   "language": "python",
   "name": "python3"
  },
  "language_info": {
   "codemirror_mode": {
    "name": "ipython",
    "version": 3
   },
   "file_extension": ".py",
   "mimetype": "text/x-python",
   "name": "python",
   "nbconvert_exporter": "python",
   "pygments_lexer": "ipython3",
   "version": "3.6.7"
  }
 },
 "nbformat": 4,
 "nbformat_minor": 2
}
