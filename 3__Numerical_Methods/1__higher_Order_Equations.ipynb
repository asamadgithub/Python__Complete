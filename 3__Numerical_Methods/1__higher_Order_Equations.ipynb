{
 "cells": [
  {
   "cell_type": "markdown",
   "metadata": {},
   "source": [
    "###### Solution of Quadratic Equation with For Loop , Method of Iteration"
   ]
  },
  {
   "cell_type": "code",
   "execution_count": 19,
   "metadata": {},
   "outputs": [
    {
     "name": "stdout",
     "output_type": "stream",
     "text": [
      "0 :   0.604\n",
      "1 :   0.7459264\n",
      "2 :   0.8225624776867839\n",
      "3 :   0.8706436118792883\n",
      "4 :   0.9032081195624851\n",
      "5 :   0.9263139628974402\n",
      "6 :   0.943223023143504\n",
      "7 :   0.9558678685551885\n",
      "8 :   0.9654733528544955\n",
      "9 :   0.9728555180288405\n",
      "10 :   0.9785791435836654\n",
      "11 :   0.9830468561027761\n",
      "12 :   0.9865524485174209\n",
      "13 :   0.9893142934702872\n",
      "14 :   0.9914971085058454\n",
      "15 :   0.9932266064701809\n",
      "16 :   0.9945996367201086\n",
      "17 :   0.9956913749455089\n",
      "The root is 0.99656 and The total numbers of iteration are 18\n"
     ]
    }
   ],
   "source": [
    "%reset -f\n",
    "# 2x^2 -5x +3 = 0\n",
    "# form-1:    (x=2x^2+3)/5\n",
    "# form-2:    sqrt[(5x-3)/2]\n",
    "#---------------------------------\n",
    "x=0.1\n",
    "for iteration in range(100):\n",
    "    x_new=((2*x**2)+3)/5\n",
    "    if abs(x_new-x)< 0.001:\n",
    "        break\n",
    "    x=x_new\n",
    "    print(iteration,\":  \",x_new)\n",
    "\n",
    "#print(\"The root is %0.5f\" %x_new, \"aa\") \n",
    "#print(\"The total numbers of iteration are %d\" %iteration)\n",
    "\n",
    "print(\"The root is %0.5f\" %x_new,\"and The total numbers of iteration are %d\" %iteration)\n"
   ]
  },
  {
   "cell_type": "markdown",
   "metadata": {},
   "source": [
    "###### Solution of Quadratic Equation with While loop , Method of Iteration"
   ]
  },
  {
   "cell_type": "code",
   "execution_count": 20,
   "metadata": {},
   "outputs": [
    {
     "name": "stdout",
     "output_type": "stream",
     "text": [
      "1 : 0.604\n",
      "2 : 0.7459264\n",
      "3 : 0.8225624776867839\n",
      "4 : 0.8706436118792883\n",
      "5 : 0.9032081195624851\n",
      "6 : 0.9263139628974402\n",
      "7 : 0.943223023143504\n",
      "8 : 0.9558678685551885\n",
      "9 : 0.9654733528544955\n",
      "10 : 0.9728555180288405\n",
      "11 : 0.9785791435836654\n",
      "12 : 0.9830468561027761\n",
      "13 : 0.9865524485174209\n",
      "14 : 0.9893142934702872\n",
      "15 : 0.9914971085058454\n",
      "16 : 0.9932266064701809\n",
      "17 : 0.9945996367201086\n",
      "18 : 0.9956913749455089\n",
      "19 : 0.9965605256563512\n",
      "20 : 0.9972531525185853\n",
      "21 : 0.9978055400833027\n",
      "22 : 0.9982463583283725\n",
      "23 : 0.998598316766343\n",
      "24 : 0.9988794392994294\n",
      "25 : 0.999104053702057\n",
      "26 : 0.9992835640495532\n",
      "27 : 0.999427056551831\n",
      "28 : 0.9995417765471426\n",
      "29 : 0.9996335052252071\n"
     ]
    }
   ],
   "source": [
    "%reset -f\n",
    "# 2x^2 -5x +3 = 0\n",
    "# form-1:    (x=2x^2+3)/5\n",
    "# form-2:    sqrt[(5x-3)/2]\n",
    "\n",
    "x=0                #initial guess but    | actually an arbitray value \n",
    "x_new=0.1          # arbitrary value but | later as a initial guess\n",
    "counter=0\n",
    "while(abs(x_new-x)>=0.0001):\n",
    "    x=x_new\n",
    "    x_new=((2*x**2)+3)/5\n",
    "    counter+=1\n",
    "    print(counter,\":\",x_new)\n",
    "    "
   ]
  },
  {
   "cell_type": "markdown",
   "metadata": {},
   "source": [
    "###### Solution of Quadratic Equation with Newton_Method"
   ]
  },
  {
   "cell_type": "code",
   "execution_count": 21,
   "metadata": {},
   "outputs": [
    {
     "name": "stdout",
     "output_type": "stream",
     "text": [
      "0 : 0.6\n",
      "1 : 0.8769230769230768\n",
      "2 : 0.9796986518636004\n",
      "3 : 0.9992376199027553\n",
      "4 : 0.9999988410873017\n",
      "**********************\n",
      "The solution is 1.00000\n",
      "Total iterations were 5\n"
     ]
    }
   ],
   "source": [
    "%reset -f\n",
    "x=0   # try x=2, x=0\n",
    "\n",
    "for iterations in range(100):\n",
    "    x_new=x-((2*x**2-5*x+3)/(4*x-5))    # Newton-Raphson's Formula\n",
    "    if (abs(x_new-x)<0.0001):\n",
    "        break\n",
    "    x=x_new\n",
    "    print(iterations,\":\",x_new)\n",
    "print(\"**********************\")    \n",
    "print(\"The solution is %0.5f\" %x_new)\n",
    "print(\"Total iterations were %d\" %iterations)"
   ]
  },
  {
   "cell_type": "markdown",
   "metadata": {},
   "source": [
    "###### Newton Method Continue:   f(x)=x^2 + cos^2(x) - 4x"
   ]
  },
  {
   "cell_type": "code",
   "execution_count": 22,
   "metadata": {},
   "outputs": [
    {
     "name": "stdout",
     "output_type": "stream",
     "text": [
      "0 : 0.039527748019000386\n",
      "1 : 0.25000453504423004\n",
      "2 : 0.25032448937426793\n",
      "*******************\n",
      "The solution is 0.25032\n",
      "Total Number of Iterations are 3\n"
     ]
    }
   ],
   "source": [
    "%reset -f\n",
    "from math import *\n",
    "x=-1    # try 1,2  :   0.25,3.85\n",
    "for iterations in range(100):\n",
    "    x_new=x-((x**2 + cos(x)**2 - 4*x)/(2*x - 2*sin(x)*cos(x) -4))\n",
    "    if (abs(x_new-x)<0.00001):\n",
    "        break\n",
    "    x=x_new\n",
    "    print(iterations,\":\",x_new)\n",
    "print(\"*******************\")\n",
    "print(\"The solution is %0.5f\" %x_new)\n",
    "print(\"Total Number of Iterations are %d\" %iterations)"
   ]
  },
  {
   "cell_type": "markdown",
   "metadata": {},
   "source": [
    "###### Bisection Method"
   ]
  },
  {
   "cell_type": "code",
   "execution_count": 60,
   "metadata": {},
   "outputs": [
    {
     "name": "stdout",
     "output_type": "stream",
     "text": [
      "Enter the value of x1: 1.1\n",
      "Enter the value of x2: 1.8\n",
      "9 : The guess is 1.499902; The value of function is -0.000098\n"
     ]
    }
   ],
   "source": [
    "%reset -f\n",
    "import sys\n",
    "#2x^2 -5x +3 = 0\n",
    "\n",
    "x1=float(input(\"Enter the value of x1: \"))\n",
    "x2=float(input(\"Enter the value of x2: \"))\n",
    "\n",
    "\n",
    "y=lambda x: 2*x**2-5*x+3\n",
    "y1=y(x1)\n",
    "y2=y(x2)\n",
    "\n",
    "for bisections in range(1000):\n",
    "    if (y1*y2)>0:\n",
    "        print(\"Wrong interval\")\n",
    "        sys.exit(0)\n",
    "    else:\n",
    "        x_h=(x1+x2)/2\n",
    "        y_h=y(x_h)\n",
    "        \n",
    "        if (y1*y_h)<0:\n",
    "            x2=x_h\n",
    "        else:\n",
    "            x1=x_h\n",
    "            \n",
    "    if (abs(y(x_h)))< 1.0E-4:\n",
    "            break\n",
    "print(bisections,end=' : ')\n",
    "print(\"The guess is %0.6f;\" %x_h, \"The value of function is %0.6f\" %y_h)"
   ]
  },
  {
   "cell_type": "code",
   "execution_count": 78,
   "metadata": {},
   "outputs": [
    {
     "name": "stdout",
     "output_type": "stream",
     "text": [
      "With Newton Method\n",
      "1.5000000000000002\n",
      "\n",
      "\n",
      "With Bisection Method\n",
      "1.000000000000091\n",
      "\n",
      "\n",
      "With fsolve method\n",
      "[ 1.   1.   1.   1.5  1.5  1.5  1.5]\n",
      "\n",
      "\n",
      "With root method\n",
      "[ 1.   1.   1.   1.5  1.5  1.5  1.5]\n",
      "\n",
      "\n"
     ]
    }
   ],
   "source": [
    "%reset -f\n",
    "from scipy.optimize import newton,bisect,fsolve,root\n",
    "#------------------------------------------\n",
    "f=lambda x: 2*x**2-5*x+3\n",
    "\n",
    "\n",
    "#Newton Method\n",
    "x1=0;x2=1.7\n",
    "print(\"With Newton Method\")\n",
    "print(newton(f,x2))\n",
    "print(\"\\n\")\n",
    "\n",
    "# Bisection Method\n",
    "x1=0;x2=1.1\n",
    "print(\"With Bisection Method\")\n",
    "print(bisect(f,x1,x2))\n",
    "print(\"\\n\")\n",
    "\n",
    "#fsolve Method\n",
    "print(\"With fsolve method\")\n",
    "x_a=[-1,0,1,2,3,4,5]\n",
    "print(fsolve(f,x_a))\n",
    "print(\"\\n\")\n",
    "\n",
    "\n",
    "#fsolve Method\n",
    "print(\"With root method\")\n",
    "x_b=[-1,0,1,2,3,4,5]\n",
    "#print(root(f,x_b))\n",
    "print(root(f,x_b).x)\n",
    "print(\"\\n\")"
   ]
  },
  {
   "cell_type": "code",
   "execution_count": null,
   "metadata": {
    "collapsed": true
   },
   "outputs": [],
   "source": []
  }
 ],
 "metadata": {
  "kernelspec": {
   "display_name": "Python 3",
   "language": "python",
   "name": "python3"
  },
  "language_info": {
   "codemirror_mode": {
    "name": "ipython",
    "version": 3
   },
   "file_extension": ".py",
   "mimetype": "text/x-python",
   "name": "python",
   "nbconvert_exporter": "python",
   "pygments_lexer": "ipython3",
   "version": "3.6.10"
  }
 },
 "nbformat": 4,
 "nbformat_minor": 2
}
