{
 "cells": [
  {
   "cell_type": "code",
   "execution_count": null,
   "metadata": {
    "collapsed": true
   },
   "outputs": [],
   "source": [
    "# "
   ]
  },
  {
   "cell_type": "code",
   "execution_count": 27,
   "metadata": {},
   "outputs": [
    {
     "data": {
      "image/png": "[encoded data removed]",
      "text/plain": [
       "<matplotlib.figure.Figure at 0x10865e128>"
      ]
     },
     "metadata": {},
     "output_type": "display_data"
    }
   ],
   "source": [
    "%reset -f\n",
    "import numpy as np\n",
    "import matplotlib.pyplot as plt\n",
    "from math import *\n",
    "\n",
    "f=lambda x: x* np.sin(x)\n",
    "a=-15*pi;b=15*pi\n",
    "x=np.linspace(a,b,500)\n",
    "plt.plot(x,f(x),'-b')\n",
    "plt.xlabel(\"angles in radians\")\n",
    "plt.ylabel(\"value\")\n",
    "plt.grid()\n",
    "plt.show()\n",
    "\n"
   ]
  },
  {
   "cell_type": "markdown",
   "metadata": {
    "collapsed": true
   },
   "source": [
    "###### integral (x * sin(x) )  from 0 to pi/2 with Trapezoidal method ; analytical answer =1"
   ]
  },
  {
   "cell_type": "code",
   "execution_count": 274,
   "metadata": {},
   "outputs": [
    {
     "name": "stdout",
     "output_type": "stream",
     "text": [
      "Numerical integration is 1.002059\n"
     ]
    }
   ],
   "source": [
    "%reset -f\n",
    "from math import sin,pi\n",
    "\n",
    "\n",
    "f = lambda x: x * sin(x)\n",
    "\n",
    "a=0 ; b=pi/2\n",
    "n=10\n",
    "h=(b-a)/n\n",
    "s=0.5*(f(a)+f(b))\n",
    "for i in range(1,n):\n",
    "    s+=f(a+i*h)\n",
    "    \n",
    "Integration= s*h\n",
    "print(\"Numerical integration is %0.6f\" %Integration)"
   ]
  },
  {
   "cell_type": "markdown",
   "metadata": {},
   "source": [
    "######  integral (x * sin(x) )  from 0 to pi/2 with Trapezoidal method ; analytical answer =1; NumPy Technique"
   ]
  },
  {
   "cell_type": "code",
   "execution_count": 4,
   "metadata": {},
   "outputs": [
    {
     "name": "stdout",
     "output_type": "stream",
     "text": [
      "1.00002097943\n"
     ]
    }
   ],
   "source": [
    "%reset -f\n",
    "import numpy as np\n",
    "\n",
    "f=lambda x: x* np.sin(x)\n",
    "a=0; b=np.pi/2; n=100\n",
    "x=np.linspace(a,b,n)\n",
    "\n",
    "s=0.50*(f(a)+f(b))\n",
    "for i in range(1,n-1):\n",
    "    s+=f(x[i])\n",
    "s=s*(x[5]-x[4])    # h= difference between any two consectibe points\n",
    "print(s)"
   ]
  },
  {
   "cell_type": "markdown",
   "metadata": {
    "collapsed": true
   },
   "source": [
    "######  integral (x * sin(x) )  from 0 to pi/2 with Simson's one third rule; analytical answer =1"
   ]
  },
  {
   "cell_type": "code",
   "execution_count": 25,
   "metadata": {},
   "outputs": [
    {
     "name": "stdout",
     "output_type": "stream",
     "text": [
      "1.5707963267948966\n",
      "Numerical integration is 1.000000\n"
     ]
    },
    {
     "data": {
      "text/plain": [
       "42.01688675824823"
      ]
     },
     "execution_count": 25,
     "metadata": {},
     "output_type": "execute_result"
    }
   ],
   "source": [
    "% reset -f\n",
    "from math import *\n",
    "\n",
    "f=lambda x: x* sin(x)\n",
    "\n",
    "a=0; b=pi/2\n",
    "n=22; h= (b-a)/n\n",
    "\n",
    "s=f(a)+f(b)\n",
    "print(s)\n",
    "for i in range(1,n,2):\n",
    "        s+= 4* f(a + i*h)\n",
    "\n",
    "for i in range(2,n,2):\n",
    "        s+=  2* f(a+i*h)\n",
    "        \n",
    "Integration = s*(h/3)\n",
    "print(\"Numerical integration is %0.6f\" %Integration)        \n",
    "\n",
    "s"
   ]
  },
  {
   "cell_type": "markdown",
   "metadata": {},
   "source": [
    "######  integral (x * sin(x) )  from 0 to pi/2 with Simson's one third rule; analytical answer =1 , NumPy"
   ]
  },
  {
   "cell_type": "code",
   "execution_count": 31,
   "metadata": {},
   "outputs": [
    {
     "name": "stdout",
     "output_type": "stream",
     "text": [
      "1.57079632679\n",
      "****************\n"
     ]
    },
    {
     "data": {
      "text/plain": [
       "0.99999999999999822"
      ]
     },
     "execution_count": 31,
     "metadata": {},
     "output_type": "execute_result"
    }
   ],
   "source": [
    "%reset -f\n",
    "import numpy as np\n",
    "f=lambda x: x* np.sin(x)\n",
    "x=np.linspace(0,np.pi/2,25555)\n",
    "#print(x)\n",
    "n=len(x)\n",
    "\n",
    "\n",
    "s=f(x[0])+f(x[n-1])\n",
    "\n",
    "print(x[n-1])\n",
    "for i in range(1,n,2):\n",
    "    #print(i,x[i])\n",
    "    s+=4*f(x[i]) \n",
    "print(\"****************\")\n",
    "for i in range(2,n-1,2):\n",
    "    #print(i,x[i])\n",
    "    s+=2*f(x[i])\n",
    "i=s*((x[2]-x[1])/3)\n",
    "i"
   ]
  },
  {
   "cell_type": "markdown",
   "metadata": {
    "collapsed": true
   },
   "source": [
    "###### Double Integration "
   ]
  },
  {
   "cell_type": "code",
   "execution_count": 40,
   "metadata": {},
   "outputs": [
    {
     "name": "stdout",
     "output_type": "stream",
     "text": [
      "Numerical integration is 1.000000\n"
     ]
    }
   ],
   "source": [
    "%reset -f\n",
    "f= lambda x,y: x**2 *y  +  x* y**2\n",
    "\n",
    "\n",
    "ax = 1;  bx = 2; nx = 2 ; hx = (bx - ax)/nx\n",
    "ay = -1; by = 1; ny = 2 ; hy = (by - ay)/ny\n",
    "S = 0\n",
    "for i in range(0,ny+1):\n",
    "    if(i==0 or i==ny):\n",
    "        p=1\n",
    "    elif(i%2 ==1):\n",
    "        p=4\n",
    "    else:\n",
    "        p=2\n",
    "    for j in range(0,nx+1):\n",
    "        if(j==0 or j==nx):\n",
    "            q=1\n",
    "        elif(j%2==1):\n",
    "            q=4\n",
    "        else:\n",
    "            q=2\n",
    "        S += p*q * f(ax + j*hx, ay + i*hy)\n",
    "\n",
    "\n",
    "Integral = hx*hy/9 * S\n",
    "print(\"Numerical integration is %f\" %Integral)             \n",
    "\n"
   ]
  },
  {
   "cell_type": "markdown",
   "metadata": {
    "collapsed": true
   },
   "source": [
    "###### Using scipy.integrate ; double integration"
   ]
  },
  {
   "cell_type": "code",
   "execution_count": 56,
   "metadata": {},
   "outputs": [
    {
     "data": {
      "text/plain": [
       "1.0"
      ]
     },
     "execution_count": 56,
     "metadata": {},
     "output_type": "execute_result"
    }
   ],
   "source": [
    "%reset -f\n",
    "from scipy.integrate import nquad\n",
    "import numpy as np\n",
    "from math import *\n",
    "\n",
    "\n",
    "f= lambda x,y: x**2 *y  +  x* y**2\n",
    "I,_= nquad(f,[ [1,2],[-1,1] ])\n",
    "I"
   ]
  },
  {
   "cell_type": "code",
   "execution_count": null,
   "metadata": {
    "collapsed": true
   },
   "outputs": [],
   "source": []
  }
 ],
 "metadata": {
  "kernelspec": {
   "display_name": "Python 3",
   "language": "python",
   "name": "python3"
  },
  "language_info": {
   "codemirror_mode": {
    "name": "ipython",
    "version": 3
   },
   "file_extension": ".py",
   "mimetype": "text/x-python",
   "name": "python",
   "nbconvert_exporter": "python",
   "pygments_lexer": "ipython3",
   "version": "3.6.3"
  }
 },
 "nbformat": 4,
 "nbformat_minor": 2
}
