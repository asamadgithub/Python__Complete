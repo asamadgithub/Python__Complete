{
 "cells": [
  {
   "cell_type": "markdown",
   "metadata": {},
   "source": [
    "## ODE"
   ]
  },
  {
   "cell_type": "markdown",
   "metadata": {},
   "source": [
    "###### Euler's Method with NumPy"
   ]
  },
  {
   "cell_type": "code",
   "execution_count": 158,
   "metadata": {},
   "outputs": [
    {
     "name": "stdout",
     "output_type": "stream",
     "text": [
      "x\t\ty (Euler) \ty (analytical)\n",
      "0.222222\t1.000000\t1.024999\n",
      "0.444444\t1.049383\t1.103807\n",
      "0.666667\t1.153025\t1.248849\n",
      "0.888889\t1.323844\t1.484476\n",
      "1.111111\t1.585344\t1.853886\n",
      "1.333333\t1.976787\t2.432425\n",
      "1.555556\t2.562502\t3.353071\n",
      "1.777778\t3.448305\t4.856155\n",
      "2.000000\t4.810598\t7.389056\n"
     ]
    }
   ],
   "source": [
    "%reset -f\n",
    "import numpy as np\n",
    "from math import *\n",
    "dy = lambda x,y: x*y\n",
    "f_analytical = lambda x: exp((x**2)/2)\n",
    "\n",
    "\n",
    "x=np.linspace(0,2,10)   # it depend on the step size\n",
    "n=len(x)\n",
    "y=np.zeros(n)\n",
    "y[0]=1\n",
    "\n",
    "d=(x[2]-x[1])\n",
    "\n",
    "#print(dy(x[2],y[0]))\n",
    "print ('x\\t\\ty (Euler) \\ty (analytical)') \n",
    "for i in range(1,n):\n",
    "    y[i]+=y[i-1]+ dy(x[i-1],y[i-1])*d\n",
    "    \n",
    "    print(\"%f\\t%f\\t%f\" %(x[i],y[i],f_analytical(x[i])))\n"
   ]
  },
  {
   "cell_type": "markdown",
   "metadata": {},
   "source": [
    "###### Euler's Method, Runge-Kutta Method of Order 2 & 4"
   ]
  },
  {
   "cell_type": "code",
   "execution_count": 102,
   "metadata": {},
   "outputs": [
    {
     "data": {
      "image/png": "[encoded data removed]",
      "text/plain": [
       "<matplotlib.figure.Figure at 0x10679efd0>"
      ]
     },
     "metadata": {},
     "output_type": "display_data"
    }
   ],
   "source": [
    "%reset -f\n",
    "import numpy as np\n",
    "from math import *\n",
    "import matplotlib.pyplot as plt\n",
    "\n",
    "\n",
    "# Functions defined\n",
    "#-------------------\n",
    "dy = lambda x,y: x*y\n",
    "f = lambda x: np.exp((x**2)/2)\n",
    "#++++++++++++++++++++++++++++++++++++++++++++++++++++++++++++++++++++++++++++++++++++++++++\n",
    "\n",
    "\n",
    "#Initial Conditions for Euler's Method\n",
    "#--------------------------------------\n",
    "x = 0; xn = 2; h = 0.10; n = int((xn-x)/h)\n",
    "y = 1 \n",
    "y_euler = np.empty(n+1,float)\n",
    "xp = np.linspace(x,xn,n+1)\n",
    "\n",
    "y_euler[0] = y\n",
    "#x+= h\n",
    "# Euler's Lopp\n",
    "# ------------\n",
    "#print ('x\\t\\ty (Euler) \\ty (analytical)') \n",
    "for i in range(1,n+1):\n",
    "    y+=dy(x,y)*h\n",
    "    y_euler[i]=y\n",
    "    x+=h\n",
    "    #print(\"%f\\t%f\\t%f\" %(x,y,f_analytical(x)))\n",
    "\n",
    "    \n",
    "#print(xp[0],y_euler[0]) \n",
    "#print(xp[1],y_euler[1]) \n",
    "    \n",
    "    \n",
    "    \n",
    "    \n",
    "    \n",
    "\n",
    "#Initial Conditions for RK_2nd Method (RESETING)\n",
    "#--------------------------------------\n",
    "x = 0; xn = 2; h = 0.10; n = int((xn-x)/h)\n",
    "y = 1\n",
    "y_rk__2=np.empty(n+1,float)\n",
    "y_rk__2[0] = y\n",
    "#x+= h\n",
    "# Main Loop for RK-2\n",
    "# -------------------\n",
    "#print ('x\\t\\ty (RK-2nd Order) \\ty (analytical)') \n",
    "for i in range(1,n+1):\n",
    "    k1=dy(x,y)*h\n",
    "    k2=dy(x+h/2,y+k1/2)*h\n",
    "    y+=k2\n",
    "    y_rk__2[i]=y\n",
    "    x+=h\n",
    "    #print(\"%f\\t%f\\t%f\" %(x,y,f_analytical(x)))\n",
    "\n",
    "\n",
    "#print(xp[0],y_rk__2[0])\n",
    "#print(xp[1],y_rk__2[1])\n",
    "\n",
    "\n",
    "#Initial Conditions for RK_2nd Method (RESETING)\n",
    "#--------------------------------------\n",
    "x = 0; xn = 2; h = 0.10; n = int((xn-x)/h)\n",
    "y = 1\n",
    "y_rk__4 = np.empty(n+1,float)\n",
    "y_rk__4[0] = y\n",
    "# Main Loop for RK-2\n",
    "# -------------------\n",
    "#print ('x\\t\\ty (RK-4th Order) \\ty (analytical)') \n",
    "for i in range(1,n+1):\n",
    "    k1 = dy(x,y)*h\n",
    "    k2 = dy(x+h/2,y+k1/2)*h\n",
    "    k3 = dy(x+h/2,y+k2/2)*h\n",
    "    k4 = dy(x+h,y+k3)*h\n",
    "    y += (k1 + 2*k2 + 2*k3 + k4)/6\n",
    "    y_rk__4[i] = y\n",
    "    x += h\n",
    "    #print(\"%f\\t%f\\t%f\" %(x,y,f(x)))\n",
    "\n",
    "#print(xp[0],y_rk__4[0])\n",
    "#print(xp[1],y_rk__4[1])\n",
    "\n",
    "\n",
    "# Plot\n",
    "plt.plot(xp, y_euler, color = 'y', marker = 'o', ls = '-.', label='y (Euler)')\n",
    "plt.plot(xp, y_rk__2, color = 'b', marker = 's', ls = ':', label = 'y\\'(RK2)')\n",
    "plt.plot(xp, y_rk__4, color = 'r', marker = ',', ls = '--', label = 'y\\'(RK4)')\n",
    "plt.plot(xp, f(xp), color = 'k', lw = 1.5, ls = '-', label='y (Exact)')\n",
    "plt.legend(loc = 'upper left')\n",
    "plt.grid()\n",
    "plt.show()"
   ]
  },
  {
   "cell_type": "markdown",
   "metadata": {
    "collapsed": true
   },
   "source": [
    "### Higher Ordered Differential Equations"
   ]
  },
  {
   "cell_type": "markdown",
   "metadata": {},
   "source": [
    "###### "
   ]
  },
  {
   "cell_type": "code",
   "execution_count": 93,
   "metadata": {},
   "outputs": [
    {
     "name": "stdout",
     "output_type": "stream",
     "text": [
      "31\n",
      "x\t\t y'(RK4)\t y(RK4)\t\t y'(exact) \t y(exact) \n",
      "3.141593\t 2.000000\t 0.000000\t 2.000000\t 0.000000\t\n"
     ]
    },
    {
     "data": {
      "image/png": "[encoded data removed]",
      "text/plain": [
       "<matplotlib.figure.Figure at 0x1067125c0>"
      ]
     },
     "metadata": {},
     "output_type": "display_data"
    }
   ],
   "source": [
    "%reset -f\n",
    "import matplotlib.pyplot as plt\n",
    "import numpy as np\n",
    "dy = lambda x,y,u: u\n",
    "du = lambda x,y,u: 4*x + 10*np.sin(x) - y\n",
    "#The analytical solution\n",
    "f  = lambda x: 9*np.pi*np.cos(x) + 7*np.sin(x) + 4*x -5*x*np.cos(x)\n",
    "df = lambda x: -9*np.pi*np.sin(x) + 7*np.cos(x) + 4 - 5*(np.cos(x)-x*np.sin(x))\n",
    "\n",
    "# Initial Conditions\n",
    "x = np.pi ; xn = 2*np.pi; \n",
    "y = 0\n",
    "u = 2\n",
    "h = 0.10\n",
    "n = int((xn-x)/h)\n",
    "print(n)\n",
    "#ploting arrays\n",
    "xp = np.linspace(x,xn,n+1);#print(xp)\n",
    "yp = np.empty(n+1,float)\n",
    "up = np.empty(n+1,float)\n",
    "yp[0] = y\n",
    "up[0] = u\n",
    "\n",
    "#the header of the tables\n",
    "print(\"x\\t\\t y\\'(RK4)\\t y(RK4)\\t\\t y\\'(exact) \\t y(exact) \")\n",
    "print(\"%f\\t %f\\t %f\\t %f\\t %f\\t\" %(x,u,y,df(x),f(x)))\n",
    "for i in range(1,n+1):\n",
    "    L1 = h*du(x,y,u)\n",
    "    K1 = h*dy(x,y,u)\n",
    "    \n",
    "    L2 = h*du(x+h/2, y+K1/2, u+L1/2)\n",
    "    K2 = h*dy(x+h/2, y+K1/2, u+L1/2)\n",
    "    \n",
    "    L3 = h*du(x+h/2, y+K2/2, u+L2/2)\n",
    "    K3 = h*dy(x+h/2, y+K2/2, u+L2/2)\n",
    "    \n",
    "    L4 = h*du(x+h, y+K3, u+L3)\n",
    "    K4 = h*dy(x+h, y+K3, u+L3)\n",
    "    \n",
    "    u  +=  (L1 + 2*L2 + 2*L3 +L4)/6\n",
    "    up[i] = u\n",
    "    y  +=  (K1 + 2*K2 + 2*K3 +K4)/6\n",
    "    yp[i] = y\n",
    "    \n",
    "    x+=h\n",
    "    print(\"%f\\t %f\\t %f\\t %f\\t %f\\t\" %(x,u,y,df(x),f(x)))\n",
    "\n",
    "# Plot\n",
    "plt.plot(xp, yp, color = 'r', marker = 'o', ls = '', label='y (RK4)')\n",
    "plt.plot(xp, up, color = 'b', marker = 's', ls = '', label='y\\' (RK4)')\n",
    "plt.plot(xp, f(xp), color = 'k', lw = 1.5, ls = '-', label='y (Exact)')\n",
    "plt.plot(xp, df(xp), color = 'k', lw = 1.5, ls = '--', label='y\\' (Exact)')\n",
    "plt.xlabel('x')\n",
    "plt.ylabel('y, y\\'')\n",
    "plt.legend(loc = 'upper left')\n",
    "plt.grid()\n",
    "plt.axis([np.pi, 2*np.pi, None, None])\n",
    "plt.show()\n"
   ]
  },
  {
   "cell_type": "code",
   "execution_count": null,
   "metadata": {},
   "outputs": [],
   "source": []
  }
 ],
 "metadata": {
  "kernelspec": {
   "display_name": "Python 3",
   "language": "python",
   "name": "python3"
  },
  "language_info": {
   "codemirror_mode": {
    "name": "ipython",
    "version": 3
   },
   "file_extension": ".py",
   "mimetype": "text/x-python",
   "name": "python",
   "nbconvert_exporter": "python",
   "pygments_lexer": "ipython3",
   "version": "3.6.10"
  }
 },
 "nbformat": 4,
 "nbformat_minor": 2
}
