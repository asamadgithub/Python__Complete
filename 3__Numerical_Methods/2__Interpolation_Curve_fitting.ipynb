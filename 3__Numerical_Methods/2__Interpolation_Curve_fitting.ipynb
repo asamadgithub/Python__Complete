{
 "cells": [
  {
   "cell_type": "markdown",
   "metadata": {},
   "source": [
    "## Interpolation Section"
   ]
  },
  {
   "cell_type": "markdown",
   "metadata": {},
   "source": [
    "###### Linear Interpolation:          y-y1 / x-x1   =   y2 - y1/x2 -x1"
   ]
  },
  {
   "cell_type": "code",
   "execution_count": 55,
   "metadata": {},
   "outputs": [
    {
     "name": "stdout",
     "output_type": "stream",
     "text": [
      "Given x is out of range\n"
     ]
    }
   ],
   "source": [
    "%reset -f\n",
    "time=[0,20,40,60,80,100]\n",
    "temp=[26.0,48.6,61.6,71.2,74.8,75.2]\n",
    "\n",
    "def y(xp,x,y):\n",
    "    for i,xi in enumerate (x):\n",
    "        #print(\"time is %0.2f, temp is %1.2f\" %(x[i],y[i]))\n",
    "        if xp<xi:\n",
    "            return y[i-1]+ ((y[i]-y[i-1])/(x[i]-x[i-1]))*(xp-x[i-1])\n",
    "    else:\n",
    "        return None\n",
    "        \n",
    "temp_pt=y(101,time,temp)\n",
    "\n",
    "if temp_pt is None:\n",
    "    print(\"Given x is out of range\")\n",
    "else:\n",
    "    print(\"The temperature at given point is %0.3f\" %temp_pt)"
   ]
  },
  {
   "cell_type": "markdown",
   "metadata": {},
   "source": [
    "###### Lagrange's Method of Interpolation"
   ]
  },
  {
   "cell_type": "code",
   "execution_count": 129,
   "metadata": {},
   "outputs": [
    {
     "name": "stdout",
     "output_type": "stream",
     "text": [
      "pair is    50.00,66.95\t\n"
     ]
    }
   ],
   "source": [
    "%reset -f\n",
    "\n",
    "time=[0,    20,   40,   60,   80,   100]\n",
    "temp=[26.0, 48.6, 61.6, 71.2, 74.8, 75.2]\n",
    "\n",
    "\n",
    "\n",
    "def y(xp,x,y):\n",
    "    yp=0;n=len(time)\n",
    "    for i in range(n):\n",
    "        l=1\n",
    "        for j in range(n):\n",
    "            if (j!=i):\n",
    "                l*=(xp-x[j])/(x[i]-x[j])\n",
    "        yp += y[i]*l\n",
    "    return yp\n",
    "        \n",
    "                \n",
    "            \n",
    "            \n",
    "        \n",
    "tx=50        \n",
    "ty=y(tx,time,temp)\n",
    "print(\"pair is %8.2f,%0.2f\\t\"   %(tx,ty))"
   ]
  },
  {
   "cell_type": "markdown",
   "metadata": {},
   "source": [
    "###### Newton Divided Differemce Method for interpolation"
   ]
  },
  {
   "cell_type": "code",
   "execution_count": 9,
   "metadata": {},
   "outputs": [
    {
     "name": "stdout",
     "output_type": "stream",
     "text": [
      "Enter the value for xp  1.9\n",
      "5\n",
      "[[ 0.          0.          0.          0.          0.          0.        ]\n",
      " [ 0.9         0.6         0.          0.          0.          0.        ]\n",
      " [ 2.5         0.89285714  0.22527473  0.          0.          0.        ]\n",
      " [ 6.6         1.5         0.31034483  0.05316881  0.          0.        ]\n",
      " [ 7.7         1.26229508  0.14397719 -0.02463562 -0.04576731  0.        ]\n",
      " [ 8.          1.          0.06153846 -0.03148774 -0.02351571  0.01171137]]\n",
      "***********\n",
      "For x = 1.9, y = 1.1\n"
     ]
    }
   ],
   "source": [
    "%reset -f\n",
    "import numpy as np\n",
    "x=[0.0, 1.5, 2.8, 4.4, 6.1, 8.0]\n",
    "y=[0.0, 0.9, 2.5, 6.6, 7.7, 8.0]\n",
    "xp=float(input('Enter the value for xp  '))\n",
    "\n",
    "n=len(x)-1\n",
    "print(n)\n",
    "Dy=np.zeros((n+1,n+1))\n",
    "Dy[:,0]=y\n",
    "\n",
    "\n",
    "for j in range(n):\n",
    "    for i in range(j+1,n+1):\n",
    "        Dy[i,j+1]= (Dy[i,j]-Dy[j,j])/(x[i]-x[j])\n",
    "print(Dy)\n",
    "\n",
    "print(\"****************************************\")\n",
    "\n",
    "yp=Dy[0,0]\n",
    "for i in range(n):\n",
    "    p=1\n",
    "    for j in range(i+1):\n",
    "        p*=(xp-x[j])\n",
    "    yp+= p * Dy[i+1,i+1]\n",
    "print(\"For x = %0.1f, y = %0.1f\" %(xp,yp))"
   ]
  },
  {
   "cell_type": "code",
   "execution_count": 54,
   "metadata": {},
   "outputs": [
    {
     "name": "stdout",
     "output_type": "stream",
     "text": [
      "[[ 1.  0.  0.  0.  0.  0.]\n",
      " [ 1.  1.  0.  0.  0.  0.]\n",
      " [ 1.  1.  1.  0.  0.  0.]\n",
      " [ 1.  1.  1.  1.  0.  0.]\n",
      " [ 1.  1.  1.  1.  1.  0.]\n",
      " [ 1.  1.  1.  1.  1.  1.]]\n"
     ]
    }
   ],
   "source": [
    "% reset -f\n",
    "import numpy as np\n",
    "n=5\n",
    "Dy=np.zeros((n+1,n+1))\n",
    "\n",
    "\n",
    "for j in range(n+1):\n",
    "    for i in range(j,n+1):\n",
    "        Dy[i,j]= 1\n",
    "print(Dy)"
   ]
  },
  {
   "cell_type": "markdown",
   "metadata": {},
   "source": [
    "## Linear Regression Section"
   ]
  },
  {
   "cell_type": "markdown",
   "metadata": {},
   "source": [
    "###### Linear Regression Method using simple for loop"
   ]
  },
  {
   "cell_type": "code",
   "execution_count": 83,
   "metadata": {},
   "outputs": [
    {
     "name": "stdout",
     "output_type": "stream",
     "text": [
      "The straight line equation is\n",
      "y = (-28.30) + (9.09)x\n"
     ]
    }
   ],
   "source": [
    "%reset -f\n",
    "x=[3,4,5,6,7,8]\n",
    "y=[0,7,17,26,35,45]\n",
    "n=len(x)\n",
    "\n",
    "sumx = sumxy = sumx2 = sumy = 0\n",
    "\n",
    "for i in range(n):\n",
    "    sumx += x[i]\n",
    "    sumxy += x[i]*y[i]\n",
    "    sumx2 += x[i]**2\n",
    "    sumy +=y[i]\n",
    "    \n",
    "xm = sumx/n\n",
    "ym = sumy/n\n",
    "\n",
    "a= (ym*sumx2 - xm*sumxy)/(sumx2 - n* xm**2)\n",
    "b= (sumxy - xm*sumy)/(sumx2 - n* xm**2)\n",
    "\n",
    "print(\"The straight line equation is\")\n",
    "print(\"y = (%0.2f) + (%0.2f)x\" %(a,b))\n"
   ]
  },
  {
   "cell_type": "markdown",
   "metadata": {},
   "source": [
    "###### Direct Method with Numpy, Linear Regression"
   ]
  },
  {
   "cell_type": "code",
   "execution_count": 90,
   "metadata": {},
   "outputs": [
    {
     "name": "stdout",
     "output_type": "stream",
     "text": [
      "The straight line equation is\n",
      "y = (-28.30) + (9.09)x\n"
     ]
    }
   ],
   "source": [
    "%reset -f\n",
    "from numpy import array,sum,mean\n",
    "x=array([3,4,5,6,7,8])\n",
    "y=array([0,7,17,26,35,45])\n",
    "n=len(x)\n",
    "\n",
    "\n",
    "a= (mean(y)*sum(x**2) - mean(x)*sum(x*y)) /( sum(x**2) - n* mean(x)**2 )\n",
    "b= (sum(x*y) - mean(x)*sum(y))/( sum(x**2) - n* mean(x)**2 )\n",
    "\n",
    "\n",
    "print(\"The straight line equation is\")\n",
    "print(\"y = (%0.2f) + (%0.2f)x\" %(a,b))"
   ]
  },
  {
   "cell_type": "markdown",
   "metadata": {},
   "source": [
    "###### Polynomial of required regression data"
   ]
  },
  {
   "cell_type": "code",
   "execution_count": 131,
   "metadata": {},
   "outputs": [
    {
     "name": "stdout",
     "output_type": "stream",
     "text": [
      "The polynomila is\n",
      "1.99999999992    +22.416667 x^1   -31.458333 x^2   +19.208333 x^3   -4.541667 x^4   +0.375000 x^5"
     ]
    }
   ],
   "source": [
    "%reset -f\n",
    "import numpy as np\n",
    "x=np.arange(6)\n",
    "y=np.array([2,8,14,28,39,62],float)\n",
    "m=len(x)\n",
    "n=5   # Degree of polynomial, 2,3,4....\n",
    "A=np.zeros((n+1,n+1))\n",
    "B=np.zeros(n+1)\n",
    "X=np.zeros(n+1)\n",
    "for i in range(n+1):\n",
    "    for j in range(n+1):\n",
    "        if i==0 and j==0:\n",
    "            A[i,j]=m\n",
    "            continue\n",
    "        A[i,j]=np.sum(x**(i+j))\n",
    "    B[i]=np.sum(x**i * y)\n",
    "X=np.linalg.solve(A,B)\n",
    "\n",
    "\n",
    "print(\"The polynomila is\")\n",
    "print(X[0],\"\",end='')\n",
    "for i in range(1,n+1):\n",
    "    print(\"   %+f x^%d\" %(X[i],i),end='')"
   ]
  },
  {
   "cell_type": "markdown",
   "metadata": {},
   "source": [
    "### Interpolation and Curve fitting with Numpy & Scipy"
   ]
  },
  {
   "cell_type": "markdown",
   "metadata": {},
   "source": [
    "###### Linear, Quadratic,Cubic Interpolation"
   ]
  },
  {
   "cell_type": "code",
   "execution_count": 150,
   "metadata": {},
   "outputs": [
    {
     "name": "stdout",
     "output_type": "stream",
     "text": [
      "18.080000000000002\n",
      "18.152541176470592\n",
      "18.150634666666665\n"
     ]
    }
   ],
   "source": [
    "%reset -f\n",
    "import numpy as np\n",
    "from scipy.interpolate import interp1d\n",
    "x=np.array([3,4,5,6,7,8],float)\n",
    "y=np.array([0,7,17,26,35,45],float)\n",
    "\n",
    "f_linear = interp1d(x,y)\n",
    "f_quad = interp1d(x,y,\"quadratic\")\n",
    "f_cubic = interp1d(x,y,\"cubic\")\n",
    "print(f_linear(5.12))\n",
    "print(f_quad(5.12))\n",
    "print(f_cubic(5.12))"
   ]
  },
  {
   "cell_type": "markdown",
   "metadata": {},
   "source": [
    "###### Lagrange Interpolation"
   ]
  },
  {
   "cell_type": "code",
   "execution_count": 154,
   "metadata": {},
   "outputs": [
    {
     "data": {
      "text/plain": [
       "30.378906249969873"
      ]
     },
     "execution_count": 154,
     "metadata": {},
     "output_type": "execute_result"
    }
   ],
   "source": [
    "%reset -f\n",
    "import numpy as np\n",
    "from scipy.interpolate import lagrange \n",
    "x=np.array([3,4,5,6,7,8],float)\n",
    "y=np.array([0,7,17,26,35,45],float)\n",
    "\n",
    "l=lagrange(x,y)\n",
    "l(6.5)"
   ]
  },
  {
   "cell_type": "markdown",
   "metadata": {},
   "source": [
    "###### Linear Regression"
   ]
  },
  {
   "cell_type": "code",
   "execution_count": 157,
   "metadata": {},
   "outputs": [
    {
     "name": "stdout",
     "output_type": "stream",
     "text": [
      "-28.3047619048 9.08571428571\n"
     ]
    }
   ],
   "source": [
    "%reset -f\n",
    "import numpy as np\n",
    "from scipy.stats import linregress \n",
    "x=np.array([3,4,5,6,7,8],float)\n",
    "y=np.array([0,7,17,26,35,45],float)\n",
    "l=linregress(x,y)\n",
    "print(l.intercept,l.slope)"
   ]
  },
  {
   "cell_type": "markdown",
   "metadata": {},
   "source": [
    "###### Polynomial Curve fitting"
   ]
  },
  {
   "cell_type": "code",
   "execution_count": 162,
   "metadata": {},
   "outputs": [
    {
     "name": "stdout",
     "output_type": "stream",
     "text": [
      "[  1.92857143e+00   5.67857143e+00  -2.17847962e-12   2.50000000e-01]\n"
     ]
    }
   ],
   "source": [
    "%reset -f\n",
    "import numpy as np\n",
    "from scipy.optimize import curve_fit \n",
    "x=np.array([0,1,2,3,4,5],float)\n",
    "y=np.array([2,8,14,28,39,62],float)\n",
    "\n",
    "def f(x,a0,a1,a2,a3):\n",
    "    return a0 + a1*x**1 + a2*x**2 + a3*x**3\n",
    "a,_=curve_fit(f,x,y)\n",
    "print(a)"
   ]
  },
  {
   "cell_type": "code",
   "execution_count": null,
   "metadata": {
    "collapsed": true
   },
   "outputs": [],
   "source": []
  }
 ],
 "metadata": {
  "kernelspec": {
   "display_name": "Python 3",
   "language": "python",
   "name": "python3"
  },
  "language_info": {
   "codemirror_mode": {
    "name": "ipython",
    "version": 3
   },
   "file_extension": ".py",
   "mimetype": "text/x-python",
   "name": "python",
   "nbconvert_exporter": "python",
   "pygments_lexer": "ipython3",
   "version": "3.6.10"
  }
 },
 "nbformat": 4,
 "nbformat_minor": 2
}
