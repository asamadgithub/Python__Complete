{
 "cells": [
  {
   "cell_type": "markdown",
   "metadata": {},
   "source": [
    "<a id=\"start\"></a>\n",
    "\n",
    "<span style=\"padding: 0 05px\"></span> [ <font color = \"black\" size =\"4\" > **Ch 1.** <span style = \"padding:0 2px\"></span> **Conda, some useful stuff?**](#ch_1) </font>   <br/>\n",
    "<span style=\"padding: 0 40px\"></span> [ <font color = \"blue\" size =\"2\" > 1.1 <span style = \"padding:0 12px\">Upgrade Conda</span> ](#ref_1.1) </font>   <br/>\n",
    "<span style=\"padding: 0 40px\"></span> [ <font color = \"blue\" size =\"2\" > 1.2 <span style = \"padding:0 12px\">Popular keyboard shortcuts</span> ](#ref_1.2) </font>   <br/>\n",
    "<span style=\"padding: 0 40px\"></span> [ <font color = \"blue\" size =\"2\" > 1.3 <span style = \"padding:0 12px\">Importing libraries</span> ](#ref_1.3) </font>   <br/>\n",
    "\n",
    "\n",
    "<span style=\"padding: 0 05px\"></span> [ <font color = \"black\" size =\"4\" > **Ch 2.** <span style = \"padding:0 2px\"></span> **Series Module**](#ch_2) </font>   <br/>\n",
    "<span style=\"padding: 0 40px\"></span> [ <font color = \"blue\" size =\"2\" > 2.1 <span style = \"padding:0 12px\"></span> Creating Series from 1-D array](#ref_2.1) </font>   <br/>\n",
    "<span style=\"padding: 0 40px\"></span> [<font color = \"blue\" > 2.2 <span style = \"padding:0 12px\"></span> Intro to Attributes in Series context](#ref_2.2) </font><br/>\n",
    "<span style=\"padding: 0 40px\"></span> [<font color = \"blue\" > 2.3 <span style = \"padding:0 12px\"></span> Intro to Intro to Methods](#ref_2.3) </font><br/>\n",
    "<span style=\"padding: 0 40px\"></span> [<font color = \"blue\" > 2.4 <span style = \"padding:0 12px\"></span> Parameters and Argumemts](#ref_2.4) </font><br/>\n",
    "<span style=\"padding: 0 40px\"></span> [<font color = \"blue\" > 2.5 <span style = \"padding:0 12px\"></span> Import series with read_csv Method, separate one columns; \"usecol\" argument](#ref_2.5) </font><br/>\n",
    "<span style=\"padding: 0 40px\"></span> [<font color = \"blue\" > 2.6 <span style = \"padding:0 12px\"></span> Built in Python functions, used for Pandas Series](#ref_2.6) </font><br/>\n",
    "<span style=\"padding: 0 40px\"></span> [<font color = \"blue\" > 2.7 <span style = \"padding:0 12px\"></span> More from Series Attributes](#ref_2.7) </font><br/>\n",
    "<span style=\"padding: 0 40px\"></span> [<font color = \"blue\" > 2.8 <span style = \"padding:0 12px\"></span> .sort_values() method in detail](#ref_2.8) </font><br/>\n",
    "<span style=\"padding: 0 40px\"></span> [<font color = \"blue\" > 2.9 <span style = \"padding:0 12px\"></span> Make permanent change with .inplace Parameter in detail](#ref_2.9) </font><br/>\n",
    "<span style=\"padding: 0 40px\"></span> [<font color = \"blue\" > 2.10 <span style = \"padding:0 8px\"></span> .sort_index()](#ref_2.10) </font><br/>\n",
    "<span style=\"padding: 0 40px\"></span> [<font color = \"blue\" > 2.11 <span style = \"padding:0 8px\"></span> Python \"in\" keyword in pandas series](#ref_2.11) </font><br/>\n",
    "<span style=\"padding: 0 40px\"></span> [<font color = \"blue\" > 2.12 <span style = \"padding:0 8px\"></span> Extract values by index position](#ref_2.12) </font><br/>\n",
    "<span style=\"padding: 0 40px\"></span> [<font color = \"blue\" > 2.13 <span style = \"padding:0 8px\"></span> Extract values by index label](#ref_2.13) </font><br/>\n",
    "<span style=\"padding: 0 40px\"></span> [<font color = \"blue\" > 2.14 <span style = \"padding:0 8px\"></span> .get() method, useful for custamized NaN replaced output](#ref_2.14) </font><br/>\n",
    "<span style=\"padding: 0 40px\"></span> [<font color = \"blue\" > 2.15 <span style = \"padding:0 8px\"></span> Math methods for series object](#ref_2.15) </font><br/>\n",
    "<span style=\"padding: 0 40px\"></span> [<font color = \"blue\" > 2.16 <span style = \"padding:0 8px\"></span> .idxmax( ) and .idxmin( ) ](#ref_2.16) </font><br/>\n",
    "<span style=\"padding: 0 40px\"></span> [<font color = \"blue\" > 2.17 <span style = \"padding:0 8px\"></span> .value_counts( ) method](#ref_2.17) </font><br/>\n",
    "<span style=\"padding: 0 40px\"></span> [<font color = \"blue\" > 2.18 <span style = \"padding:0 8px\"></span> .apply( ) method](#ref_2.18) </font><br/>\n",
    "<span style=\"padding: 0 40px\"></span> [<font color = \"blue\" > 2.19 <span style = \"padding:0 8px\"></span> .map( ) method](#ref_2.19) </font><br/>\n",
    "\n",
    "<span style=\"padding: 0 05px\"></span> [ <font color = \"black\" size =\"4\" > **Ch 3.** <span style = \"padding:0 2px\"></span> **Data Frames-1**](#ch_3) </font>   <br/>\n",
    "\n",
    "\n",
    "<span style=\"padding: 0 40px\"></span> [<font color = \"blue\" > 3.1 <span style = \"padding:0 12px\"></span> Shared methods and attributes with Series objects](#ref_3.1) </font><br/>\n",
    "<span style=\"padding: 0 40px\"></span> [<font color = \"blue\" > 3.2 <span style = \"padding:0 12px\"></span> Some commonly used methods and attributes for Data Frames](#ref_3.2) </font><br/>\n",
    "<span style=\"padding: 0 40px\"></span> [<font color = \"blue\" > 3.3 <span style = \"padding:0 12px\"></span> Broadcasting Operations](#ref_3.3) </font><br/>\n",
    "<span style=\"padding: 0 40px\"></span> [<font color = \"blue\" > 3.4 <span style = \"padding:0 12px\"></span> Revision , .value_count( ) method](#ref_3.4) </font><br/>\n",
    "<span style=\"padding: 0 40px\"></span> [<font color = \"blue\" > 3.5 <span style = \"padding:0 12px\"></span> Drop the NaN values](#ref_3.5) </font><br/>\n",
    "<span style=\"padding: 0 40px\"></span> [<font color = \"blue\" > 3.6 <span style = \"padding:0 12px\"></span> .astype( );  [\"category\"]  and selecting type of individual list](#ref_3.6) </font><br/>\n",
    "<span style=\"padding: 0 40px\"></span> [<font color = \"blue\" > 3.7 <span style = \"padding:0 12px\"></span>  .sort_values( ) ; .sort_index( ) in Data Frame context](#ref_3.7) </font><br/>\n",
    "<span style=\"padding: 0 40px\"></span> [<font color = \"blue\" > 3.8 <span style = \"padding:0 12px\"></span> .astype( .rank( ) in Data Frame](#ref_3.8) </font><br/>\n",
    "\n",
    "<span style=\"padding: 0 05px\"></span> [ <font color = \"black\" size =\"4\" > **Ch 4.** <span style = \"padding:0 2px\"></span> **Data Frames-2**](#ch_4) </font>   <br/>\n",
    "**<font color = 'green' >In this section, focus is on filtering </font>**  <br/>\n",
    "<span style=\"padding: 0 40px\"></span> [<font color = \"blue\" > 4.1 <span style = \"padding:0 12px\"></span> Useful Pandas Data Structures for saving memories](#ref_4.1) </font><br/>\n",
    "<span style=\"padding: 0 40px\"></span> [<font color = \"blue\" > 4.2 <span style = \"padding:0 12px\"></span> Extracting by boolean list](#ref_4.2) </font><br/>\n",
    "<span style=\"padding: 0 40px\"></span> [<font color = \"blue\" > 4.3 <span style = \"padding:0 12px\"></span> Filtering  with more than 1 CONDITION](#ref_4.3) </font><br/>\n",
    "<span style=\"padding: 0 40px\"></span> [<font color = \"blue\" > 4.4 <span style = \"padding:0 12px\"></span> Multiple OR conditions in single line FOR Single Column](#ref_4.4) </font><br/>\n",
    "<span style=\"padding: 0 40px\"></span> [<font color = \"blue\" > 4.5 <span style = \"padding:0 12px\"></span> Detecting null values; .isnull( ) , .notnull( )](#ref_4.5) </font><br/>\n",
    "<span style=\"padding: 0 40px\"></span> [<font color = \"blue\" > 4.6 <span style = \"padding:0 12px\"></span> .between method](#ref_4.6) </font><br/>\n",
    "<span style=\"padding: 0 40px\"></span> [<font color = \"blue\" > 4.7 <span style = \"padding:0 12px\"></span> .duplicated( ) method](#ref_4.7) </font><br/>\n",
    "<span style=\"padding: 0 40px\"></span> [<font color = \"blue\" > 4.8 <span style = \"padding:0 12px\"></span> .drop_duplicate( ) method](#ref_4.8) </font><br/>\n",
    "<span style=\"padding: 0 40px\"></span> [<font color = \"blue\" > 4.9 <span style = \"padding:0 12px\"></span> What are and how many unique items in a Column?](#ref_4.9) </font><br/>\n",
    "\n",
    "<span style=\"padding: 0 05px\"></span> [ <font color = \"black\" size =\"4\" > **Ch 5.** <span style = \"padding:0 2px\"></span> **Data Frames-3**](#ch_5) </font>   <br/>\n",
    "<span style=\"padding: 0 40px\"></span> [<font color = \"blue\" > 5.1 <span style = \"padding:0 12px\"></span> set_index( ) and reset_index( ) method:](#ref_5.1) </font><br/>\n",
    "<span style=\"padding: 0 40px\"></span> [<font color = \"blue\" > 5.2 <span style = \"padding:0 12px\"></span> Selecting rows and columns in a data Frame](#ref_5.2) </font><br/>\n",
    "<span style=\"padding: 0 40px\"></span> [<font color = \"blue\" > 5.3 <span style = \"padding:0 12px\"></span> Setting news values in a row or columns...](#ref_5.3) </font><br/>\n",
    "<span style=\"padding: 0 40px\"></span> [<font color = \"blue\" > 5.4 <span style = \"padding:0 12px\"></span> Setting news values across multiple rows...](#ref_5.4) </font><br/>\n",
    "<span style=\"padding: 0 40px\"></span> [<font color = \"blue\" > 5.5 <span style = \"padding:0 12px\"></span> Chaning Columns Names](#ref_5.5) </font><br/>\n",
    "<span style=\"padding: 0 40px\"></span> [<font color = \"blue\" > 5.6 <span style = \"padding:0 12px\"></span> Deleting row or columns](#ref_5.6) </font><br/>\n",
    "<span style=\"padding: 0 40px\"></span> [<font color = \"blue\" > 5.7 <span style = \"padding:0 12px\"></span> Selecting  n number of small/large values](#ref_5.7) </font><br/>\n",
    "<span style=\"padding: 0 40px\"></span> [<font color = \"blue\" > 5.8 <span style = \"padding:0 12px\"></span> Overall picture  where some particular scanrio is?](#ref_5.8) </font><br/>\n",
    "<span style=\"padding: 0 40px\"></span> [<font color = \"blue\" > 5.9 <span style = \"padding:0 12px\"></span> Separate copy from df](#ref_5.9) </font><br/>\n",
    "<span style=\"padding: 0 40px\"></span> [<font color = \"blue\" > 5.10 <span style = \"padding:0 8px\"></span>What is .apply() method in pandas context](#ref_5.10) </font><br/>\n",
    "<span style=\"padding: 0 40px\"></span> [<font color = \"blue\" > 5.11 <span style = \"padding:0 8px\"></span>Real example with .apply() method](#ref_5.11) </font><br/>\n",
    "\n",
    "\n",
    "<span style=\"padding: 0 05px\"></span> [ <font color = \"black\" size =\"4\" > **Ch 6.** <span style = \"padding:0 2px\"></span> **Working with Text Data**](#ch_6) </font>   <br/>\n",
    "<span style=\"padding: 0 40px\"></span> [<font color = \"blue\" > 6.1 <span style = \"padding:0 12px\"></span> Common String methods](#ref_6.1) </font><br/>\n",
    "<span style=\"padding: 0 40px\"></span> [<font color = \"blue\" > 6.2 <span style = \"padding:0 12px\"></span> Replace methods ](#ref_6.2) </font><br/>\n",
    "<span style=\"padding: 0 40px\"></span> [<font color = \"blue\" > 6.3 <span style = \"padding:0 12px\"></span> String with some specific ending or starting or inside, Filtering](#ref_6.3) </font><br/>\n",
    "<span style=\"padding: 0 40px\"></span> [<font color = \"blue\" > 6.4 <span style = \"padding:0 12px\"></span> Remove space from left/right sides of a string](#ref_6.4) </font><br/>\n",
    "<span style=\"padding: 0 40px\"></span> [<font color = \"blue\" > 6.5 <span style = \"padding:0 12px\"></span> Split method ](#ref_6.5) </font><br/>\n",
    "\n",
    "<span style=\"padding: 0 05px\"></span> [ <font color = \"black\" size =\"4\" > **Ch 7.** <span style = \"padding:0 2px\"></span> **Introduction to Multi Index Module**](#ch_7) </font>   <br/>\n",
    "<span style=\"padding: 0 40px\"></span> [<font color = \"blue\" > 7.1 <span style = \"padding:0 12px\"></span> Difference Between Simple and Multi-level index](#ref_7.1) </font><br/>\n",
    "<span style=\"padding: 0 40px\"></span> [<font color = \"blue\" > 7.2 <span style = \"padding:0 12px\"></span> How to access via \"index\" in Multi-level DF](#ref_7.2) </font><br/>\n",
    "<span style=\"padding: 0 40px\"></span> [<font color = \"blue\" > 7.3 <span style = \"padding:0 12px\"></span> How to set the index/column names of Multi-index dF ](#ref_7.3) </font><br/>\n",
    "<span style=\"padding: 0 40px\"></span> [<font color = \"blue\" > 7.4 <span style = \"padding:0 12px\"></span> Extract Rows in Multi-level DF](#ref_7.4) </font><br/>\n",
    "<span style=\"padding: 0 40px\"></span> [<font color = \"blue\" > 7.5 <span style = \"padding:0 12px\"></span> Extract Rows in Multi-level DF (example_2)](#ref_7.5) </font><br/>\n",
    "<span style=\"padding: 0 40px\"></span> [<font color = \"blue\" > 7.6 <span style = \"padding:0 12px\"></span> Taking transpose of Multi-level dF](#ref_7.6) </font><br/>\n",
    "<span style=\"padding: 0 40px\"></span> [<font color = \"blue\" > 7.7 <span style = \"padding:0 12px\"></span> Swapping the indexes levels in Multi..](#ref_7.7) </font><br/>\n",
    "<span style=\"padding: 0 40px\"></span> [<font color = \"blue\" > 7.8 <span style = \"padding:0 12px\"></span> Stack and unstack methods the dF](#ref_7.8) </font><br/>\n",
    "<span style=\"padding: 0 40px\"></span> [<font color = \"blue\" > 7.9 <span style = \"padding:0 12px\"></span> Pivot the data with pivot method](#ref_7.9) </font><br/>\n",
    "<span style=\"padding: 0 40px\"></span> [<font color = \"blue\" > 7.10 <span style = \"padding:0 8px\"></span> Slightly different: pivot_table( ) method for more universal use](#ref_7.10) </font><br/>\n",
    "<span style=\"padding: 0 40px\"></span> [<font color = \"blue\" > 7.11 <span style = \"padding:0 8px\"></span> Reducing the aggregated date to simple tabular form with pd.melt( )](#ref_7.11) </font><br/>\n",
    "\n",
    "\n",
    "<span style=\"padding: 0 05px\"></span> [ <font color = \"black\" size =\"4\" > **Ch 8.** <span style = \"padding:0 2px\"></span> **Grouping via .groupby( )method**](#ch_8) </font>   <br/>\n",
    "<span style=\"padding: 0 40px\"></span> [<font color = \"blue\" > 8.1 <span style = \"padding:0 8px\"></span> what is groupby method in general](#ref_8.1) </font><br/>\n",
    "<span style=\"padding: 0 40px\"></span> [<font color = \"blue\" > 8.2 <span style = \"padding:0 8px\"></span> How to extract each sector](#ref_8.2) </font><br/>\n",
    "<span style=\"padding: 0 40px\"></span> [<font color = \"blue\" > 8.3 <span style = \"padding:0 8px\"></span> Now , what methods are available to this groupby object ](#ref_8.3) </font><br/>\n",
    "<span style=\"padding: 0 40px\"></span> [<font color = \"blue\" > 8.4 <span style = \"padding:0 8px\"></span> Grouping via multiple columns ](#ref_8.4) </font><br/>\n",
    "<span style=\"padding: 0 40px\"></span> [<font color = \"blue\" > 8.5 <span style = \"padding:0 8px\"></span> Iterating through groupby( ) ](#ref_8.5) </font><br/>\n",
    "\n",
    "\n",
    "<span style=\"padding: 0 05px\"></span> [ <font color = \"black\" size =\"4\" > **Ch 9.** <span style = \"padding:0 2px\"></span> **Merging, Joining and concatination**](#ch_9) </font>   <br/>\n",
    "<span style=\"padding: 0 40px\"></span> [<font color = \"blue\" > 9.1 <span style = \"padding:0 8px\"></span> Vertical Concatination](#ref_9.1) </font><br/>\n",
    "<span style=\"padding: 0 40px\"></span> [<font color = \"blue\" > 9.2 <span style = \"padding:0 8px\"></span> Adding another layer of before index](#ref_9.2) </font><br/>\n",
    "<span style=\"padding: 0 40px\"></span> [<font color = \"blue\" > 9.3 <span style = \"padding:0 8px\"></span> Directly append one data set](#ref_9.3) </font><br/>\n",
    "<span style=\"padding: 0 40px\"></span> [<font color = \"blue\" > 9.4 <span style = \"padding:0 8px\"></span> Inner and Outer Joins ( Unions and Intersections of two data sets )](#ref_9.4) </font><br/>\n",
    "<span style=\"padding: 0 40px\"></span> [<font color = \"blue\" > 9.5 <span style = \"padding:0 8px\"></span> Left Join , its like Horizontal concatination technique ](#ref_9.5) </font><br/>\n",
    "<span style=\"padding: 0 40px\"></span> [<font color = \"blue\" > 9.6 <span style = \"padding:0 8px\"></span> Situation when columns names are different.. how to merge? ](#ref_9.6) </font><br/>\n",
    "<span style=\"padding: 0 40px\"></span> [<font color = \"blue\" > 9.7 <span style = \"padding:0 8px\"></span> Merging by index](#ref_9.7) </font><br/>\n",
    "\n",
    "<span style=\"padding: 0 05px\"></span> [ <font color = \"black\" size =\"4\" > **Ch 10.** <span style = \"padding:0 2px\"></span> **Input and Output Module**](#ch_10) </font>   <br/>\n",
    "<span style=\"padding: 0 40px\"></span> [<font color = \"blue\" > 10.1 <span style = \"padding:0 8px\"></span> Accessing a URL data in Pandas and actively converting to list,series or comman separated data](#ref_10.1) </font><br/>\n",
    "<span style=\"padding: 0 40px\"></span> [<font color = \"blue\" > 10.2 <span style = \"padding:0 8px\"></span> Writing csv file and export it... with pd.read_cev() method ](#ref_10.2) </font><br/>\n",
    "<span style=\"padding: 0 40px\"></span> [<font color = \"blue\" > 10.3 <span style = \"padding:0 8px\"></span>  Importing excel file](#ref_10.3) </font><br/>\n",
    "<span style=\"padding: 0 40px\"></span> [<font color = \"blue\" > 10.4 <span style = \"padding:0 8px\"></span> Writing file in Excel format](#ref_10.4) </font><br/>\n",
    "\n",
    "<span style=\"padding: 0 05px\"></span> [ <font color = \"black\" size =\"4\" > **Ch 11.** <span style = \"padding:0 2px\"></span> **Introduction to plotting with matplotlib**](#ch_11) </font>   <br/>\n",
    "<span style=\"padding: 0 40px\"></span> [<font color = \"blue\" > 11.1 <span style = \"padding:0 8px\"></span> Getting stock data and plot it simply](#ref_11.1) </font><br/>\n",
    "<span style=\"padding: 0 40px\"></span> [<font color = \"blue\" > 11.2 <span style = \"padding:0 8px\"></span> Template selection and plotting types](#ref_11.2) </font><br/>\n",
    "<span style=\"padding: 0 40px\"></span> [<font color = \"blue\" > 11.3 <span style = \"padding:0 8px\"></span> Different types of plots](#ref_11.3) </font><br/>\n",
    "\n"
   ]
  },
  {
   "cell_type": "markdown",
   "metadata": {},
   "source": [
    "***"
   ]
  },
  {
   "cell_type": "markdown",
   "metadata": {},
   "source": [
    "[Back to Top](#start)"
   ]
  },
  {
   "cell_type": "markdown",
   "metadata": {},
   "source": [
    "### Ch 1.Conda, some useful stuff?  <a id=\"ch_1\"></a>\n",
    "\n",
    "**<font color = 'green' >Inside Anaconda (Python Distribution), \n",
    "there is one library called <font color =\"red\" size =\"3\"> <u>conda</u> </font>.This library is there to install other libraries for Anaconda distribution.</font>**"
   ]
  },
  {
   "cell_type": "markdown",
   "metadata": {},
   "source": [
    "#### <font color = \"navy\" >1.1 Upgrade Conda</font>  <a id=\"ref_1.1\"></a>\n",
    "\n",
    "**<font color = \"blue\" >1.1.1 Updating Anaconda itself</font>** <br>\n",
    "Use Following commands on terminal to update conda:\n",
    "    1. source activate root\n",
    "    2. conda update conda ;  (updating itself)\n",
    "\n",
    "This will just download these packages , unpack and install in respective libraries.\n",
    "\n",
    "\n",
    "**<font color = \"blue\" >1.1.2 Also update/install the markdown:</font>** \n",
    "    1. conda install markdown \n",
    "\n",
    "Nice thing about install it, if already there then it will update otherwise install the latest version\n",
    "\n",
    "**<font color = \"blue\" >1.1.3 Also update/install the bottleneck: </font>** \n",
    "    1. conda install bottleneck \n",
    "\n",
    "This is speed accelration processes\n",
    "\n",
    "**<font color = \"blue\" >1.1.4 Also update/install the numexpr: </font>** \n",
    "    1. conda install numexpr \n",
    "\n",
    "Another accelration library\n",
    "\n",
    "**<font color = \"blue\" >1.1.5 Also update/install the matplotlib:</font>** \n",
    "    1. conda install matplotlib \n",
    "\n",
    "**<font color = \"blue\" >1.1.6 Update all installed conda libraries:</font>**\n",
    "    1. conda update --all "
   ]
  },
  {
   "cell_type": "markdown",
   "metadata": {},
   "source": [
    "[Back to Top](#start)"
   ]
  },
  {
   "cell_type": "markdown",
   "metadata": {},
   "source": [
    "#### <font color = \"navy\" >2. Popular keyboard shortcuts</font>  <a id=\"ref_1.2\"></a>\n",
    "\n",
    "Firt of all press escape key and then all of the keyboard shortcut would work\n",
    "1. h  &nbsp;&nbsp;&nbsp;  (for help)\n",
    "2. x  &nbsp;&nbsp;&nbsp;  (cut a cell)\n",
    "3. b  &nbsp;&nbsp;&nbsp;  (b for  below; insert cell below)\n",
    "4. shift + enter &nbsp;&nbsp;&nbsp; (cell executation)"
   ]
  },
  {
   "cell_type": "markdown",
   "metadata": {},
   "source": [
    "[Back to Top](#start)"
   ]
  },
  {
   "cell_type": "markdown",
   "metadata": {},
   "source": [
    "#### <font color = \"navy\" >3. Importing libraries</font>  <a id=\"ref_1.3\"></a>"
   ]
  },
  {
   "cell_type": "code",
   "execution_count": 1,
   "metadata": {},
   "outputs": [],
   "source": [
    "import pandas as pd\n",
    "import numpy as np\n",
    "import matplotlib.pyplot as plt\n",
    "%matplotlib inline"
   ]
  },
  {
   "cell_type": "code",
   "execution_count": 2,
   "metadata": {},
   "outputs": [
    {
     "data": {
      "text/plain": [
       "'0.23.4'"
      ]
     },
     "execution_count": 2,
     "metadata": {},
     "output_type": "execute_result"
    }
   ],
   "source": [
    "pd.__version__"
   ]
  },
  {
   "cell_type": "code",
   "execution_count": 3,
   "metadata": {},
   "outputs": [
    {
     "data": {
      "text/plain": [
       "'1.15.4'"
      ]
     },
     "execution_count": 3,
     "metadata": {},
     "output_type": "execute_result"
    }
   ],
   "source": [
    "np.__version__"
   ]
  },
  {
   "cell_type": "markdown",
   "metadata": {},
   "source": [
    "[Back to Top](#start)"
   ]
  },
  {
   "cell_type": "markdown",
   "metadata": {},
   "source": [
    "### Ch 2. Series Module <a id=\"ch_2\"></a>"
   ]
  },
  {
   "cell_type": "markdown",
   "metadata": {},
   "source": [
    "#### <font color = \"navy\" >2.1 Creating Series from 1-D array </font> <a id=\"ref_2.1\"></a>"
   ]
  },
  {
   "cell_type": "markdown",
   "metadata": {},
   "source": [
    "- **<font color = 'blue' >2.1.1 Defining a series from 1-D Python Numeric and string array</font>**"
   ]
  },
  {
   "cell_type": "code",
   "execution_count": 1,
   "metadata": {},
   "outputs": [],
   "source": [
    "%reset -f\n",
    "import pandas as pd"
   ]
  },
  {
   "cell_type": "markdown",
   "metadata": {},
   "source": [
    "<font color = \"green\" size =\"3\" > String type array <br/> Special attention: Index and dtype </font> <br/>\n",
    "<font color = \"olive\"> <u> Although we can initiate index but for the time being... its skipped </u></font>"
   ]
  },
  {
   "cell_type": "markdown",
   "metadata": {},
   "source": [
    "- <font color = 'blue' > Example-1</font>"
   ]
  },
  {
   "cell_type": "code",
   "execution_count": 12,
   "metadata": {},
   "outputs": [],
   "source": [
    "ice_creams = [\"vanina\",\"blue_berry\",\"licoris\",\"chocolate\",\"badam\"]\n",
    "pd.Series(ice_creams)  # pandas create me a brand new series object\n",
    "# look at dtype\n",
    "pass"
   ]
  },
  {
   "cell_type": "markdown",
   "metadata": {},
   "source": [
    "- <font color = 'blue' > Example-2</font>"
   ]
  },
  {
   "cell_type": "code",
   "execution_count": 13,
   "metadata": {},
   "outputs": [],
   "source": [
    "lottery = [4,8,26,101,546]\n",
    "pd.Series(lottery)\n",
    "# look at dtype\n",
    "pass"
   ]
  },
  {
   "cell_type": "markdown",
   "metadata": {},
   "source": [
    "<font color = \"olive\"> <u> Everytime series generates the index, <br/> if not provided it starts from zero like above </u></font>"
   ]
  },
  {
   "cell_type": "markdown",
   "metadata": {},
   "source": [
    "- **<font color = 'blue' >2.1.2 Series of Boolean entities </font>**"
   ]
  },
  {
   "cell_type": "code",
   "execution_count": 14,
   "metadata": {},
   "outputs": [],
   "source": [
    "bol = [True,False,True,True,True,True,False,False,False,True]\n",
    "pd.Series(bol)\n",
    "pass"
   ]
  },
  {
   "cell_type": "markdown",
   "metadata": {},
   "source": [
    "- **<font color = 'blue' >2.1.3 A Series object from Python dict </font>**"
   ]
  },
  {
   "cell_type": "markdown",
   "metadata": {},
   "source": [
    "<font color = \"green\" size =\"3\" > String type array <br/> Special attention: Index and dtype </font> <br/>\n",
    "<font color = \"olive\"> <u> Although we can initiate index but for the time being... its skipped </u></font>"
   ]
  },
  {
   "cell_type": "code",
   "execution_count": 6,
   "metadata": {},
   "outputs": [],
   "source": [
    "%reset -f\n",
    "import pandas as pd"
   ]
  },
  {
   "cell_type": "markdown",
   "metadata": {},
   "source": [
    "- <font color = 'blue' > Example-1</font>"
   ]
  },
  {
   "cell_type": "code",
   "execution_count": 15,
   "metadata": {},
   "outputs": [],
   "source": [
    "dic_1 = {\n",
    "       \"one\":\"aik\",\n",
    "        \"two\":\"doo\",\n",
    "        \"three\":\"teen\"\n",
    "}\n",
    "# first just convert it to the pandas series(1d object)\n",
    "pd.Series(dic_1)\n",
    "pass"
   ]
  },
  {
   "cell_type": "markdown",
   "metadata": {},
   "source": [
    "- <font color = 'blue' > Example-2</font>"
   ]
  },
  {
   "cell_type": "code",
   "execution_count": 16,
   "metadata": {},
   "outputs": [],
   "source": [
    "dic_2 = {\n",
    "       \"one\":1,\n",
    "        \"two\":2,\n",
    "        \"three\":3\n",
    "}\n",
    "# first just convert it to the pandas series(1d object)\n",
    "pd.Series(dic_2)\n",
    "pass\n"
   ]
  },
  {
   "cell_type": "markdown",
   "metadata": {},
   "source": [
    "[Back to Top](#start)"
   ]
  },
  {
   "cell_type": "markdown",
   "metadata": {},
   "source": [
    "<font color = \"olive\"> <u>Keep in mind,series can also have a multiple identical index but funcnalities then somehow reduced<u/> </font>"
   ]
  },
  {
   "cell_type": "markdown",
   "metadata": {},
   "source": [
    "#### <font color = \"navy\" >2.2 Intro to Attributes in Series context</font>  <a id=\"ref_2.2\"></a>"
   ]
  },
  {
   "cell_type": "markdown",
   "metadata": {},
   "source": [
    "<font color = \"olive\"> <u> Attributes don't need paranthesis () ... just thats it <u/> </font>"
   ]
  },
  {
   "cell_type": "markdown",
   "metadata": {},
   "source": [
    "<font color = \"green\" size =\"3\" > Most intensively used are .values,.index,.dtype </font> </font>"
   ]
  },
  {
   "cell_type": "code",
   "execution_count": 13,
   "metadata": {},
   "outputs": [],
   "source": [
    "about_me = [\"Charming\",\"Handsome\",\"Smart\",\"Barilliant\",\"Humble\"]\n",
    "s = pd.Series(about_me)"
   ]
  },
  {
   "cell_type": "code",
   "execution_count": 14,
   "metadata": {},
   "outputs": [
    {
     "data": {
      "text/plain": [
       "array(['Charming', 'Handsome', 'Smart', 'Barilliant', 'Humble'],\n",
       "      dtype=object)"
      ]
     },
     "execution_count": 14,
     "metadata": {},
     "output_type": "execute_result"
    }
   ],
   "source": [
    "s.values"
   ]
  },
  {
   "cell_type": "code",
   "execution_count": 15,
   "metadata": {},
   "outputs": [
    {
     "data": {
      "text/plain": [
       "RangeIndex(start=0, stop=5, step=1)"
      ]
     },
     "execution_count": 15,
     "metadata": {},
     "output_type": "execute_result"
    }
   ],
   "source": [
    "s.index"
   ]
  },
  {
   "cell_type": "code",
   "execution_count": 16,
   "metadata": {},
   "outputs": [
    {
     "data": {
      "text/plain": [
       "dtype('O')"
      ]
     },
     "execution_count": 16,
     "metadata": {},
     "output_type": "execute_result"
    }
   ],
   "source": [
    "s.dtype"
   ]
  },
  {
   "cell_type": "markdown",
   "metadata": {},
   "source": [
    "[Back to Top](#start)"
   ]
  },
  {
   "cell_type": "markdown",
   "metadata": {},
   "source": [
    "#### <font color = \"navy\" >2.3 Intro to Methods</font>  <a id=\"ref_2.3\"></a>"
   ]
  },
  {
   "cell_type": "markdown",
   "metadata": {},
   "source": [
    "<font color = \"olive\"> <u> Attributes  need paranthesis () ... just thats it <u/> </font> <br/>\n",
    "<font color = \"green\" size =\"3\" > Three very basic are: .sum() , .product() , .mean() </font> </font>"
   ]
  },
  {
   "cell_type": "code",
   "execution_count": 27,
   "metadata": {},
   "outputs": [],
   "source": [
    "prices = [1,2,3,4,5]\n",
    "p= pd.Series(prices)"
   ]
  },
  {
   "cell_type": "code",
   "execution_count": 28,
   "metadata": {},
   "outputs": [],
   "source": [
    "p.sum()\n",
    "pass"
   ]
  },
  {
   "cell_type": "code",
   "execution_count": 29,
   "metadata": {},
   "outputs": [],
   "source": [
    "p.product()\n",
    "pass"
   ]
  },
  {
   "cell_type": "code",
   "execution_count": 30,
   "metadata": {},
   "outputs": [],
   "source": [
    "p.mean()\n",
    "pass"
   ]
  },
  {
   "cell_type": "markdown",
   "metadata": {},
   "source": [
    "[Back to Top](#start)"
   ]
  },
  {
   "cell_type": "markdown",
   "metadata": {},
   "source": [
    "#### <font color = \"navy\" >2.4 Parameters and Argumemts</font>  <a id=\"ref_2.4\"></a>"
   ]
  },
  {
   "cell_type": "code",
   "execution_count": 32,
   "metadata": {},
   "outputs": [],
   "source": [
    "%reset -f\n",
    "import pandas as pd"
   ]
  },
  {
   "cell_type": "code",
   "execution_count": 33,
   "metadata": {},
   "outputs": [],
   "source": [
    "fruits = [\"Apple\",\"Orage\",\"Banana\",\"Kiwi\"]\n",
    "days_no = [1,2,3,4]"
   ]
  },
  {
   "cell_type": "markdown",
   "metadata": {},
   "source": [
    "- <font color = 'blue' > Style-1</font>"
   ]
  },
  {
   "cell_type": "code",
   "execution_count": 35,
   "metadata": {},
   "outputs": [],
   "source": [
    "f1 = pd.Series(fruits,days_no)   \n",
    "f1\n",
    "# see, days_no we provide second but its taking it as indexing\n",
    "# and dtype is according to data (which is string = object), \n",
    "pass"
   ]
  },
  {
   "cell_type": "markdown",
   "metadata": {},
   "source": [
    "- <font color = 'blue' > Style-2</font>"
   ]
  },
  {
   "cell_type": "code",
   "execution_count": 36,
   "metadata": {},
   "outputs": [],
   "source": [
    "#style-2\n",
    "f1 = pd.Series(days_no, index = fruits )\n",
    "f1\n",
    "pass"
   ]
  },
  {
   "cell_type": "markdown",
   "metadata": {},
   "source": [
    "<font color = \"olive\" ><u>Keep in mind,series can also have a multiple identical index</u> <br>\n",
    "But some operations are not possible in such case</font> "
   ]
  },
  {
   "cell_type": "markdown",
   "metadata": {},
   "source": [
    "- <font color = 'blue' > Style-3</font> <br/>\n",
    "<font color = \"green\" size =\"3\" > I'll stick to this </font>"
   ]
  },
  {
   "cell_type": "code",
   "execution_count": 37,
   "metadata": {},
   "outputs": [],
   "source": [
    "fruits = [\"Apple\",\"Orage\",\"Banana\",\"Kiwi\",\"Badam\"]\n",
    "days = [\"Monday\",\"Tuesday\",\"Wednesday\",\"Thursday\",\"Monday\"]"
   ]
  },
  {
   "cell_type": "code",
   "execution_count": 38,
   "metadata": {},
   "outputs": [],
   "source": [
    "f2 = pd.Series(data = fruits, index = days)\n",
    "f2\n",
    "pass"
   ]
  },
  {
   "cell_type": "markdown",
   "metadata": {},
   "source": [
    "[Back to Top](#start)"
   ]
  },
  {
   "cell_type": "markdown",
   "metadata": {},
   "source": [
    "#### <font color = \"navy\" >2.5 Import series with read_csv Method, separate one columns; \"usecol\" argument</font> <a id=\"ref_2.5\"></a>"
   ]
  },
  {
   "cell_type": "code",
   "execution_count": 3,
   "metadata": {},
   "outputs": [],
   "source": [
    "%reset -f\n",
    "import pandas as pd"
   ]
  },
  {
   "cell_type": "code",
   "execution_count": 55,
   "metadata": {},
   "outputs": [],
   "source": [
    "pokemon = pd.read_csv(\"files_for_pandas/pokemon.csv\")"
   ]
  },
  {
   "cell_type": "code",
   "execution_count": 56,
   "metadata": {},
   "outputs": [],
   "source": [
    "pokemon.head(6)\n",
    "pass"
   ]
  },
  {
   "cell_type": "markdown",
   "metadata": {},
   "source": [
    "<font color = \"olive\"> <u>We want to single out the \"Pokemon\" column only so use \"usecols = [\"~~~\"]\"</u></font>"
   ]
  },
  {
   "cell_type": "code",
   "execution_count": 42,
   "metadata": {},
   "outputs": [],
   "source": [
    "pokemon = pd.read_csv(\"files_for_pandas/pokemon.csv\", usecols = [\"Pokemon\"])\n",
    "google = pd.read_csv(\"files_for_pandas/google_stock_price.csv\", squeeze=True)"
   ]
  },
  {
   "cell_type": "code",
   "execution_count": 47,
   "metadata": {},
   "outputs": [],
   "source": [
    "pokemon.head(10)\n",
    "pass"
   ]
  },
  {
   "cell_type": "code",
   "execution_count": 44,
   "metadata": {},
   "outputs": [],
   "source": [
    "google.head(10)\n",
    "pass"
   ]
  },
  {
   "cell_type": "markdown",
   "metadata": {},
   "source": [
    "<font color = \"olive\"> <u>Did you notice its still showing as a 2-D data object, so add squeeze paramter</u></font>"
   ]
  },
  {
   "cell_type": "code",
   "execution_count": 59,
   "metadata": {},
   "outputs": [],
   "source": [
    "pokemon = pd.read_csv(\"files_for_pandas/pokemon.csv\", usecols = [\"Pokemon\"],squeeze = True)"
   ]
  },
  {
   "cell_type": "code",
   "execution_count": 60,
   "metadata": {
    "scrolled": true
   },
   "outputs": [],
   "source": [
    "pokemon.head(4)\n",
    "pass"
   ]
  },
  {
   "cell_type": "markdown",
   "metadata": {},
   "source": [
    "[Back to Top](#start)"
   ]
  },
  {
   "cell_type": "markdown",
   "metadata": {},
   "source": [
    "#### <font color = \"navy\" >2.6 Built in Python functions, used for Pandas Series</font> <a id=\"ref_2.6\"></a>"
   ]
  },
  {
   "cell_type": "markdown",
   "metadata": {},
   "source": [
    "- **<font color = 'blue' >2.6.1 len(object_name) ;</font>**  # Total # of rows"
   ]
  },
  {
   "cell_type": "code",
   "execution_count": 61,
   "metadata": {},
   "outputs": [
    {
     "data": {
      "text/plain": [
       "721"
      ]
     },
     "execution_count": 61,
     "metadata": {},
     "output_type": "execute_result"
    }
   ],
   "source": [
    "len(pokemon)"
   ]
  },
  {
   "cell_type": "markdown",
   "metadata": {},
   "source": [
    "- **<font color = \"blue\" >2.6.2 type(object_name) ;</font>**  # type of passing object"
   ]
  },
  {
   "cell_type": "code",
   "execution_count": 62,
   "metadata": {},
   "outputs": [
    {
     "data": {
      "text/plain": [
       "pandas.core.series.Series"
      ]
     },
     "execution_count": 62,
     "metadata": {},
     "output_type": "execute_result"
    }
   ],
   "source": [
    "type(pokemon)"
   ]
  },
  {
   "cell_type": "markdown",
   "metadata": {},
   "source": [
    "- **<font color = \"blue\" >2.6.3 dir(object_name) ;</font>**  # All available methods for this object"
   ]
  },
  {
   "cell_type": "code",
   "execution_count": 63,
   "metadata": {},
   "outputs": [],
   "source": [
    "dir(google)\n",
    "pass"
   ]
  },
  {
   "cell_type": "markdown",
   "metadata": {},
   "source": [
    "- **<font color = \"blue\" >2.6.4 sorted(object_name) ;</font>**  # sorting of an object"
   ]
  },
  {
   "cell_type": "code",
   "execution_count": 64,
   "metadata": {},
   "outputs": [],
   "source": [
    "sorted(google)\n",
    "pass"
   ]
  },
  {
   "cell_type": "markdown",
   "metadata": {},
   "source": [
    "- **<font color = \"blue\" >2.6.5 dict(object_name) ;</font>**  # dictionary representation, index = built in 0,1,2,..; values = object"
   ]
  },
  {
   "cell_type": "code",
   "execution_count": 65,
   "metadata": {},
   "outputs": [],
   "source": [
    "dict(google)\n",
    "pass"
   ]
  },
  {
   "cell_type": "markdown",
   "metadata": {},
   "source": [
    "- **<font color = \"blue\" >2.6.6 max/min(object_name) ;</font>**  # maximum or minimum of Series object"
   ]
  },
  {
   "cell_type": "code",
   "execution_count": 66,
   "metadata": {},
   "outputs": [
    {
     "data": {
      "text/plain": [
       "782.22"
      ]
     },
     "execution_count": 66,
     "metadata": {},
     "output_type": "execute_result"
    }
   ],
   "source": [
    "max(google)"
   ]
  },
  {
   "cell_type": "markdown",
   "metadata": {},
   "source": [
    "[Back to Top](#start)"
   ]
  },
  {
   "cell_type": "markdown",
   "metadata": {},
   "source": [
    "#### <font color = \"navy\" >2.7 More from Series Attributes</font>  <a id=\"ref_2.7\"></a>"
   ]
  },
  {
   "cell_type": "markdown",
   "metadata": {},
   "source": [
    "<font color = \"green\" size =\"2\" > Basically think like a instance method under Series class and beautified with @property decoraters <br>\n",
    "so calling is like **object_name.method** without () </font> </font>"
   ]
  },
  {
   "cell_type": "markdown",
   "metadata": {},
   "source": [
    "- **<font color = \"blue\" > 2.7.1: .values attribute</font>**  # Give all the value of a series object <br>"
   ]
  },
  {
   "cell_type": "code",
   "execution_count": 67,
   "metadata": {},
   "outputs": [
    {
     "data": {
      "text/plain": [
       "array([ 50.12,  54.1 ,  54.65, ..., 773.18, 771.61, 782.22])"
      ]
     },
     "execution_count": 67,
     "metadata": {},
     "output_type": "execute_result"
    }
   ],
   "source": [
    "google.values"
   ]
  },
  {
   "cell_type": "markdown",
   "metadata": {},
   "source": [
    "- **<font color = \"blue\" > 2.7.1: .index attribute</font>** "
   ]
  },
  {
   "cell_type": "code",
   "execution_count": 68,
   "metadata": {},
   "outputs": [
    {
     "data": {
      "text/plain": [
       "RangeIndex(start=0, stop=3012, step=1)"
      ]
     },
     "execution_count": 68,
     "metadata": {},
     "output_type": "execute_result"
    }
   ],
   "source": [
    "google.index"
   ]
  },
  {
   "cell_type": "markdown",
   "metadata": {},
   "source": [
    "- **<font color = \"blue\" > 2.7.2: .dtype attribute</font>** "
   ]
  },
  {
   "cell_type": "code",
   "execution_count": 69,
   "metadata": {},
   "outputs": [
    {
     "data": {
      "text/plain": [
       "dtype('float64')"
      ]
     },
     "execution_count": 69,
     "metadata": {},
     "output_type": "execute_result"
    }
   ],
   "source": [
    "google.dtype"
   ]
  },
  {
   "cell_type": "markdown",
   "metadata": {},
   "source": [
    "- **<font color = \"blue\" > 2.7.3: .is_unique attribute</font>** "
   ]
  },
  {
   "cell_type": "code",
   "execution_count": 70,
   "metadata": {},
   "outputs": [
    {
     "data": {
      "text/plain": [
       "False"
      ]
     },
     "execution_count": 70,
     "metadata": {},
     "output_type": "execute_result"
    }
   ],
   "source": [
    "google.is_unique"
   ]
  },
  {
   "cell_type": "markdown",
   "metadata": {},
   "source": [
    "- **<font color = \"blue\" > 2.7.4: .ndim attribute</font>** # for dimension information"
   ]
  },
  {
   "cell_type": "code",
   "execution_count": 71,
   "metadata": {},
   "outputs": [
    {
     "data": {
      "text/plain": [
       "1"
      ]
     },
     "execution_count": 71,
     "metadata": {},
     "output_type": "execute_result"
    }
   ],
   "source": [
    "pokemon.ndim"
   ]
  },
  {
   "cell_type": "markdown",
   "metadata": {},
   "source": [
    "- **<font color = \"blue\" > 2.7.5: .shape attribute</font>** # for dimension information"
   ]
  },
  {
   "cell_type": "code",
   "execution_count": 72,
   "metadata": {},
   "outputs": [
    {
     "data": {
      "text/plain": [
       "(3012,)"
      ]
     },
     "execution_count": 72,
     "metadata": {},
     "output_type": "execute_result"
    }
   ],
   "source": [
    "google.shape"
   ]
  },
  {
   "cell_type": "markdown",
   "metadata": {},
   "source": [
    "- **<font color = \"blue\" > 2.7.6: .size attribute</font>** # for dimension information"
   ]
  },
  {
   "cell_type": "code",
   "execution_count": 73,
   "metadata": {},
   "outputs": [
    {
     "data": {
      "text/plain": [
       "3012"
      ]
     },
     "execution_count": 73,
     "metadata": {},
     "output_type": "execute_result"
    }
   ],
   "source": [
    "google.size"
   ]
  },
  {
   "cell_type": "markdown",
   "metadata": {},
   "source": [
    "- **<font color = \"blue\" > 2.7.6: .name attribute</font>** # even used for chaning names"
   ]
  },
  {
   "cell_type": "code",
   "execution_count": 74,
   "metadata": {},
   "outputs": [
    {
     "data": {
      "text/plain": [
       "'Pokemon'"
      ]
     },
     "execution_count": 74,
     "metadata": {},
     "output_type": "execute_result"
    }
   ],
   "source": [
    "pokemon.name"
   ]
  },
  {
   "cell_type": "markdown",
   "metadata": {},
   "source": [
    "[Back to Top](#start)"
   ]
  },
  {
   "cell_type": "markdown",
   "metadata": {},
   "source": [
    "#### <font color = \"navy\" >2.8: .sort_values() method in detail</font>  <a id=\"ref_2.8\"></a>"
   ]
  },
  {
   "cell_type": "code",
   "execution_count": 48,
   "metadata": {},
   "outputs": [],
   "source": [
    "%reset -f\n",
    "import pandas as pd"
   ]
  },
  {
   "cell_type": "code",
   "execution_count": 49,
   "metadata": {},
   "outputs": [],
   "source": [
    "pokemon = pd.read_csv(\"files_for_pandas/pokemon.csv\",usecols = [\"Pokemon\"],squeeze = True)"
   ]
  },
  {
   "cell_type": "markdown",
   "metadata": {},
   "source": [
    "<font color = \"olive\"> <u>First just check out our series</u></font>"
   ]
  },
  {
   "cell_type": "code",
   "execution_count": 50,
   "metadata": {},
   "outputs": [],
   "source": [
    "pokemon.head(4)\n",
    "pass"
   ]
  },
  {
   "cell_type": "markdown",
   "metadata": {},
   "source": [
    "<font color = \"olive\"> <u>Now ascending = True, although its by default</u></font>"
   ]
  },
  {
   "cell_type": "code",
   "execution_count": 51,
   "metadata": {},
   "outputs": [],
   "source": [
    "pokemon.sort_values(ascending=True).head()\n",
    "pass"
   ]
  },
  {
   "cell_type": "markdown",
   "metadata": {},
   "source": [
    "<font color = \"olive\"> <u> But it did not change the orignal series permanently, have a look</u></font>"
   ]
  },
  {
   "cell_type": "code",
   "execution_count": 52,
   "metadata": {},
   "outputs": [],
   "source": [
    "pokemon.head(8)\n",
    "pass"
   ]
  },
  {
   "cell_type": "markdown",
   "metadata": {},
   "source": [
    "<font color = \"olive\"> <u>Similalry we can go for ascending = Flase, for revser order</u></font>"
   ]
  },
  {
   "cell_type": "code",
   "execution_count": 53,
   "metadata": {},
   "outputs": [],
   "source": [
    "pokemon.sort_values(ascending=False).head()\n",
    "pass"
   ]
  },
  {
   "cell_type": "markdown",
   "metadata": {},
   "source": [
    "<font color = \"olive\"> <u>Again as expect, it didn't change the series permanently </u></font>"
   ]
  },
  {
   "cell_type": "code",
   "execution_count": 54,
   "metadata": {},
   "outputs": [],
   "source": [
    "pokemon.head(8)\n",
    "pass"
   ]
  },
  {
   "cell_type": "markdown",
   "metadata": {},
   "source": [
    "[Back to Top](#start)"
   ]
  },
  {
   "cell_type": "markdown",
   "metadata": {},
   "source": [
    "#### <font color = \"navy\" >2.9: Make permanent change with .inplace Parameterin detail</font>\n",
    "**It replace the sorted values into the orignal data list**  <a id=\"ref_2.9\"></a>"
   ]
  },
  {
   "cell_type": "code",
   "execution_count": 15,
   "metadata": {},
   "outputs": [],
   "source": [
    "%reset -f\n",
    "import pandas as pd"
   ]
  },
  {
   "cell_type": "code",
   "execution_count": 16,
   "metadata": {},
   "outputs": [],
   "source": [
    "pokemon = pd.read_csv(\"files_for_pandas/pokemon.csv\",usecols=[\"Pokemon\"],squeeze=True)"
   ]
  },
  {
   "cell_type": "code",
   "execution_count": 18,
   "metadata": {},
   "outputs": [],
   "source": [
    "pokemon.head(4)\n",
    "pass"
   ]
  },
  {
   "cell_type": "markdown",
   "metadata": {},
   "source": [
    "<font color = \"olive\"> <u>sort google in ascending=False order</u></font>"
   ]
  },
  {
   "cell_type": "code",
   "execution_count": 61,
   "metadata": {},
   "outputs": [],
   "source": [
    "pokemon.sort_values(ascending=False,inplace = True)\n",
    "pass"
   ]
  },
  {
   "cell_type": "markdown",
   "metadata": {},
   "source": [
    "<font color = \"olive\"> <u>Now the change is permamnet </u></font>"
   ]
  },
  {
   "cell_type": "code",
   "execution_count": 57,
   "metadata": {},
   "outputs": [],
   "source": [
    "pokemon.head(6)\n",
    "pass"
   ]
  },
  {
   "cell_type": "markdown",
   "metadata": {},
   "source": [
    "[Back to Top](#start)"
   ]
  },
  {
   "cell_type": "markdown",
   "metadata": {},
   "source": [
    "#### <font color = \"navy\" >2.10: .sort_index() </font>\n",
    "This is a complementry method of .sort.values() method  <a id=\"ref_2.10\"></a>"
   ]
  },
  {
   "cell_type": "code",
   "execution_count": 62,
   "metadata": {},
   "outputs": [],
   "source": [
    "%reset -f\n",
    "import pandas as pd"
   ]
  },
  {
   "cell_type": "code",
   "execution_count": 63,
   "metadata": {},
   "outputs": [],
   "source": [
    "google = pd.read_csv(\"files_for_pandas/google_stock_price.csv\",squeeze=True)"
   ]
  },
  {
   "cell_type": "markdown",
   "metadata": {},
   "source": [
    "<font color = \"olive\"> <u>Just take a look on the series object</u></font>"
   ]
  },
  {
   "cell_type": "code",
   "execution_count": 71,
   "metadata": {},
   "outputs": [],
   "source": [
    "google.head(4)\n",
    "pass"
   ]
  },
  {
   "cell_type": "markdown",
   "metadata": {},
   "source": [
    "<font color = \"olive\"> <u>Sort according to ascending index order</u></font>"
   ]
  },
  {
   "cell_type": "code",
   "execution_count": 65,
   "metadata": {},
   "outputs": [],
   "source": [
    "google.sort_index(ascending=False,inplace=True)"
   ]
  },
  {
   "cell_type": "code",
   "execution_count": 72,
   "metadata": {},
   "outputs": [],
   "source": [
    "google.head(8)\n",
    "pass"
   ]
  },
  {
   "cell_type": "markdown",
   "metadata": {},
   "source": [
    "<font color = \"olive\"> <u>Hmmm,,,, lets sort the value sof google series</u></font>"
   ]
  },
  {
   "cell_type": "code",
   "execution_count": 67,
   "metadata": {},
   "outputs": [],
   "source": [
    "google.sort_values(ascending=True,inplace=True)\n",
    "pass"
   ]
  },
  {
   "cell_type": "markdown",
   "metadata": {},
   "source": [
    "<font color = \"olive\"> <u>Now look here, values are sorted but the index is shuffled</u></font>"
   ]
  },
  {
   "cell_type": "code",
   "execution_count": 73,
   "metadata": {},
   "outputs": [],
   "source": [
    "google.head(9)\n",
    "pass"
   ]
  },
  {
   "cell_type": "markdown",
   "metadata": {},
   "source": [
    "<font color = \"olive\"> <u>To get the orignal shape of the date as in file, \n",
    " we can do .index_sorting() sorting</u></font>"
   ]
  },
  {
   "cell_type": "code",
   "execution_count": 69,
   "metadata": {},
   "outputs": [],
   "source": [
    "google.sort_index(ascending=True,inplace=True)\n",
    "pass"
   ]
  },
  {
   "cell_type": "code",
   "execution_count": 74,
   "metadata": {},
   "outputs": [],
   "source": [
    "google.head(9)\n",
    "pass"
   ]
  },
  {
   "cell_type": "markdown",
   "metadata": {},
   "source": [
    "[Back to Top](#start)"
   ]
  },
  {
   "cell_type": "markdown",
   "metadata": {},
   "source": [
    "#### <font color = \"navy\" >2.11: Python \"in\" keyword in pandas series </font>  <a id=\"ref_2.11\"></a>"
   ]
  },
  {
   "cell_type": "markdown",
   "metadata": {},
   "source": [
    "- **<font color = \"blue\"> <u> Example Python in-key word <u/></font>**"
   ]
  },
  {
   "cell_type": "code",
   "execution_count": 76,
   "metadata": {},
   "outputs": [],
   "source": [
    "# for example\n",
    "3 in [1,2,3,4,5,6,7]\n",
    "pass"
   ]
  },
  {
   "cell_type": "code",
   "execution_count": 77,
   "metadata": {},
   "outputs": [],
   "source": [
    "%reset -f\n",
    "import pandas as pd\n",
    "pokemon = pd.read_csv(\"files_for_pandas/pokemon.csv\",usecols=[\"Pokemon\"],squeeze=True)\n",
    "google = pd.read_csv(\"files_for_pandas/google_stock_price.csv\",squeeze=True)"
   ]
  },
  {
   "cell_type": "code",
   "execution_count": 79,
   "metadata": {},
   "outputs": [],
   "source": [
    "pokemon.head(4)\n",
    "pass"
   ]
  },
  {
   "cell_type": "markdown",
   "metadata": {},
   "source": [
    "<font color = \"olive\"> <u>Now lets apply like Bulbasaur in Pokemon </u></font>"
   ]
  },
  {
   "cell_type": "code",
   "execution_count": 80,
   "metadata": {},
   "outputs": [],
   "source": [
    "\"Bulbasaur\" in pokemon\n",
    "pass"
   ]
  },
  {
   "cell_type": "markdown",
   "metadata": {},
   "source": [
    "<font color = \"olive\"> <u>Why False? , its because be default its is checking in the index\n",
    "we can proove that by looking in to <br>\n",
    "100 in pokemon <br>\n",
    "here you will get True so in principle this syntax is equal to following syntax <br>\n",
    "100 in pokemon.index\n",
    "</u></font>"
   ]
  },
  {
   "cell_type": "code",
   "execution_count": 81,
   "metadata": {},
   "outputs": [],
   "source": [
    "100 in pokemon\n",
    "pass"
   ]
  },
  {
   "cell_type": "code",
   "execution_count": 82,
   "metadata": {},
   "outputs": [],
   "source": [
    "100 in pokemon.index\n",
    "pass"
   ]
  },
  {
   "cell_type": "markdown",
   "metadata": {},
   "source": [
    "<font color = \"olive\"> <u> So, solution is check \"Bulbasaur\"\" in the pokemon.values\n",
    "</u></font>"
   ]
  },
  {
   "cell_type": "code",
   "execution_count": 83,
   "metadata": {},
   "outputs": [],
   "source": [
    "\"Bulbasaur\" in pokemon.values\n",
    "pass"
   ]
  },
  {
   "cell_type": "markdown",
   "metadata": {},
   "source": [
    "[Back to Top](#start)"
   ]
  },
  {
   "cell_type": "markdown",
   "metadata": {},
   "source": [
    "#### <font color = \"navy\" >2.12: Extract values by index position </font>  <a id=\"ref_2.12\"></a>"
   ]
  },
  {
   "cell_type": "code",
   "execution_count": 273,
   "metadata": {},
   "outputs": [],
   "source": [
    "%reset -f\n",
    "import pandas as pd"
   ]
  },
  {
   "cell_type": "code",
   "execution_count": 274,
   "metadata": {},
   "outputs": [],
   "source": [
    "pokemon = pd.read_csv(\"files_for_pandas/pokemon.csv\",usecols=[\"Pokemon\"],squeeze=True)\n",
    "google = pd.read_csv(\"files_for_pandas/google_stock_price.csv\",squeeze=True)"
   ]
  },
  {
   "cell_type": "code",
   "execution_count": 96,
   "metadata": {},
   "outputs": [],
   "source": [
    "pokemon.head(7)\n",
    "pass"
   ]
  },
  {
   "cell_type": "markdown",
   "metadata": {},
   "source": [
    "- **<font color = \"blue\"> <u> Accessing single value<u/> </font>**"
   ]
  },
  {
   "cell_type": "code",
   "execution_count": 84,
   "metadata": {},
   "outputs": [],
   "source": [
    "pokemon[0]\n",
    "pass"
   ]
  },
  {
   "cell_type": "code",
   "execution_count": 85,
   "metadata": {},
   "outputs": [],
   "source": [
    "pokemon[5]\n",
    "pass"
   ]
  },
  {
   "cell_type": "markdown",
   "metadata": {},
   "source": [
    "- **<font color = \"blue\"> <u> Accessing Multiple values <u/> </font>**"
   ]
  },
  {
   "cell_type": "code",
   "execution_count": 93,
   "metadata": {},
   "outputs": [],
   "source": [
    "pokemon[[100,200,300]]\n",
    "pass"
   ]
  },
  {
   "cell_type": "markdown",
   "metadata": {},
   "source": [
    "- **<font color = \"blue\"> <u> Accessing values in range <u/> </font>**"
   ]
  },
  {
   "cell_type": "code",
   "execution_count": 94,
   "metadata": {},
   "outputs": [],
   "source": [
    "pokemon[12:24]\n",
    "pass"
   ]
  },
  {
   "cell_type": "code",
   "execution_count": 95,
   "metadata": {},
   "outputs": [],
   "source": [
    "pokemon[-18:-12]\n",
    "pass"
   ]
  },
  {
   "cell_type": "markdown",
   "metadata": {},
   "source": [
    "[Back to Top](#start)"
   ]
  },
  {
   "cell_type": "markdown",
   "metadata": {},
   "source": [
    "#### <font color = \"navy\" >2.13: Extract values by index label </font>  <a id=\"ref_2.13\"></a>"
   ]
  },
  {
   "cell_type": "code",
   "execution_count": 88,
   "metadata": {},
   "outputs": [],
   "source": [
    "%reset -f\n",
    "import pandas as pd"
   ]
  },
  {
   "cell_type": "markdown",
   "metadata": {},
   "source": [
    "<font color = \"olive\"> <u> we can set which column we need as an index\n",
    "</u></font>"
   ]
  },
  {
   "cell_type": "code",
   "execution_count": 89,
   "metadata": {},
   "outputs": [],
   "source": [
    "poke_modified = pd.read_csv(\"files_for_pandas/pokemon.csv\",index_col=\"Pokemon\",squeeze = True)\n",
    "poke_modified.sort_index(inplace = True)"
   ]
  },
  {
   "cell_type": "code",
   "execution_count": 90,
   "metadata": {},
   "outputs": [],
   "source": [
    "poke_modified.head(9)\n",
    "pass"
   ]
  },
  {
   "cell_type": "markdown",
   "metadata": {},
   "source": [
    "- **<font color = \"blue\"> <u> Accessing single value<u/> </font>**"
   ]
  },
  {
   "cell_type": "code",
   "execution_count": 91,
   "metadata": {},
   "outputs": [],
   "source": [
    "poke_modified[\"Charizard\"]\n",
    "pass"
   ]
  },
  {
   "cell_type": "markdown",
   "metadata": {},
   "source": [
    "<font color = \"olive\"> <u> This time see, even the last item is included\n",
    "</u></font>"
   ]
  },
  {
   "cell_type": "markdown",
   "metadata": {},
   "source": [
    "- **<font color = \"blue\"> <u> Accessing Multiple values<u/> </font>**"
   ]
  },
  {
   "cell_type": "code",
   "execution_count": 98,
   "metadata": {},
   "outputs": [],
   "source": [
    "poke_modified[[\"Charizard\",\"Blastoise\"]]\n",
    "pass"
   ]
  },
  {
   "cell_type": "code",
   "execution_count": 93,
   "metadata": {
    "scrolled": true
   },
   "outputs": [],
   "source": [
    "poke_modified.reindex([[\"Charizard\",\"mian\"]])\n",
    "pass"
   ]
  },
  {
   "cell_type": "markdown",
   "metadata": {},
   "source": [
    "- **<font color = \"blue\"> <u> Accessing index values by range<u/> </font>**"
   ]
  },
  {
   "cell_type": "code",
   "execution_count": 97,
   "metadata": {},
   "outputs": [],
   "source": [
    "poke_modified[\"Blastoise\":\"Charizard\"]\n",
    "pass"
   ]
  },
  {
   "cell_type": "markdown",
   "metadata": {},
   "source": [
    "<font color = \"olive\"> <u> Interesting thing is , we can still access with index\n",
    "</u></font>"
   ]
  },
  {
   "cell_type": "code",
   "execution_count": 94,
   "metadata": {},
   "outputs": [],
   "source": [
    "poke_modified[0]\n",
    "pass"
   ]
  },
  {
   "cell_type": "code",
   "execution_count": 86,
   "metadata": {},
   "outputs": [],
   "source": [
    "poke_modified[0:10]\n",
    "pass"
   ]
  },
  {
   "cell_type": "markdown",
   "metadata": {},
   "source": [
    "[Back to Top](#start)"
   ]
  },
  {
   "cell_type": "markdown",
   "metadata": {},
   "source": [
    "#### <font color = \"navy\" >2.14: .get() method, useful for custamized NaN replaced output </font>  <a id=\"ref_2.14\"></a>"
   ]
  },
  {
   "cell_type": "code",
   "execution_count": 1,
   "metadata": {},
   "outputs": [],
   "source": [
    "%reset -f\n",
    "import pandas as pd"
   ]
  },
  {
   "cell_type": "code",
   "execution_count": 2,
   "metadata": {},
   "outputs": [],
   "source": [
    "poke_modified = pd.read_csv(\"files_for_pandas/pokemon.csv\",index_col=\"Pokemon\",squeeze = True)\n",
    "poke_modified.sort_index(inplace = True)"
   ]
  },
  {
   "cell_type": "code",
   "execution_count": 95,
   "metadata": {},
   "outputs": [],
   "source": [
    "poke_modified.head()\n",
    "pass"
   ]
  },
  {
   "cell_type": "code",
   "execution_count": 96,
   "metadata": {},
   "outputs": [],
   "source": [
    "poke_modified.get(key=\"Ivysaur\",default = \"Not availa\" )\n",
    "pass"
   ]
  },
  {
   "cell_type": "code",
   "execution_count": 85,
   "metadata": {},
   "outputs": [],
   "source": [
    "poke_modified.get(key=[\"Ivysaur\",\"Bulbasaur\",\"Charmeleon\"],default = \"Not availa\" )\n",
    "pass"
   ]
  },
  {
   "cell_type": "code",
   "execution_count": 364,
   "metadata": {},
   "outputs": [],
   "source": [
    "# poke_modified.get([\"Charizard\":\"Blastoise\"])"
   ]
  },
  {
   "cell_type": "markdown",
   "metadata": {},
   "source": [
    "[Back to Top](#start)"
   ]
  },
  {
   "cell_type": "markdown",
   "metadata": {},
   "source": [
    "#### <font color = \"navy\" >2.15: Math methods for series object </font>  <a id=\"ref_2.15\"></a>"
   ]
  },
  {
   "cell_type": "code",
   "execution_count": 98,
   "metadata": {},
   "outputs": [],
   "source": [
    "%reset -f\n",
    "import pandas as pd"
   ]
  },
  {
   "cell_type": "code",
   "execution_count": 99,
   "metadata": {},
   "outputs": [],
   "source": [
    "google = pd.read_csv(\"files_for_pandas/google_stock_price.csv\",squeeze = True)"
   ]
  },
  {
   "cell_type": "markdown",
   "metadata": {},
   "source": [
    "<font color = \"olive\"> <u> Just to remind our self that we are dealing with floating numbers\n",
    "</u></font>"
   ]
  },
  {
   "cell_type": "markdown",
   "metadata": {},
   "source": [
    "- **<font color = \"blue\"> <u>.count() method <u/></font>**"
   ]
  },
  {
   "cell_type": "markdown",
   "metadata": {},
   "source": [
    "<font color = \"green\" size =\"4\" > .count() method excludes the NaN values unlike the len method </font>"
   ]
  },
  {
   "cell_type": "code",
   "execution_count": 100,
   "metadata": {},
   "outputs": [],
   "source": [
    "google.count()\n",
    "pass"
   ]
  },
  {
   "cell_type": "code",
   "execution_count": 101,
   "metadata": {},
   "outputs": [],
   "source": [
    "len(google)\n",
    "pass"
   ]
  },
  {
   "cell_type": "markdown",
   "metadata": {},
   "source": [
    "- **<font color = \"blue\"> <u>.sum( ) method <u/></font>**"
   ]
  },
  {
   "cell_type": "code",
   "execution_count": 103,
   "metadata": {},
   "outputs": [],
   "source": [
    "google.sum()\n",
    "pass"
   ]
  },
  {
   "cell_type": "markdown",
   "metadata": {},
   "source": [
    "- **<font color = \"blue\"> <u>.mean( ) method <u/></font>**"
   ]
  },
  {
   "cell_type": "code",
   "execution_count": 102,
   "metadata": {},
   "outputs": [],
   "source": [
    "google.mean()\n",
    "pass"
   ]
  },
  {
   "cell_type": "markdown",
   "metadata": {},
   "source": [
    "- **<font color = \"blue\"> <u> .std( ) method <u/></font>**"
   ]
  },
  {
   "cell_type": "code",
   "execution_count": 104,
   "metadata": {},
   "outputs": [],
   "source": [
    "google.std()   # standard deviation\n",
    "pass"
   ]
  },
  {
   "cell_type": "markdown",
   "metadata": {},
   "source": [
    "- **<font color = \"blue\"> <u> .min/max( ) method <u/></font>**"
   ]
  },
  {
   "cell_type": "code",
   "execution_count": 105,
   "metadata": {},
   "outputs": [],
   "source": [
    "google.min()\n",
    "pass"
   ]
  },
  {
   "cell_type": "markdown",
   "metadata": {},
   "source": [
    "- **<font color = \"blue\"> <u> .median( ) method <u/></font>**"
   ]
  },
  {
   "cell_type": "code",
   "execution_count": 106,
   "metadata": {},
   "outputs": [],
   "source": [
    "google.median()\n",
    "pass"
   ]
  },
  {
   "cell_type": "markdown",
   "metadata": {},
   "source": [
    "- **<font color = \"blue\"> <u> .mode( ) method <u/></font>**"
   ]
  },
  {
   "cell_type": "markdown",
   "metadata": {},
   "source": [
    "<font color = \"olive\"> <u> Value that occurs THE MOST frequently\n",
    "</u></font>"
   ]
  },
  {
   "cell_type": "code",
   "execution_count": 107,
   "metadata": {},
   "outputs": [],
   "source": [
    "google.mode()\n",
    "pass"
   ]
  },
  {
   "cell_type": "markdown",
   "metadata": {},
   "source": [
    "- **<font color = \"blue\"> <u> .describe( ) <u/></font>**"
   ]
  },
  {
   "cell_type": "markdown",
   "metadata": {},
   "source": [
    "<font color = \"olive\"> <u> It provides the sumaary like below\n",
    "</u></font>"
   ]
  },
  {
   "cell_type": "code",
   "execution_count": 79,
   "metadata": {},
   "outputs": [],
   "source": [
    "google.describe()\n",
    "pass"
   ]
  },
  {
   "cell_type": "markdown",
   "metadata": {},
   "source": [
    "[Back to Top](#start)"
   ]
  },
  {
   "cell_type": "markdown",
   "metadata": {},
   "source": [
    "#### <font color = \"navy\" >2.16: .idxmax( ) and .idxmin( ) </font>  <a id=\"ref_2.16\"></a>"
   ]
  },
  {
   "cell_type": "markdown",
   "metadata": {},
   "source": [
    "<font color = \"olive\"> <u> It give the index of max or min\n",
    "</u></font>"
   ]
  },
  {
   "cell_type": "code",
   "execution_count": 404,
   "metadata": {},
   "outputs": [],
   "source": [
    "%reset -f\n",
    "import pandas as pd"
   ]
  },
  {
   "cell_type": "code",
   "execution_count": 405,
   "metadata": {},
   "outputs": [],
   "source": [
    "google = pd.read_csv(\"files_for_pandas/google_stock_price.csv\",squeeze = True)"
   ]
  },
  {
   "cell_type": "code",
   "execution_count": 78,
   "metadata": {},
   "outputs": [],
   "source": [
    "google.head(3)\n",
    "pass"
   ]
  },
  {
   "cell_type": "markdown",
   "metadata": {},
   "source": [
    "<font color = \"olive\"> <u> Just start with .max() method\n",
    "</u></font>"
   ]
  },
  {
   "cell_type": "code",
   "execution_count": 108,
   "metadata": {},
   "outputs": [],
   "source": [
    "google.max()\n",
    "pass"
   ]
  },
  {
   "cell_type": "code",
   "execution_count": 109,
   "metadata": {},
   "outputs": [],
   "source": [
    "google.min()\n",
    "pass"
   ]
  },
  {
   "cell_type": "code",
   "execution_count": 110,
   "metadata": {},
   "outputs": [],
   "source": [
    "google.idxmax()   # index of 3011 is storing the max= 782.22 value\n",
    "pass"
   ]
  },
  {
   "cell_type": "code",
   "execution_count": 111,
   "metadata": {},
   "outputs": [],
   "source": [
    "google[3011]\n",
    "pass"
   ]
  },
  {
   "cell_type": "code",
   "execution_count": 112,
   "metadata": {},
   "outputs": [],
   "source": [
    "google.idxmin()   # index of 11 is storing the min= 49.95 value\n",
    "pass"
   ]
  },
  {
   "cell_type": "code",
   "execution_count": 113,
   "metadata": {},
   "outputs": [],
   "source": [
    "google[11]\n",
    "pass"
   ]
  },
  {
   "cell_type": "markdown",
   "metadata": {},
   "source": [
    "<font color = \"olive\"> <u> Now just take the advantage of combining <br>\n",
    ".idxmiax()/min() with .max()/.min()\n",
    "\n",
    "</u></font>"
   ]
  },
  {
   "cell_type": "code",
   "execution_count": 114,
   "metadata": {},
   "outputs": [],
   "source": [
    "google[google.idxmax()]   # google[here I need index]; .idxmax() method only give index\n",
    "pass"
   ]
  },
  {
   "cell_type": "markdown",
   "metadata": {},
   "source": [
    "[Back to Top](#start)"
   ]
  },
  {
   "cell_type": "markdown",
   "metadata": {},
   "source": [
    "#### <font color = \"navy\" >2.17: .value_counts( ) method </font>  <a id=\"ref_2.17\"></a>"
   ]
  },
  {
   "cell_type": "code",
   "execution_count": 254,
   "metadata": {},
   "outputs": [],
   "source": [
    "%reset -f\n",
    "import pandas as pd"
   ]
  },
  {
   "cell_type": "code",
   "execution_count": 255,
   "metadata": {},
   "outputs": [],
   "source": [
    "pokemon = pd.read_csv(\"files_for_pandas/pokemon.csv\", index_col = \"Pokemon\", squeeze = True)\n",
    "pokemon.head(3)\n",
    "pass"
   ]
  },
  {
   "cell_type": "code",
   "execution_count": 256,
   "metadata": {},
   "outputs": [],
   "source": [
    "pokemon.value_counts()\n",
    "pass"
   ]
  },
  {
   "cell_type": "markdown",
   "metadata": {},
   "source": [
    "<font color = \"olive\"> <u> Now since its a series, we can start calling on different methods on it\n",
    "\n",
    "</u></font>"
   ]
  },
  {
   "cell_type": "code",
   "execution_count": 257,
   "metadata": {},
   "outputs": [
    {
     "data": {
      "text/plain": [
       "721"
      ]
     },
     "execution_count": 257,
     "metadata": {},
     "output_type": "execute_result"
    }
   ],
   "source": [
    "pokemon.value_counts().sum()"
   ]
  },
  {
   "cell_type": "code",
   "execution_count": 259,
   "metadata": {},
   "outputs": [],
   "source": [
    "pokemon.value_counts(ascending=True)\n",
    "pass"
   ]
  },
  {
   "cell_type": "markdown",
   "metadata": {},
   "source": [
    "[Back to Top](#start)"
   ]
  },
  {
   "cell_type": "markdown",
   "metadata": {},
   "source": [
    "#### <font color = \"navy\" >2.18: .apply( ) method </font>  <a id=\"ref_2.18\"></a>"
   ]
  },
  {
   "cell_type": "markdown",
   "metadata": {},
   "source": [
    "<font color = \"olive\"> <u> Its like the Python map function \n",
    "\n",
    "</u></font>"
   ]
  },
  {
   "cell_type": "code",
   "execution_count": 116,
   "metadata": {},
   "outputs": [],
   "source": [
    "%reset -f\n",
    "import pandas as pd"
   ]
  },
  {
   "cell_type": "code",
   "execution_count": 117,
   "metadata": {},
   "outputs": [],
   "source": [
    "google = pd.read_csv(\"files_for_pandas/google_stock_price.csv\",squeeze = True)"
   ]
  },
  {
   "cell_type": "code",
   "execution_count": 118,
   "metadata": {},
   "outputs": [],
   "source": [
    "def classify(num):\n",
    "    if num < 100:\n",
    "        return \"OK\"\n",
    "    if num >=300 and num < 500:\n",
    "        return \"Good\"\n",
    "    if num > 500:\n",
    "        return \"Awsome\""
   ]
  },
  {
   "cell_type": "code",
   "execution_count": 119,
   "metadata": {},
   "outputs": [],
   "source": [
    "google.apply(classify).tail()\n",
    "pass"
   ]
  },
  {
   "cell_type": "markdown",
   "metadata": {},
   "source": [
    "[Back to Top](#start)"
   ]
  },
  {
   "cell_type": "markdown",
   "metadata": {},
   "source": [
    "#### <font color = \"navy\" > 2.19: .map( ) method </font>  <a id=\"ref_2.19\"></a>"
   ]
  },
  {
   "cell_type": "code",
   "execution_count": 120,
   "metadata": {},
   "outputs": [],
   "source": [
    "%reset -f\n",
    "import pandas as pd"
   ]
  },
  {
   "cell_type": "code",
   "execution_count": 121,
   "metadata": {},
   "outputs": [],
   "source": [
    "pok_key = pd.read_csv(\"files_for_pandas/pokemon.csv\",usecols=[\"Pokemon\"],squeeze=True)\n",
    "pok_key.head()\n",
    "output = None"
   ]
  },
  {
   "cell_type": "code",
   "execution_count": 122,
   "metadata": {},
   "outputs": [],
   "source": [
    "pok_value = pd.read_csv(\"files_for_pandas/pokemon.csv\", index_col=\"Pokemon\", squeeze = True)\n",
    "pok_value.head()\n",
    "pass"
   ]
  },
  {
   "cell_type": "code",
   "execution_count": 123,
   "metadata": {},
   "outputs": [],
   "source": [
    "pok_key.map(pok_value).head()\n",
    "output = None"
   ]
  },
  {
   "cell_type": "markdown",
   "metadata": {},
   "source": [
    "<font color = \"olive\" > <u> it takes the value of first structure and compare with the\n",
    "    index of second structure and then return as \n",
    "    index of first : values of second (at same index)\n",
    "    </u></font>\n",
    "    "
   ]
  },
  {
   "cell_type": "markdown",
   "metadata": {},
   "source": [
    "[Back to Top](#start)"
   ]
  },
  {
   "cell_type": "markdown",
   "metadata": {},
   "source": [
    "### Ch 3. Data Frames-1  <a id=\"ch_3\"></a>"
   ]
  },
  {
   "cell_type": "markdown",
   "metadata": {},
   "source": [
    "<font color = \"olive\" >  <u> Series --> 1-d ; Data Frame ---> 2-D </u> </font>\n"
   ]
  },
  {
   "cell_type": "markdown",
   "metadata": {},
   "source": [
    "#### <font color = \"navy\" > 3.1: Shared methods and attributes with Series objects </font>    <a id=\"ref_3.1\"></a>"
   ]
  },
  {
   "cell_type": "code",
   "execution_count": 1,
   "metadata": {},
   "outputs": [],
   "source": [
    "%reset -f\n",
    "import pandas as pd"
   ]
  },
  {
   "cell_type": "code",
   "execution_count": 2,
   "metadata": {},
   "outputs": [],
   "source": [
    "nba = pd.read_csv(\"files_for_pandas/nba.csv\")"
   ]
  },
  {
   "cell_type": "markdown",
   "metadata": {},
   "source": [
    "- **<font color = \"blue\" > 3.1.1: .head( ) method</font>** "
   ]
  },
  {
   "cell_type": "code",
   "execution_count": 174,
   "metadata": {},
   "outputs": [],
   "source": [
    "nba.head(2)\n",
    "output = None"
   ]
  },
  {
   "cell_type": "markdown",
   "metadata": {},
   "source": [
    "- **<font color = \"blue\" > 3.1.2: .tail( ) method </font>**"
   ]
  },
  {
   "cell_type": "code",
   "execution_count": 175,
   "metadata": {},
   "outputs": [],
   "source": [
    "nba.tail(2)\n",
    "output = None"
   ]
  },
  {
   "cell_type": "markdown",
   "metadata": {},
   "source": [
    "- **<font color = \"blue\" > 3.1.2: .index , shape , size  ; attributes </font>**"
   ]
  },
  {
   "cell_type": "code",
   "execution_count": 176,
   "metadata": {},
   "outputs": [
    {
     "data": {
      "text/plain": [
       "4122"
      ]
     },
     "execution_count": 176,
     "metadata": {},
     "output_type": "execute_result"
    }
   ],
   "source": [
    "# nba.index\n",
    "nba.size\n",
    "# nba.shape"
   ]
  },
  {
   "cell_type": "markdown",
   "metadata": {},
   "source": [
    "- **<font color = \"blue\" > 3.1.2: .values attributes </font>**"
   ]
  },
  {
   "cell_type": "code",
   "execution_count": 177,
   "metadata": {},
   "outputs": [],
   "source": [
    "nba.values\n",
    "output = None"
   ]
  },
  {
   "cell_type": "markdown",
   "metadata": {},
   "source": [
    "<font color = \"olive\" >  <u> Here it shows some of the initial and \n",
    "final lines stored in an array, each of which is an stored inside another array, \n",
    "so overall its a 2D object</u> </font>"
   ]
  },
  {
   "cell_type": "markdown",
   "metadata": {},
   "source": [
    "[Back to Top](#start)"
   ]
  },
  {
   "cell_type": "markdown",
   "metadata": {},
   "source": [
    "#### <font color = \"navy\" > 3.2: Some commonly used methods and attributes for Data Frames </font>  <a id=\"ref_3.2\"></a>"
   ]
  },
  {
   "cell_type": "code",
   "execution_count": 21,
   "metadata": {},
   "outputs": [],
   "source": [
    "%reset -f\n",
    "import pandas as pd"
   ]
  },
  {
   "cell_type": "code",
   "execution_count": 22,
   "metadata": {},
   "outputs": [],
   "source": [
    "nba = pd.read_csv(\"files_for_pandas/nba.csv\")\n",
    "nba.head()\n",
    "output = None"
   ]
  },
  {
   "cell_type": "markdown",
   "metadata": {},
   "source": [
    "- **<font color = \"blue\" > 3.2.1: columns and axes attributes </font>**"
   ]
  },
  {
   "cell_type": "code",
   "execution_count": 4,
   "metadata": {},
   "outputs": [],
   "source": [
    "nba.index\n",
    "nba.columns\n",
    "pass"
   ]
  },
  {
   "cell_type": "code",
   "execution_count": 7,
   "metadata": {},
   "outputs": [],
   "source": [
    "# axes combine both index and column... so its very useful\n",
    "nba.axes\n",
    "output = None"
   ]
  },
  {
   "cell_type": "markdown",
   "metadata": {},
   "source": [
    "<font color = \"olive\" >  <u> There is a minute difference between them, <br/>\n",
    ".columns only show names <br/>\n",
    ".axes show the index range as well along with column names    </u> </font>"
   ]
  },
  {
   "cell_type": "markdown",
   "metadata": {},
   "source": [
    " - **<font color = \"blue\" > 3.2.2: Overall scanirio of each column </font>**"
   ]
  },
  {
   "cell_type": "code",
   "execution_count": 29,
   "metadata": {},
   "outputs": [],
   "source": [
    "# nba.info() "
   ]
  },
  {
   "cell_type": "markdown",
   "metadata": {},
   "source": [
    "  - **<font color = \"blue\" > 3.2.3: Selecting single column </font>**"
   ]
  },
  {
   "cell_type": "code",
   "execution_count": 246,
   "metadata": {},
   "outputs": [],
   "source": [
    "nba[\"Name\"]\n",
    "nba[\"Team\"]\n",
    "output = None"
   ]
  },
  {
   "cell_type": "markdown",
   "metadata": {},
   "source": [
    " <font color = \"olive\" >  <u> pay attention, this single column is of type Series which we \n",
    "    can store in a dofferent variable and goon with series properties</u> </font>"
   ]
  },
  {
   "cell_type": "code",
   "execution_count": 247,
   "metadata": {},
   "outputs": [
    {
     "data": {
      "text/plain": [
       "pandas.core.series.Series"
      ]
     },
     "execution_count": 247,
     "metadata": {},
     "output_type": "execute_result"
    }
   ],
   "source": [
    "type(nba[\"Name\"])      # nba[\"Name\"].dtype"
   ]
  },
  {
   "cell_type": "markdown",
   "metadata": {},
   "source": [
    "  - **<font color = \"blue\" > 3.2.4: Selecting more than 1 column </font>**"
   ]
  },
  {
   "cell_type": "code",
   "execution_count": 248,
   "metadata": {},
   "outputs": [],
   "source": [
    "nba[ [\"Name\",\"Team\"] ].head()\n",
    "output = None"
   ]
  },
  {
   "cell_type": "markdown",
   "metadata": {},
   "source": [
    " - **<font color = \"blue\" > 3.2.5: adding column at the end of Data Frame </font>**"
   ]
  },
  {
   "cell_type": "code",
   "execution_count": 9,
   "metadata": {
    "scrolled": true
   },
   "outputs": [],
   "source": [
    "nba[\"at the end\"] = \"after Salary\"\n",
    "# nba.head(3)"
   ]
  },
  {
   "cell_type": "markdown",
   "metadata": {},
   "source": [
    " - **<font color = \"blue\" > 3.2.6: adding column at specific location </font>**"
   ]
  },
  {
   "cell_type": "code",
   "execution_count": 3,
   "metadata": {},
   "outputs": [],
   "source": [
    "nba.insert(loc = 2, column = \"Country\", value = \"Germany\")"
   ]
  },
  {
   "cell_type": "code",
   "execution_count": 20,
   "metadata": {},
   "outputs": [],
   "source": [
    "nba.head(3)\n",
    "pass"
   ]
  },
  {
   "cell_type": "markdown",
   "metadata": {},
   "source": [
    "<font color = \"green\" size =\"2\" > Instead of a particular value we can also insert a full columns in same way </font>"
   ]
  },
  {
   "cell_type": "code",
   "execution_count": 23,
   "metadata": {},
   "outputs": [],
   "source": [
    "# suppose we create two data frames from nba...\n",
    "nba.head()\n",
    "output = None"
   ]
  },
  {
   "cell_type": "code",
   "execution_count": 19,
   "metadata": {},
   "outputs": [],
   "source": [
    "df1 = nba[[\"Name\",\"Team\",\"College\"]]\n",
    "s = nba[\"Salary\"]"
   ]
  },
  {
   "cell_type": "code",
   "execution_count": 27,
   "metadata": {},
   "outputs": [],
   "source": [
    "df1.head()\n",
    "output = None"
   ]
  },
  {
   "cell_type": "code",
   "execution_count": 25,
   "metadata": {},
   "outputs": [],
   "source": [
    "s.head()\n",
    "pass"
   ]
  },
  {
   "cell_type": "code",
   "execution_count": 24,
   "metadata": {},
   "outputs": [],
   "source": [
    "# since we have to insert in df1, lets first check the .axes method\n",
    "df1.axes\n",
    "pass"
   ]
  },
  {
   "cell_type": "code",
   "execution_count": 21,
   "metadata": {},
   "outputs": [],
   "source": [
    "df1.insert(loc = 2,column=\"borrow_salary\",value=s)"
   ]
  },
  {
   "cell_type": "code",
   "execution_count": 23,
   "metadata": {},
   "outputs": [],
   "source": [
    "df1.head()\n",
    "output = None"
   ]
  },
  {
   "cell_type": "markdown",
   "metadata": {},
   "source": [
    "[Back to Top](#start)"
   ]
  },
  {
   "cell_type": "markdown",
   "metadata": {},
   "source": [
    "#### <font color = \"navy\" > 3.3: Broadcasting Operations </font>  <a id=\"ref_3.3\"></a>"
   ]
  },
  {
   "cell_type": "code",
   "execution_count": 2,
   "metadata": {},
   "outputs": [],
   "source": [
    "%reset -f\n",
    "import pandas as pd"
   ]
  },
  {
   "cell_type": "code",
   "execution_count": 3,
   "metadata": {},
   "outputs": [],
   "source": [
    "nba = pd.read_csv(\"files_for_pandas/nba.csv\")"
   ]
  },
  {
   "cell_type": "markdown",
   "metadata": {},
   "source": [
    " - **<font color = \"blue\" > 3.3.1: .add( ) ; .sub( ) ; .mul( ) ; .div( ) operation </font>** <br/>\n",
    " <font color = \"blue\" >  addition, subtration, multiply, division </font>"
   ]
  },
  {
   "cell_type": "code",
   "execution_count": 25,
   "metadata": {},
   "outputs": [],
   "source": [
    "nba.head(3)\n",
    "pass"
   ]
  },
  {
   "cell_type": "code",
   "execution_count": 5,
   "metadata": {},
   "outputs": [],
   "source": [
    "nba[\"Salary\"].fillna(value = 0, inplace = True)\n",
    "# Detail is coming shortly"
   ]
  },
  {
   "cell_type": "code",
   "execution_count": 20,
   "metadata": {},
   "outputs": [],
   "source": [
    "nba[\"Salary\"].head(4)\n",
    "pass"
   ]
  },
  {
   "cell_type": "code",
   "execution_count": 21,
   "metadata": {},
   "outputs": [],
   "source": [
    "nba[\"Salary\"].div(1000000).head(5)\n",
    "pass"
   ]
  },
  {
   "cell_type": "markdown",
   "metadata": {},
   "source": [
    "[Back to Top](#start)"
   ]
  },
  {
   "cell_type": "markdown",
   "metadata": {},
   "source": [
    "#### <font color = \"navy\" > 3.4: Revision , .value_count( ) method </font>  <a id=\"ref_3.4\"></a>"
   ]
  },
  {
   "cell_type": "markdown",
   "metadata": {},
   "source": [
    " <font color = \"olive\" >  <u> This method is only available to Series </u> </font>"
   ]
  },
  {
   "cell_type": "code",
   "execution_count": 2,
   "metadata": {},
   "outputs": [],
   "source": [
    "%reset -f\n",
    "import pandas as pd"
   ]
  },
  {
   "cell_type": "code",
   "execution_count": 3,
   "metadata": {},
   "outputs": [],
   "source": [
    "nba = pd.read_csv(\"files_for_pandas/nba.csv\")"
   ]
  },
  {
   "cell_type": "code",
   "execution_count": 17,
   "metadata": {},
   "outputs": [],
   "source": [
    "nba.head(4)\n",
    "pass"
   ]
  },
  {
   "cell_type": "code",
   "execution_count": 18,
   "metadata": {},
   "outputs": [],
   "source": [
    "nba[\"Height\"].value_counts().head(4)\n",
    "pass"
   ]
  },
  {
   "cell_type": "markdown",
   "metadata": {},
   "source": [
    "[Back to Top](#start)"
   ]
  },
  {
   "cell_type": "markdown",
   "metadata": {},
   "source": [
    "#### <font color = \"navy\" > 3.5: Drop the NaN values </font>  <a id=\"ref_3.5\"></a>"
   ]
  },
  {
   "cell_type": "code",
   "execution_count": 17,
   "metadata": {},
   "outputs": [],
   "source": [
    "%reset -f\n",
    "import pandas as pd"
   ]
  },
  {
   "cell_type": "code",
   "execution_count": 18,
   "metadata": {},
   "outputs": [],
   "source": [
    "nba = pd.read_csv(\"files_for_pandas/nba.csv\")"
   ]
  },
  {
   "cell_type": "code",
   "execution_count": 25,
   "metadata": {},
   "outputs": [],
   "source": [
    "nba.head(4)\n",
    "output = None"
   ]
  },
  {
   "cell_type": "markdown",
   "metadata": {},
   "source": [
    " - **<font color = \"blue\" > 3.5.1: drop a rows | column containing any Nan value   </font>**"
   ]
  },
  {
   "cell_type": "markdown",
   "metadata": {},
   "source": [
    "<font color = \"green\" size =\"3\" > Things to remember: <br/> \n",
    "1). Here I are directly calling .dropna() method on whole data frame <br/>\n",
    "2). axis =0 means, along index... i.e. horizontal <br/>\n",
    "3). Later I will apply this method on one specific column as well.. instead of whole dF </font>"
   ]
  },
  {
   "cell_type": "code",
   "execution_count": 26,
   "metadata": {},
   "outputs": [],
   "source": [
    "nba.dropna(axis = 0, how = 'any').head(5)\n",
    "output = None"
   ]
  },
  {
   "cell_type": "markdown",
   "metadata": {},
   "source": [
    "<font color = \"olive\" >  <u> Look at the index , some of them are removed ; \n",
    "    but we didn't set inplace parameter = True</u> </font>"
   ]
  },
  {
   "cell_type": "code",
   "execution_count": 29,
   "metadata": {},
   "outputs": [],
   "source": [
    "nba.head(3)\n",
    "nba.tail(2)\n",
    "output = None"
   ]
  },
  {
   "cell_type": "code",
   "execution_count": 30,
   "metadata": {},
   "outputs": [],
   "source": [
    "nba.dropna(axis = 0, how = \"all\").tail(3)\n",
    "output = None"
   ]
  },
  {
   "cell_type": "code",
   "execution_count": 42,
   "metadata": {},
   "outputs": [],
   "source": [
    "nba.head(3)\n",
    "pass"
   ]
  },
  {
   "cell_type": "code",
   "execution_count": 16,
   "metadata": {},
   "outputs": [],
   "source": [
    "nba.Salary.head(5)\n",
    "pass"
   ]
  },
  {
   "cell_type": "markdown",
   "metadata": {},
   "source": [
    "<font color = \"green\" size =\"3\" >  Here I will apply this method on one specific column as well.. instead of whole dF <br/>\n",
    "Pay attention on another paramter \"subset\" </font>"
   ]
  },
  {
   "cell_type": "code",
   "execution_count": 41,
   "metadata": {},
   "outputs": [],
   "source": [
    "nba.dropna(subset = [\"Salary\"]).head(4)\n",
    "pass"
   ]
  },
  {
   "cell_type": "markdown",
   "metadata": {},
   "source": [
    "<font color = \"olive\" >  <u> Look at the index , some of them are removed ; \n",
    "    but we didn't set inplace parameter = True</u> </font>"
   ]
  },
  {
   "cell_type": "markdown",
   "metadata": {},
   "source": [
    " - **<font color = \"blue\" > 3.5.2: Filling NaN values with something custamised   </font>**"
   ]
  },
  {
   "cell_type": "markdown",
   "metadata": {},
   "source": [
    "<font color = \"green\" size =\"3\" >  Complementry methid with dropna.. <br/>\n",
    "Sometime we don't want to drop ... but fill with something else like 0 or etc... </font>"
   ]
  },
  {
   "cell_type": "code",
   "execution_count": 17,
   "metadata": {},
   "outputs": [],
   "source": [
    "%reset -f\n",
    "import pandas as pd"
   ]
  },
  {
   "cell_type": "code",
   "execution_count": 18,
   "metadata": {},
   "outputs": [],
   "source": [
    "nba = pd.read_csv(\"files_for_pandas/nba.csv\")"
   ]
  },
  {
   "cell_type": "code",
   "execution_count": 101,
   "metadata": {},
   "outputs": [],
   "source": [
    "nba[\"College\"][1:8] ; pass"
   ]
  },
  {
   "cell_type": "code",
   "execution_count": 102,
   "metadata": {},
   "outputs": [],
   "source": [
    "nba[\"College\"].fillna(value = \"No Affiliation\")[3:8] ; pass"
   ]
  },
  {
   "cell_type": "markdown",
   "metadata": {},
   "source": [
    "[Back to Top](#start)"
   ]
  },
  {
   "cell_type": "markdown",
   "metadata": {},
   "source": [
    "#### <font color = \"navy\" > 3.6: .astype( );  [\"category\"]  and selecting type of individual list</font>  <a id=\"ref_3.6\"></a>"
   ]
  },
  {
   "cell_type": "code",
   "execution_count": 28,
   "metadata": {},
   "outputs": [],
   "source": [
    "%reset -f\n",
    "import pandas as pd"
   ]
  },
  {
   "cell_type": "code",
   "execution_count": 29,
   "metadata": {},
   "outputs": [],
   "source": [
    "nba = pd.read_csv(\"files_for_pandas/nba.csv\")"
   ]
  },
  {
   "cell_type": "code",
   "execution_count": 30,
   "metadata": {},
   "outputs": [
    {
     "data": {
      "text/html": [
       "<div>\n",
       "<style scoped>\n",
       "    .dataframe tbody tr th:only-of-type {\n",
       "        vertical-align: middle;\n",
       "    }\n",
       "\n",
       "    .dataframe tbody tr th {\n",
       "        vertical-align: top;\n",
       "    }\n",
       "\n",
       "    .dataframe thead th {\n",
       "        text-align: right;\n",
       "    }\n",
       "</style>\n",
       "<table border=\"1\" class=\"dataframe\">\n",
       "  <thead>\n",
       "    <tr style=\"text-align: right;\">\n",
       "      <th></th>\n",
       "      <th>Name</th>\n",
       "      <th>Team</th>\n",
       "      <th>Number</th>\n",
       "      <th>Position</th>\n",
       "      <th>Age</th>\n",
       "      <th>Height</th>\n",
       "      <th>Weight</th>\n",
       "      <th>College</th>\n",
       "      <th>Salary</th>\n",
       "    </tr>\n",
       "  </thead>\n",
       "  <tbody>\n",
       "    <tr>\n",
       "      <th>0</th>\n",
       "      <td>Avery Bradley</td>\n",
       "      <td>Boston Celtics</td>\n",
       "      <td>0.0</td>\n",
       "      <td>PG</td>\n",
       "      <td>25.0</td>\n",
       "      <td>6-2</td>\n",
       "      <td>180.0</td>\n",
       "      <td>Texas</td>\n",
       "      <td>7730337.0</td>\n",
       "    </tr>\n",
       "    <tr>\n",
       "      <th>1</th>\n",
       "      <td>Jae Crowder</td>\n",
       "      <td>Boston Celtics</td>\n",
       "      <td>99.0</td>\n",
       "      <td>SF</td>\n",
       "      <td>25.0</td>\n",
       "      <td>6-6</td>\n",
       "      <td>235.0</td>\n",
       "      <td>Marquette</td>\n",
       "      <td>6796117.0</td>\n",
       "    </tr>\n",
       "    <tr>\n",
       "      <th>2</th>\n",
       "      <td>John Holland</td>\n",
       "      <td>Boston Celtics</td>\n",
       "      <td>30.0</td>\n",
       "      <td>SG</td>\n",
       "      <td>27.0</td>\n",
       "      <td>6-5</td>\n",
       "      <td>205.0</td>\n",
       "      <td>Boston University</td>\n",
       "      <td>NaN</td>\n",
       "    </tr>\n",
       "    <tr>\n",
       "      <th>3</th>\n",
       "      <td>R.J. Hunter</td>\n",
       "      <td>Boston Celtics</td>\n",
       "      <td>28.0</td>\n",
       "      <td>SG</td>\n",
       "      <td>22.0</td>\n",
       "      <td>6-5</td>\n",
       "      <td>185.0</td>\n",
       "      <td>Georgia State</td>\n",
       "      <td>1148640.0</td>\n",
       "    </tr>\n",
       "  </tbody>\n",
       "</table>\n",
       "</div>"
      ],
      "text/plain": [
       "            Name            Team  Number Position   Age Height  Weight  \\\n",
       "0  Avery Bradley  Boston Celtics     0.0       PG  25.0    6-2   180.0   \n",
       "1    Jae Crowder  Boston Celtics    99.0       SF  25.0    6-6   235.0   \n",
       "2   John Holland  Boston Celtics    30.0       SG  27.0    6-5   205.0   \n",
       "3    R.J. Hunter  Boston Celtics    28.0       SG  22.0    6-5   185.0   \n",
       "\n",
       "             College     Salary  \n",
       "0              Texas  7730337.0  \n",
       "1          Marquette  6796117.0  \n",
       "2  Boston University        NaN  \n",
       "3      Georgia State  1148640.0  "
      ]
     },
     "execution_count": 30,
     "metadata": {},
     "output_type": "execute_result"
    }
   ],
   "source": [
    "nba.head(4)\n",
    "# output = None"
   ]
  },
  {
   "cell_type": "markdown",
   "metadata": {},
   "source": [
    " - **<font color = \"blue\" > Chaning type of a particular Column   </font>** "
   ]
  },
  {
   "cell_type": "markdown",
   "metadata": {},
   "source": [
    "<font color = \"olive\" >  <u> Here you can see the age is float, although it was entered as \"int\" \n",
    " the reason behing is, if last row is complete NaN, so panda inherently convert every int to float ;\n",
    " BUT before doing this, first remove permanently the Nan from the bottom   \n",
    "    \n",
    "</u> </font>"
   ]
  },
  {
   "cell_type": "code",
   "execution_count": 32,
   "metadata": {},
   "outputs": [
    {
     "name": "stdout",
     "output_type": "stream",
     "text": [
      "<class 'pandas.core.frame.DataFrame'>\n",
      "RangeIndex: 458 entries, 0 to 457\n",
      "Data columns (total 9 columns):\n",
      "Name        457 non-null object\n",
      "Team        457 non-null object\n",
      "Number      457 non-null float64\n",
      "Position    457 non-null object\n",
      "Age         457 non-null float64\n",
      "Height      457 non-null object\n",
      "Weight      457 non-null float64\n",
      "College     373 non-null object\n",
      "Salary      446 non-null float64\n",
      "dtypes: float64(4), object(5)\n",
      "memory usage: 32.3+ KB\n"
     ]
    }
   ],
   "source": [
    "nba.info() ; pass"
   ]
  },
  {
   "cell_type": "code",
   "execution_count": 83,
   "metadata": {},
   "outputs": [],
   "source": [
    "nba.dropna(how = \"all\",inplace = True)\n",
    "nba.tail(3)\n",
    "pass"
   ]
  },
  {
   "cell_type": "code",
   "execution_count": 94,
   "metadata": {},
   "outputs": [],
   "source": [
    "nba[\"Age\"].astype(\"int\")[12:15]\n",
    "nba[\"Number\"].astype(\"int\")\n",
    "output = None\n",
    "# later we can assign it like followung way "
   ]
  },
  {
   "cell_type": "markdown",
   "metadata": {},
   "source": [
    "```python\n",
    "nba[\"Age\"] = nba[\"Age\"].astype(\"int\")\n",
    "nba[\"Number\"] = nba[\"Number\"].astype(\"int\")\n",
    "```"
   ]
  },
  {
   "cell_type": "markdown",
   "metadata": {},
   "source": [
    "<font color = \"green\" size =\"3\" >  We can even do with multiple columns at the same time like below </font>"
   ]
  },
  {
   "cell_type": "markdown",
   "metadata": {},
   "source": [
    "```python\n",
    "df[[\"Age\",\"Weight\"]] = df[[\"Age\",\"Weight\"]].astype(dtype = \"int\")\n",
    "```"
   ]
  },
  {
   "cell_type": "markdown",
   "metadata": {},
   "source": [
    " - **<font color = \"blue\" > If some values are just repeating in a Series   </font>**"
   ]
  },
  {
   "cell_type": "code",
   "execution_count": 88,
   "metadata": {},
   "outputs": [
    {
     "data": {
      "text/plain": [
       "array(['PG', 'SF', 'SG', 'PF', 'C'], dtype=object)"
      ]
     },
     "execution_count": 88,
     "metadata": {},
     "output_type": "execute_result"
    }
   ],
   "source": [
    "nba[\"Position\"].nunique()\n",
    "nba[\"Position\"].unique()"
   ]
  },
  {
   "cell_type": "code",
   "execution_count": 90,
   "metadata": {},
   "outputs": [],
   "source": [
    "nba[\"Position\"] = nba[\"Position\"].astype(\"category\")"
   ]
  },
  {
   "cell_type": "code",
   "execution_count": 31,
   "metadata": {},
   "outputs": [],
   "source": [
    "# nba.info()\n",
    "# look at the memory usage"
   ]
  },
  {
   "cell_type": "markdown",
   "metadata": {},
   "source": [
    "[Back to Top](#start)"
   ]
  },
  {
   "cell_type": "markdown",
   "metadata": {},
   "source": [
    "#### <font color = \"navy\" > 3.7: .sort_values( ) ; .sort_index( ) in Data Frame context</font>  <a id=\"ref_3.7\"></a>"
   ]
  },
  {
   "cell_type": "code",
   "execution_count": null,
   "metadata": {},
   "outputs": [],
   "source": [
    "%reset -f\n",
    "import pandas as pd"
   ]
  },
  {
   "cell_type": "code",
   "execution_count": null,
   "metadata": {},
   "outputs": [],
   "source": [
    "nba = pd.read_csv(\"files_for_pandas/nba.csv\")"
   ]
  },
  {
   "cell_type": "code",
   "execution_count": 114,
   "metadata": {},
   "outputs": [],
   "source": [
    "nba.head(6)\n",
    "pass"
   ]
  },
  {
   "cell_type": "markdown",
   "metadata": {},
   "source": [
    " - **<font color = \"blue\" > Sorting according to single column   </font>**"
   ]
  },
  {
   "cell_type": "code",
   "execution_count": 115,
   "metadata": {},
   "outputs": [],
   "source": [
    "nba.sort_values(\"Team\",ascending = True, na_position = \"last\").head(4)\n",
    "pass"
   ]
  },
  {
   "cell_type": "markdown",
   "metadata": {},
   "source": [
    " - **<font color = \"blue\" > Sorting w.r.t multiple columns   </font>**"
   ]
  },
  {
   "cell_type": "code",
   "execution_count": 127,
   "metadata": {},
   "outputs": [],
   "source": [
    "nba.sort_values([\"Team\",\"Name\"],ascending = [True,False], na_position = \"last\", inplace = True)\n",
    "nba.head(5)\n",
    "pass"
   ]
  },
  {
   "cell_type": "markdown",
   "metadata": {},
   "source": [
    " - **<font color = \"blue\" > Sorting w.r.t index  </font>**"
   ]
  },
  {
   "cell_type": "code",
   "execution_count": 126,
   "metadata": {},
   "outputs": [],
   "source": [
    "nba.sort_index(ascending = True, inplace = True)\n",
    "nba.head(6)\n",
    "pass"
   ]
  },
  {
   "cell_type": "markdown",
   "metadata": {},
   "source": [
    "[Back to Top](#start)"
   ]
  },
  {
   "cell_type": "markdown",
   "metadata": {},
   "source": [
    "#### <font color = \"navy\" > 3.8: .rank( ) in Data Frame </font>  <a id=\"ref_3.8\"></a>"
   ]
  },
  {
   "cell_type": "code",
   "execution_count": 14,
   "metadata": {},
   "outputs": [],
   "source": [
    "%reset -f\n",
    "import pandas as pd"
   ]
  },
  {
   "cell_type": "code",
   "execution_count": 15,
   "metadata": {},
   "outputs": [],
   "source": [
    "nba = pd.read_csv(\"files_for_pandas/nba.csv\")"
   ]
  },
  {
   "cell_type": "code",
   "execution_count": 16,
   "metadata": {},
   "outputs": [],
   "source": [
    "nba.head(6)\n",
    "pass"
   ]
  },
  {
   "cell_type": "code",
   "execution_count": 17,
   "metadata": {},
   "outputs": [],
   "source": [
    "nba[\"Salary\"].fillna(value = 0,inplace = True)\n",
    "nba[0:3] \n",
    "pass"
   ]
  },
  {
   "cell_type": "code",
   "execution_count": 18,
   "metadata": {},
   "outputs": [],
   "source": [
    "nba[\"Salary Rank\"] = nba[\"Salary\"].rank(ascending = False).astype(\"int\")"
   ]
  },
  {
   "cell_type": "code",
   "execution_count": 19,
   "metadata": {},
   "outputs": [],
   "source": [
    "nba[0:6]  \n",
    "pass"
   ]
  },
  {
   "cell_type": "markdown",
   "metadata": {},
   "source": [
    "[Back to Top](#start)"
   ]
  },
  {
   "cell_type": "markdown",
   "metadata": {},
   "source": [
    "### Ch 4. Data Frames-2 <a id=\"ch_4\"></a>"
   ]
  },
  {
   "cell_type": "markdown",
   "metadata": {},
   "source": [
    "**<font color = 'green' >In this section, focus is on filtering </font>** "
   ]
  },
  {
   "cell_type": "markdown",
   "metadata": {},
   "source": [
    "#### <font color = \"navy\" > 4.1: Useful Pandas Data Structures for saving memories </font>  <a id=\"ref_4.1\"></a>"
   ]
  },
  {
   "cell_type": "code",
   "execution_count": 1,
   "metadata": {},
   "outputs": [],
   "source": [
    "%reset -f\n",
    "import pandas as pd"
   ]
  },
  {
   "cell_type": "code",
   "execution_count": 2,
   "metadata": {},
   "outputs": [
    {
     "data": {
      "text/html": [
       "<div>\n",
       "<style scoped>\n",
       "    .dataframe tbody tr th:only-of-type {\n",
       "        vertical-align: middle;\n",
       "    }\n",
       "\n",
       "    .dataframe tbody tr th {\n",
       "        vertical-align: top;\n",
       "    }\n",
       "\n",
       "    .dataframe thead th {\n",
       "        text-align: right;\n",
       "    }\n",
       "</style>\n",
       "<table border=\"1\" class=\"dataframe\">\n",
       "  <thead>\n",
       "    <tr style=\"text-align: right;\">\n",
       "      <th></th>\n",
       "      <th>First Name</th>\n",
       "      <th>Gender</th>\n",
       "      <th>Start Date</th>\n",
       "      <th>Last Login Time</th>\n",
       "      <th>Salary</th>\n",
       "      <th>Bonus %</th>\n",
       "      <th>Senior Management</th>\n",
       "      <th>Team</th>\n",
       "    </tr>\n",
       "  </thead>\n",
       "  <tbody>\n",
       "    <tr>\n",
       "      <th>0</th>\n",
       "      <td>Douglas</td>\n",
       "      <td>Male</td>\n",
       "      <td>8/6/1993</td>\n",
       "      <td>12:42 PM</td>\n",
       "      <td>97308</td>\n",
       "      <td>6.945</td>\n",
       "      <td>True</td>\n",
       "      <td>Marketing</td>\n",
       "    </tr>\n",
       "    <tr>\n",
       "      <th>1</th>\n",
       "      <td>Thomas</td>\n",
       "      <td>Male</td>\n",
       "      <td>3/31/1996</td>\n",
       "      <td>6:53 AM</td>\n",
       "      <td>61933</td>\n",
       "      <td>4.170</td>\n",
       "      <td>True</td>\n",
       "      <td>NaN</td>\n",
       "    </tr>\n",
       "    <tr>\n",
       "      <th>2</th>\n",
       "      <td>Maria</td>\n",
       "      <td>Female</td>\n",
       "      <td>4/23/1993</td>\n",
       "      <td>11:17 AM</td>\n",
       "      <td>130590</td>\n",
       "      <td>11.858</td>\n",
       "      <td>False</td>\n",
       "      <td>Finance</td>\n",
       "    </tr>\n",
       "    <tr>\n",
       "      <th>3</th>\n",
       "      <td>Jerry</td>\n",
       "      <td>Male</td>\n",
       "      <td>3/4/2005</td>\n",
       "      <td>1:00 PM</td>\n",
       "      <td>138705</td>\n",
       "      <td>9.340</td>\n",
       "      <td>True</td>\n",
       "      <td>Finance</td>\n",
       "    </tr>\n",
       "  </tbody>\n",
       "</table>\n",
       "</div>"
      ],
      "text/plain": [
       "  First Name  Gender Start Date Last Login Time  Salary  Bonus %  \\\n",
       "0    Douglas    Male   8/6/1993        12:42 PM   97308    6.945   \n",
       "1     Thomas    Male  3/31/1996         6:53 AM   61933    4.170   \n",
       "2      Maria  Female  4/23/1993        11:17 AM  130590   11.858   \n",
       "3      Jerry    Male   3/4/2005         1:00 PM  138705    9.340   \n",
       "\n",
       "  Senior Management       Team  \n",
       "0              True  Marketing  \n",
       "1              True        NaN  \n",
       "2             False    Finance  \n",
       "3              True    Finance  "
      ]
     },
     "execution_count": 2,
     "metadata": {},
     "output_type": "execute_result"
    }
   ],
   "source": [
    "df = pd.read_csv(\"files_for_pandas/employees.csv\")\n",
    "df[0:4]\n",
    "# output = None"
   ]
  },
  {
   "cell_type": "code",
   "execution_count": 68,
   "metadata": {},
   "outputs": [],
   "source": [
    "# df.info()  ; note size of the file"
   ]
  },
  {
   "cell_type": "markdown",
   "metadata": {},
   "source": [
    "  - **<font color = \"blue\" > Changing Date and Time column in proper format</font>**"
   ]
  },
  {
   "cell_type": "code",
   "execution_count": 69,
   "metadata": {},
   "outputs": [],
   "source": [
    "# df[\"Start Date\"].to_date"
   ]
  },
  {
   "cell_type": "code",
   "execution_count": 70,
   "metadata": {},
   "outputs": [],
   "source": [
    "df[\"Start Date\"] = pd.to_datetime(df[\"Start Date\"])"
   ]
  },
  {
   "cell_type": "code",
   "execution_count": 71,
   "metadata": {},
   "outputs": [],
   "source": [
    "df[\"Last Login Time\"] = pd.to_datetime(df[\"Last Login Time\"])"
   ]
  },
  {
   "cell_type": "markdown",
   "metadata": {},
   "source": [
    " - **<font color = \"blue\" > Multiple repeating values --> category  </font>**"
   ]
  },
  {
   "cell_type": "code",
   "execution_count": 72,
   "metadata": {},
   "outputs": [],
   "source": [
    "df[\"Gender\"] = df[\"Gender\"].astype(\"category\")"
   ]
  },
  {
   "cell_type": "code",
   "execution_count": 73,
   "metadata": {},
   "outputs": [],
   "source": [
    "# df.info()   ; see the difference"
   ]
  },
  {
   "cell_type": "markdown",
   "metadata": {},
   "source": [
    "**<font color = \"olive\" >  <u>  Short cut of time format is parse_date during within read_csv() </u> </font>**"
   ]
  },
  {
   "cell_type": "markdown",
   "metadata": {},
   "source": [
    "[Back to Top](#start)"
   ]
  },
  {
   "cell_type": "markdown",
   "metadata": {},
   "source": [
    "#### <font color = \"navy\" > 4.2: Extracting by boolean list </font> <a id=\"ref_4.2\"></a>"
   ]
  },
  {
   "cell_type": "code",
   "execution_count": 79,
   "metadata": {},
   "outputs": [],
   "source": [
    "%reset -f\n",
    "import pandas as pd"
   ]
  },
  {
   "cell_type": "code",
   "execution_count": 88,
   "metadata": {},
   "outputs": [],
   "source": [
    "df = pd.read_csv(\"files_for_pandas/employees.csv\",parse_dates=[\"Start Date\",\"Last Login Time\"])\n",
    "df[\"Senior Management\"] = df[\"Senior Management\"].astype(\"category\")\n",
    "df[\"Gender\"] = df[\"Gender\"].astype(\"category\")"
   ]
  },
  {
   "cell_type": "markdown",
   "metadata": {},
   "source": [
    "  - **<font color = \"blue\" > Lets say we need only Male from Gender Column </font>**"
   ]
  },
  {
   "cell_type": "code",
   "execution_count": 90,
   "metadata": {},
   "outputs": [],
   "source": [
    "df[\"Gender\"] == \"Male\"\n",
    "output = None"
   ]
  },
  {
   "cell_type": "code",
   "execution_count": 92,
   "metadata": {},
   "outputs": [],
   "source": [
    "df [  df[\"Gender\"] == \"Male\"   ]\n",
    "output = None"
   ]
  },
  {
   "cell_type": "markdown",
   "metadata": {},
   "source": [
    "         Alternatively"
   ]
  },
  {
   "cell_type": "code",
   "execution_count": 97,
   "metadata": {},
   "outputs": [],
   "source": [
    "mask = df[\"Gender\"] == \"Male\"\n",
    "mask\n",
    "output = None"
   ]
  },
  {
   "cell_type": "code",
   "execution_count": 98,
   "metadata": {},
   "outputs": [],
   "source": [
    "df[mask]\n",
    "output = None"
   ]
  },
  {
   "cell_type": "markdown",
   "metadata": {},
   "source": [
    "[Back to Top](#start)"
   ]
  },
  {
   "cell_type": "markdown",
   "metadata": {},
   "source": [
    "#### <font color = \"navy\" > 4.3: Filtering  with more than 1 CONDITION </font> <a id=\"ref_4.3\"></a>"
   ]
  },
  {
   "cell_type": "code",
   "execution_count": 100,
   "metadata": {},
   "outputs": [],
   "source": [
    "%reset -f\n",
    "import pandas as pd"
   ]
  },
  {
   "cell_type": "code",
   "execution_count": 150,
   "metadata": {},
   "outputs": [],
   "source": [
    "df = pd.read_csv(\"files_for_pandas/employees.csv\",parse_dates=[\"Start Date\",\"Last Login Time\"])\n",
    "df[\"Gender\"] = df[\"Gender\"].astype(\"category\")\n",
    "df[\"Team\"] = df[\"Team\"].astype(\"category\")\n",
    "df[0:4]\n",
    "output = None"
   ]
  },
  {
   "cell_type": "markdown",
   "metadata": {},
   "source": [
    " - **<font color = \"blue\" >  &, | condition </font>**"
   ]
  },
  {
   "cell_type": "code",
   "execution_count": 111,
   "metadata": {},
   "outputs": [],
   "source": [
    "m1 = df[\"Gender\"] == \"Male\"\n",
    "m2 = df[\"Senior Management\"] == True"
   ]
  },
  {
   "cell_type": "code",
   "execution_count": 117,
   "metadata": {},
   "outputs": [],
   "source": [
    "df[m1 & m2][0:4]\n",
    "output = None"
   ]
  },
  {
   "cell_type": "code",
   "execution_count": 118,
   "metadata": {},
   "outputs": [],
   "source": [
    "df[m1 | m2][0:5]\n",
    "output = None"
   ]
  },
  {
   "cell_type": "markdown",
   "metadata": {},
   "source": [
    " - **<font color = \"blue\" >  Data or Year as a string </font>**"
   ]
  },
  {
   "cell_type": "code",
   "execution_count": 125,
   "metadata": {},
   "outputs": [],
   "source": [
    "m3 = df[\"Start Date\"] <= \"1990-01-01\"\n",
    "output = None"
   ]
  },
  {
   "cell_type": "code",
   "execution_count": 128,
   "metadata": {},
   "outputs": [],
   "source": [
    "df[m3][0:6]\n",
    "output = None"
   ]
  },
  {
   "cell_type": "markdown",
   "metadata": {},
   "source": [
    " - **<font color = \"blue\" >  Mixed Conditions </font>**"
   ]
  },
  {
   "cell_type": "code",
   "execution_count": 130,
   "metadata": {},
   "outputs": [],
   "source": [
    "m1 = df[\"Gender\"] == \"Male\"\n",
    "m2 = df[\"Senior Management\"] == True\n",
    "m3 = df[\"Start Date\"] <= \"1990-01-01\""
   ]
  },
  {
   "cell_type": "code",
   "execution_count": 140,
   "metadata": {},
   "outputs": [],
   "source": [
    "df [ (m1 & m2) | m3][3:10]\n",
    "output = None"
   ]
  },
  {
   "cell_type": "markdown",
   "metadata": {},
   "source": [
    "[Back to Top](#start)"
   ]
  },
  {
   "cell_type": "markdown",
   "metadata": {},
   "source": [
    "#### <font color = \"navy\" > 4.4: Multiple OR conditions in single line FOR Single Column </font> <a id=\"ref_4.4\"></a>"
   ]
  },
  {
   "cell_type": "markdown",
   "metadata": {},
   "source": [
    "<font color = \"green\" size =\"3\" >  Useful at the time of multiple \"OR condition\" <br/>\n",
    "Instead of creating many boolean series ... we can use .isin() method <br/>\n",
    "Very convenient when apply many condition on same column</font>"
   ]
  },
  {
   "cell_type": "code",
   "execution_count": 170,
   "metadata": {},
   "outputs": [],
   "source": [
    "%reset -f\n",
    "import pandas as pd"
   ]
  },
  {
   "cell_type": "code",
   "execution_count": 168,
   "metadata": {},
   "outputs": [],
   "source": [
    "df = pd.read_csv(\"files_for_pandas/employees.csv\",parse_dates=[\"Start Date\",\"Last Login Time\"])\n",
    "df[\"Gender\"] = df[\"Gender\"].astype(\"category\")\n",
    "df[\"Start Date\"] = df[\"Start Date\"].astype(\"category\")\n",
    "df.head()\n",
    "output = None"
   ]
  },
  {
   "cell_type": "code",
   "execution_count": 169,
   "metadata": {},
   "outputs": [],
   "source": [
    "m4 = df[\"Team\"].isin([\"Legal\",\"Finance\",\"Marketing\"])\n",
    "df[m4][0:6]\n",
    "output = None"
   ]
  },
  {
   "cell_type": "markdown",
   "metadata": {},
   "source": [
    "[Back to Top](#start)"
   ]
  },
  {
   "cell_type": "markdown",
   "metadata": {},
   "source": [
    "#### <font color = \"navy\" > 4.5: Detecting null values; .isnull( ) , .notnull( ) </font> <a id=\"ref_4.5\"></a>"
   ]
  },
  {
   "cell_type": "code",
   "execution_count": null,
   "metadata": {},
   "outputs": [],
   "source": [
    "%reset -f"
   ]
  },
  {
   "cell_type": "code",
   "execution_count": 24,
   "metadata": {},
   "outputs": [],
   "source": [
    "import pandas as pd\n",
    "df = pd.read_csv(\"files_for_pandas/employees.csv\",parse_dates=[\"Start Date\",\"Last Login Time\"])\n",
    "df[\"Gender\"] = df[\"Gender\"].astype(\"category\")\n",
    "df[\"Senior Management\"] = df[\"Senior Management\"].astype(\"category\")\n",
    "df[0:4]\n",
    "output = None"
   ]
  },
  {
   "cell_type": "code",
   "execution_count": 26,
   "metadata": {},
   "outputs": [],
   "source": [
    "df [df[\"Team\"].isnull()]\n",
    "output = None"
   ]
  },
  {
   "cell_type": "code",
   "execution_count": 30,
   "metadata": {},
   "outputs": [],
   "source": [
    "df [df[\"Team\"].notnull()]\n",
    "output = None"
   ]
  },
  {
   "cell_type": "markdown",
   "metadata": {},
   "source": [
    "- **<font color = \"blue\" > Just in case You are worried whether data has NaN and what the position then  </font>**"
   ]
  },
  {
   "cell_type": "code",
   "execution_count": 31,
   "metadata": {},
   "outputs": [
    {
     "data": {
      "text/html": [
       "<div>\n",
       "<style scoped>\n",
       "    .dataframe tbody tr th:only-of-type {\n",
       "        vertical-align: middle;\n",
       "    }\n",
       "\n",
       "    .dataframe tbody tr th {\n",
       "        vertical-align: top;\n",
       "    }\n",
       "\n",
       "    .dataframe thead th {\n",
       "        text-align: right;\n",
       "    }\n",
       "</style>\n",
       "<table border=\"1\" class=\"dataframe\">\n",
       "  <thead>\n",
       "    <tr style=\"text-align: right;\">\n",
       "      <th></th>\n",
       "      <th>Name</th>\n",
       "      <th>Position Title</th>\n",
       "      <th>Department</th>\n",
       "      <th>Employee Annual Salary</th>\n",
       "    </tr>\n",
       "  </thead>\n",
       "  <tbody>\n",
       "    <tr>\n",
       "      <th>32058</th>\n",
       "      <td>ZYGOWICZ,  PETER J</td>\n",
       "      <td>POLICE OFFICER</td>\n",
       "      <td>POLICE</td>\n",
       "      <td>$87384.00</td>\n",
       "    </tr>\n",
       "    <tr>\n",
       "      <th>32059</th>\n",
       "      <td>ZYMANTAS,  MARK E</td>\n",
       "      <td>POLICE OFFICER</td>\n",
       "      <td>POLICE</td>\n",
       "      <td>$84450.00</td>\n",
       "    </tr>\n",
       "    <tr>\n",
       "      <th>32060</th>\n",
       "      <td>ZYRKOWSKI,  CARLO E</td>\n",
       "      <td>POLICE OFFICER</td>\n",
       "      <td>POLICE</td>\n",
       "      <td>$87384.00</td>\n",
       "    </tr>\n",
       "    <tr>\n",
       "      <th>32061</th>\n",
       "      <td>ZYSKOWSKI,  DARIUSZ</td>\n",
       "      <td>CHIEF DATA BASE ANALYST</td>\n",
       "      <td>DoIT</td>\n",
       "      <td>$113664.00</td>\n",
       "    </tr>\n",
       "    <tr>\n",
       "      <th>32062</th>\n",
       "      <td>NaN</td>\n",
       "      <td>NaN</td>\n",
       "      <td>NaN</td>\n",
       "      <td>NaN</td>\n",
       "    </tr>\n",
       "  </tbody>\n",
       "</table>\n",
       "</div>"
      ],
      "text/plain": [
       "                      Name           Position Title Department  \\\n",
       "32058   ZYGOWICZ,  PETER J           POLICE OFFICER     POLICE   \n",
       "32059    ZYMANTAS,  MARK E           POLICE OFFICER     POLICE   \n",
       "32060  ZYRKOWSKI,  CARLO E           POLICE OFFICER     POLICE   \n",
       "32061  ZYSKOWSKI,  DARIUSZ  CHIEF DATA BASE ANALYST       DoIT   \n",
       "32062                  NaN                      NaN        NaN   \n",
       "\n",
       "      Employee Annual Salary  \n",
       "32058              $87384.00  \n",
       "32059              $84450.00  \n",
       "32060              $87384.00  \n",
       "32061             $113664.00  \n",
       "32062                    NaN  "
      ]
     },
     "execution_count": 31,
     "metadata": {},
     "output_type": "execute_result"
    }
   ],
   "source": [
    "%reset -f\n",
    "import pandas as pd\n",
    "df = pd.read_csv(\"files_for_pandas/chicago.csv\")\n",
    "df.tail()"
   ]
  },
  {
   "cell_type": "code",
   "execution_count": 32,
   "metadata": {},
   "outputs": [],
   "source": [
    "# first check with .info() method"
   ]
  },
  {
   "cell_type": "code",
   "execution_count": 33,
   "metadata": {},
   "outputs": [
    {
     "name": "stdout",
     "output_type": "stream",
     "text": [
      "<class 'pandas.core.frame.DataFrame'>\n",
      "RangeIndex: 32063 entries, 0 to 32062\n",
      "Data columns (total 4 columns):\n",
      "Name                      32062 non-null object\n",
      "Position Title            32062 non-null object\n",
      "Department                32062 non-null object\n",
      "Employee Annual Salary    32062 non-null object\n",
      "dtypes: object(4)\n",
      "memory usage: 1002.0+ KB\n"
     ]
    }
   ],
   "source": [
    "df.info()"
   ]
  },
  {
   "cell_type": "markdown",
   "metadata": {},
   "source": [
    "<font color = \"olive\" >  <u> See total of 32063 row index and 32062 non-nullobject, means one object is null.. Just in case not at the top or bottom then .. here you will go<br/>  \n",
    "    \n",
    "</u> </font>"
   ]
  },
  {
   "cell_type": "code",
   "execution_count": 41,
   "metadata": {},
   "outputs": [],
   "source": [
    "m = df[\"Name\"].isnull()"
   ]
  },
  {
   "cell_type": "code",
   "execution_count": 44,
   "metadata": {},
   "outputs": [],
   "source": [
    "df[m]\n",
    "output = None"
   ]
  },
  {
   "cell_type": "code",
   "execution_count": 45,
   "metadata": {},
   "outputs": [],
   "source": [
    "df[m].index\n",
    "pass"
   ]
  },
  {
   "cell_type": "markdown",
   "metadata": {},
   "source": [
    "[Back to Top](#start)"
   ]
  },
  {
   "cell_type": "markdown",
   "metadata": {},
   "source": [
    "#### <font color = \"navy\" > 4.6: .between method </font> <a id=\"ref_4.6\"></a>"
   ]
  },
  {
   "cell_type": "code",
   "execution_count": 213,
   "metadata": {},
   "outputs": [],
   "source": [
    "%reset -f\n",
    "import pandas as pd"
   ]
  },
  {
   "cell_type": "code",
   "execution_count": 214,
   "metadata": {},
   "outputs": [],
   "source": [
    "import pandas as pd\n",
    "df = pd.read_csv(\"files_for_pandas/employees.csv\",parse_dates=[\"Start Date\",\"Last Login Time\"])\n",
    "df[\"Gender\"] = df[\"Gender\"].astype(\"category\")\n",
    "df[\"Senior Management\"] = df[\"Senior Management\"].astype(\"category\")\n",
    "df[0:4]\n",
    "output = None"
   ]
  },
  {
   "cell_type": "markdown",
   "metadata": {},
   "source": [
    " <font color = \"olive\" >  <u> One way is write separate condition like below </u> </font>"
   ]
  },
  {
   "cell_type": "code",
   "execution_count": 215,
   "metadata": {},
   "outputs": [],
   "source": [
    "m1 = df[\"Bonus %\"] >= 2.0"
   ]
  },
  {
   "cell_type": "code",
   "execution_count": 210,
   "metadata": {},
   "outputs": [],
   "source": [
    "m2 = df[\"Bonus %\"] <= 4.0"
   ]
  },
  {
   "cell_type": "code",
   "execution_count": 211,
   "metadata": {},
   "outputs": [],
   "source": [
    "df [m1 & m2][0:6]\n",
    "output = None"
   ]
  },
  {
   "cell_type": "markdown",
   "metadata": {},
   "source": [
    " <font color = \"olive\" >  <u> The other way is to use .between( ) method </u> </font>"
   ]
  },
  {
   "cell_type": "code",
   "execution_count": 212,
   "metadata": {},
   "outputs": [],
   "source": [
    "df [df[\"Bonus %\"].between(2,4)][0:6]\n",
    "output = None"
   ]
  },
  {
   "cell_type": "code",
   "execution_count": 207,
   "metadata": {},
   "outputs": [],
   "source": [
    "df  [ df[\"Start Date\"].between(\"1990-01-1\",\"1992-01-01\") ].head(2)\n",
    "output = None"
   ]
  },
  {
   "cell_type": "markdown",
   "metadata": {},
   "source": [
    "[Back to Top](#start)"
   ]
  },
  {
   "cell_type": "markdown",
   "metadata": {},
   "source": [
    "#### <font color = \"navy\" > 4.7: .duplicated( ) method </font> <a id=\"ref_4.7\"></a>"
   ]
  },
  {
   "cell_type": "code",
   "execution_count": 216,
   "metadata": {},
   "outputs": [],
   "source": [
    "%reset -f\n",
    "import pandas as pd"
   ]
  },
  {
   "cell_type": "code",
   "execution_count": 237,
   "metadata": {},
   "outputs": [],
   "source": [
    "import pandas as pd\n",
    "df = pd.read_csv(\"files_for_pandas/employees.csv\",parse_dates=[\"Start Date\",\"Last Login Time\"])\n",
    "df[\"Gender\"] = df[\"Gender\"].astype(\"category\")\n",
    "df[\"Senior Management\"] = df[\"Senior Management\"].astype(\"category\")\n",
    "df.sort_values(\"First Name\", ascending = True, inplace = True)\n",
    "df[0:6]\n",
    "output = None"
   ]
  },
  {
   "cell_type": "code",
   "execution_count": 236,
   "metadata": {},
   "outputs": [],
   "source": [
    "df[\"First Name\"].duplicated().head()\n",
    "output = None"
   ]
  },
  {
   "cell_type": "markdown",
   "metadata": {},
   "source": [
    "<font color = \"olive\" >  <u> by default, keep = \"first\" ; means it takes first time new appearnce as False (never appeard before) and then later same item as true; <br>\n",
    "so logically when such boolean list is passed to DataFrame, only True's will be shown</u> </font>"
   ]
  },
  {
   "cell_type": "code",
   "execution_count": 235,
   "metadata": {},
   "outputs": [],
   "source": [
    "df [  df[\"First Name\"].duplicated()  ][0:6]\n",
    "output = None"
   ]
  },
  {
   "cell_type": "markdown",
   "metadata": {},
   "source": [
    "<font color = \"olive\" >  <u> here you can all the Aaron's except the very first one <br>\n",
    "because only the very first one was False, all others were True</u> </font>"
   ]
  },
  {
   "cell_type": "markdown",
   "metadata": {},
   "source": [
    "- **<font color = \"blue\" > How to negate the Boolean list </font>**"
   ]
  },
  {
   "cell_type": "code",
   "execution_count": 234,
   "metadata": {},
   "outputs": [],
   "source": [
    "df [  ~df[\"First Name\"].duplicated()  ][0:6]\n",
    "output = None"
   ]
  },
  {
   "cell_type": "markdown",
   "metadata": {},
   "source": [
    "<font color = \"olive\" >  <u>  ~       This can make all the True as False and vice versa  </u> </font>"
   ]
  },
  {
   "cell_type": "markdown",
   "metadata": {},
   "source": [
    "- **<font color = \"blue\" > How to remove all duplicats no matter where is the position </font>**"
   ]
  },
  {
   "cell_type": "code",
   "execution_count": 233,
   "metadata": {},
   "outputs": [],
   "source": [
    "df [  ~df[\"First Name\"].duplicated(keep = False)  ]\n",
    "output = None"
   ]
  },
  {
   "cell_type": "markdown",
   "metadata": {},
   "source": [
    "<font color = \"olive\" >  <u>  Without negation symbol ~, this was showing all the duplicated only, taking </u> first and last whatever position always true <br>\n",
    "now with negation symbol, we are negating all the duplicated . Now only those values whoose duplicated doesn't exit are True</font>"
   ]
  },
  {
   "cell_type": "markdown",
   "metadata": {},
   "source": [
    "[Back to Top](#start)"
   ]
  },
  {
   "cell_type": "markdown",
   "metadata": {},
   "source": [
    "#### <font color = \"navy\" > 4.8: .drop_duplicate( ) method </font>  <a id=\"ref_4.8\"></a>"
   ]
  },
  {
   "cell_type": "code",
   "execution_count": 3,
   "metadata": {},
   "outputs": [],
   "source": [
    "%reset -f\n",
    "import pandas as pd"
   ]
  },
  {
   "cell_type": "code",
   "execution_count": 4,
   "metadata": {},
   "outputs": [],
   "source": [
    "import pandas as pd\n",
    "df = pd.read_csv(\"files_for_pandas/employees.csv\",parse_dates=[\"Start Date\",\"Last Login Time\"])\n",
    "df[\"Gender\"] = df[\"Gender\"].astype(\"category\")\n",
    "df[\"Senior Management\"] = df[\"Senior Management\"].astype(\"category\")\n",
    "df.sort_values(by = \"First Name\", ascending = True, inplace = True)\n",
    "df[0:6]\n",
    "output = None"
   ]
  },
  {
   "cell_type": "markdown",
   "metadata": {},
   "source": [
    " <font color = \"olive\" >  <u> easy to apply, it acts on the whole Data Frame ; <br>\n",
    "  keep = \"first\" ---> keep the first and False other  <br> \n",
    "  keep = \"last\"  ---> keep the last and False other   <br>\n",
    "  keep = False -----> just remove all duplicates  </u> </font>"
   ]
  },
  {
   "cell_type": "code",
   "execution_count": 245,
   "metadata": {},
   "outputs": [],
   "source": [
    "df.drop_duplicates(subset=[\"First Name\"],keep = False)\n",
    "output = None"
   ]
  },
  {
   "cell_type": "markdown",
   "metadata": {},
   "source": [
    "[Back to Top](#start)"
   ]
  },
  {
   "cell_type": "markdown",
   "metadata": {},
   "source": [
    "#### <font color = \"navy\" > 4.9: What are and how many unique items in a Column? </font> <a id=\"ref_4.9\"></a>"
   ]
  },
  {
   "cell_type": "code",
   "execution_count": 247,
   "metadata": {},
   "outputs": [],
   "source": [
    "%reset -f\n",
    "import pandas as pd"
   ]
  },
  {
   "cell_type": "code",
   "execution_count": 253,
   "metadata": {},
   "outputs": [],
   "source": [
    "import pandas as pd\n",
    "df = pd.read_csv(\"files_for_pandas/employees.csv\",parse_dates=[\"Start Date\",\"Last Login Time\"])\n",
    "df[\"Gender\"] = df[\"Gender\"].astype(\"category\")\n",
    "df[\"Senior Management\"] = df[\"Senior Management\"].astype(\"category\")\n",
    "df.sort_values(\"First Name\", ascending = True, inplace = True)\n",
    "df[0:6]\n",
    "output = None"
   ]
  },
  {
   "cell_type": "code",
   "execution_count": 254,
   "metadata": {},
   "outputs": [
    {
     "data": {
      "text/plain": [
       "[Male, NaN, Female]\n",
       "Categories (2, object): [Male, Female]"
      ]
     },
     "execution_count": 254,
     "metadata": {},
     "output_type": "execute_result"
    }
   ],
   "source": [
    "df[\"Gender\"].unique()"
   ]
  },
  {
   "cell_type": "code",
   "execution_count": 255,
   "metadata": {},
   "outputs": [
    {
     "data": {
      "text/plain": [
       "2"
      ]
     },
     "execution_count": 255,
     "metadata": {},
     "output_type": "execute_result"
    }
   ],
   "source": [
    "df[\"Gender\"].nunique()"
   ]
  },
  {
   "cell_type": "code",
   "execution_count": 256,
   "metadata": {},
   "outputs": [
    {
     "data": {
      "text/plain": [
       "3"
      ]
     },
     "execution_count": 256,
     "metadata": {},
     "output_type": "execute_result"
    }
   ],
   "source": [
    "df[\"Gender\"].nunique(dropna = False)"
   ]
  },
  {
   "cell_type": "markdown",
   "metadata": {},
   "source": [
    "[Back to Top](#start)"
   ]
  },
  {
   "cell_type": "markdown",
   "metadata": {},
   "source": [
    "### Ch 5. Data Frames-3  <a id=\"ch_5\"></a>"
   ]
  },
  {
   "cell_type": "markdown",
   "metadata": {},
   "source": [
    "#### <font color = \"navy\" > 5.1: set_index( ) and reset_index( ) method: </font>  <a id=\"ref_5.1\"></a>"
   ]
  },
  {
   "cell_type": "code",
   "execution_count": 8,
   "metadata": {},
   "outputs": [],
   "source": [
    "%reset -f\n",
    "import pandas as pd\n",
    "bond = pd.read_csv(\"files_for_pandas/jamesbond.csv\")"
   ]
  },
  {
   "cell_type": "code",
   "execution_count": 9,
   "metadata": {},
   "outputs": [],
   "source": [
    "bond.head(5)\n",
    "output = None"
   ]
  },
  {
   "cell_type": "markdown",
   "metadata": {},
   "source": [
    " - **<font color = \"blue\" > Lets say, I want to set \"Film\" as an index </font>**"
   ]
  },
  {
   "cell_type": "code",
   "execution_count": 10,
   "metadata": {},
   "outputs": [],
   "source": [
    "bond.set_index(keys = \"Film\",inplace = True)"
   ]
  },
  {
   "cell_type": "code",
   "execution_count": 11,
   "metadata": {},
   "outputs": [],
   "source": [
    "bond.head(3)\n",
    "output = None"
   ]
  },
  {
   "cell_type": "markdown",
   "metadata": {},
   "source": [
    " - **<font color = \"blue\" > Now I replace \"Film\" index by something else </font>**"
   ]
  },
  {
   "cell_type": "code",
   "execution_count": 12,
   "metadata": {},
   "outputs": [],
   "source": [
    "bond.set_index(\"Year\").head(3)\n",
    "output = None"
   ]
  },
  {
   "cell_type": "markdown",
   "metadata": {},
   "source": [
    "<font color = \"olive\" >  <u> You can see that , it just through away the \"Film\" columns </u> </font>"
   ]
  },
  {
   "cell_type": "markdown",
   "metadata": {},
   "source": [
    " - **<font color = \"blue\" > So first reset the index like below </font>**"
   ]
  },
  {
   "cell_type": "code",
   "execution_count": 13,
   "metadata": {},
   "outputs": [],
   "source": [
    "bond.reset_index(inplace=True)"
   ]
  },
  {
   "cell_type": "code",
   "execution_count": 14,
   "metadata": {},
   "outputs": [],
   "source": [
    "bond.head(3)\n",
    "output = None"
   ]
  },
  {
   "cell_type": "markdown",
   "metadata": {},
   "source": [
    " - **<font color = \"blue\" > Now replace it by something else </font>**"
   ]
  },
  {
   "cell_type": "code",
   "execution_count": 30,
   "metadata": {},
   "outputs": [],
   "source": [
    "bond.set_index(keys = \"Year\", inplace = True)"
   ]
  },
  {
   "cell_type": "code",
   "execution_count": 31,
   "metadata": {},
   "outputs": [],
   "source": [
    "bond.head(3)\n",
    "output = None"
   ]
  },
  {
   "cell_type": "markdown",
   "metadata": {},
   "source": [
    "[Back to Top](#start)"
   ]
  },
  {
   "cell_type": "markdown",
   "metadata": {},
   "source": [
    "#### <font color = \"navy\" > 5.2: Selecting rows and columns in a data Frame </font>  <a id=\"ref_5.2\"></a>"
   ]
  },
  {
   "cell_type": "code",
   "execution_count": 1,
   "metadata": {},
   "outputs": [],
   "source": [
    "%reset -f\n",
    "import pandas as pd\n",
    "bond = pd.read_csv(\"files_for_pandas/jamesbond.csv\",index_col=\"Film\")\n",
    "bond.sort_index(inplace = True)\n",
    "bond.head(9)\n",
    "output = None"
   ]
  },
  {
   "cell_type": "markdown",
   "metadata": {},
   "source": [
    " - **<font color = \"blue\" > Selecting column recape </font>**"
   ]
  },
  {
   "cell_type": "code",
   "execution_count": 118,
   "metadata": {},
   "outputs": [],
   "source": [
    "# as a series\n",
    "bond[\"Year\"].head(3)\n",
    "pass"
   ]
  },
  {
   "cell_type": "code",
   "execution_count": 119,
   "metadata": {},
   "outputs": [],
   "source": [
    "# as a data frame\n",
    "bond[[\"Year\"]].head()\n",
    "pass"
   ]
  },
  {
   "cell_type": "markdown",
   "metadata": {},
   "source": [
    " - **<font color = \"blue\" > Selecting row/rows with string index </font>**\n",
    "  - **<font color = \"blue\" > loc[ ] method </font>**"
   ]
  },
  {
   "cell_type": "markdown",
   "metadata": {},
   "source": [
    " <font color = \"green\" size =\"3\" > Also used for selection range of columns...  </font>"
   ]
  },
  {
   "cell_type": "code",
   "execution_count": 120,
   "metadata": {},
   "outputs": [],
   "source": [
    "bond.head(3)\n",
    "output = None"
   ]
  },
  {
   "cell_type": "code",
   "execution_count": 121,
   "metadata": {},
   "outputs": [],
   "source": [
    "# as a series object\n",
    "bond.loc[\"A View to a Kill\"]\n",
    "pass"
   ]
  },
  {
   "cell_type": "code",
   "execution_count": 122,
   "metadata": {},
   "outputs": [],
   "source": [
    "# as a data frame object\n",
    "bond.loc[[\"A View to a Kill\"]]\n",
    "pass"
   ]
  },
  {
   "cell_type": "code",
   "execution_count": 123,
   "metadata": {},
   "outputs": [],
   "source": [
    "# more than one rows\n",
    "bond.loc[[\"A View to a Kill\",\"Casino Royale\"]]\n",
    "output = None"
   ]
  },
  {
   "cell_type": "code",
   "execution_count": 9,
   "metadata": {},
   "outputs": [
    {
     "data": {
      "text/plain": [
       "'Roger Moore'"
      ]
     },
     "execution_count": 9,
     "metadata": {},
     "output_type": "execute_result"
    }
   ],
   "source": [
    "# more than one rows, with  against particular value\n",
    "bond.loc[\"A View to a Kill\",\"Actor\"]"
   ]
  },
  {
   "cell_type": "code",
   "execution_count": 10,
   "metadata": {},
   "outputs": [
    {
     "data": {
      "text/plain": [
       "Film\n",
       "A View to a Kill    1985\n",
       "Name: Year, dtype: int64"
      ]
     },
     "execution_count": 10,
     "metadata": {},
     "output_type": "execute_result"
    }
   ],
   "source": [
    "# \":\" symbol for rangle of rows or even columns\n",
    "bond.loc[\"A View to a Kill\":\"A View to a Kill\",\"Year\"]"
   ]
  },
  {
   "cell_type": "code",
   "execution_count": 65,
   "metadata": {},
   "outputs": [
    {
     "data": {
      "text/plain": [
       "Year            1985\n",
       "Actor    Roger Moore\n",
       "Name: A View to a Kill, dtype: object"
      ]
     },
     "execution_count": 65,
     "metadata": {},
     "output_type": "execute_result"
    }
   ],
   "source": [
    "bond.loc[\"A View to a Kill\",[\"Year\",\"Actor\"]]"
   ]
  },
  {
   "cell_type": "code",
   "execution_count": 124,
   "metadata": {},
   "outputs": [],
   "source": [
    "bond.loc[[\"A View to a Kill\",\"Casino Royale\"],[\"Year\",\"Actor\"]]\n",
    "output = None"
   ]
  },
  {
   "cell_type": "code",
   "execution_count": 125,
   "metadata": {},
   "outputs": [],
   "source": [
    "# \":\" used for range of rows and columns both \n",
    "bond.loc[\"A Viw to a Kill\":\"GoldenEye\",\"Year\":\"Budget\"]\n",
    "output = None"
   ]
  },
  {
   "cell_type": "markdown",
   "metadata": {},
   "source": [
    " - **<font color = \"blue\" > Selecting row with Numerical index </font>**\n",
    "  - **<font color = \"blue\" > iloc[ ] method </font>**"
   ]
  },
  {
   "cell_type": "code",
   "execution_count": 126,
   "metadata": {},
   "outputs": [],
   "source": [
    "bond.head(5)\n",
    "output = None"
   ]
  },
  {
   "cell_type": "code",
   "execution_count": 127,
   "metadata": {},
   "outputs": [],
   "source": [
    "bond.iloc[3]\n",
    "pass"
   ]
  },
  {
   "cell_type": "markdown",
   "metadata": {},
   "source": [
    "**<font color = \"olive\" >  <u> selecting rows with Numeic index, although index is alpha.. </u> </font>**"
   ]
  },
  {
   "cell_type": "code",
   "execution_count": 128,
   "metadata": {},
   "outputs": [],
   "source": [
    "bond.iloc[[4,1,3]]\n",
    "output = None"
   ]
  },
  {
   "cell_type": "code",
   "execution_count": 129,
   "metadata": {},
   "outputs": [],
   "source": [
    "# range of rows against one particular value\n",
    "bond.iloc[1:5,[1]]\n",
    "output = None"
   ]
  },
  {
   "cell_type": "code",
   "execution_count": 130,
   "metadata": {},
   "outputs": [],
   "source": [
    "# range of rows and columns\n",
    "bond.iloc[1:4,1:3]\n",
    "output = None"
   ]
  },
  {
   "cell_type": "code",
   "execution_count": 6,
   "metadata": {},
   "outputs": [],
   "source": [
    "# range of rows and columns\n",
    "bond.iloc[:,1:7]\n",
    "output = None"
   ]
  },
  {
   "cell_type": "markdown",
   "metadata": {},
   "source": [
    "[Back to Top](#start)"
   ]
  },
  {
   "cell_type": "markdown",
   "metadata": {},
   "source": [
    "#### <font color = \"navy\" > 5.3: Setting new values in a row or columns... </font>  <a id=\"ref_5.3\"></a>"
   ]
  },
  {
   "cell_type": "code",
   "execution_count": 24,
   "metadata": {},
   "outputs": [
    {
     "data": {
      "text/html": [
       "<div>\n",
       "<style scoped>\n",
       "    .dataframe tbody tr th:only-of-type {\n",
       "        vertical-align: middle;\n",
       "    }\n",
       "\n",
       "    .dataframe tbody tr th {\n",
       "        vertical-align: top;\n",
       "    }\n",
       "\n",
       "    .dataframe thead th {\n",
       "        text-align: right;\n",
       "    }\n",
       "</style>\n",
       "<table border=\"1\" class=\"dataframe\">\n",
       "  <thead>\n",
       "    <tr style=\"text-align: right;\">\n",
       "      <th></th>\n",
       "      <th>Year</th>\n",
       "      <th>Actor</th>\n",
       "      <th>Director</th>\n",
       "      <th>Box Office</th>\n",
       "      <th>Budget</th>\n",
       "      <th>Bond Actor Salary</th>\n",
       "    </tr>\n",
       "    <tr>\n",
       "      <th>Film</th>\n",
       "      <th></th>\n",
       "      <th></th>\n",
       "      <th></th>\n",
       "      <th></th>\n",
       "      <th></th>\n",
       "      <th></th>\n",
       "    </tr>\n",
       "  </thead>\n",
       "  <tbody>\n",
       "    <tr>\n",
       "      <th>A View to a Kill</th>\n",
       "      <td>1985</td>\n",
       "      <td>Roger Moore</td>\n",
       "      <td>John Glen</td>\n",
       "      <td>275.2</td>\n",
       "      <td>54.5</td>\n",
       "      <td>9.1</td>\n",
       "    </tr>\n",
       "    <tr>\n",
       "      <th>Casino Royale</th>\n",
       "      <td>2006</td>\n",
       "      <td>Daniel Craig</td>\n",
       "      <td>Martin Campbell</td>\n",
       "      <td>581.5</td>\n",
       "      <td>145.3</td>\n",
       "      <td>3.3</td>\n",
       "    </tr>\n",
       "    <tr>\n",
       "      <th>Casino Royale</th>\n",
       "      <td>1967</td>\n",
       "      <td>David Niven</td>\n",
       "      <td>Ken Hughes</td>\n",
       "      <td>315.0</td>\n",
       "      <td>85.0</td>\n",
       "      <td>NaN</td>\n",
       "    </tr>\n",
       "    <tr>\n",
       "      <th>Diamonds Are Forever</th>\n",
       "      <td>1971</td>\n",
       "      <td>Sean Connery</td>\n",
       "      <td>Guy Hamilton</td>\n",
       "      <td>442.5</td>\n",
       "      <td>34.7</td>\n",
       "      <td>5.8</td>\n",
       "    </tr>\n",
       "  </tbody>\n",
       "</table>\n",
       "</div>"
      ],
      "text/plain": [
       "                      Year         Actor         Director  Box Office  Budget  \\\n",
       "Film                                                                            \n",
       "A View to a Kill      1985   Roger Moore        John Glen       275.2    54.5   \n",
       "Casino Royale         2006  Daniel Craig  Martin Campbell       581.5   145.3   \n",
       "Casino Royale         1967   David Niven       Ken Hughes       315.0    85.0   \n",
       "Diamonds Are Forever  1971  Sean Connery     Guy Hamilton       442.5    34.7   \n",
       "\n",
       "                      Bond Actor Salary  \n",
       "Film                                     \n",
       "A View to a Kill                    9.1  \n",
       "Casino Royale                       3.3  \n",
       "Casino Royale                       NaN  \n",
       "Diamonds Are Forever                5.8  "
      ]
     },
     "execution_count": 24,
     "metadata": {},
     "output_type": "execute_result"
    }
   ],
   "source": [
    "%reset -f\n",
    "import pandas as pd\n",
    "bond = pd.read_csv(\"files_for_pandas/jamesbond.csv\",index_col=\"Film\")\n",
    "bond.sort_index(inplace=True)\n",
    "bond.head(4)"
   ]
  },
  {
   "cell_type": "markdown",
   "metadata": {},
   "source": [
    " - **<font color = \"blue\" >  setting one particular value </font>**"
   ]
  },
  {
   "cell_type": "code",
   "execution_count": 28,
   "metadata": {},
   "outputs": [
    {
     "data": {
      "text/html": [
       "<div>\n",
       "<style scoped>\n",
       "    .dataframe tbody tr th:only-of-type {\n",
       "        vertical-align: middle;\n",
       "    }\n",
       "\n",
       "    .dataframe tbody tr th {\n",
       "        vertical-align: top;\n",
       "    }\n",
       "\n",
       "    .dataframe thead th {\n",
       "        text-align: right;\n",
       "    }\n",
       "</style>\n",
       "<table border=\"1\" class=\"dataframe\">\n",
       "  <thead>\n",
       "    <tr style=\"text-align: right;\">\n",
       "      <th></th>\n",
       "      <th>Year</th>\n",
       "      <th>Actor</th>\n",
       "      <th>Director</th>\n",
       "      <th>Box Office</th>\n",
       "      <th>Budget</th>\n",
       "      <th>Bond Actor Salary</th>\n",
       "    </tr>\n",
       "    <tr>\n",
       "      <th>Film</th>\n",
       "      <th></th>\n",
       "      <th></th>\n",
       "      <th></th>\n",
       "      <th></th>\n",
       "      <th></th>\n",
       "      <th></th>\n",
       "    </tr>\n",
       "  </thead>\n",
       "  <tbody>\n",
       "    <tr>\n",
       "      <th>A View to a Kill</th>\n",
       "      <td>1985</td>\n",
       "      <td>R.M</td>\n",
       "      <td>John Glen</td>\n",
       "      <td>275.2</td>\n",
       "      <td>54.5</td>\n",
       "      <td>9.1</td>\n",
       "    </tr>\n",
       "  </tbody>\n",
       "</table>\n",
       "</div>"
      ],
      "text/plain": [
       "                  Year Actor   Director  Box Office  Budget  Bond Actor Salary\n",
       "Film                                                                          \n",
       "A View to a Kill  1985   R.M  John Glen       275.2    54.5                9.1"
      ]
     },
     "execution_count": 28,
     "metadata": {},
     "output_type": "execute_result"
    }
   ],
   "source": [
    "bond.loc[\"A View to a Kill\", \"Actor\"] = \"R.M\"\n",
    "bond.iloc[[0]]"
   ]
  },
  {
   "cell_type": "markdown",
   "metadata": {},
   "source": [
    " - **<font color = \"blue\" >  setting values for multiple columns </font>**"
   ]
  },
  {
   "cell_type": "markdown",
   "metadata": {},
   "source": [
    "<font color = \"green\" size =\"3\" >  Idea is to access first .. and then sign via multiple new values in an array</font>"
   ]
  },
  {
   "cell_type": "code",
   "execution_count": 31,
   "metadata": {},
   "outputs": [],
   "source": [
    "bond.loc[\"A View to a Kill\",[\"Director\",\"Box Office\",\"Budget\"]] = [\"Sir J G\",\"275.2 mmmm\", \"54.5 mmmm\"]"
   ]
  },
  {
   "cell_type": "code",
   "execution_count": 33,
   "metadata": {},
   "outputs": [
    {
     "data": {
      "text/html": [
       "<div>\n",
       "<style scoped>\n",
       "    .dataframe tbody tr th:only-of-type {\n",
       "        vertical-align: middle;\n",
       "    }\n",
       "\n",
       "    .dataframe tbody tr th {\n",
       "        vertical-align: top;\n",
       "    }\n",
       "\n",
       "    .dataframe thead th {\n",
       "        text-align: right;\n",
       "    }\n",
       "</style>\n",
       "<table border=\"1\" class=\"dataframe\">\n",
       "  <thead>\n",
       "    <tr style=\"text-align: right;\">\n",
       "      <th></th>\n",
       "      <th>Year</th>\n",
       "      <th>Actor</th>\n",
       "      <th>Director</th>\n",
       "      <th>Box Office</th>\n",
       "      <th>Budget</th>\n",
       "      <th>Bond Actor Salary</th>\n",
       "    </tr>\n",
       "    <tr>\n",
       "      <th>Film</th>\n",
       "      <th></th>\n",
       "      <th></th>\n",
       "      <th></th>\n",
       "      <th></th>\n",
       "      <th></th>\n",
       "      <th></th>\n",
       "    </tr>\n",
       "  </thead>\n",
       "  <tbody>\n",
       "    <tr>\n",
       "      <th>A View to a Kill</th>\n",
       "      <td>1985</td>\n",
       "      <td>R.M</td>\n",
       "      <td>Sir J G</td>\n",
       "      <td>275.2 mmmm</td>\n",
       "      <td>54.5 mmmm</td>\n",
       "      <td>9.1</td>\n",
       "    </tr>\n",
       "  </tbody>\n",
       "</table>\n",
       "</div>"
      ],
      "text/plain": [
       "                  Year Actor Director  Box Office     Budget  \\\n",
       "Film                                                           \n",
       "A View to a Kill  1985   R.M  Sir J G  275.2 mmmm  54.5 mmmm   \n",
       "\n",
       "                  Bond Actor Salary  \n",
       "Film                                 \n",
       "A View to a Kill                9.1  "
      ]
     },
     "execution_count": 33,
     "metadata": {},
     "output_type": "execute_result"
    }
   ],
   "source": [
    "bond.loc[[\"A View to a Kill\"]]"
   ]
  },
  {
   "cell_type": "markdown",
   "metadata": {},
   "source": [
    " **<font color = \"olive\" >  <u> Similiar operations are possible with iloc[ ] method as well </u> </font>**"
   ]
  },
  {
   "cell_type": "markdown",
   "metadata": {},
   "source": [
    "[Back to Top](#start)"
   ]
  },
  {
   "cell_type": "markdown",
   "metadata": {},
   "source": [
    "#### <font color = \"navy\" > 5.4: Setting news values across multiple rows... </font>  <a id=\"ref_5.4\"></a>"
   ]
  },
  {
   "cell_type": "code",
   "execution_count": 20,
   "metadata": {},
   "outputs": [],
   "source": [
    "%reset -f\n",
    "import pandas as pd\n",
    "bond = pd.read_csv(\"files_for_pandas/jamesbond.csv\", index_col=\"Film\")\n",
    "bond.sort_index(inplace=True)\n",
    "bond.head(3)\n",
    "output = None"
   ]
  },
  {
   "cell_type": "code",
   "execution_count": 112,
   "metadata": {},
   "outputs": [],
   "source": [
    "bond.iloc[[1,3,5]]\n",
    "pass"
   ]
  },
  {
   "cell_type": "code",
   "execution_count": 93,
   "metadata": {},
   "outputs": [],
   "source": [
    "bond.iloc[[1,3],[1,2]] = [  [\"Sir Daniel Craig\",\"M.C\"],[\"Sir Sean Connery\",\"G.H.\"]    ]"
   ]
  },
  {
   "cell_type": "code",
   "execution_count": 113,
   "metadata": {},
   "outputs": [],
   "source": [
    "bond.iloc[[1,3],[1,2]]\n",
    "output = None"
   ]
  },
  {
   "cell_type": "markdown",
   "metadata": {},
   "source": [
    " - **<font color = \"blue\" >  Change all Sean Connery with \"Sir. Sean Connery\" </font>**"
   ]
  },
  {
   "cell_type": "code",
   "execution_count": 21,
   "metadata": {},
   "outputs": [],
   "source": [
    "bond.head(3)\n",
    "output =None"
   ]
  },
  {
   "cell_type": "code",
   "execution_count": 22,
   "metadata": {},
   "outputs": [],
   "source": [
    "m1 = bond[\"Actor\"] == \"Roger Moore\"\n",
    "m1\n",
    "output = None"
   ]
  },
  {
   "cell_type": "code",
   "execution_count": 23,
   "metadata": {},
   "outputs": [],
   "source": [
    "bond[m1]\n",
    "output = None"
   ]
  },
  {
   "cell_type": "code",
   "execution_count": 24,
   "metadata": {},
   "outputs": [],
   "source": [
    "bond.loc[m1]\n",
    "output = None"
   ]
  },
  {
   "cell_type": "code",
   "execution_count": 25,
   "metadata": {},
   "outputs": [],
   "source": [
    "bond.loc[m1,\"Actor\"]\n",
    "pass"
   ]
  },
  {
   "cell_type": "markdown",
   "metadata": {},
   "source": [
    "<font color = \"green\" size =\"3\" >  This is not a separate copy,so \"bond.loc[m1]\" is a whole new dF.. **AND WHAT WE WANT TO EFFECT** is THE 2nd argument e.g. \"Actor\"  </font>"
   ]
  },
  {
   "cell_type": "code",
   "execution_count": 17,
   "metadata": {},
   "outputs": [],
   "source": [
    "bond.loc[m1,\"Actor\"] = \"Mr Roger Moore\""
   ]
  },
  {
   "cell_type": "code",
   "execution_count": 26,
   "metadata": {},
   "outputs": [],
   "source": [
    "bond.loc[m1]\n",
    "output = None"
   ]
  },
  {
   "cell_type": "markdown",
   "metadata": {},
   "source": [
    "**<font color = \"olive\" >  Keep in mind to use  .loc[ ] for this kind of situation </font>**"
   ]
  },
  {
   "cell_type": "markdown",
   "metadata": {},
   "source": [
    "[Back to Top](#start)"
   ]
  },
  {
   "cell_type": "markdown",
   "metadata": {},
   "source": [
    "#### <font color = \"navy\" > 5.5: Chaning Columns Names </font>  <a id=\"ref_5.5\"></a>"
   ]
  },
  {
   "cell_type": "code",
   "execution_count": 107,
   "metadata": {},
   "outputs": [],
   "source": [
    "%reset -f\n",
    "import pandas as pd\n",
    "bond = pd.read_csv(\"files_for_pandas/jamesbond.csv\", index_col= \"Film\")\n",
    "bond.sort_index(inplace=True)\n",
    "bond.head(3)\n",
    "output = None"
   ]
  },
  {
   "cell_type": "code",
   "execution_count": 106,
   "metadata": {},
   "outputs": [],
   "source": [
    "bond.rename(columns = {\"Year\": \"Release Year\",\n",
    "                       \"Actor\": \"Permorfed by\",\n",
    "                       \"Budget\": \"Revenue\"\n",
    "                      }, inplace = True )\n",
    "output = None"
   ]
  },
  {
   "cell_type": "code",
   "execution_count": 108,
   "metadata": {},
   "outputs": [],
   "source": [
    "bond.head(2)\n",
    "pass"
   ]
  },
  {
   "cell_type": "markdown",
   "metadata": {},
   "source": [
    "**<font color = \"olive\" >  Similiarly for row string index as well </font>**"
   ]
  },
  {
   "cell_type": "markdown",
   "metadata": {},
   "source": [
    "- **<font color = \"blue\" > Just Reminder </font>**"
   ]
  },
  {
   "cell_type": "code",
   "execution_count": 109,
   "metadata": {},
   "outputs": [],
   "source": [
    "bond.columns\n",
    "pass"
   ]
  },
  {
   "cell_type": "code",
   "execution_count": 110,
   "metadata": {},
   "outputs": [],
   "source": [
    "bond.index\n",
    "pass"
   ]
  },
  {
   "cell_type": "markdown",
   "metadata": {},
   "source": [
    "[Back to Top](#start)"
   ]
  },
  {
   "cell_type": "markdown",
   "metadata": {},
   "source": [
    "#### <font color = \"navy\" > 5.6: Deleting row or columns </font>  <a id=\"ref_5.6\"></a>"
   ]
  },
  {
   "cell_type": "code",
   "execution_count": 2,
   "metadata": {},
   "outputs": [],
   "source": [
    "%reset -f\n",
    "import pandas as pd\n",
    "bond = pd.read_csv(\"files_for_pandas/jamesbond.csv\", index_col=\"Film\")\n",
    "bond.sort_index(inplace=True)\n",
    "bond.head()\n",
    "output = None"
   ]
  },
  {
   "cell_type": "code",
   "execution_count": 3,
   "metadata": {},
   "outputs": [],
   "source": [
    "bond.drop(columns = [\"Year\",\"Actor\"])\n",
    "output = None"
   ]
  },
  {
   "cell_type": "code",
   "execution_count": 4,
   "metadata": {},
   "outputs": [],
   "source": [
    "bond.drop(index = [\"A View to a Kill\",\"Casino Royale\",\"Diamonds Are Forever\",\"Die Another Day\"])\n",
    "output = None"
   ]
  },
  {
   "cell_type": "markdown",
   "metadata": {},
   "source": [
    "- **<font color = \"blue\" > Range of Index </font>**"
   ]
  },
  {
   "cell_type": "markdown",
   "metadata": {},
   "source": [
    "<font color = \"green\" size =\"3\" >  Thing to remeber is.. \n",
    "**df.index or df.columns are 1-D arrays** ... they have propoer index and every thing else.. <br/>\n",
    "we can get range with them like :  **df.index[0:3]** or **df.columns[3:8]**.. for any purpose.. <br/>\n",
    "but here we want to delate so lets do ...\n",
    "\n",
    "</font>"
   ]
  },
  {
   "cell_type": "code",
   "execution_count": 5,
   "metadata": {},
   "outputs": [],
   "source": [
    "bond.index[0]\n",
    "pass"
   ]
  },
  {
   "cell_type": "code",
   "execution_count": 6,
   "metadata": {},
   "outputs": [],
   "source": [
    "bond.index[0:5]\n",
    "pass"
   ]
  },
  {
   "cell_type": "code",
   "execution_count": 10,
   "metadata": {},
   "outputs": [],
   "source": [
    "# for range of rows:\n",
    "bond.drop(index = bond.index[0:5])\n",
    "output = None"
   ]
  },
  {
   "cell_type": "code",
   "execution_count": 14,
   "metadata": {},
   "outputs": [],
   "source": [
    "# for range of columns:\n",
    "bond.drop(columns=bond.columns[1:3])\n",
    "output = None"
   ]
  },
  {
   "cell_type": "markdown",
   "metadata": {},
   "source": [
    "**<font color = \"olive\" >  Pop method might be useful, it trim the orignal df and return the trimmed portion </font>**"
   ]
  },
  {
   "cell_type": "markdown",
   "metadata": {},
   "source": [
    "[Back to Top](#start)"
   ]
  },
  {
   "cell_type": "markdown",
   "metadata": {},
   "source": [
    "#### <font color = \"navy\" > 5.7: Selecting  n number of small/large values </font>  <a id=\"ref_5.7\"></a>"
   ]
  },
  {
   "cell_type": "code",
   "execution_count": 146,
   "metadata": {},
   "outputs": [],
   "source": [
    "%reset -f\n",
    "import pandas as pd\n",
    "bond = pd.read_csv(\"files_for_pandas/jamesbond.csv\", index_col=\"Film\")\n",
    "bond.sort_index(inplace=True)\n",
    "bond.head()\n",
    "output = None"
   ]
  },
  {
   "cell_type": "code",
   "execution_count": 143,
   "metadata": {},
   "outputs": [],
   "source": [
    "bond.nlargest(6,columns = \"Box Office\",keep = \"first\")\n",
    "# bond.nsmallest(6,columns = \"Box Office\",keep = \"first\")\n",
    "output = None"
   ]
  },
  {
   "cell_type": "markdown",
   "metadata": {},
   "source": [
    "**<font color = \"blue\" > In case we only need, 1d Series </font>**"
   ]
  },
  {
   "cell_type": "code",
   "execution_count": 145,
   "metadata": {},
   "outputs": [],
   "source": [
    "bond[\"Box Office\"].nlargest(6)\n",
    "pass"
   ]
  },
  {
   "cell_type": "markdown",
   "metadata": {},
   "source": [
    "[Back to Top](#start)"
   ]
  },
  {
   "cell_type": "markdown",
   "metadata": {},
   "source": [
    "#### <font color = \"navy\" > 5.8: Overall picture  where some particular scanrio is? </font>  <a id=\"ref_5.8\"></a>"
   ]
  },
  {
   "cell_type": "code",
   "execution_count": 153,
   "metadata": {},
   "outputs": [],
   "source": [
    "%reset -f\n",
    "import pandas as pd\n",
    "bond = pd.read_csv(\"files_for_pandas/jamesbond.csv\", index_col=\"Film\")\n",
    "bond.sort_index(inplace=True)\n",
    "bond.head()\n",
    "output = None"
   ]
  },
  {
   "cell_type": "code",
   "execution_count": 152,
   "metadata": {},
   "outputs": [],
   "source": [
    "m1 = bond[\"Actor\"] == \"Roger Moore\"\n",
    "bond.where(m1)\n",
    "output = None"
   ]
  },
  {
   "cell_type": "markdown",
   "metadata": {},
   "source": [
    "<font color = \"green\" size =\"3\" >  This shows the overall picture where our condition is met rather than just returning the new data frame</font>"
   ]
  },
  {
   "cell_type": "markdown",
   "metadata": {},
   "source": [
    "[Back to Top](#start)"
   ]
  },
  {
   "cell_type": "markdown",
   "metadata": {},
   "source": [
    "#### <font color = \"navy\" > 5.9: Separate copy from df </font>  <a id=\"ref_5.9\"></a>"
   ]
  },
  {
   "cell_type": "code",
   "execution_count": 160,
   "metadata": {},
   "outputs": [],
   "source": [
    "%reset -f\n",
    "import pandas as pd\n",
    "bond = pd.read_csv(\"files_for_pandas/jamesbond.csv\", index_col=\"Film\")\n",
    "bond.sort_index(inplace=True)\n",
    "bond.head()\n",
    "output = None"
   ]
  },
  {
   "cell_type": "code",
   "execution_count": 163,
   "metadata": {},
   "outputs": [],
   "source": [
    "actr = bond[\"Actor\"].copy()\n",
    "pass"
   ]
  },
  {
   "cell_type": "code",
   "execution_count": 164,
   "metadata": {},
   "outputs": [],
   "source": [
    "actr.head(3)\n",
    "pass"
   ]
  },
  {
   "cell_type": "markdown",
   "metadata": {},
   "source": [
    "[Back to Top](#start)"
   ]
  },
  {
   "cell_type": "markdown",
   "metadata": {},
   "source": [
    "#### <font color = \"navy\" > 5.10: what is .apply() method in pandas context </font>  <a id=\"ref_5.10\"></a>"
   ]
  },
  {
   "cell_type": "code",
   "execution_count": 974,
   "metadata": {
    "scrolled": false
   },
   "outputs": [],
   "source": [
    "%reset -f\n",
    "import pandas as pd\n",
    "from pandas import DataFrame\n",
    "df = DataFrame.from_dict(\n",
    "    {\n",
    "        'num1' : [1,2,3,4,5], \n",
    "        'num2' : [5,10,15,20,25], \n",
    "        'num3' : [10,20,30,40,50], \n",
    "        'letter' : ['a','b','c','d','e']\n",
    "    }\n",
    ")\n",
    "df\n",
    "output = None"
   ]
  },
  {
   "cell_type": "markdown",
   "metadata": {},
   "source": [
    "- **<font color = 'blue' >case-1: .apply() for a single column </font>**"
   ]
  },
  {
   "cell_type": "markdown",
   "metadata": {},
   "source": [
    "<font color = \"green\" size =\"3\" >  Keep in mind, <code>df[\"num1]</code> is a 1D pandas object , i.e. \n",
    "<code>\"Series\"</code> <br>\n",
    "    Now the <code>.apply()</code> send element by element and get the result , untill the all the elments in Series are done    \n",
    "</font>"
   ]
  },
  {
   "cell_type": "code",
   "execution_count": 975,
   "metadata": {},
   "outputs": [],
   "source": [
    "def single(value):\n",
    "    print(\"enement is \")\n",
    "    print(value)"
   ]
  },
  {
   "cell_type": "code",
   "execution_count": 977,
   "metadata": {},
   "outputs": [],
   "source": [
    "# df[\"num1\"].apply(single)"
   ]
  },
  {
   "cell_type": "markdown",
   "metadata": {},
   "source": [
    "- **<font color = 'blue' >case-2: .apply() for a df </font>**"
   ]
  },
  {
   "cell_type": "markdown",
   "metadata": {},
   "source": [
    "<font color = \"green\" size =\"3\" >  For 2D data frame, it passes series by series\n",
    "</font>"
   ]
  },
  {
   "cell_type": "code",
   "execution_count": 979,
   "metadata": {},
   "outputs": [],
   "source": [
    "df\n",
    "output = None"
   ]
  },
  {
   "cell_type": "code",
   "execution_count": 980,
   "metadata": {},
   "outputs": [],
   "source": [
    "def data_frame1(values):\n",
    "    print(\"element is \")\n",
    "    print(values)\n",
    "    print(type(values))\n",
    "    "
   ]
  },
  {
   "cell_type": "code",
   "execution_count": 984,
   "metadata": {},
   "outputs": [],
   "source": [
    "# df.apply(data_frame1)\n"
   ]
  },
  {
   "cell_type": "markdown",
   "metadata": {},
   "source": [
    "<font color = \"green\" size =\"3\" >  But here it has two choices, \n",
    " Either go row by row or column by column\n",
    "</font>"
   ]
  },
  {
   "cell_type": "code",
   "execution_count": 986,
   "metadata": {},
   "outputs": [],
   "source": [
    "df\n",
    "output = None"
   ]
  },
  {
   "cell_type": "code",
   "execution_count": 987,
   "metadata": {},
   "outputs": [],
   "source": [
    "def data_frame1(values):\n",
    "    print(\"element is \")\n",
    "    print(values)\n",
    "    print(type(values))\n",
    "    "
   ]
  },
  {
   "cell_type": "code",
   "execution_count": 988,
   "metadata": {},
   "outputs": [],
   "source": [
    "# df.apply(data_frame1, axis = \"columns\")"
   ]
  },
  {
   "cell_type": "code",
   "execution_count": 990,
   "metadata": {},
   "outputs": [],
   "source": [
    "df\n",
    "output = None"
   ]
  },
  {
   "cell_type": "markdown",
   "metadata": {},
   "source": [
    "<font color = \"green\" size =\"3\" >  And so we have access over the element as well\n",
    "</font>"
   ]
  },
  {
   "cell_type": "code",
   "execution_count": 991,
   "metadata": {},
   "outputs": [],
   "source": [
    "def data_frame1(values):\n",
    "    print(values[0])\n",
    "    print(values[1])\n",
    "    print(\"****************\")\n",
    "    "
   ]
  },
  {
   "cell_type": "code",
   "execution_count": 993,
   "metadata": {},
   "outputs": [],
   "source": [
    "# df.apply(data_frame1, axis = \"columns\")\n",
    "# df.apply(data_frame1, axis = \"rows\")"
   ]
  },
  {
   "cell_type": "markdown",
   "metadata": {},
   "source": [
    "- **<font color = 'blue' >case-3: How to use .apply() with lambda function for a df </font>**"
   ]
  },
  {
   "cell_type": "code",
   "execution_count": 994,
   "metadata": {
    "scrolled": false
   },
   "outputs": [],
   "source": [
    "%reset -f\n",
    "import pandas as pd\n",
    "from pandas import DataFrame\n",
    "df = DataFrame.from_dict(\n",
    "    {\n",
    "        'num1' : [1,2,3,4,5], \n",
    "        'num2' : [5,10,15,20,25], \n",
    "        'num3' : [10,20,30,40,50], \n",
    "        'letter' : ['a','b','c','d','e']\n",
    "    }\n",
    ")\n",
    "df\n",
    "output = None"
   ]
  },
  {
   "cell_type": "markdown",
   "metadata": {},
   "source": [
    "<font color = \"green\" size =\"3\" >  Lets's say we want to create a new columns at the end of this df,\n",
    "    Its very necessary to mention the <code>axis=0/1</code> information\n",
    "</font>"
   ]
  },
  {
   "cell_type": "code",
   "execution_count": 995,
   "metadata": {},
   "outputs": [],
   "source": [
    "df\n",
    "output = None"
   ]
  },
  {
   "cell_type": "code",
   "execution_count": 999,
   "metadata": {},
   "outputs": [],
   "source": [
    "df[\"new_COL1\"] = df.apply(lambda x:  x[\"letter\"] + str(x[\"num2\"]) + \" \", axis = \"columns\")"
   ]
  },
  {
   "cell_type": "code",
   "execution_count": 1000,
   "metadata": {},
   "outputs": [],
   "source": [
    "df\n",
    "output = None"
   ]
  },
  {
   "cell_type": "code",
   "execution_count": 1001,
   "metadata": {},
   "outputs": [],
   "source": [
    "df[\"new_COL2\"] = df.apply(lambda x: x[\"new_COL1\"]*3  , axis = \"columns\")"
   ]
  },
  {
   "cell_type": "code",
   "execution_count": 1002,
   "metadata": {},
   "outputs": [],
   "source": [
    "df\n",
    "output = None"
   ]
  },
  {
   "cell_type": "markdown",
   "metadata": {},
   "source": [
    "- **<font color = 'blue' >case-3: Using .apply() with lambda function in a for loop </font>**"
   ]
  },
  {
   "cell_type": "code",
   "execution_count": 1004,
   "metadata": {
    "scrolled": false
   },
   "outputs": [],
   "source": [
    "%reset -f\n",
    "import pandas as pd\n",
    "from pandas import DataFrame\n",
    "df = DataFrame.from_dict(\n",
    "    {\n",
    "        'num1' : [1,2,3,4,5], \n",
    "        'num2' : [5,10,15,20,25], \n",
    "        'num3' : [10,20,30,40,50], \n",
    "        'letter' : ['a','b','c','d','e']\n",
    "    }\n",
    ")\n",
    "df\n",
    "output = None"
   ]
  },
  {
   "cell_type": "code",
   "execution_count": 1005,
   "metadata": {},
   "outputs": [],
   "source": [
    "cols = [\"num1\",\"num2\",\"num3\",\"letter\"]"
   ]
  },
  {
   "cell_type": "code",
   "execution_count": 1006,
   "metadata": {},
   "outputs": [],
   "source": [
    "i = 0\n",
    "for name in df:\n",
    "    i+=1\n",
    "    df[name + \"_COL\" + name[-1]] = str(i) + \",\" + df[name].apply(lambda x: str(x)+\" \"+name)\n"
   ]
  },
  {
   "cell_type": "code",
   "execution_count": 1007,
   "metadata": {},
   "outputs": [],
   "source": [
    "df\n",
    "output = None"
   ]
  },
  {
   "cell_type": "markdown",
   "metadata": {},
   "source": [
    "[Back to Top](#start)"
   ]
  },
  {
   "cell_type": "markdown",
   "metadata": {},
   "source": [
    "#### <font color = \"navy\" > 5.11: Real example with .apply() method </font>  <a id=\"ref_5.11\"></a>"
   ]
  },
  {
   "cell_type": "code",
   "execution_count": 1,
   "metadata": {
    "scrolled": true
   },
   "outputs": [
    {
     "data": {
      "text/html": [
       "<div>\n",
       "<style scoped>\n",
       "    .dataframe tbody tr th:only-of-type {\n",
       "        vertical-align: middle;\n",
       "    }\n",
       "\n",
       "    .dataframe tbody tr th {\n",
       "        vertical-align: top;\n",
       "    }\n",
       "\n",
       "    .dataframe thead th {\n",
       "        text-align: right;\n",
       "    }\n",
       "</style>\n",
       "<table border=\"1\" class=\"dataframe\">\n",
       "  <thead>\n",
       "    <tr style=\"text-align: right;\">\n",
       "      <th></th>\n",
       "      <th>Year</th>\n",
       "      <th>Actor</th>\n",
       "      <th>Director</th>\n",
       "      <th>Box Office</th>\n",
       "      <th>Budget</th>\n",
       "      <th>Bond Actor Salary</th>\n",
       "    </tr>\n",
       "    <tr>\n",
       "      <th>Film</th>\n",
       "      <th></th>\n",
       "      <th></th>\n",
       "      <th></th>\n",
       "      <th></th>\n",
       "      <th></th>\n",
       "      <th></th>\n",
       "    </tr>\n",
       "  </thead>\n",
       "  <tbody>\n",
       "    <tr>\n",
       "      <th>A View to a Kill</th>\n",
       "      <td>1985-01-01</td>\n",
       "      <td>Roger Moore</td>\n",
       "      <td>John Glen</td>\n",
       "      <td>275.2</td>\n",
       "      <td>54.5</td>\n",
       "      <td>9.1</td>\n",
       "    </tr>\n",
       "    <tr>\n",
       "      <th>Casino Royale</th>\n",
       "      <td>2006-01-01</td>\n",
       "      <td>Daniel Craig</td>\n",
       "      <td>Martin Campbell</td>\n",
       "      <td>581.5</td>\n",
       "      <td>145.3</td>\n",
       "      <td>3.3</td>\n",
       "    </tr>\n",
       "    <tr>\n",
       "      <th>Casino Royale</th>\n",
       "      <td>1967-01-01</td>\n",
       "      <td>David Niven</td>\n",
       "      <td>Ken Hughes</td>\n",
       "      <td>315.0</td>\n",
       "      <td>85.0</td>\n",
       "      <td>NaN</td>\n",
       "    </tr>\n",
       "    <tr>\n",
       "      <th>Diamonds Are Forever</th>\n",
       "      <td>1971-01-01</td>\n",
       "      <td>Sean Connery</td>\n",
       "      <td>Guy Hamilton</td>\n",
       "      <td>442.5</td>\n",
       "      <td>34.7</td>\n",
       "      <td>5.8</td>\n",
       "    </tr>\n",
       "    <tr>\n",
       "      <th>Die Another Day</th>\n",
       "      <td>2002-01-01</td>\n",
       "      <td>Pierce Brosnan</td>\n",
       "      <td>Lee Tamahori</td>\n",
       "      <td>465.4</td>\n",
       "      <td>154.2</td>\n",
       "      <td>17.9</td>\n",
       "    </tr>\n",
       "    <tr>\n",
       "      <th>Dr. No</th>\n",
       "      <td>1962-01-01</td>\n",
       "      <td>Sean Connery</td>\n",
       "      <td>Terence Young</td>\n",
       "      <td>448.8</td>\n",
       "      <td>7.0</td>\n",
       "      <td>0.6</td>\n",
       "    </tr>\n",
       "    <tr>\n",
       "      <th>For Your Eyes Only</th>\n",
       "      <td>1981-01-01</td>\n",
       "      <td>Roger Moore</td>\n",
       "      <td>John Glen</td>\n",
       "      <td>449.4</td>\n",
       "      <td>60.2</td>\n",
       "      <td>NaN</td>\n",
       "    </tr>\n",
       "    <tr>\n",
       "      <th>From Russia with Love</th>\n",
       "      <td>1963-01-01</td>\n",
       "      <td>Sean Connery</td>\n",
       "      <td>Terence Young</td>\n",
       "      <td>543.8</td>\n",
       "      <td>12.6</td>\n",
       "      <td>1.6</td>\n",
       "    </tr>\n",
       "    <tr>\n",
       "      <th>GoldenEye</th>\n",
       "      <td>1995-01-01</td>\n",
       "      <td>Pierce Brosnan</td>\n",
       "      <td>Martin Campbell</td>\n",
       "      <td>518.5</td>\n",
       "      <td>76.9</td>\n",
       "      <td>5.1</td>\n",
       "    </tr>\n",
       "    <tr>\n",
       "      <th>Goldfinger</th>\n",
       "      <td>1964-01-01</td>\n",
       "      <td>Sean Connery</td>\n",
       "      <td>Guy Hamilton</td>\n",
       "      <td>820.4</td>\n",
       "      <td>18.6</td>\n",
       "      <td>3.2</td>\n",
       "    </tr>\n",
       "  </tbody>\n",
       "</table>\n",
       "</div>"
      ],
      "text/plain": [
       "                            Year           Actor         Director  Box Office  \\\n",
       "Film                                                                            \n",
       "A View to a Kill      1985-01-01     Roger Moore        John Glen       275.2   \n",
       "Casino Royale         2006-01-01    Daniel Craig  Martin Campbell       581.5   \n",
       "Casino Royale         1967-01-01     David Niven       Ken Hughes       315.0   \n",
       "Diamonds Are Forever  1971-01-01    Sean Connery     Guy Hamilton       442.5   \n",
       "Die Another Day       2002-01-01  Pierce Brosnan     Lee Tamahori       465.4   \n",
       "Dr. No                1962-01-01    Sean Connery    Terence Young       448.8   \n",
       "For Your Eyes Only    1981-01-01     Roger Moore        John Glen       449.4   \n",
       "From Russia with Love 1963-01-01    Sean Connery    Terence Young       543.8   \n",
       "GoldenEye             1995-01-01  Pierce Brosnan  Martin Campbell       518.5   \n",
       "Goldfinger            1964-01-01    Sean Connery     Guy Hamilton       820.4   \n",
       "\n",
       "                       Budget  Bond Actor Salary  \n",
       "Film                                              \n",
       "A View to a Kill         54.5                9.1  \n",
       "Casino Royale           145.3                3.3  \n",
       "Casino Royale            85.0                NaN  \n",
       "Diamonds Are Forever     34.7                5.8  \n",
       "Die Another Day         154.2               17.9  \n",
       "Dr. No                    7.0                0.6  \n",
       "For Your Eyes Only       60.2                NaN  \n",
       "From Russia with Love    12.6                1.6  \n",
       "GoldenEye                76.9                5.1  \n",
       "Goldfinger               18.6                3.2  "
      ]
     },
     "execution_count": 1,
     "metadata": {},
     "output_type": "execute_result"
    }
   ],
   "source": [
    "%reset -f\n",
    "import pandas as pd\n",
    "df = pd.read_csv(\"files_for_pandas/jamesbond.csv\", parse_dates=[\"Year\"], index_col=\"Film\")\n",
    "df.sort_index(inplace=True)\n",
    "df.head(10)\n",
    "# output = None"
   ]
  },
  {
   "cell_type": "code",
   "execution_count": 2,
   "metadata": {},
   "outputs": [],
   "source": [
    "def sorting_1(n):\n",
    "    if n < 500:\n",
    "        return \"low\"\n",
    "    if n >=500 and n <=600:\n",
    "        return \"middlw\"\n",
    "    else:\n",
    "        return \"high\""
   ]
  },
  {
   "cell_type": "code",
   "execution_count": 3,
   "metadata": {},
   "outputs": [
    {
     "data": {
      "text/plain": [
       "Film\n",
       "A View to a Kill                      low\n",
       "Casino Royale                      middlw\n",
       "Casino Royale                         low\n",
       "Diamonds Are Forever                  low\n",
       "Die Another Day                       low\n",
       "Dr. No                                low\n",
       "For Your Eyes Only                    low\n",
       "From Russia with Love              middlw\n",
       "GoldenEye                          middlw\n",
       "Goldfinger                           high\n",
       "Licence to Kill                       low\n",
       "Live and Let Die                      low\n",
       "Moonraker                          middlw\n",
       "Never Say Never Again                 low\n",
       "Octopussy                             low\n",
       "On Her Majesty's Secret Service       low\n",
       "Quantum of Solace                  middlw\n",
       "Skyfall                              high\n",
       "Spectre                              high\n",
       "The Living Daylights                  low\n",
       "The Man with the Golden Gun           low\n",
       "The Spy Who Loved Me               middlw\n",
       "The World Is Not Enough               low\n",
       "Thunderball                          high\n",
       "Tomorrow Never Dies                   low\n",
       "You Only Live Twice                middlw\n",
       "Name: Box Office, dtype: object"
      ]
     },
     "execution_count": 3,
     "metadata": {},
     "output_type": "execute_result"
    }
   ],
   "source": [
    "df[\"Box Office\"].apply(sorting_1)\n",
    "# pass"
   ]
  },
  {
   "cell_type": "code",
   "execution_count": 45,
   "metadata": {},
   "outputs": [
    {
     "data": {
      "text/plain": [
       "low       15\n",
       "middlw     7\n",
       "high       4\n",
       "Name: Box Office, dtype: int64"
      ]
     },
     "execution_count": 45,
     "metadata": {},
     "output_type": "execute_result"
    }
   ],
   "source": [
    "df[\"Box Office\"].apply(sorting_1).value_counts()"
   ]
  },
  {
   "cell_type": "markdown",
   "metadata": {},
   "source": [
    "<font color = \"green\" size =\"3\" >  This is how the apply method works on a single columns <br/>\n",
    "Thing to remember is... Pandas was given a single columns, then with apply method every single value is passed to self defined function. <br/> <br/> Right? Yes <br/> So how each single value is being passed... its definitely row-by-row.. not like the whole column is just passed at once..  <br/> This is what we are going to check in next cells with whole dF</font>"
   ]
  },
  {
   "cell_type": "code",
   "execution_count": 46,
   "metadata": {},
   "outputs": [],
   "source": [
    "def display_apply_pattern(tmp):\n",
    "    x = tmp[1]\n",
    "    y = tmp[2]\n",
    "    \n",
    "    print(x,\"~~~\",y)\n",
    "    print(\"next\")"
   ]
  },
  {
   "cell_type": "markdown",
   "metadata": {},
   "source": [
    "<font color = \"green\" size =\"3\" >  First and Second entity is stored in x,y and then later just print.. <br/> Just to keep in mind that at back end.. pandas is sending data to our self-defined function in a row-by-row mode <br> \n",
    "**Later we have to keep in mind.. axis = \"columns\" because its its moving across different columns in a paramter**</font>"
   ]
  },
  {
   "cell_type": "code",
   "execution_count": 58,
   "metadata": {},
   "outputs": [],
   "source": [
    "# df.apply(display_apply_pattern,axis =\"columns\")\n",
    "pass"
   ]
  },
  {
   "cell_type": "markdown",
   "metadata": {},
   "source": [
    "<font color = \"Red\" size =\"3\" >  Now we understand the method itself .. so lets apply on our data...</font>"
   ]
  },
  {
   "cell_type": "code",
   "execution_count": 54,
   "metadata": {},
   "outputs": [],
   "source": [
    "df.head()\n",
    "output = None"
   ]
  },
  {
   "cell_type": "code",
   "execution_count": 50,
   "metadata": {},
   "outputs": [],
   "source": [
    "def f(row):\n",
    "    actr = row[1]\n",
    "    budget = row[4]\n",
    "    \n",
    "    if actr == \"Roger Moore\":\n",
    "        return \"The best\"\n",
    "    elif actr == \"Roger Moore\" and budget > 500:\n",
    "        return \"Enjoyable\"\n",
    "    else:\n",
    "        \"No Idea\"\n",
    "    "
   ]
  },
  {
   "cell_type": "code",
   "execution_count": 53,
   "metadata": {},
   "outputs": [],
   "source": [
    "df.apply(f,axis =\"columns\")\n",
    "pass"
   ]
  },
  {
   "cell_type": "markdown",
   "metadata": {},
   "source": [
    "[Back to Top](#start)"
   ]
  },
  {
   "cell_type": "markdown",
   "metadata": {},
   "source": [
    "### Ch 6. Working with Text Data  <a id=\"ch_6\"></a>"
   ]
  },
  {
   "cell_type": "markdown",
   "metadata": {},
   "source": [
    "#### <font color = \"navy\" > 6.1: Common String methods </font>  <a id=\"ref_6.1\"></a>"
   ]
  },
  {
   "cell_type": "code",
   "execution_count": 152,
   "metadata": {},
   "outputs": [],
   "source": [
    "%reset -f\n",
    "import pandas as pd\n",
    "chicago = pd.read_csv(\"files_for_pandas/chicago.csv\")\n",
    "chicago[\"Department\"] = chicago[\"Department\"].astype(dtype = \"category\")\n",
    "# print(chicago.head())\n",
    "# chicago.info()\n",
    "output = None"
   ]
  },
  {
   "cell_type": "markdown",
   "metadata": {},
   "source": [
    "- **<font color = \"blue\" > 6.1.1: lower/upper case </font>**"
   ]
  },
  {
   "cell_type": "code",
   "execution_count": 11,
   "metadata": {},
   "outputs": [
    {
     "data": {
      "text/plain": [
       "'hellow world'"
      ]
     },
     "execution_count": 11,
     "metadata": {},
     "output_type": "execute_result"
    }
   ],
   "source": [
    "\"Hellow World\".lower()"
   ]
  },
  {
   "cell_type": "code",
   "execution_count": 16,
   "metadata": {},
   "outputs": [],
   "source": [
    "chicago[\"Name\"].str.lower()\n",
    "output = None"
   ]
  },
  {
   "cell_type": "code",
   "execution_count": 20,
   "metadata": {},
   "outputs": [],
   "source": [
    "chicago[\"Name\"].str.lower().str.upper()\n",
    "output = None"
   ]
  },
  {
   "cell_type": "markdown",
   "metadata": {},
   "source": [
    "- **<font color = \"blue\" > 6.1.2: title </font>**"
   ]
  },
  {
   "cell_type": "code",
   "execution_count": 25,
   "metadata": {},
   "outputs": [
    {
     "data": {
      "text/plain": [
       "'Every Night I See You I Feel'"
      ]
     },
     "execution_count": 25,
     "metadata": {},
     "output_type": "execute_result"
    }
   ],
   "source": [
    "\"every night I see you I feel\".title()"
   ]
  },
  {
   "cell_type": "code",
   "execution_count": 23,
   "metadata": {},
   "outputs": [],
   "source": [
    "chicago[\"Name\"].str.title()\n",
    "output = None"
   ]
  },
  {
   "cell_type": "markdown",
   "metadata": {},
   "source": [
    "- **<font color = \"blue\" > 6.1.3 Length of each index </font>**"
   ]
  },
  {
   "cell_type": "code",
   "execution_count": 26,
   "metadata": {},
   "outputs": [
    {
     "data": {
      "text/plain": [
       "5"
      ]
     },
     "execution_count": 26,
     "metadata": {},
     "output_type": "execute_result"
    }
   ],
   "source": [
    "len(\"Boxes\")"
   ]
  },
  {
   "cell_type": "code",
   "execution_count": 28,
   "metadata": {},
   "outputs": [],
   "source": [
    "chicago[\"Name\"].str.len()\n",
    "output = None"
   ]
  },
  {
   "cell_type": "markdown",
   "metadata": {},
   "source": [
    "[Back to Top](#start)"
   ]
  },
  {
   "cell_type": "markdown",
   "metadata": {},
   "source": [
    "#### <font color = \"navy\" > 6.2: Replace methods </font>  <a id=\"ref_6.2\"></a>"
   ]
  },
  {
   "cell_type": "code",
   "execution_count": 149,
   "metadata": {},
   "outputs": [],
   "source": [
    "%reset -f\n",
    "import pandas as pd\n",
    "chicago = pd.read_csv(\"files_for_pandas/chicago.csv\")\n",
    "chicago.dropna(how=\"all\", inplace=True)\n",
    "chicago[\"Department\"] = chicago[\"Department\"].astype(dtype = \"category\")\n",
    "chicago.tail()\n",
    "output = None"
   ]
  },
  {
   "cell_type": "code",
   "execution_count": 43,
   "metadata": {},
   "outputs": [],
   "source": [
    "chicago[\"Name\"].str.replace(\" \",\"_\")\n",
    "output = None"
   ]
  },
  {
   "cell_type": "code",
   "execution_count": 45,
   "metadata": {},
   "outputs": [],
   "source": [
    "chicago[\"Employee Annual Salary\"].str.replace(\"$\",\"\")\n",
    "output = None"
   ]
  },
  {
   "cell_type": "markdown",
   "metadata": {},
   "source": [
    "[Back to Top](#start)"
   ]
  },
  {
   "cell_type": "markdown",
   "metadata": {},
   "source": [
    "#### <font color = \"navy\" > 6.3: String with some specific ending or starting or inside, Filtering </font>  <a id=\"ref_6.3\"></a>"
   ]
  },
  {
   "cell_type": "code",
   "execution_count": 18,
   "metadata": {},
   "outputs": [],
   "source": [
    "%reset -f\n",
    "import pandas as pd\n",
    "chicago = pd.read_csv(\"files_for_pandas/chicago.csv\")\n",
    "chicago.dropna(how=\"all\", inplace=True)\n",
    "chicago[\"Department\"] = chicago[\"Department\"].astype(dtype = \"category\")\n",
    "chicago.tail()\n",
    "output = None"
   ]
  },
  {
   "cell_type": "code",
   "execution_count": 59,
   "metadata": {},
   "outputs": [],
   "source": [
    "m1 = chicago[\"Position Title\"].str.lower().str.startswith(\"POLICE\")\n",
    "chicago[m1]\n",
    "output = None"
   ]
  },
  {
   "cell_type": "code",
   "execution_count": 61,
   "metadata": {},
   "outputs": [],
   "source": [
    "m2 = chicago[\"Position Title\"].str.lower().str.endswith(\"OFFICER\")\n",
    "chicago[~m2]\n",
    "output = None"
   ]
  },
  {
   "cell_type": "markdown",
   "metadata": {},
   "source": [
    "<font color = \"green\" size =\"3\" >  **Make sure to remove NaN values before. it gets mad with that**</font>"
   ]
  },
  {
   "cell_type": "markdown",
   "metadata": {},
   "source": [
    "[Back to Top](#start)"
   ]
  },
  {
   "cell_type": "markdown",
   "metadata": {},
   "source": [
    "#### <font color = \"navy\" > 6.4: Remove space from left/right sides of a string </font>  <a id=\"ref_6.4\"></a>"
   ]
  },
  {
   "cell_type": "code",
   "execution_count": 48,
   "metadata": {},
   "outputs": [],
   "source": [
    "%reset -f\n",
    "import pandas as pd\n",
    "chicago = pd.read_csv(\"files_for_pandas/chicago.csv\")\n",
    "chicago.dropna(how=\"all\", inplace=True)\n",
    "chicago[\"Department\"] = chicago[\"Department\"].astype(dtype = \"category\")\n",
    "chicago.tail()\n",
    "output = None"
   ]
  },
  {
   "cell_type": "code",
   "execution_count": 49,
   "metadata": {},
   "outputs": [
    {
     "data": {
      "text/plain": [
       "'my name is khan   '"
      ]
     },
     "execution_count": 49,
     "metadata": {},
     "output_type": "execute_result"
    }
   ],
   "source": [
    "\"    my name is khan   \".lstrip()"
   ]
  },
  {
   "cell_type": "code",
   "execution_count": 50,
   "metadata": {},
   "outputs": [
    {
     "data": {
      "text/plain": [
       "'    my name is khan'"
      ]
     },
     "execution_count": 50,
     "metadata": {},
     "output_type": "execute_result"
    }
   ],
   "source": [
    "\"    my name is khan   \".rstrip()"
   ]
  },
  {
   "cell_type": "code",
   "execution_count": 51,
   "metadata": {},
   "outputs": [
    {
     "data": {
      "text/plain": [
       "'my name is khan'"
      ]
     },
     "execution_count": 51,
     "metadata": {},
     "output_type": "execute_result"
    }
   ],
   "source": [
    "\"    my name is khan   \".strip()"
   ]
  },
  {
   "cell_type": "code",
   "execution_count": 52,
   "metadata": {},
   "outputs": [],
   "source": [
    "chicago[\"Name\"] = chicago[\"Name\"].str.strip()\n",
    "chicago[\"Name\"].head(3)\n",
    "pass"
   ]
  },
  {
   "cell_type": "markdown",
   "metadata": {},
   "source": [
    "[Back to Top](#start)"
   ]
  },
  {
   "cell_type": "markdown",
   "metadata": {},
   "source": [
    "#### <font color = \"navy\" > 6.5: Split method </font>  <a id=\"ref_6.5\"></a>"
   ]
  },
  {
   "cell_type": "code",
   "execution_count": 2,
   "metadata": {},
   "outputs": [],
   "source": [
    "%reset -f\n",
    "import pandas as pd\n",
    "chicago = pd.read_csv(\"files_for_pandas/chicago.csv\").dropna(how = \"all\")\n",
    "chicago[\"Department\"] = chicago[\"Department\"].astype(dtype = \"category\")\n",
    "chicago.tail()\n",
    "output = None"
   ]
  },
  {
   "cell_type": "code",
   "execution_count": 5,
   "metadata": {},
   "outputs": [],
   "source": [
    "\"Hellow World\".split(\" \")\n",
    "pass"
   ]
  },
  {
   "cell_type": "code",
   "execution_count": 6,
   "metadata": {},
   "outputs": [],
   "source": [
    "chicago[\"Name\"].str.split(\",\").head(3)\n",
    "output = None"
   ]
  },
  {
   "cell_type": "markdown",
   "metadata": {},
   "source": [
    "<font color = \"green\" size =\"3\" >  **Don't confuse with the commna here like \"[AARON,   ELVIA J]\"** <br/>\n",
    "This comman is pandas way to tell left and right objects are different    **</font>"
   ]
  },
  {
   "cell_type": "code",
   "execution_count": 7,
   "metadata": {},
   "outputs": [],
   "source": [
    "chicago[\"Name\"].str.strip().str.split(\",\").str.get(0).str.title().value_counts().head(5)\n",
    "pass"
   ]
  },
  {
   "cell_type": "markdown",
   "metadata": {},
   "source": [
    "- **<font color = \"blue\" > n and example paramter available in .strip() method </font>**"
   ]
  },
  {
   "cell_type": "code",
   "execution_count": 8,
   "metadata": {},
   "outputs": [],
   "source": [
    "%reset -f\n",
    "import pandas as pd\n",
    "chicago = pd.read_csv(\"files_for_pandas/chicago.csv\").dropna(how = \"all\")\n",
    "chicago[\"Department\"] = chicago[\"Department\"].astype(dtype = \"category\")\n",
    "chicago.tail()\n",
    "output = None"
   ]
  },
  {
   "cell_type": "code",
   "execution_count": 9,
   "metadata": {},
   "outputs": [],
   "source": [
    "chicago[[\"alpha\",\"beta\"]] =  chicago[\"Name\"].str.strip().str.split(\",\",expand = True)"
   ]
  },
  {
   "cell_type": "markdown",
   "metadata": {},
   "source": [
    " <font color = \"olive\" >  <u> with expand = True, it gives us a dataframe.. <br/>\n",
    " since here it is splitted into 2 , we need to define 2 columns names to store the data like below   </u> </font>"
   ]
  },
  {
   "cell_type": "code",
   "execution_count": 10,
   "metadata": {},
   "outputs": [],
   "source": [
    "chicago.head(3)\n",
    "output = None"
   ]
  },
  {
   "cell_type": "code",
   "execution_count": 11,
   "metadata": {},
   "outputs": [],
   "source": [
    "# chicago[\"Position Title\"].str.strip().str.split(\" \",expand = True)\n",
    "chicago[\"Position Title\"].str.strip().str.split(\" \", expand = True, n=1)\n",
    "output = None"
   ]
  },
  {
   "cell_type": "markdown",
   "metadata": {},
   "source": [
    "[Back to Top](#start)"
   ]
  },
  {
   "cell_type": "markdown",
   "metadata": {},
   "source": [
    "### Ch 7.  Introduction to Multi Index Module  <a id=\"ch_7\"></a>"
   ]
  },
  {
   "cell_type": "markdown",
   "metadata": {},
   "source": [
    "#### <font color = \"navy\" > 7.1: Difference Between Simple and Multi-level index </font>  <a id=\"ref_7.1\"></a>"
   ]
  },
  {
   "cell_type": "code",
   "execution_count": 1,
   "metadata": {},
   "outputs": [],
   "source": [
    "%reset -f\n",
    "import pandas as pd"
   ]
  },
  {
   "cell_type": "code",
   "execution_count": 2,
   "metadata": {},
   "outputs": [],
   "source": [
    "df1 = pd.read_csv(\"files_for_pandas/bigmac.csv\", parse_dates=[\"Date\"], index_col=[\"Date\"])\n",
    "df1.sort_index(ascending=True, inplace=True)\n",
    "df1.head()\n",
    "pass"
   ]
  },
  {
   "cell_type": "markdown",
   "metadata": {},
   "source": [
    "<font color = \"olive\" >  <u> Check the type of this data frame</u>  <br/> It would be simple \"DataFrame\", the reason is ... just one item is serving as an index </font>"
   ]
  },
  {
   "cell_type": "code",
   "execution_count": 3,
   "metadata": {},
   "outputs": [
    {
     "name": "stdout",
     "output_type": "stream",
     "text": [
      "<class 'pandas.core.frame.DataFrame'>\n",
      "<class 'pandas.core.indexes.datetimes.DatetimeIndex'>\n"
     ]
    }
   ],
   "source": [
    "print(type(df1))\n",
    "print(type(df1.index))\n",
    "output = None"
   ]
  },
  {
   "cell_type": "markdown",
   "metadata": {},
   "source": [
    "<font color = \"olive\" >  <u> Let's rewrite the stuff , and focus on index</u>  <br/> Because the index_col is an array, so it turned out to be a Multilevel index <br/> Little bit about sorting: we can sort according to one or multiple columns as shown in above and below scenarios </font>"
   ]
  },
  {
   "cell_type": "code",
   "execution_count": 4,
   "metadata": {},
   "outputs": [],
   "source": [
    "df2 =  pd.read_csv(\"files_for_pandas/bigmac.csv\", parse_dates=[\"Date\"], index_col=[\"Date\",\"Country\"])\n",
    "df2.sort_index(ascending=[True,True], inplace=True)\n",
    "df2.head()\n",
    "output = None"
   ]
  },
  {
   "cell_type": "markdown",
   "metadata": {},
   "source": [
    "<font color = \"olive\" >  <u> Time for rechecking the \"type\" of new DataFrame </u>  </font>"
   ]
  },
  {
   "cell_type": "code",
   "execution_count": 5,
   "metadata": {},
   "outputs": [
    {
     "name": "stdout",
     "output_type": "stream",
     "text": [
      "<class 'pandas.core.frame.DataFrame'>\n",
      "<class 'pandas.core.indexes.multi.MultiIndex'>\n"
     ]
    }
   ],
   "source": [
    "print(type(df2))\n",
    "print(type(df2.index))\n",
    "output = None"
   ]
  },
  {
   "cell_type": "markdown",
   "metadata": {},
   "source": [
    "<font color = \"green\" size =\"3\" >  Keep in mind the datatype is DataFrame in both cases., but **.index** is different  **</font>"
   ]
  },
  {
   "cell_type": "code",
   "execution_count": 8,
   "metadata": {},
   "outputs": [],
   "source": [
    "# df1.info()"
   ]
  },
  {
   "cell_type": "code",
   "execution_count": 9,
   "metadata": {},
   "outputs": [],
   "source": [
    "# df2.info()"
   ]
  },
  {
   "cell_type": "markdown",
   "metadata": {},
   "source": [
    "<font color = \"olive\" >  <u> \"df1.info( )\" shows .... the index is 'Datetimeindex' with 2  columns  <br/>  \"df2.info( )\" shows its a MultiIndex and rest of stuff is almost the same </u>  </font>"
   ]
  },
  {
   "cell_type": "markdown",
   "metadata": {},
   "source": [
    "[Back to Top](#start)"
   ]
  },
  {
   "cell_type": "markdown",
   "metadata": {},
   "source": [
    "#### <font color = \"navy\" > 7.2: How to access via \"index\" in Multi-level DF  </font>  <a id=\"ref_7.2\"></a>"
   ]
  },
  {
   "cell_type": "code",
   "execution_count": 134,
   "metadata": {},
   "outputs": [],
   "source": [
    "%reset -f\n",
    "import pandas as pd"
   ]
  },
  {
   "cell_type": "code",
   "execution_count": 135,
   "metadata": {},
   "outputs": [],
   "source": [
    "df = pd.read_csv(\"files_for_pandas/bigmac.csv\", parse_dates=[\"Date\"], index_col=[\"Date\",\"Country\"])\n",
    "df.sort_index(ascending=[True,True], inplace=True)\n",
    "df.head(3)\n",
    "output = None"
   ]
  },
  {
   "cell_type": "markdown",
   "metadata": {},
   "source": [
    "- **<font color = \"blue\" > : style-1 , mention with numeric index </font>**"
   ]
  },
  {
   "cell_type": "code",
   "execution_count": 17,
   "metadata": {},
   "outputs": [],
   "source": [
    "df.index.get_level_values(0)[0:4]\n",
    "pass"
   ]
  },
  {
   "cell_type": "code",
   "execution_count": 16,
   "metadata": {},
   "outputs": [],
   "source": [
    "df.index.get_level_values(1)[0:4]\n",
    "pass"
   ]
  },
  {
   "cell_type": "code",
   "execution_count": 138,
   "metadata": {},
   "outputs": [],
   "source": [
    "df.index.get_level_values(0).value_counts().sort_values()\n",
    "pass"
   ]
  },
  {
   "cell_type": "markdown",
   "metadata": {},
   "source": [
    "- **<font color = \"blue\" > : style-2 , mention via string </font>**"
   ]
  },
  {
   "cell_type": "code",
   "execution_count": 15,
   "metadata": {},
   "outputs": [],
   "source": [
    "df.index.get_level_values(\"Country\")[0:3]\n",
    "pass"
   ]
  },
  {
   "cell_type": "markdown",
   "metadata": {},
   "source": [
    "- **<font color = \"blue\" > : indexing via column </font>**"
   ]
  },
  {
   "cell_type": "code",
   "execution_count": 19,
   "metadata": {},
   "outputs": [],
   "source": [
    "df[[\"Price in US Dollars\"]][0:4]\n",
    "# indexing via multilevel column is a question here.. may be we will learn in next chapter.. \"group by\"\n",
    "output = None"
   ]
  },
  {
   "cell_type": "markdown",
   "metadata": {},
   "source": [
    "[Back to Top](#start)"
   ]
  },
  {
   "cell_type": "markdown",
   "metadata": {},
   "source": [
    "#### <font color = \"navy\" > 7.3: How to set the index/column names of Multi-index dF  </font>  <a id=\"ref_7.3\"></a>"
   ]
  },
  {
   "cell_type": "code",
   "execution_count": 20,
   "metadata": {},
   "outputs": [],
   "source": [
    "%reset -f\n",
    "import pandas as pd"
   ]
  },
  {
   "cell_type": "code",
   "execution_count": 33,
   "metadata": {},
   "outputs": [],
   "source": [
    "df = pd.read_csv(\"files_for_pandas/bigmac.csv\", parse_dates=[\"Date\"], index_col=[\"Date\",\"Country\"])\n",
    "df.sort_index(ascending=[True,True], inplace=True)\n",
    "df2 = df[0:4]\n",
    "df[0:4]\n",
    "output = None"
   ]
  },
  {
   "cell_type": "code",
   "execution_count": 22,
   "metadata": {},
   "outputs": [],
   "source": [
    "df.index.set_names([\"Datum\",\"Land\"], inplace=True)\n",
    "df[0:3]\n",
    "output = None"
   ]
  },
  {
   "cell_type": "markdown",
   "metadata": {},
   "source": [
    "- **<font color = \"blue\" > If previously there is no index name at all... ?? </font>**"
   ]
  },
  {
   "cell_type": "code",
   "execution_count": 24,
   "metadata": {},
   "outputs": [],
   "source": [
    "%reset -f\n",
    "import pandas as pd\n",
    "idx = pd.IndexSlice\n",
    "import numpy as np\n",
    "#-----------------------------------\n",
    "def mklbl(prefix, n):\n",
    "    return [\"%s%s\" % (prefix, i) for i in range(n)]\n",
    "\n",
    "miindex = pd.MultiIndex.from_product([mklbl('A', 4),mklbl('B', 2),mklbl('C', 4),mklbl('D', 2)])\n",
    "\n",
    "micolumns = pd.MultiIndex.from_tuples([('a', 'foo'), ('a', 'bar'),('b', 'goo'), ('b', 'bah')],names=['col1', 'col2'])\n",
    "\n",
    "\n",
    "dfmi = pd.DataFrame(np.arange(len(miindex) * len(micolumns)).reshape((len(miindex), len(micolumns))),\n",
    "index=miindex,columns=micolumns).sort_index().sort_index(axis=1)"
   ]
  },
  {
   "cell_type": "code",
   "execution_count": 31,
   "metadata": {},
   "outputs": [],
   "source": [
    "dfmi.head(3)\n",
    "output = None"
   ]
  },
  {
   "cell_type": "code",
   "execution_count": 30,
   "metadata": {},
   "outputs": [],
   "source": [
    "dfmi.index.names\n",
    "pass"
   ]
  },
  {
   "cell_type": "code",
   "execution_count": 27,
   "metadata": {},
   "outputs": [],
   "source": [
    "dfmi.index.names = [\"aas\",\"bbs\",\"ccs\",\"dds\"]"
   ]
  },
  {
   "cell_type": "code",
   "execution_count": 29,
   "metadata": {},
   "outputs": [],
   "source": [
    "dfmi.head(3)\n",
    "output = None"
   ]
  },
  {
   "cell_type": "markdown",
   "metadata": {},
   "source": [
    "- **<font color = \"blue\" > : for a column name </font>**"
   ]
  },
  {
   "cell_type": "code",
   "execution_count": 34,
   "metadata": {},
   "outputs": [],
   "source": [
    "df2\n",
    "output = None"
   ]
  },
  {
   "cell_type": "code",
   "execution_count": 35,
   "metadata": {},
   "outputs": [],
   "source": [
    "df2.rename(columns={\"Price in US Dollars\": \"$\"})\n",
    "output = None"
   ]
  },
  {
   "cell_type": "markdown",
   "metadata": {},
   "source": [
    "<font color = \"olive\" >  <u> This can be exapned to multilevel index names and also for columns...  </u>  </font>"
   ]
  },
  {
   "cell_type": "markdown",
   "metadata": {},
   "source": [
    "[Back to Top](#start)"
   ]
  },
  {
   "cell_type": "markdown",
   "metadata": {},
   "source": [
    "#### <font color = \"navy\" > 7.4: Extract Rows in Multi-level DF  </font>  <a id=\"ref_7.4\"></a>"
   ]
  },
  {
   "cell_type": "code",
   "execution_count": 62,
   "metadata": {},
   "outputs": [],
   "source": [
    "%reset -f\n",
    "import pandas as pd\n",
    "df = pd.read_csv(\"files_for_pandas/bigmac.csv\", parse_dates=[\"Date\"], index_col=[\"Date\",\"Country\"])\n",
    "df.sort_index(ascending=[True,True], inplace=True)\n",
    "df[0:50]\n",
    "output = None"
   ]
  },
  {
   "cell_type": "markdown",
   "metadata": {},
   "source": [
    "#### <font color = \"red\" > with .loc[  tuple ]  </font>"
   ]
  },
  {
   "cell_type": "markdown",
   "metadata": {},
   "source": [
    "- **<font color = \"blue\" > : style-1, with .loc[ ] method </font>**"
   ]
  },
  {
   "cell_type": "code",
   "execution_count": 317,
   "metadata": {},
   "outputs": [],
   "source": [
    "df.loc[(\"2010-01-01\",\"Argentina\")]\n",
    "pass"
   ]
  },
  {
   "cell_type": "code",
   "execution_count": 123,
   "metadata": {},
   "outputs": [
    {
     "data": {
      "text/plain": [
       "Date        Country  \n",
       "2010-01-01  Argentina    1.84\n",
       "Name: Price in US Dollars, dtype: float64"
      ]
     },
     "execution_count": 123,
     "metadata": {},
     "output_type": "execute_result"
    }
   ],
   "source": [
    "df.loc[(\"2010-01-01\",\"Argentina\"),\"Price in US Dollars\"]"
   ]
  },
  {
   "cell_type": "code",
   "execution_count": 318,
   "metadata": {},
   "outputs": [],
   "source": [
    "df.loc[(\"2010-01-01\",\"Argentina\"),[\"Price in US Dollars\"]]\n",
    "pass"
   ]
  },
  {
   "cell_type": "code",
   "execution_count": 319,
   "metadata": {},
   "outputs": [],
   "source": [
    "df.loc[(\"2010-01-01\",\"Argentina\"):(\"2010-01-01\",\"Britain\")]\n",
    "pass"
   ]
  },
  {
   "cell_type": "code",
   "execution_count": 323,
   "metadata": {},
   "outputs": [],
   "source": [
    "df.loc[(\"2010-01-01\",\"Argentina\"):(\"2010-01-01\",\"Britain\"),[\"Price in US Dollars\"]]\n",
    "output = None"
   ]
  },
  {
   "cell_type": "markdown",
   "metadata": {},
   "source": [
    "#### <font color = \"red\" > with .loc[  and idx ]  </font>"
   ]
  },
  {
   "cell_type": "code",
   "execution_count": 40,
   "metadata": {},
   "outputs": [],
   "source": [
    "idx = pd.IndexSlice"
   ]
  },
  {
   "cell_type": "markdown",
   "metadata": {},
   "source": [
    "```\n",
    "df.loc[ horizontal_index , vertical_columns ]\n",
    "df.loc[ idx[horizontal_index] , idx[vertical_columns]  ]\n",
    "```"
   ]
  },
  {
   "cell_type": "markdown",
   "metadata": {},
   "source": [
    "- **<font color = \"blue\" > : How to access: \"2010-01-01\" and \"Argentina\" </font>**"
   ]
  },
  {
   "cell_type": "code",
   "execution_count": 50,
   "metadata": {},
   "outputs": [],
   "source": [
    "df.loc[    idx[\"2010-01-01\",\"Argentina\"],   \"Price in US Dollars\"     ]\n",
    "pass"
   ]
  },
  {
   "cell_type": "markdown",
   "metadata": {},
   "source": [
    "- **<font color = \"blue\" > : How to access: \"2010-01-01\" and \"Argentina\",\"Australia\",\"Brazil\",\"Britain\" </font>**"
   ]
  },
  {
   "cell_type": "code",
   "execution_count": 49,
   "metadata": {},
   "outputs": [],
   "source": [
    "df.loc[    idx[\"2010-01-01\",[\"Argentina\",\"Australia\",\"Brazil\",\"Britain\"]  ] ,   [\"Price in US Dollars\"]     ]\n",
    "output = None"
   ]
  },
  {
   "cell_type": "markdown",
   "metadata": {},
   "source": [
    "- **<font color = \"blue\" > : How to access: \"2010-01-01\" and \"Argentina\" to \"China\" </font>**"
   ]
  },
  {
   "cell_type": "code",
   "execution_count": 61,
   "metadata": {},
   "outputs": [],
   "source": [
    "df.loc[    idx[\"2010-01-01\",\"Argentina\":\"China\"  ] ,   [\"Price in US Dollars\"]     ]\n",
    "output = None"
   ]
  },
  {
   "cell_type": "markdown",
   "metadata": {},
   "source": [
    "- **<font color = \"blue\" > : How to access: \"2010-01-01\" & \"2010-07-01\" and \"Argentina\" to \"China\" </font>**"
   ]
  },
  {
   "cell_type": "code",
   "execution_count": 54,
   "metadata": {},
   "outputs": [],
   "source": [
    "df.loc[    idx[[\"2010-01-01\",\"2010-07-01\"],\"Argentina\":\"China\"  ] ,   [\"Price in US Dollars\"]     ]\n",
    "output = None"
   ]
  },
  {
   "cell_type": "markdown",
   "metadata": {},
   "source": [
    "- **<font color = \"blue\" > : How to access: \"2010-01-01\" - \"2012-01-01\" and \"Argentina\" to \"China\" </font>**"
   ]
  },
  {
   "cell_type": "code",
   "execution_count": 57,
   "metadata": {},
   "outputs": [],
   "source": [
    "df.loc[    idx[ \"2010-01-01\":\"2012-01-01\",\"Argentina\":\"China\"  ] ,   [\"Price in US Dollars\"]     ]\n",
    "output = None"
   ]
  },
  {
   "cell_type": "markdown",
   "metadata": {},
   "source": [
    "- **<font color = \"blue\" > : How to access: all dates (outer layer) and \"Argentina\" to \"Brazil\" </font>**"
   ]
  },
  {
   "cell_type": "code",
   "execution_count": 60,
   "metadata": {},
   "outputs": [],
   "source": [
    "df.loc[    idx[ :,\"Argentina\":\"Brazil\"  ] ,   [\"Price in US Dollars\"]     ]\n",
    "output = None"
   ]
  },
  {
   "cell_type": "markdown",
   "metadata": {},
   "source": [
    "#### <font color = \"red\" > with .iloc[  ]  </font>"
   ]
  },
  {
   "cell_type": "markdown",
   "metadata": {},
   "source": [
    "- **<font color = \"blue\" > : style-2, with .iloc[ ] method </font>**"
   ]
  },
  {
   "cell_type": "code",
   "execution_count": 324,
   "metadata": {},
   "outputs": [],
   "source": [
    "df[0:4]\n",
    "output = None"
   ]
  },
  {
   "cell_type": "code",
   "execution_count": 325,
   "metadata": {},
   "outputs": [],
   "source": [
    "df.iloc[3:8,[0]]\n",
    "output = None"
   ]
  },
  {
   "cell_type": "markdown",
   "metadata": {},
   "source": [
    "[Back to Top](#start)"
   ]
  },
  {
   "cell_type": "markdown",
   "metadata": {},
   "source": [
    "#### <font color = \"navy\" > 7.5: Extract Rows in Multi-level DF (example_2)  </font>  <a id=\"ref_7.5\"></a>"
   ]
  },
  {
   "cell_type": "code",
   "execution_count": 117,
   "metadata": {},
   "outputs": [],
   "source": [
    "%reset -f\n",
    "import pandas as pd\n",
    "idx = pd.IndexSlice\n",
    "import numpy as np"
   ]
  },
  {
   "cell_type": "code",
   "execution_count": 123,
   "metadata": {},
   "outputs": [],
   "source": [
    "def mklbl(prefix, n):\n",
    "    return [\"%s%s\" % (prefix, i) for i in range(n)]\n",
    "\n",
    "miindex = pd.MultiIndex.from_product([mklbl('A', 4),mklbl('B', 2),mklbl('C', 4),mklbl('D', 2)])\n",
    "\n",
    "micolumns = pd.MultiIndex.from_tuples([('a', 'foo'), ('a', 'bar'),('b', 'goo'), ('b', 'bah')],names=['col_a', 'col_b'])\n",
    "\n",
    "\n",
    "dfmi = pd.DataFrame(np.arange(len(miindex) * len(micolumns)).reshape((len(miindex), len(micolumns))),\n",
    "index=miindex,columns=micolumns).sort_index().sort_index(axis=1)"
   ]
  },
  {
   "cell_type": "code",
   "execution_count": 133,
   "metadata": {},
   "outputs": [],
   "source": [
    "# dfmi.head(10)"
   ]
  },
  {
   "cell_type": "markdown",
   "metadata": {},
   "source": [
    "- **<font color = \"blue\" > : index \"A0\", \"BO\"... then sub_index \"C0\",\"C1\",\"C2\" ... AND Column \"foo\" </font>**"
   ]
  },
  {
   "cell_type": "code",
   "execution_count": 129,
   "metadata": {},
   "outputs": [],
   "source": [
    "dfmi.loc[    idx[\"A0\",\"B0\",[\"C0\",\"C1\",\"C2\"]] , idx[:,\"foo\"]  ]\n",
    "output = None"
   ]
  },
  {
   "cell_type": "markdown",
   "metadata": {},
   "source": [
    "- **<font color = \"blue\" > : index \"A0\" --> \"A2\"... then sub_index \"B0\"  --> \"B1\" ... AND <br/>\n",
    " Columns: <br/> outerlayer(col_a)  all.. which is a and b,\n",
    " <br/>   one layer down: only bar and bah  </font>**"
   ]
  },
  {
   "cell_type": "code",
   "execution_count": 130,
   "metadata": {},
   "outputs": [],
   "source": [
    "dfmi.loc[    idx[\"A0\":\"A2\",\"B0\":\"B1\",\"C0\":\"C2\"] , idx[:,[\"bar\",\"bah\"]]  ]\n",
    "output = None"
   ]
  },
  {
   "cell_type": "markdown",
   "metadata": {},
   "source": [
    "- **<font color = \"blue\" > : with some range index  </font>**"
   ]
  },
  {
   "cell_type": "code",
   "execution_count": 132,
   "metadata": {},
   "outputs": [],
   "source": [
    "dfmi.loc[    idx[\"A0\":\"A2\",\"B0\":\"B1\",\"C0\":\"C2\"] , idx[\"a\":\"b\",[\"bar\",\"bah\"]]  ]\n",
    "output = None"
   ]
  },
  {
   "cell_type": "markdown",
   "metadata": {},
   "source": [
    "[Back to Top](#start)"
   ]
  },
  {
   "cell_type": "markdown",
   "metadata": {},
   "source": [
    "#### <font color = \"navy\" > 7.6: Taking transpose of Multi-level dF  </font>  <a id=\"ref_7.6\"></a>"
   ]
  },
  {
   "cell_type": "code",
   "execution_count": 326,
   "metadata": {},
   "outputs": [],
   "source": [
    "%reset -f\n",
    "import pandas as pd\n",
    "df = pd.read_csv(\"files_for_pandas/bigmac.csv\", parse_dates=[\"Date\"], index_col=[\"Date\",\"Country\"])\n",
    "df.sort_index(ascending=[True,True], inplace=True)\n",
    "df[0:4]\n",
    "output = None"
   ]
  },
  {
   "cell_type": "markdown",
   "metadata": {},
   "source": [
    "<font color = \"olive\" >  <u> Simple we can take transpose like this way: </u> </font>"
   ]
  },
  {
   "cell_type": "code",
   "execution_count": 327,
   "metadata": {},
   "outputs": [],
   "source": [
    "t = df.transpose()\n",
    "t\n",
    "output = None"
   ]
  },
  {
   "cell_type": "markdown",
   "metadata": {},
   "source": [
    "[Back to Top](#start)"
   ]
  },
  {
   "cell_type": "markdown",
   "metadata": {},
   "source": [
    "#### <font color = \"navy\" > 7.7: Swapping the indexes levels in Multi...  </font>  <a id=\"ref_7.7\"></a>"
   ]
  },
  {
   "cell_type": "code",
   "execution_count": 64,
   "metadata": {},
   "outputs": [],
   "source": [
    "%reset -f\n",
    "import pandas as pd\n",
    "idx = pd.IndexSlice\n",
    "import numpy as np\n",
    "#--------------------------------\n",
    "def mklbl(prefix, n):\n",
    "    return [\"%s%s\" % (prefix, i) for i in range(n)]\n",
    "\n",
    "miindex = pd.MultiIndex.from_product([mklbl('A', 4),mklbl('B', 2),mklbl('C', 4),mklbl('D', 2)])\n",
    "\n",
    "micolumns = pd.MultiIndex.from_tuples([('a', 'foo'), ('a', 'bar'),('b', 'goo'), ('b', 'bah')],names=['col1', 'col2'])\n",
    "\n",
    "\n",
    "dfmi = pd.DataFrame(np.arange(len(miindex) * len(micolumns)).reshape((len(miindex), len(micolumns))),\n",
    "index=miindex,columns=micolumns).sort_index().sort_index(axis=1)"
   ]
  },
  {
   "cell_type": "code",
   "execution_count": 74,
   "metadata": {},
   "outputs": [],
   "source": [
    "dfmi.head(8)\n",
    "output = None"
   ]
  },
  {
   "cell_type": "code",
   "execution_count": 75,
   "metadata": {},
   "outputs": [],
   "source": [
    "dfmi.index.names\n",
    "pass"
   ]
  },
  {
   "cell_type": "code",
   "execution_count": 67,
   "metadata": {},
   "outputs": [],
   "source": [
    "dfmi.index.names = ['aaas','bbbs','cccs','dddds']"
   ]
  },
  {
   "cell_type": "code",
   "execution_count": 76,
   "metadata": {},
   "outputs": [],
   "source": [
    "dfmi.index.names\n",
    "pass"
   ]
  },
  {
   "cell_type": "code",
   "execution_count": 77,
   "metadata": {},
   "outputs": [],
   "source": [
    "dfmi.head(3)\n",
    "output = None"
   ]
  },
  {
   "cell_type": "code",
   "execution_count": 72,
   "metadata": {},
   "outputs": [],
   "source": [
    "dfmi = dfmi.swaplevel('bbbs', 'aaas')"
   ]
  },
  {
   "cell_type": "code",
   "execution_count": 78,
   "metadata": {},
   "outputs": [],
   "source": [
    "dfmi.head(3)\n",
    "output = None"
   ]
  },
  {
   "cell_type": "markdown",
   "metadata": {},
   "source": [
    "[Back to Top](#start)"
   ]
  },
  {
   "cell_type": "markdown",
   "metadata": {},
   "source": [
    "#### <font color = \"navy\" > 7.8: stack and unstack methods the dF </font>  <a id=\"ref_7.8\"></a>"
   ]
  },
  {
   "cell_type": "markdown",
   "metadata": {},
   "source": [
    "#### <font color = \"navy\" > stack method  </font>"
   ]
  },
  {
   "cell_type": "markdown",
   "metadata": {},
   "source": [
    "- **<font color = \"blue\" > 7.7.1: stack() </font>**"
   ]
  },
  {
   "cell_type": "code",
   "execution_count": 87,
   "metadata": {},
   "outputs": [],
   "source": [
    "%reset -f\n",
    "import pandas as pd\n",
    "world = pd.read_csv(\"files_for_pandas/worldstats.csv\", index_col=[\"country\",\"year\"])\n",
    "world.sort_index(inplace=True)\n",
    "world.head()\n",
    "output = None"
   ]
  },
  {
   "cell_type": "markdown",
   "metadata": {},
   "source": [
    " - **<font color = \"blue\" > 7.7.1: stack() method make the data very flat... just through out of any kind of data frame </font>**"
   ]
  },
  {
   "cell_type": "code",
   "execution_count": 88,
   "metadata": {},
   "outputs": [],
   "source": [
    "st = world.stack()\n",
    "st.head(4)\n",
    "pass"
   ]
  },
  {
   "cell_type": "markdown",
   "metadata": {},
   "source": [
    " - **<font color = \"blue\" > Now iterate through st </font>**"
   ]
  },
  {
   "cell_type": "code",
   "execution_count": 89,
   "metadata": {},
   "outputs": [],
   "source": [
    "st.loc[\"Afghanistan\",1960]\n",
    "pass"
   ]
  },
  {
   "cell_type": "code",
   "execution_count": 90,
   "metadata": {},
   "outputs": [],
   "source": [
    "st.loc[\"Afghanistan\",1960,\"GDP\"]\n",
    "pass"
   ]
  },
  {
   "cell_type": "markdown",
   "metadata": {},
   "source": [
    " - **<font color = \"blue\" > How to make a data frame of this extrcated chuck</font>**"
   ]
  },
  {
   "cell_type": "code",
   "execution_count": 91,
   "metadata": {},
   "outputs": [],
   "source": [
    "stt = st.loc[\"Afghanistan\",1960].to_frame()"
   ]
  },
  {
   "cell_type": "code",
   "execution_count": 92,
   "metadata": {},
   "outputs": [],
   "source": [
    "stt.rename(columns={0: \"Numbers\"})\n",
    "output = None"
   ]
  },
  {
   "cell_type": "markdown",
   "metadata": {},
   "source": [
    "#### <font color = \"navy\" > unstack method  </font>"
   ]
  },
  {
   "cell_type": "code",
   "execution_count": 103,
   "metadata": {},
   "outputs": [],
   "source": [
    "%reset -f\n",
    "import pandas as pd\n",
    "a = pd.read_csv(\"files_for_pandas/worldstats.csv\", index_col=[\"country\",\"year\"])\n",
    "a.sort_index(ascending=True, inplace=True)\n",
    "a.head(4)\n",
    "output = None"
   ]
  },
  {
   "cell_type": "code",
   "execution_count": 104,
   "metadata": {},
   "outputs": [],
   "source": [
    "b = a.stack()\n",
    "b.head()\n",
    "pass"
   ]
  },
  {
   "cell_type": "markdown",
   "metadata": {},
   "source": [
    "<font color = \"olive\" >  <u> First unstacking will just convert back and then it goes on left to right</u> </font>"
   ]
  },
  {
   "cell_type": "code",
   "execution_count": 105,
   "metadata": {},
   "outputs": [],
   "source": [
    "b.unstack()[0:3]\n",
    "output = None"
   ]
  },
  {
   "cell_type": "markdown",
   "metadata": {},
   "source": [
    " - **<font color = \"blue\" > Look at the argumets of unstack( ) </font>**"
   ]
  },
  {
   "cell_type": "markdown",
   "metadata": {},
   "source": [
    "<font color = \"olive\" >  <u> We can use either index or the name directly... and it will appear as a columns in unstacked data </u> </font>"
   ]
  },
  {
   "cell_type": "code",
   "execution_count": 107,
   "metadata": {},
   "outputs": [],
   "source": [
    "# b.unstack(\"country\") or\n",
    "b.unstack(0)[0:2]\n",
    "output = None"
   ]
  },
  {
   "cell_type": "code",
   "execution_count": 99,
   "metadata": {},
   "outputs": [],
   "source": [
    "b.unstack(1)\n",
    "b.unstack(\"year\")[0:4]\n",
    "output = None"
   ]
  },
  {
   "cell_type": "markdown",
   "metadata": {},
   "source": [
    " - **<font color = \"blue\" > if we keep going with unstack( ) </font>**"
   ]
  },
  {
   "cell_type": "markdown",
   "metadata": {},
   "source": [
    "<font color = \"olive\" >  <u> Keep going will ultimately convert the whole stuff into series ... </u> </font>"
   ]
  },
  {
   "cell_type": "code",
   "execution_count": 340,
   "metadata": {},
   "outputs": [],
   "source": [
    "b.unstack().unstack().unstack()[0:8]\n",
    "pass"
   ]
  },
  {
   "cell_type": "markdown",
   "metadata": {},
   "source": [
    " - **<font color = \"blue\" > We can set the levels for unstacking  </font>**"
   ]
  },
  {
   "cell_type": "code",
   "execution_count": 341,
   "metadata": {},
   "outputs": [],
   "source": [
    "b.head()\n",
    "pass"
   ]
  },
  {
   "cell_type": "markdown",
   "metadata": {},
   "source": [
    "<font color = \"olive\" >  <u> with the level argument, we can make it similiar like multilevel df </u> </font>"
   ]
  },
  {
   "cell_type": "code",
   "execution_count": 342,
   "metadata": {},
   "outputs": [],
   "source": [
    "b.unstack(level=[2,1]).head()\n",
    "output = None"
   ]
  },
  {
   "cell_type": "markdown",
   "metadata": {},
   "source": [
    "[Back to Top](#start)"
   ]
  },
  {
   "cell_type": "markdown",
   "metadata": {},
   "source": [
    "#### <font color = \"navy\" > 7.9: pivot the data with pivot method  </font>  <a id=\"ref_7.9\"></a>"
   ]
  },
  {
   "cell_type": "code",
   "execution_count": 148,
   "metadata": {},
   "outputs": [],
   "source": [
    "%reset -f\n",
    "import pandas as pd\n",
    "s = pd.read_csv(\"files_for_pandas/salesmen.csv\", parse_dates=[\"Date\"])\n",
    "s[\"Salesman\"] = s[\"Salesman\"].astype(\"category\")\n",
    "s.sort_index(ascending=True, inplace=True)\n",
    "s.head(6)\n",
    "output = None"
   ]
  },
  {
   "cell_type": "code",
   "execution_count": 149,
   "metadata": {},
   "outputs": [],
   "source": [
    "piv_data = s.pivot(index=\"Date\", columns=\"Salesman\",values=\"Revenue\")\n",
    "piv_data.head()\n",
    "output = None"
   ]
  },
  {
   "cell_type": "markdown",
   "metadata": {},
   "source": [
    "[Back to Top](#start)"
   ]
  },
  {
   "cell_type": "markdown",
   "metadata": {},
   "source": [
    "#### <font color = \"navy\" > 7.10: Slightly different: pivot_table( ) method for more universal use </font>  <a id=\"ref_7.10\"></a>"
   ]
  },
  {
   "cell_type": "code",
   "execution_count": 150,
   "metadata": {},
   "outputs": [
    {
     "data": {
      "text/html": [
       "<div>\n",
       "<style scoped>\n",
       "    .dataframe tbody tr th:only-of-type {\n",
       "        vertical-align: middle;\n",
       "    }\n",
       "\n",
       "    .dataframe tbody tr th {\n",
       "        vertical-align: top;\n",
       "    }\n",
       "\n",
       "    .dataframe thead th {\n",
       "        text-align: right;\n",
       "    }\n",
       "</style>\n",
       "<table border=\"1\" class=\"dataframe\">\n",
       "  <thead>\n",
       "    <tr style=\"text-align: right;\">\n",
       "      <th></th>\n",
       "      <th>First Name</th>\n",
       "      <th>Gender</th>\n",
       "      <th>City</th>\n",
       "      <th>Frequency</th>\n",
       "      <th>Item</th>\n",
       "      <th>Spend</th>\n",
       "    </tr>\n",
       "  </thead>\n",
       "  <tbody>\n",
       "    <tr>\n",
       "      <th>0</th>\n",
       "      <td>Wanda</td>\n",
       "      <td>Female</td>\n",
       "      <td>Stamford</td>\n",
       "      <td>Weekly</td>\n",
       "      <td>Burger</td>\n",
       "      <td>15.66</td>\n",
       "    </tr>\n",
       "    <tr>\n",
       "      <th>1</th>\n",
       "      <td>Eric</td>\n",
       "      <td>Male</td>\n",
       "      <td>Stamford</td>\n",
       "      <td>Daily</td>\n",
       "      <td>Chalupa</td>\n",
       "      <td>10.56</td>\n",
       "    </tr>\n",
       "    <tr>\n",
       "      <th>2</th>\n",
       "      <td>Charles</td>\n",
       "      <td>Male</td>\n",
       "      <td>New York</td>\n",
       "      <td>Never</td>\n",
       "      <td>Sushi</td>\n",
       "      <td>42.14</td>\n",
       "    </tr>\n",
       "    <tr>\n",
       "      <th>3</th>\n",
       "      <td>Anna</td>\n",
       "      <td>Female</td>\n",
       "      <td>Philadelphia</td>\n",
       "      <td>Once</td>\n",
       "      <td>Ice Cream</td>\n",
       "      <td>11.01</td>\n",
       "    </tr>\n",
       "    <tr>\n",
       "      <th>4</th>\n",
       "      <td>Deborah</td>\n",
       "      <td>Female</td>\n",
       "      <td>Philadelphia</td>\n",
       "      <td>Daily</td>\n",
       "      <td>Chalupa</td>\n",
       "      <td>23.49</td>\n",
       "    </tr>\n",
       "  </tbody>\n",
       "</table>\n",
       "</div>"
      ],
      "text/plain": [
       "  First Name  Gender          City Frequency       Item  Spend\n",
       "0      Wanda  Female      Stamford    Weekly     Burger  15.66\n",
       "1       Eric    Male      Stamford     Daily    Chalupa  10.56\n",
       "2    Charles    Male      New York     Never      Sushi  42.14\n",
       "3       Anna  Female  Philadelphia      Once  Ice Cream  11.01\n",
       "4    Deborah  Female  Philadelphia     Daily    Chalupa  23.49"
      ]
     },
     "execution_count": 150,
     "metadata": {},
     "output_type": "execute_result"
    }
   ],
   "source": [
    "%reset -f \n",
    "import pandas as pd\n",
    "f = pd.read_csv(\"files_for_pandas/foods.csv\")\n",
    "f.head()\n",
    "# output = None"
   ]
  },
  {
   "cell_type": "markdown",
   "metadata": {},
   "source": [
    " - **<font color = \"blue\" > Start with something very simple  </font>**"
   ]
  },
  {
   "cell_type": "code",
   "execution_count": 145,
   "metadata": {},
   "outputs": [],
   "source": [
    "f.pivot_table(values=\"Spend\",index=\"Gender\",columns=\"City\", aggfunc=\"sum\")\n",
    "output = None"
   ]
  },
  {
   "cell_type": "markdown",
   "metadata": {},
   "source": [
    " - **<font color = \"blue\" > bit more detailed now...  </font>**"
   ]
  },
  {
   "cell_type": "code",
   "execution_count": 142,
   "metadata": {},
   "outputs": [],
   "source": [
    "f.pivot_table(values=\"Spend\",index=[\"Gender\",\"Item\"],columns=\"City\", aggfunc=\"mean\")\n",
    "output = None"
   ]
  },
  {
   "cell_type": "markdown",
   "metadata": {},
   "source": [
    " - **<font color = \"blue\" > even further ...  </font>**"
   ]
  },
  {
   "cell_type": "code",
   "execution_count": 152,
   "metadata": {},
   "outputs": [],
   "source": [
    "f.pivot_table(values=\"Spend\",index=[\"Gender\",\"Item\"],columns=[\"Frequency\",\"City\"], aggfunc=\"mean\").head()\n",
    "output = None"
   ]
  },
  {
   "cell_type": "markdown",
   "metadata": {},
   "source": [
    "[Back to Top](#start)"
   ]
  },
  {
   "cell_type": "markdown",
   "metadata": {},
   "source": [
    "#### <font color = \"navy\" > 7.11: Reducing the aggregated date to simple tabular form with pd.melt( ) </font>  <a id=\"ref_7.11\"></a>"
   ]
  },
  {
   "cell_type": "code",
   "execution_count": 350,
   "metadata": {},
   "outputs": [],
   "source": [
    "%reset -f\n",
    "import pandas as pd\n",
    "q = pd.read_csv(\"files_for_pandas/quarters.csv\")\n",
    "q.head()\n",
    "output = None"
   ]
  },
  {
   "cell_type": "code",
   "execution_count": 351,
   "metadata": {},
   "outputs": [],
   "source": [
    "q.pivot_table(values=[\"Q1\",\"Q2\",\"Q3\",\"Q4\"],index=[\"Salesman\"])\n",
    "output = None"
   ]
  },
  {
   "cell_type": "code",
   "execution_count": 352,
   "metadata": {},
   "outputs": [],
   "source": [
    "a1 = pd.melt(frame=q, id_vars=\"Salesman\")\n",
    "a1.head()\n",
    "output = None"
   ]
  },
  {
   "cell_type": "code",
   "execution_count": 353,
   "metadata": {},
   "outputs": [],
   "source": [
    "a2 = a1.set_index([\"variable\",\"Salesman\"])\n",
    "a2.head()\n",
    "output = None"
   ]
  },
  {
   "cell_type": "markdown",
   "metadata": {},
   "source": [
    "[Back to Top](#start)"
   ]
  },
  {
   "cell_type": "markdown",
   "metadata": {},
   "source": [
    "### Ch 8.  Grouping via .groupby( )method  <a id=\"ch_8\"></a>"
   ]
  },
  {
   "cell_type": "markdown",
   "metadata": {},
   "source": [
    "#### <font color = \"navy\" > 8.1: what is groupby method in general </font>  <a id=\"ref_8.1\"></a>"
   ]
  },
  {
   "cell_type": "code",
   "execution_count": 36,
   "metadata": {},
   "outputs": [],
   "source": [
    "%reset -f\n",
    "import pandas as pd\n",
    "f = pd.read_csv(\"files_for_pandas/fortune1000.csv\", index_col=\"Rank\")\n",
    "f.head(8)\n",
    "output = None"
   ]
  },
  {
   "cell_type": "markdown",
   "metadata": {},
   "source": [
    "<font color = \"olive\" >  <u> So,now we will call a method.. groupby on this dF \"f\"   </u> </font>"
   ]
  },
  {
   "cell_type": "code",
   "execution_count": 37,
   "metadata": {},
   "outputs": [],
   "source": [
    "gss = f.groupby(by= \"Sector\")"
   ]
  },
  {
   "cell_type": "markdown",
   "metadata": {},
   "source": [
    "<font color = \"olive\" >  <u> Now the question is , what is groups.head(1) <br/> First understand the dynamics of data ,  after making the groups... There are many sectors ... which are grouped.. and in each sector... there are many industries... so the question is .. how many sectors are in total </u> </font>"
   ]
  },
  {
   "cell_type": "code",
   "execution_count": 38,
   "metadata": {},
   "outputs": [
    {
     "data": {
      "text/plain": [
       "21"
      ]
     },
     "execution_count": 38,
     "metadata": {},
     "output_type": "execute_result"
    }
   ],
   "source": [
    "len(gss)"
   ]
  },
  {
   "cell_type": "markdown",
   "metadata": {},
   "source": [
    "<font color = \"olive\" >  <u> One easy way to check it is using nunique( ) function </u> </font>"
   ]
  },
  {
   "cell_type": "code",
   "execution_count": 39,
   "metadata": {},
   "outputs": [],
   "source": [
    "f.nunique()\n",
    "pass"
   ]
  },
  {
   "cell_type": "markdown",
   "metadata": {},
   "source": [
    "<font color = \"olive\" >  <u> So total 21 groups... and now companies/industries in each group </u> </font>"
   ]
  },
  {
   "cell_type": "code",
   "execution_count": 40,
   "metadata": {},
   "outputs": [],
   "source": [
    "gss.size()\n",
    "pass"
   ]
  },
  {
   "cell_type": "markdown",
   "metadata": {},
   "source": [
    "<font color = \"olive\" >  <u> We can also achieve the same thing via .value_count( ) on orignal dF </u> </font>"
   ]
  },
  {
   "cell_type": "code",
   "execution_count": 41,
   "metadata": {},
   "outputs": [],
   "source": [
    "f[\"Sector\"].value_counts()\n",
    "pass"
   ]
  },
  {
   "cell_type": "markdown",
   "metadata": {},
   "source": [
    " - **<font color = \"blue\" > Best approach to each overall situation in grouping...  </font>**"
   ]
  },
  {
   "cell_type": "code",
   "execution_count": 43,
   "metadata": {},
   "outputs": [],
   "source": [
    "gss.nunique()\n",
    "output = None"
   ]
  },
  {
   "cell_type": "markdown",
   "metadata": {},
   "source": [
    "[Back to Top](#start)"
   ]
  },
  {
   "cell_type": "markdown",
   "metadata": {},
   "source": [
    "#### <font color = \"navy\" > 8.2: How to extract each sector </font> <a id=\"ref_8.2\"></a>"
   ]
  },
  {
   "cell_type": "code",
   "execution_count": 11,
   "metadata": {},
   "outputs": [],
   "source": [
    "%reset -f\n",
    "import pandas as pd\n",
    "f = pd.read_csv(\"files_for_pandas/fortune1000.csv\", index_col=\"Rank\")\n",
    "gss = f.groupby(by= \"Sector\")\n",
    "f.head(8)\n",
    "output = None"
   ]
  },
  {
   "cell_type": "code",
   "execution_count": 86,
   "metadata": {},
   "outputs": [],
   "source": [
    "gss.size()\n",
    "pass"
   ]
  },
  {
   "cell_type": "code",
   "execution_count": 87,
   "metadata": {},
   "outputs": [],
   "source": [
    "# groups.get_group(\"Transportation\")\n",
    "gss.get_group(\"Telecommunications\")\n",
    "output = None"
   ]
  },
  {
   "cell_type": "markdown",
   "metadata": {},
   "source": [
    "<font color = \"olive\" >  <u> Take it as an opportnity and find the type of orignal and as well as groupby dF </u> </font>"
   ]
  },
  {
   "cell_type": "code",
   "execution_count": 88,
   "metadata": {},
   "outputs": [
    {
     "name": "stdout",
     "output_type": "stream",
     "text": [
      "<class 'pandas.core.frame.DataFrame'>\n",
      "<class 'pandas.core.groupby.groupby.DataFrameGroupBy'>\n"
     ]
    }
   ],
   "source": [
    "print(type(f))\n",
    "print(type(gss))\n",
    "pass"
   ]
  },
  {
   "cell_type": "markdown",
   "metadata": {},
   "source": [
    " - **<font color = \"blue\" > One hunting question,,,, then what is groups.head(1)  </font>**"
   ]
  },
  {
   "cell_type": "code",
   "execution_count": 89,
   "metadata": {},
   "outputs": [],
   "source": [
    "gss.head(1)\n",
    "output = None"
   ]
  },
  {
   "cell_type": "markdown",
   "metadata": {},
   "source": [
    "<font color = \"olive\" >  <u> I think, this is a sorted data taken from all sectors ... as taking the highest \"Revenue\" company/industry in that sector... </u>   <br/> so two question... <br/> why only 21 company/industries .... 2 reasons   <br/>  \n",
    "1) head(1) ... 1 is indicating that choose only one and its is internally sorted according to \"Revenue\" <br/>\n",
    "2) and why \"Revenue\"... may be the reason is its first numeric columns\n",
    "    \n",
    "<br/> We can somehow use groups.first() or .last() method to double check...    \n",
    "</font>"
   ]
  },
  {
   "cell_type": "code",
   "execution_count": 13,
   "metadata": {},
   "outputs": [],
   "source": [
    "# groups.last()\n",
    "# gss.first()\n",
    "# output = None"
   ]
  },
  {
   "cell_type": "markdown",
   "metadata": {},
   "source": [
    " - **<font color = \"blue\" >We can also get the index of each sector... for using in iteration  </font>**"
   ]
  },
  {
   "cell_type": "code",
   "execution_count": 16,
   "metadata": {},
   "outputs": [],
   "source": [
    "gss.groups\n",
    "pass"
   ]
  },
  {
   "cell_type": "code",
   "execution_count": 1,
   "metadata": {},
   "outputs": [
    {
     "ename": "NameError",
     "evalue": "name 'f' is not defined",
     "output_type": "error",
     "traceback": [
      "\u001b[0;31m---------------------------------------------------------------------------\u001b[0m",
      "\u001b[0;31mNameError\u001b[0m                                 Traceback (most recent call last)",
      "\u001b[0;32m<ipython-input-1-ae455bcb9936>\u001b[0m in \u001b[0;36m<module>\u001b[0;34m\u001b[0m\n\u001b[0;32m----> 1\u001b[0;31m \u001b[0mf\u001b[0m\u001b[0;34m.\u001b[0m\u001b[0mgroups\u001b[0m\u001b[0;34m.\u001b[0m\u001b[0mkeys\u001b[0m\u001b[0;34m(\u001b[0m\u001b[0;34m)\u001b[0m\u001b[0;34m\u001b[0m\u001b[0;34m\u001b[0m\u001b[0m\n\u001b[0m",
      "\u001b[0;31mNameError\u001b[0m: name 'f' is not defined"
     ]
    }
   ],
   "source": [
    "f.groups.keys()"
   ]
  },
  {
   "cell_type": "markdown",
   "metadata": {},
   "source": [
    " <font color = \"olive\" >  <u> Now lets iterate via .loc[ ] why... b/c its not numeric .. we use \"Rank\" as an index </u> </font>"
   ]
  },
  {
   "cell_type": "code",
   "execution_count": 92,
   "metadata": {},
   "outputs": [],
   "source": [
    "f.loc[57]\n",
    "pass"
   ]
  },
  {
   "cell_type": "markdown",
   "metadata": {},
   "source": [
    "[Back to Top](#start)"
   ]
  },
  {
   "cell_type": "markdown",
   "metadata": {},
   "source": [
    "#### <font color = \"navy\" > 8.3: Now , what methods are available to this groupby object </font>  <a id=\"ref_8.3\"></a>"
   ]
  },
  {
   "cell_type": "code",
   "execution_count": 152,
   "metadata": {},
   "outputs": [],
   "source": [
    "%reset -f\n",
    "import pandas as pd\n",
    "f = pd.read_csv(\"files_for_pandas/fortune1000.csv\", index_col=\"Rank\")\n",
    "gss = f.groupby(by= \"Sector\")\n",
    "f.head(8)\n",
    "output = None"
   ]
  },
  {
   "cell_type": "markdown",
   "metadata": {},
   "source": [
    "<font color = \"olive\" >  <u> So it makes sense , it will  show up  all the numeric columns only .. makes sense... < /font>"
   ]
  },
  {
   "cell_type": "code",
   "execution_count": 150,
   "metadata": {},
   "outputs": [],
   "source": [
    "gss.sum()\n",
    "gss.mean()\n",
    "output = None"
   ]
  },
  {
   "cell_type": "markdown",
   "metadata": {},
   "source": [
    "<font color = \"olive\" >  <u> We can also calculate the same thing via following or one or multiple columns < /font>"
   ]
  },
  {
   "cell_type": "code",
   "execution_count": 44,
   "metadata": {},
   "outputs": [],
   "source": [
    "gss[[\"Revenue\",\"Profits\"]].mean()\n",
    "output = None"
   ]
  },
  {
   "cell_type": "markdown",
   "metadata": {},
   "source": [
    " - **<font color = \"blue\" >We can also use .agg( ) method for custamize stuff  </font>**"
   ]
  },
  {
   "cell_type": "code",
   "execution_count": 148,
   "metadata": {},
   "outputs": [],
   "source": [
    "f.head(4)\n",
    "output = None"
   ]
  },
  {
   "cell_type": "code",
   "execution_count": 147,
   "metadata": {},
   "outputs": [],
   "source": [
    "gss.agg({\"Revenue\":\"sum\", \n",
    "        \"Profits\": \"mean\",\n",
    "        \"Employees\": [\"max\",\"min\",\"mean\"]\n",
    "        })\n",
    "output = None"
   ]
  },
  {
   "cell_type": "markdown",
   "metadata": {},
   "source": [
    "[Back to Top](#start)"
   ]
  },
  {
   "cell_type": "markdown",
   "metadata": {},
   "source": [
    "#### <font color = \"navy\" > 8.4: Grouping via multiple columns </font> <a id=\"ref_8.4\"></a>"
   ]
  },
  {
   "cell_type": "code",
   "execution_count": 46,
   "metadata": {},
   "outputs": [],
   "source": [
    "%reset -f\n",
    "import pandas as pd\n",
    "f = pd.read_csv(\"files_for_pandas/fortune1000.csv\", index_col=\"Rank\")\n",
    "f.head(8)\n",
    "output = None"
   ]
  },
  {
   "cell_type": "code",
   "execution_count": 47,
   "metadata": {},
   "outputs": [],
   "source": [
    "G_ss = f.groupby(by = [\"Sector\",\"Industry\"])\n",
    "len(G_ss)\n",
    "pass"
   ]
  },
  {
   "cell_type": "code",
   "execution_count": 48,
   "metadata": {},
   "outputs": [],
   "source": [
    "G_ss.size()\n",
    "pass"
   ]
  },
  {
   "cell_type": "code",
   "execution_count": 49,
   "metadata": {},
   "outputs": [],
   "source": [
    "G_ss.sum()\n",
    "output = None"
   ]
  },
  {
   "cell_type": "markdown",
   "metadata": {},
   "source": [
    "- **<font color = \"blue\" > Now how to extrac the multilevel groups  </font>**"
   ]
  },
  {
   "cell_type": "markdown",
   "metadata": {},
   "source": [
    "<font color = \"olive\" >  <u> We must provide a tuple now </font>"
   ]
  },
  {
   "cell_type": "markdown",
   "metadata": {},
   "source": [
    "```\n",
    "G_ss.get_group(tuple)\n",
    "G_ss.get_group(  (\"first identifier \",\"2nd identifier\")    )\n",
    "```"
   ]
  },
  {
   "cell_type": "code",
   "execution_count": 64,
   "metadata": {},
   "outputs": [],
   "source": [
    "G_ss.get_group(   (\"Energy\",\"Petroleum Refining\")  )\n",
    "# we can do similiar thing by multindex as well\n",
    "output = None"
   ]
  },
  {
   "cell_type": "code",
   "execution_count": 61,
   "metadata": {},
   "outputs": [],
   "source": [
    "G_ss.nunique().head()\n",
    "output = None"
   ]
  },
  {
   "cell_type": "markdown",
   "metadata": {},
   "source": [
    "<font color = \"olive\" >   Below script us to show that... groupby object is like a key_value pair, so we can loop through with two labels in for loop </font>"
   ]
  },
  {
   "cell_type": "code",
   "execution_count": null,
   "metadata": {},
   "outputs": [],
   "source": [
    "new_df = pd.DataFrame(columns=df.columns)\n",
    "for name,group in f:\n",
    "    new_df = new_df.append(group)"
   ]
  },
  {
   "cell_type": "markdown",
   "metadata": {},
   "source": [
    "<font color = \"olive\" >   In the follwing code, it will sort and pick the highest value according to \"Revenue\" column and then insert it into the new dF... </font>"
   ]
  },
  {
   "cell_type": "code",
   "execution_count": 63,
   "metadata": {},
   "outputs": [],
   "source": [
    "dF = pd.DataFrame(columns=f.columns)\n",
    "for index,data in G_ss:\n",
    "#     i1,i2 = index[0],index[1]\n",
    "    x = data.nlargest(1,\"Revenue\")\n",
    "    dF = dF.append(x)\n",
    "dF\n",
    "output = None"
   ]
  },
  {
   "cell_type": "markdown",
   "metadata": {},
   "source": [
    "[Back to Top](#start)"
   ]
  },
  {
   "cell_type": "markdown",
   "metadata": {},
   "source": [
    "#### <font color = \"navy\" > 8.5: Iterating through groupby( ) </font>  <a id=\"ref_8.5\"></a>"
   ]
  },
  {
   "cell_type": "code",
   "execution_count": 2,
   "metadata": {},
   "outputs": [
    {
     "name": "stdout",
     "output_type": "stream",
     "text": [
      "<class 'pandas.core.groupby.generic.DataFrameGroupBy'>\n"
     ]
    }
   ],
   "source": [
    "%reset -f\n",
    "import pandas as pd\n",
    "f = pd.read_csv(\"files_for_pandas/fortune1000.csv\", index_col=\"Rank\")\n",
    "f.head(8)\n",
    "gss = f.groupby(by = \"Sector\")\n",
    "print(type(gss))\n",
    "gss.get_group(\"Technology\").head(2)\n",
    "output = None"
   ]
  },
  {
   "cell_type": "code",
   "execution_count": 3,
   "metadata": {},
   "outputs": [],
   "source": [
    "dF = pd.DataFrame(columns=f.columns)"
   ]
  },
  {
   "cell_type": "code",
   "execution_count": 5,
   "metadata": {},
   "outputs": [],
   "source": [
    "for index_info, data in gss:\n",
    "    x = data.nlargest(1,\"Revenue\")\n",
    "    dF = dF.append(x)\n",
    "dF\n",
    "pass"
   ]
  },
  {
   "cell_type": "markdown",
   "metadata": {},
   "source": [
    "[Back to Top](#start)"
   ]
  },
  {
   "cell_type": "markdown",
   "metadata": {},
   "source": [
    "### Ch 9.  Merging, Joining and concatination  <a id=\"ch_9\"></a>"
   ]
  },
  {
   "cell_type": "markdown",
   "metadata": {},
   "source": [
    "#### <font color = \"navy\" > 9.1: Vertical Concatination </font>  <a id=\"ref_9.1\"></a>"
   ]
  },
  {
   "cell_type": "code",
   "execution_count": 7,
   "metadata": {},
   "outputs": [],
   "source": [
    "%reset -f\n",
    "import pandas as pd\n",
    "week1 = pd.read_csv(\"files_for_pandas/Restaurant - Week 1 Sales.csv\")\n",
    "week2 = pd.read_csv(\"files_for_pandas/Restaurant - Week 2 Sales.csv\")\n",
    "foods = pd.read_csv(\"files_for_pandas/Restaurant - Foods.csv\")\n",
    "customers = pd.read_csv(\"files_for_pandas/Restaurant - Customers.csv\")"
   ]
  },
  {
   "cell_type": "code",
   "execution_count": 20,
   "metadata": {},
   "outputs": [],
   "source": [
    "week1.head()\n",
    "output = None"
   ]
  },
  {
   "cell_type": "code",
   "execution_count": 19,
   "metadata": {},
   "outputs": [],
   "source": [
    "week2.head()\n",
    "output = None"
   ]
  },
  {
   "cell_type": "code",
   "execution_count": 12,
   "metadata": {},
   "outputs": [],
   "source": [
    "final = pd.concat(objs=[week1,week2])"
   ]
  },
  {
   "cell_type": "code",
   "execution_count": 18,
   "metadata": {},
   "outputs": [],
   "source": [
    "final.tail()\n",
    "output = None"
   ]
  },
  {
   "cell_type": "code",
   "execution_count": 15,
   "metadata": {},
   "outputs": [
    {
     "data": {
      "text/plain": [
       "500"
      ]
     },
     "execution_count": 15,
     "metadata": {},
     "output_type": "execute_result"
    }
   ],
   "source": [
    "# but if we look at len()\n",
    "len(final)"
   ]
  },
  {
   "cell_type": "markdown",
   "metadata": {},
   "source": [
    " <font color = \"olive\" >  <u> Here we can use one tag \"ignore_index\" </u> </font>"
   ]
  },
  {
   "cell_type": "code",
   "execution_count": 17,
   "metadata": {},
   "outputs": [],
   "source": [
    "pd.concat(objs=[week1,week2],ignore_index=True)\n",
    "output = None"
   ]
  },
  {
   "cell_type": "markdown",
   "metadata": {},
   "source": [
    "[Back to Top](#start)"
   ]
  },
  {
   "cell_type": "markdown",
   "metadata": {},
   "source": [
    "#### <font color = \"navy\" > 9.2: Adding another layer of before index </font>  <a id=\"ref_9.2\"></a>"
   ]
  },
  {
   "cell_type": "code",
   "execution_count": 21,
   "metadata": {},
   "outputs": [],
   "source": [
    "%reset -f\n",
    "import pandas as pd\n",
    "week1 = pd.read_csv(\"files_for_pandas/Restaurant - Week 1 Sales.csv\")\n",
    "week2 = pd.read_csv(\"files_for_pandas/Restaurant - Week 2 Sales.csv\")\n",
    "foods = pd.read_csv(\"files_for_pandas/Restaurant - Foods.csv\")\n",
    "customers = pd.read_csv(\"files_for_pandas/Restaurant - Customers.csv\")"
   ]
  },
  {
   "cell_type": "code",
   "execution_count": 31,
   "metadata": {},
   "outputs": [],
   "source": [
    "week1.head(2)\n",
    "output = None"
   ]
  },
  {
   "cell_type": "code",
   "execution_count": 30,
   "metadata": {},
   "outputs": [],
   "source": [
    "week2.head(2)\n",
    "output = None"
   ]
  },
  {
   "cell_type": "code",
   "execution_count": 29,
   "metadata": {},
   "outputs": [],
   "source": [
    "df = pd.concat(objs=[week1,week2],keys=[\"week1\",\"week2\"])\n",
    "df\n",
    "output = None"
   ]
  },
  {
   "cell_type": "markdown",
   "metadata": {},
   "source": [
    " <font color = \"olive\" >  <u> So here it make sense ... don't use ignore_index = True </u> </font>"
   ]
  },
  {
   "cell_type": "markdown",
   "metadata": {},
   "source": [
    "[Back to Top](#start)"
   ]
  },
  {
   "cell_type": "markdown",
   "metadata": {},
   "source": [
    "#### <font color = \"navy\" > 9.3: Directly append one data set  </font>  <a id=\"ref_9.3\"></a>"
   ]
  },
  {
   "cell_type": "code",
   "execution_count": 32,
   "metadata": {},
   "outputs": [],
   "source": [
    "%reset -f\n",
    "import pandas as pd\n",
    "week1 = pd.read_csv(\"files_for_pandas/Restaurant - Week 1 Sales.csv\")\n",
    "week2 = pd.read_csv(\"files_for_pandas/Restaurant - Week 2 Sales.csv\")"
   ]
  },
  {
   "cell_type": "code",
   "execution_count": 37,
   "metadata": {},
   "outputs": [],
   "source": [
    "week1.append(other=week2,ignore_index=True)\n",
    "output = None"
   ]
  },
  {
   "cell_type": "markdown",
   "metadata": {},
   "source": [
    "[Back to Top](#start)"
   ]
  },
  {
   "cell_type": "markdown",
   "metadata": {},
   "source": [
    "#### <font color = \"navy\" > 9.4: Inner and Outer Joins ( Unions and Intersections of two data sets )  </font>  <a id=\"ref_9.4\"></a>"
   ]
  },
  {
   "cell_type": "code",
   "execution_count": 175,
   "metadata": {},
   "outputs": [],
   "source": [
    "%reset -f\n",
    "import pandas as pd\n",
    "week1 = pd.read_csv(\"files_for_pandas/Restaurant - Week 1 Sales.csv\")\n",
    "week2 = pd.read_csv(\"files_for_pandas/Restaurant - Week 2 Sales.csv\")\n",
    "foods = pd.read_csv(\"files_for_pandas/Restaurant - Foods.csv\")\n",
    "customers = pd.read_csv(\"files_for_pandas/Restaurant - Customers.csv\")"
   ]
  },
  {
   "cell_type": "markdown",
   "metadata": {},
   "source": [
    "- **<font color = \"blue\" > 9.4.1: inner join / intersection like </font>**"
   ]
  },
  {
   "cell_type": "code",
   "execution_count": 176,
   "metadata": {},
   "outputs": [],
   "source": [
    "week1.head(3)\n",
    "output = None"
   ]
  },
  {
   "cell_type": "code",
   "execution_count": 177,
   "metadata": {},
   "outputs": [],
   "source": [
    "week2.head(3)\n",
    "output = None"
   ]
  },
  {
   "cell_type": "code",
   "execution_count": 178,
   "metadata": {},
   "outputs": [],
   "source": [
    "union1 = week1.merge(right=week2,how = \"inner\", on=[\"Customer ID\",\"Food ID\"])\n",
    "union1\n",
    "output = None"
   ]
  },
  {
   "cell_type": "markdown",
   "metadata": {},
   "source": [
    "<font color = \"olive\" >  <u> The on feature is only used when both data sets have same columns names </u> </font>"
   ]
  },
  {
   "cell_type": "code",
   "execution_count": 179,
   "metadata": {},
   "outputs": [],
   "source": [
    "union2 = week1.merge(right=week2,how = \"inner\", on=[\"Customer ID\"],indicator=True)\n",
    "union2[0:5]\n",
    "output = None"
   ]
  },
  {
   "cell_type": "markdown",
   "metadata": {},
   "source": [
    "<font color = \"olive\" >  <u> The difference is : <br/> case-1: When both columns are matched its considering as a union based on our on=[\"..\",\"..\"] array  ; <br/> case-2: only Customer ID is being seached as a pivot item and result is shown in two different columns </u> </font>"
   ]
  },
  {
   "cell_type": "code",
   "execution_count": 180,
   "metadata": {},
   "outputs": [],
   "source": [
    "# we can chaging suffexes for better display...\n",
    "union3 = week1.merge(right=week2,how = \"inner\", on=[\"Customer ID\"],indicator=True, suffixes=[\"-week1\",\"-week2\"])\n",
    "union3[0:5]\n",
    "output = None"
   ]
  },
  {
   "cell_type": "code",
   "execution_count": 181,
   "metadata": {},
   "outputs": [],
   "source": [
    "week1[week1[\"Customer ID\"] == 503]\n",
    "pass"
   ]
  },
  {
   "cell_type": "code",
   "execution_count": 182,
   "metadata": {},
   "outputs": [],
   "source": [
    "week2[week2[\"Customer ID\"] == 503]\n",
    "pass"
   ]
  },
  {
   "cell_type": "markdown",
   "metadata": {},
   "source": [
    "<font color = \"olive\" >  <u> Method just repeat 5 , index number 3 and 4 in union-3 to maintain tabular dimension </u> </font>"
   ]
  },
  {
   "cell_type": "markdown",
   "metadata": {},
   "source": [
    "- **<font color = \"blue\" > 9.4.2: outer join / silimiar to union of sets </font>**"
   ]
  },
  {
   "cell_type": "code",
   "execution_count": 183,
   "metadata": {},
   "outputs": [],
   "source": [
    "%reset -f\n",
    "import pandas as pd\n",
    "week1 = pd.read_csv(\"files_for_pandas/Restaurant - Week 1 Sales.csv\")\n",
    "week2 = pd.read_csv(\"files_for_pandas/Restaurant - Week 2 Sales.csv\")\n",
    "foods = pd.read_csv(\"files_for_pandas/Restaurant - Foods.csv\")\n",
    "customers = pd.read_csv(\"files_for_pandas/Restaurant - Customers.csv\")"
   ]
  },
  {
   "cell_type": "code",
   "execution_count": 184,
   "metadata": {},
   "outputs": [],
   "source": [
    "week1.head(3)\n",
    "output = None"
   ]
  },
  {
   "cell_type": "code",
   "execution_count": 185,
   "metadata": {},
   "outputs": [],
   "source": [
    "week2.head(3)\n",
    "output = None"
   ]
  },
  {
   "cell_type": "code",
   "execution_count": 186,
   "metadata": {},
   "outputs": [],
   "source": [
    "# because names of columns are same we can still use \"on\" function\n",
    "merged = pd.merge(left= week1,right=week2,how = \"outer\", on = \"Customer ID\" ,suffixes=[\" - week1\",\" - week2\"], indicator=True)\n",
    "merged[2:8]\n",
    "# because this is union so it can take every thing...\n",
    "output = None"
   ]
  },
  {
   "cell_type": "code",
   "execution_count": 187,
   "metadata": {},
   "outputs": [],
   "source": [
    "# then we can go for value_counts() method"
   ]
  },
  {
   "cell_type": "code",
   "execution_count": 188,
   "metadata": {},
   "outputs": [],
   "source": [
    "merged[\"_merge\"].value_counts()\n",
    "output = None"
   ]
  },
  {
   "cell_type": "code",
   "execution_count": 189,
   "metadata": {},
   "outputs": [],
   "source": [
    "# Let's have right_only and left_only ....\n",
    "merged [ merged[\"_merge\"].isin([\"left_only\",\"right_only\"])] \n",
    "output = None"
   ]
  },
  {
   "cell_type": "markdown",
   "metadata": {},
   "source": [
    "[Back to Top](#start)"
   ]
  },
  {
   "cell_type": "markdown",
   "metadata": {},
   "source": [
    "#### <font color = \"navy\" > 9.5: Left Join , its like Horizontal concatination technique with more attributes </font>  <a id=\"ref_9.5\"></a>"
   ]
  },
  {
   "cell_type": "code",
   "execution_count": 206,
   "metadata": {},
   "outputs": [],
   "source": [
    "%reset -f\n",
    "import pandas as pd\n",
    "week1 = pd.read_csv(\"files_for_pandas/Restaurant - Week 1 Sales.csv\")\n",
    "week2 = pd.read_csv(\"files_for_pandas/Restaurant - Week 2 Sales.csv\")\n",
    "foods = pd.read_csv(\"files_for_pandas/Restaurant - Foods.csv\")\n",
    "customers = pd.read_csv(\"files_for_pandas/Restaurant - Customers.csv\")"
   ]
  },
  {
   "cell_type": "markdown",
   "metadata": {},
   "source": [
    "- **<font color = \"blue\" >  Example -1 </font>**"
   ]
  },
  {
   "cell_type": "code",
   "execution_count": 209,
   "metadata": {},
   "outputs": [],
   "source": [
    "week1.head()\n",
    "output = None"
   ]
  },
  {
   "cell_type": "code",
   "execution_count": 210,
   "metadata": {},
   "outputs": [],
   "source": [
    "week2.head()\n",
    "output = None"
   ]
  },
  {
   "cell_type": "code",
   "execution_count": 211,
   "metadata": {},
   "outputs": [],
   "source": [
    "week1.merge(right=week2,how = \"left\",on = \"Customer ID\", sort=True)[0:5]\n",
    "output = None"
   ]
  },
  {
   "cell_type": "markdown",
   "metadata": {},
   "source": [
    "<font color = \"olive\" >  <u> Base is week1 on which the .merge operation is applied  <br/> \n",
    "its searching \"Customer ID ==3\" in Food ID_x ... values found 3 and for Food ID_y value found is NaN <br/>\n",
    "Lets check..    </u> </font>"
   ]
  },
  {
   "cell_type": "code",
   "execution_count": 212,
   "metadata": {},
   "outputs": [],
   "source": [
    "week1  [week1[\"Customer ID\"] == 3]\n",
    "output = None"
   ]
  },
  {
   "cell_type": "code",
   "execution_count": 213,
   "metadata": {},
   "outputs": [],
   "source": [
    "week2  [week2[\"Customer ID\"] == 3]\n",
    "output = None"
   ]
  },
  {
   "cell_type": "markdown",
   "metadata": {},
   "source": [
    "- **<font color = \"blue\" >  Example -2 </font>**"
   ]
  },
  {
   "cell_type": "code",
   "execution_count": 214,
   "metadata": {},
   "outputs": [],
   "source": [
    "week1.head()\n",
    "output = None"
   ]
  },
  {
   "cell_type": "code",
   "execution_count": 215,
   "metadata": {},
   "outputs": [],
   "source": [
    "foods.head()\n",
    "output = None"
   ]
  },
  {
   "cell_type": "code",
   "execution_count": 216,
   "metadata": {},
   "outputs": [],
   "source": [
    "week1.merge(right=foods,how = \"left\",on = \"Food ID\", sort=True)\n",
    "output = None"
   ]
  },
  {
   "cell_type": "markdown",
   "metadata": {},
   "source": [
    "[Back to Top](#start)"
   ]
  },
  {
   "cell_type": "markdown",
   "metadata": {},
   "source": [
    "#### <font color = \"navy\" > 9.6: Situation when columns names are different.. how to merge? </font>  <a id=\"ref_9.6\"></a>"
   ]
  },
  {
   "cell_type": "code",
   "execution_count": 2,
   "metadata": {},
   "outputs": [],
   "source": [
    "%reset -f\n",
    "import pandas as pd\n",
    "week1 = pd.read_csv(\"files_for_pandas/Restaurant - Week 1 Sales.csv\")\n",
    "week2 = pd.read_csv(\"files_for_pandas/Restaurant - Week 2 Sales.csv\")\n",
    "foods = pd.read_csv(\"files_for_pandas/Restaurant - Foods.csv\")\n",
    "customers = pd.read_csv(\"files_for_pandas/Restaurant - Customers.csv\")"
   ]
  },
  {
   "cell_type": "code",
   "execution_count": 230,
   "metadata": {},
   "outputs": [],
   "source": [
    "week2.head()\n",
    "output = None"
   ]
  },
  {
   "cell_type": "code",
   "execution_count": 227,
   "metadata": {},
   "outputs": [],
   "source": [
    "customers.head()\n",
    "output = None"
   ]
  },
  {
   "cell_type": "code",
   "execution_count": 228,
   "metadata": {},
   "outputs": [],
   "source": [
    "week2.merge(right=customers,how = \"left\", left_on=\"Food ID\", right_on=\"ID\", sort=True)\n",
    "# so now its keeping \"Food ID\" and \"ID\".. which are just duplicates.... we can remove one of them....\n",
    "output = None"
   ]
  },
  {
   "cell_type": "code",
   "execution_count": 229,
   "metadata": {},
   "outputs": [],
   "source": [
    "week2.merge(right=customers,how = \"left\", left_on=\"Food ID\", right_on=\"ID\", sort=True).drop(\"ID\", axis = \"columns\")\n",
    "output = None"
   ]
  },
  {
   "cell_type": "markdown",
   "metadata": {},
   "source": [
    "- **<font color = \"blue\" >  Changing the columns arrangment of dF </font>**"
   ]
  },
  {
   "cell_type": "code",
   "execution_count": 3,
   "metadata": {},
   "outputs": [],
   "source": [
    "df = week2.merge(right=customers,how = \"left\", left_on=\"Food ID\", right_on=\"ID\", sort=True)\n",
    "df.head(5)\n",
    "output = None"
   ]
  },
  {
   "cell_type": "code",
   "execution_count": 74,
   "metadata": {},
   "outputs": [],
   "source": [
    "new_order = [3,2,0,1,4,5,6,7]\n",
    "output = None"
   ]
  },
  {
   "cell_type": "code",
   "execution_count": 73,
   "metadata": {},
   "outputs": [],
   "source": [
    "df[df.columns[new_order]]\n",
    "output = None"
   ]
  },
  {
   "cell_type": "markdown",
   "metadata": {},
   "source": [
    "[Back to Top](#start)"
   ]
  },
  {
   "cell_type": "markdown",
   "metadata": {},
   "source": [
    "#### <font color = \"navy\" > 9.7: merging by index </font>  <a id=\"ref_9.7\"></a>"
   ]
  },
  {
   "cell_type": "markdown",
   "metadata": {},
   "source": [
    "<font color = \"olive\" >  <u> lets merge food with week1 </u> </font>"
   ]
  },
  {
   "cell_type": "code",
   "execution_count": 17,
   "metadata": {},
   "outputs": [],
   "source": [
    "%reset -f\n",
    "import pandas as pd\n",
    "week1 = pd.read_csv(\"files_for_pandas/Restaurant - Week 1 Sales.csv\")\n",
    "week2 = pd.read_csv(\"files_for_pandas/Restaurant - Week 2 Sales.csv\")\n",
    "foods = pd.read_csv(\"files_for_pandas/Restaurant - Foods.csv\", index_col=\"Food ID\")\n",
    "customers = pd.read_csv(\"files_for_pandas/Restaurant - Customers.csv\", index_col=\"ID\")"
   ]
  },
  {
   "cell_type": "code",
   "execution_count": 18,
   "metadata": {},
   "outputs": [],
   "source": [
    "foods.head()\n",
    "output = None"
   ]
  },
  {
   "cell_type": "code",
   "execution_count": 19,
   "metadata": {},
   "outputs": [],
   "source": [
    "customers.head()\n",
    "output = None"
   ]
  },
  {
   "cell_type": "code",
   "execution_count": 20,
   "metadata": {},
   "outputs": [],
   "source": [
    "week1.head()\n",
    "output = None"
   ]
  },
  {
   "cell_type": "code",
   "execution_count": 21,
   "metadata": {},
   "outputs": [],
   "source": [
    "tmp = week1.merge(right=customers,how = \"left\",left_on=\"Customer ID\",right_index=True)\n",
    "tmp.head()\n",
    "output = None"
   ]
  },
  {
   "cell_type": "markdown",
   "metadata": {},
   "source": [
    "<font color = \"olive\" >  <u> Now merging this result with the foods dF </u> </font>"
   ]
  },
  {
   "cell_type": "code",
   "execution_count": 22,
   "metadata": {},
   "outputs": [],
   "source": [
    "foods.head()\n",
    "output = None"
   ]
  },
  {
   "cell_type": "code",
   "execution_count": 23,
   "metadata": {},
   "outputs": [],
   "source": [
    "sales = tmp.merge(right=foods,how = \"left\",left_on=\"Food ID\", right_index=True)\n",
    "sales\n",
    "output = None"
   ]
  },
  {
   "cell_type": "markdown",
   "metadata": {},
   "source": [
    "[Back to Top](#start)"
   ]
  },
  {
   "cell_type": "markdown",
   "metadata": {},
   "source": [
    "### Ch 10.  Input and Output Module  <a id=\"ch_10\"></a>"
   ]
  },
  {
   "cell_type": "markdown",
   "metadata": {},
   "source": [
    "#### <font color = \"navy\" > 10.1: Accessing a URL data in Pandas and actively converting to list,series or comman separated data </font>  <a id=\"ref_10.1\"></a>"
   ]
  },
  {
   "cell_type": "code",
   "execution_count": null,
   "metadata": {},
   "outputs": [],
   "source": [
    "import pandas as pd\n",
    "\n",
    "df = pd.read_csv(URL)\n",
    "df.head()\n",
    "output = None"
   ]
  },
  {
   "cell_type": "markdown",
   "metadata": {},
   "source": [
    "- **<font color = \"blue\" > 10.1.1: conversion to List </font>**"
   ]
  },
  {
   "cell_type": "code",
   "execution_count": 4,
   "metadata": {},
   "outputs": [],
   "source": [
    "df[\"Child's First Name\"].tolist()\n",
    "output =None"
   ]
  },
  {
   "cell_type": "markdown",
   "metadata": {},
   "source": [
    "- **<font color = \"blue\" > 10.1.2: conversion to Data Frame </font>**"
   ]
  },
  {
   "cell_type": "code",
   "execution_count": 5,
   "metadata": {},
   "outputs": [],
   "source": [
    "df[\"Child's First Name\"].to_frame()\n",
    "output =None"
   ]
  },
  {
   "cell_type": "markdown",
   "metadata": {},
   "source": [
    "- **<font color = \"blue\" > 10.1.3: conversion to coma separated data </font>**"
   ]
  },
  {
   "cell_type": "code",
   "execution_count": 7,
   "metadata": {},
   "outputs": [],
   "source": [
    "#step-1, for understanding\n",
    "[    i for i in df[\"Child's First Name\"]     ]\n",
    "output = None"
   ]
  },
  {
   "cell_type": "code",
   "execution_count": 41,
   "metadata": {},
   "outputs": [],
   "source": [
    "#step-2, for understanding\n",
    "# for i in df[\"Child's First Name\"]:\n",
    "#     print(i+\",\",end = \"\")"
   ]
  },
  {
   "cell_type": "code",
   "execution_count": 42,
   "metadata": {},
   "outputs": [],
   "source": [
    "\",\".join( i for i in df[\"Child's First Name\"]  )\n",
    "pass"
   ]
  },
  {
   "cell_type": "markdown",
   "metadata": {},
   "source": [
    "[Back to Top](#start)"
   ]
  },
  {
   "cell_type": "markdown",
   "metadata": {},
   "source": [
    "#### <font color = \"navy\" > 10.2: Writing csv file and export it... with pd.read_cev() method </font>  <a id=\"ref_10.2\"></a>"
   ]
  },
  {
   "cell_type": "code",
   "execution_count": 47,
   "metadata": {},
   "outputs": [],
   "source": [
    "%reset -f\n",
    "import pandas as pd\n",
    "URL = \"https://data.cityofnewyork.us/api/views/25th-nujf/rows.csv\"\n",
    "df = pd.read_csv(URL)\n",
    "df.head()\n",
    "output =None"
   ]
  },
  {
   "cell_type": "code",
   "execution_count": 48,
   "metadata": {},
   "outputs": [],
   "source": [
    "df.to_csv(\"this file.csv\",sep=\",\",columns=[\"Child's First Name\",\"Count\",\"Rank\"] )\n",
    "pass"
   ]
  },
  {
   "cell_type": "markdown",
   "metadata": {},
   "source": [
    "[Back to Top](#start)"
   ]
  },
  {
   "cell_type": "markdown",
   "metadata": {},
   "source": [
    "#### <font color = \"navy\" > 10.3: Importing excel file </font>  <a id=\"ref_10.3\"></a>"
   ]
  },
  {
   "cell_type": "code",
   "execution_count": 58,
   "metadata": {},
   "outputs": [],
   "source": [
    "%reset -f\n",
    "import pandas as pd"
   ]
  },
  {
   "cell_type": "markdown",
   "metadata": {},
   "source": [
    "- **<font color = \"blue\" > : Excel file with just one sheet </font>**"
   ]
  },
  {
   "cell_type": "code",
   "execution_count": 67,
   "metadata": {},
   "outputs": [],
   "source": [
    "excel_single = pd.read_excel(\"files_for_pandas/Data - Single Worksheet.xlsx\")\n",
    "excel_single.head()\n",
    "output = None"
   ]
  },
  {
   "cell_type": "markdown",
   "metadata": {},
   "source": [
    "- **<font color = \"blue\" > : Excel file with more than one sheet </font>**"
   ]
  },
  {
   "cell_type": "code",
   "execution_count": 61,
   "metadata": {},
   "outputs": [],
   "source": [
    "excel_multi = pd.read_excel(\"files_for_pandas/Data - Multiple Worksheets.xlsx\",sheet_name=[0,1])"
   ]
  },
  {
   "cell_type": "code",
   "execution_count": 64,
   "metadata": {},
   "outputs": [],
   "source": [
    "excel_multi[0]\n",
    "output = None"
   ]
  },
  {
   "cell_type": "code",
   "execution_count": 66,
   "metadata": {},
   "outputs": [],
   "source": [
    "excel_multi[1]\n",
    "output = None"
   ]
  },
  {
   "cell_type": "markdown",
   "metadata": {},
   "source": [
    "[Back to Top](#start)"
   ]
  },
  {
   "cell_type": "markdown",
   "metadata": {},
   "source": [
    "#### <font color = \"navy\" > 10.4: Writing file in Excel format </font>  <a id=\"ref_10.4\"></a> "
   ]
  },
  {
   "cell_type": "code",
   "execution_count": null,
   "metadata": {},
   "outputs": [],
   "source": [
    "%reset -f\n",
    "import pandas as pd\n",
    "URL = \"https://data.cityofnewyork.us/api/views/25th-nujf/rows.csv\"\n",
    "df = pd.read_csv(URL)\n",
    "df.head()\n",
    "output = None"
   ]
  },
  {
   "cell_type": "markdown",
   "metadata": {},
   "source": [
    "<font color = \"olive\" >  <u> Step-1: <br/> Name of expected file ad store it in a variabke; remember putting the **extension** </u> </font>"
   ]
  },
  {
   "cell_type": "code",
   "execution_count": 85,
   "metadata": {},
   "outputs": [],
   "source": [
    "output = pd.ExcelWriter(\"excel_out.xlsx\")"
   ]
  },
  {
   "cell_type": "markdown",
   "metadata": {},
   "source": [
    "<font color = \"olive\" >  <u> Step-2: <br/>Same like perl, define whats ever data will going out:: through a $fh variables  </u> </font>"
   ]
  },
  {
   "cell_type": "code",
   "execution_count": 86,
   "metadata": {},
   "outputs": [],
   "source": [
    "fh_out_f = df [df[\"Gender\"] == \"FEMALE\"]\n",
    "fh_out_m = df [df[\"Gender\"] == \"MALE\"]"
   ]
  },
  {
   "cell_type": "markdown",
   "metadata": {},
   "source": [
    "<font color = \"olive\" >  <u> Step-3: <br/> Write in the file via file handles using .to_excelWriter()  </u> </font>"
   ]
  },
  {
   "cell_type": "code",
   "execution_count": 87,
   "metadata": {},
   "outputs": [],
   "source": [
    "fh_out_f.to_excel(output, sheet_name=\"girls\", index=False)\n",
    "fh_out_m.to_excel(output, sheet_name=\"boys\", index=False)"
   ]
  },
  {
   "cell_type": "markdown",
   "metadata": {},
   "source": [
    "<font color = \"olive\" >  <u> Step-4: <br/> Physically creating and saving on location with .save() method  </u> </font>"
   ]
  },
  {
   "cell_type": "code",
   "execution_count": 88,
   "metadata": {},
   "outputs": [],
   "source": [
    "output.save()"
   ]
  },
  {
   "cell_type": "markdown",
   "metadata": {},
   "source": [
    "[Back to Top](#start)"
   ]
  },
  {
   "cell_type": "markdown",
   "metadata": {},
   "source": [
    "### Ch 11.  Introduction to plotting with matplotlib <a id=\"ch_11\"></a>"
   ]
  },
  {
   "cell_type": "markdown",
   "metadata": {},
   "source": [
    "#### <font color = \"navy\" > 11.1: Getting stock data and plot it simply </font>   <a id=\"ref_11.1\"></a> "
   ]
  },
  {
   "cell_type": "code",
   "execution_count": 13,
   "metadata": {},
   "outputs": [],
   "source": [
    "%reset -f\n",
    "import pandas as pd\n",
    "from pandas_datareader import data\n",
    "import matplotlib.pyplot as plt\n",
    "%matplotlib inline"
   ]
  },
  {
   "cell_type": "code",
   "execution_count": 14,
   "metadata": {},
   "outputs": [],
   "source": [
    "amzn = data.DataReader(name = \"AMZN\", data_source=\"yahoo\", start=\"2017-01-01\", end=\"2018-01-01\")\n",
    "amzn.head()\n",
    "output = None"
   ]
  },
  {
   "cell_type": "markdown",
   "metadata": {},
   "source": [
    "- **<font color = \"blue\" > Just try apply() method </font>**"
   ]
  },
  {
   "cell_type": "code",
   "execution_count": 12,
   "metadata": {},
   "outputs": [],
   "source": [
    "# amzn.plot()"
   ]
  },
  {
   "cell_type": "markdown",
   "metadata": {},
   "source": [
    "- **<font color = \"blue\" > Now select one columns and apply this method, style-1  </font>**"
   ]
  },
  {
   "cell_type": "code",
   "execution_count": 11,
   "metadata": {},
   "outputs": [],
   "source": [
    "# amzn.plot(y=\"High\")"
   ]
  },
  {
   "cell_type": "code",
   "execution_count": 15,
   "metadata": {},
   "outputs": [],
   "source": [
    "# amzn[[\"High\",\"Low\"]].plot()"
   ]
  },
  {
   "cell_type": "markdown",
   "metadata": {},
   "source": [
    "[Back to Top](#start)"
   ]
  },
  {
   "cell_type": "markdown",
   "metadata": {},
   "source": [
    "#### <font color = \"navy\" > 11.2: Template selection and plotting types </font>  <a id=\"ref_11.2\"></a> "
   ]
  },
  {
   "cell_type": "code",
   "execution_count": 3,
   "metadata": {},
   "outputs": [],
   "source": [
    "%reset -f\n",
    "import pandas as pd\n",
    "from pandas_datareader import data\n",
    "import matplotlib.pyplot as plt\n",
    "%matplotlib inline"
   ]
  },
  {
   "cell_type": "code",
   "execution_count": 6,
   "metadata": {},
   "outputs": [
    {
     "data": {
      "text/html": [
       "<div>\n",
       "<style scoped>\n",
       "    .dataframe tbody tr th:only-of-type {\n",
       "        vertical-align: middle;\n",
       "    }\n",
       "\n",
       "    .dataframe tbody tr th {\n",
       "        vertical-align: top;\n",
       "    }\n",
       "\n",
       "    .dataframe thead th {\n",
       "        text-align: right;\n",
       "    }\n",
       "</style>\n",
       "<table border=\"1\" class=\"dataframe\">\n",
       "  <thead>\n",
       "    <tr style=\"text-align: right;\">\n",
       "      <th></th>\n",
       "      <th>High</th>\n",
       "      <th>Low</th>\n",
       "      <th>Open</th>\n",
       "      <th>Close</th>\n",
       "      <th>Volume</th>\n",
       "      <th>Adj Close</th>\n",
       "    </tr>\n",
       "    <tr>\n",
       "      <th>Date</th>\n",
       "      <th></th>\n",
       "      <th></th>\n",
       "      <th></th>\n",
       "      <th></th>\n",
       "      <th></th>\n",
       "      <th></th>\n",
       "    </tr>\n",
       "  </thead>\n",
       "  <tbody>\n",
       "    <tr>\n",
       "      <th>2017-01-03</th>\n",
       "      <td>758.760010</td>\n",
       "      <td>747.700012</td>\n",
       "      <td>757.919983</td>\n",
       "      <td>753.669983</td>\n",
       "      <td>3521100</td>\n",
       "      <td>753.669983</td>\n",
       "    </tr>\n",
       "    <tr>\n",
       "      <th>2017-01-04</th>\n",
       "      <td>759.679993</td>\n",
       "      <td>754.200012</td>\n",
       "      <td>758.390015</td>\n",
       "      <td>757.179993</td>\n",
       "      <td>2510500</td>\n",
       "      <td>757.179993</td>\n",
       "    </tr>\n",
       "    <tr>\n",
       "      <th>2017-01-05</th>\n",
       "      <td>782.400024</td>\n",
       "      <td>760.260010</td>\n",
       "      <td>761.549988</td>\n",
       "      <td>780.450012</td>\n",
       "      <td>5830100</td>\n",
       "      <td>780.450012</td>\n",
       "    </tr>\n",
       "    <tr>\n",
       "      <th>2017-01-06</th>\n",
       "      <td>799.440002</td>\n",
       "      <td>778.479980</td>\n",
       "      <td>782.359985</td>\n",
       "      <td>795.989990</td>\n",
       "      <td>5986200</td>\n",
       "      <td>795.989990</td>\n",
       "    </tr>\n",
       "    <tr>\n",
       "      <th>2017-01-09</th>\n",
       "      <td>801.770020</td>\n",
       "      <td>791.770020</td>\n",
       "      <td>798.000000</td>\n",
       "      <td>796.919983</td>\n",
       "      <td>3440100</td>\n",
       "      <td>796.919983</td>\n",
       "    </tr>\n",
       "  </tbody>\n",
       "</table>\n",
       "</div>"
      ],
      "text/plain": [
       "                  High         Low        Open       Close   Volume  \\\n",
       "Date                                                                  \n",
       "2017-01-03  758.760010  747.700012  757.919983  753.669983  3521100   \n",
       "2017-01-04  759.679993  754.200012  758.390015  757.179993  2510500   \n",
       "2017-01-05  782.400024  760.260010  761.549988  780.450012  5830100   \n",
       "2017-01-06  799.440002  778.479980  782.359985  795.989990  5986200   \n",
       "2017-01-09  801.770020  791.770020  798.000000  796.919983  3440100   \n",
       "\n",
       "             Adj Close  \n",
       "Date                    \n",
       "2017-01-03  753.669983  \n",
       "2017-01-04  757.179993  \n",
       "2017-01-05  780.450012  \n",
       "2017-01-06  795.989990  \n",
       "2017-01-09  796.919983  "
      ]
     },
     "execution_count": 6,
     "metadata": {},
     "output_type": "execute_result"
    }
   ],
   "source": [
    "amzn = data.DataReader(name=\"AMZN\", data_source=\"yahoo\", start=\"2017-01-01\", end=\"2018-01-01\")\n",
    "amzn.head()"
   ]
  },
  {
   "cell_type": "markdown",
   "metadata": {},
   "source": [
    "<font color = \"olive\" >  <u> Available templates </font>"
   ]
  },
  {
   "cell_type": "code",
   "execution_count": 14,
   "metadata": {},
   "outputs": [],
   "source": [
    "plt.style.available\n",
    "pass"
   ]
  },
  {
   "cell_type": "markdown",
   "metadata": {},
   "source": [
    "<font color = \"olive\" >  <u> Try , \"fivethirtyeight\"  </font>"
   ]
  },
  {
   "cell_type": "code",
   "execution_count": 16,
   "metadata": {},
   "outputs": [],
   "source": [
    "plt.style.use(\"fivethirtyeight\")\n",
    "# amzn.plot()"
   ]
  },
  {
   "cell_type": "markdown",
   "metadata": {},
   "source": [
    "<font color = \"olive\" >  <u> Try , \"ggplot\"  </font>"
   ]
  },
  {
   "cell_type": "code",
   "execution_count": 17,
   "metadata": {},
   "outputs": [],
   "source": [
    "plt.style.use(\"ggplot\")\n",
    "# amzn.plot()"
   ]
  },
  {
   "cell_type": "markdown",
   "metadata": {},
   "source": [
    "<font color = \"olive\" >  <u> Try , \"dark_background\"  </font>"
   ]
  },
  {
   "cell_type": "code",
   "execution_count": 18,
   "metadata": {},
   "outputs": [],
   "source": [
    "plt.style.use(\"dark_background\")\n",
    "# amzn.plot()"
   ]
  },
  {
   "cell_type": "markdown",
   "metadata": {},
   "source": [
    "[Back to Top](#start)"
   ]
  },
  {
   "cell_type": "markdown",
   "metadata": {},
   "source": [
    "#### <font color = \"navy\" > 11.3: Different types of plots </font>  <a id=\"ref_11.3\"></a> "
   ]
  },
  {
   "cell_type": "code",
   "execution_count": 7,
   "metadata": {},
   "outputs": [],
   "source": [
    "%reset -f\n",
    "import pandas as pd\n",
    "from pandas_datareader import data\n",
    "import matplotlib.pyplot as plt\n",
    "%matplotlib inline"
   ]
  },
  {
   "cell_type": "code",
   "execution_count": 8,
   "metadata": {},
   "outputs": [],
   "source": [
    "apl = data.DataReader(name = \"AAPL\", data_source=\"yahoo\",start=\"2017-01-01\", end=\"2018-01-01\")\n",
    "apl.head()\n",
    "output = None"
   ]
  },
  {
   "cell_type": "code",
   "execution_count": 9,
   "metadata": {},
   "outputs": [],
   "source": [
    "def sorting_on_apply(n):\n",
    "    if n <=140:\n",
    "        return \"Poor\"\n",
    "    elif n > 140 and n <= 150:\n",
    "        return \"Ok type\"\n",
    "    else :\n",
    "        return \"Good\""
   ]
  },
  {
   "cell_type": "code",
   "execution_count": 11,
   "metadata": {},
   "outputs": [],
   "source": [
    "plt.style.use(\"ggplot\")\n",
    "# apl[\"High\"].apply(sorting_on_apply).value_counts().plot(kind = \"line\")\n"
   ]
  },
  {
   "cell_type": "code",
   "execution_count": 12,
   "metadata": {},
   "outputs": [],
   "source": [
    "# apl[\"High\"].apply(sorting_on_apply).value_counts().plot(kind = \"barh\", legend = True)"
   ]
  },
  {
   "cell_type": "code",
   "execution_count": 13,
   "metadata": {},
   "outputs": [],
   "source": [
    "# apl[\"High\"].apply(sorting_on_apply).value_counts().plot(kind = \"bar\", legend = True)"
   ]
  },
  {
   "cell_type": "code",
   "execution_count": 14,
   "metadata": {},
   "outputs": [],
   "source": [
    "# apl[\"High\"].apply(sorting_on_apply).value_counts().plot(kind = \"pie\", legend = True)"
   ]
  },
  {
   "cell_type": "code",
   "execution_count": null,
   "metadata": {},
   "outputs": [],
   "source": []
  },
  {
   "cell_type": "code",
   "execution_count": null,
   "metadata": {},
   "outputs": [],
   "source": []
  },
  {
   "cell_type": "code",
   "execution_count": null,
   "metadata": {},
   "outputs": [],
   "source": []
  },
  {
   "cell_type": "code",
   "execution_count": null,
   "metadata": {},
   "outputs": [],
   "source": []
  },
  {
   "cell_type": "code",
   "execution_count": null,
   "metadata": {},
   "outputs": [],
   "source": []
  },
  {
   "cell_type": "code",
   "execution_count": null,
   "metadata": {},
   "outputs": [],
   "source": []
  },
  {
   "cell_type": "code",
   "execution_count": null,
   "metadata": {},
   "outputs": [],
   "source": []
  },
  {
   "cell_type": "code",
   "execution_count": null,
   "metadata": {},
   "outputs": [],
   "source": []
  },
  {
   "cell_type": "code",
   "execution_count": null,
   "metadata": {},
   "outputs": [],
   "source": []
  },
  {
   "cell_type": "code",
   "execution_count": null,
   "metadata": {},
   "outputs": [],
   "source": []
  },
  {
   "cell_type": "code",
   "execution_count": null,
   "metadata": {},
   "outputs": [],
   "source": []
  },
  {
   "cell_type": "code",
   "execution_count": null,
   "metadata": {},
   "outputs": [],
   "source": []
  },
  {
   "cell_type": "code",
   "execution_count": null,
   "metadata": {},
   "outputs": [],
   "source": []
  },
  {
   "cell_type": "code",
   "execution_count": null,
   "metadata": {},
   "outputs": [],
   "source": []
  },
  {
   "cell_type": "code",
   "execution_count": null,
   "metadata": {},
   "outputs": [],
   "source": []
  },
  {
   "cell_type": "code",
   "execution_count": null,
   "metadata": {},
   "outputs": [],
   "source": []
  },
  {
   "cell_type": "code",
   "execution_count": null,
   "metadata": {},
   "outputs": [],
   "source": []
  },
  {
   "cell_type": "code",
   "execution_count": null,
   "metadata": {},
   "outputs": [],
   "source": []
  },
  {
   "cell_type": "code",
   "execution_count": null,
   "metadata": {},
   "outputs": [],
   "source": []
  },
  {
   "cell_type": "code",
   "execution_count": null,
   "metadata": {},
   "outputs": [],
   "source": [
    "# ### <font color = \"navy\" > 3.1: Shared methods and attributes with Series objects </font>"
   ]
  },
  {
   "cell_type": "code",
   "execution_count": null,
   "metadata": {},
   "outputs": [],
   "source": [
    "# <font color = \"olive\" >  <u> Her so overall its a 2D object</u> </font>"
   ]
  },
  {
   "cell_type": "code",
   "execution_count": null,
   "metadata": {},
   "outputs": [],
   "source": []
  },
  {
   "cell_type": "code",
   "execution_count": null,
   "metadata": {},
   "outputs": [],
   "source": [
    "#  - **<font color = \"blue\" > 3.1.2: .values attributes </font>**"
   ]
  },
  {
   "cell_type": "code",
   "execution_count": 119,
   "metadata": {},
   "outputs": [
    {
     "data": {
      "text/html": [
       "<div>\n",
       "<style scoped>\n",
       "    .dataframe tbody tr th:only-of-type {\n",
       "        vertical-align: middle;\n",
       "    }\n",
       "\n",
       "    .dataframe tbody tr th {\n",
       "        vertical-align: top;\n",
       "    }\n",
       "\n",
       "    .dataframe thead th {\n",
       "        text-align: right;\n",
       "    }\n",
       "</style>\n",
       "<table border=\"1\" class=\"dataframe\">\n",
       "  <thead>\n",
       "    <tr style=\"text-align: right;\">\n",
       "      <th></th>\n",
       "      <th>Company</th>\n",
       "      <th>Sector</th>\n",
       "      <th>Industry</th>\n",
       "      <th>Location</th>\n",
       "      <th>Revenue</th>\n",
       "      <th>Profits</th>\n",
       "      <th>Employees</th>\n",
       "    </tr>\n",
       "  </thead>\n",
       "  <tbody>\n",
       "  </tbody>\n",
       "</table>\n",
       "</div>"
      ],
      "text/plain": [
       "Empty DataFrame\n",
       "Columns: [Company, Sector, Industry, Location, Revenue, Profits, Employees]\n",
       "Index: []"
      ]
     },
     "execution_count": 119,
     "metadata": {},
     "output_type": "execute_result"
    }
   ],
   "source": [
    "df = pd.DataFrame(columns= f.columns)\n",
    "df"
   ]
  }
 ],
 "metadata": {
  "kernelspec": {
   "display_name": "Python 3",
   "language": "python",
   "name": "python3"
  },
  "language_info": {
   "codemirror_mode": {
    "name": "ipython",
    "version": 3
   },
   "file_extension": ".py",
   "mimetype": "text/x-python",
   "name": "python",
   "nbconvert_exporter": "python",
   "pygments_lexer": "ipython3",
   "version": "3.6.10"
  }
 },
 "nbformat": 4,
 "nbformat_minor": 2
}
